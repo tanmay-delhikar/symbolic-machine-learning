{
  "nbformat": 4,
  "nbformat_minor": 0,
  "metadata": {
    "colab": {
      "name": "SML-v3.ipynb",
      "provenance": [],
      "collapsed_sections": [],
      "machine_shape": "hm"
    },
    "kernelspec": {
      "name": "python3",
      "display_name": "Python 3"
    },
    "widgets": {
      "application/vnd.jupyter.widget-state+json": {
        "c474619bc0674a8d878e8c265a812b74": {
          "model_module": "@jupyter-widgets/controls",
          "model_name": "HBoxModel",
          "state": {
            "_view_name": "HBoxView",
            "_dom_classes": [],
            "_model_name": "HBoxModel",
            "_view_module": "@jupyter-widgets/controls",
            "_model_module_version": "1.5.0",
            "_view_count": null,
            "_view_module_version": "1.5.0",
            "box_style": "",
            "layout": "IPY_MODEL_2d7d15253cda49e5a50e697c159271e2",
            "_model_module": "@jupyter-widgets/controls",
            "children": [
              "IPY_MODEL_86c5885b65b547ec93c6173df000223c",
              "IPY_MODEL_89caebef7c88414c89e1d9c4b7116cd8"
            ]
          }
        },
        "2d7d15253cda49e5a50e697c159271e2": {
          "model_module": "@jupyter-widgets/base",
          "model_name": "LayoutModel",
          "state": {
            "_view_name": "LayoutView",
            "grid_template_rows": null,
            "right": null,
            "justify_content": null,
            "_view_module": "@jupyter-widgets/base",
            "overflow": null,
            "_model_module_version": "1.2.0",
            "_view_count": null,
            "flex_flow": null,
            "width": null,
            "min_width": null,
            "border": null,
            "align_items": null,
            "bottom": null,
            "_model_module": "@jupyter-widgets/base",
            "top": null,
            "grid_column": null,
            "overflow_y": null,
            "overflow_x": null,
            "grid_auto_flow": null,
            "grid_area": null,
            "grid_template_columns": null,
            "flex": null,
            "_model_name": "LayoutModel",
            "justify_items": null,
            "grid_row": null,
            "max_height": null,
            "align_content": null,
            "visibility": null,
            "align_self": null,
            "height": null,
            "min_height": null,
            "padding": null,
            "grid_auto_rows": null,
            "grid_gap": null,
            "max_width": null,
            "order": null,
            "_view_module_version": "1.2.0",
            "grid_template_areas": null,
            "object_position": null,
            "object_fit": null,
            "grid_auto_columns": null,
            "margin": null,
            "display": null,
            "left": null
          }
        },
        "86c5885b65b547ec93c6173df000223c": {
          "model_module": "@jupyter-widgets/controls",
          "model_name": "IntProgressModel",
          "state": {
            "_view_name": "ProgressView",
            "style": "IPY_MODEL_6618c93ce0f04e69b0db89ae85444d0e",
            "_dom_classes": [],
            "description": "",
            "_model_name": "IntProgressModel",
            "bar_style": "success",
            "max": 6377766,
            "_view_module": "@jupyter-widgets/controls",
            "_model_module_version": "1.5.0",
            "value": 6377766,
            "_view_count": null,
            "_view_module_version": "1.5.0",
            "orientation": "horizontal",
            "min": 0,
            "description_tooltip": null,
            "_model_module": "@jupyter-widgets/controls",
            "layout": "IPY_MODEL_ae8cb189ea7c40218b857025fc9a2fb8"
          }
        },
        "89caebef7c88414c89e1d9c4b7116cd8": {
          "model_module": "@jupyter-widgets/controls",
          "model_name": "HTMLModel",
          "state": {
            "_view_name": "HTMLView",
            "style": "IPY_MODEL_18855242f22242d4b7832b4a7177edc2",
            "_dom_classes": [],
            "description": "",
            "_model_name": "HTMLModel",
            "placeholder": "​",
            "_view_module": "@jupyter-widgets/controls",
            "_model_module_version": "1.5.0",
            "value": "100% 6377766/6377766 [00:07&lt;00:00, 883029.40it/s]",
            "_view_count": null,
            "_view_module_version": "1.5.0",
            "description_tooltip": null,
            "_model_module": "@jupyter-widgets/controls",
            "layout": "IPY_MODEL_0284b4d17d564790bf4887407b7b9950"
          }
        },
        "6618c93ce0f04e69b0db89ae85444d0e": {
          "model_module": "@jupyter-widgets/controls",
          "model_name": "ProgressStyleModel",
          "state": {
            "_view_name": "StyleView",
            "_model_name": "ProgressStyleModel",
            "description_width": "",
            "_view_module": "@jupyter-widgets/base",
            "_model_module_version": "1.5.0",
            "_view_count": null,
            "_view_module_version": "1.2.0",
            "bar_color": null,
            "_model_module": "@jupyter-widgets/controls"
          }
        },
        "ae8cb189ea7c40218b857025fc9a2fb8": {
          "model_module": "@jupyter-widgets/base",
          "model_name": "LayoutModel",
          "state": {
            "_view_name": "LayoutView",
            "grid_template_rows": null,
            "right": null,
            "justify_content": null,
            "_view_module": "@jupyter-widgets/base",
            "overflow": null,
            "_model_module_version": "1.2.0",
            "_view_count": null,
            "flex_flow": null,
            "width": null,
            "min_width": null,
            "border": null,
            "align_items": null,
            "bottom": null,
            "_model_module": "@jupyter-widgets/base",
            "top": null,
            "grid_column": null,
            "overflow_y": null,
            "overflow_x": null,
            "grid_auto_flow": null,
            "grid_area": null,
            "grid_template_columns": null,
            "flex": null,
            "_model_name": "LayoutModel",
            "justify_items": null,
            "grid_row": null,
            "max_height": null,
            "align_content": null,
            "visibility": null,
            "align_self": null,
            "height": null,
            "min_height": null,
            "padding": null,
            "grid_auto_rows": null,
            "grid_gap": null,
            "max_width": null,
            "order": null,
            "_view_module_version": "1.2.0",
            "grid_template_areas": null,
            "object_position": null,
            "object_fit": null,
            "grid_auto_columns": null,
            "margin": null,
            "display": null,
            "left": null
          }
        },
        "18855242f22242d4b7832b4a7177edc2": {
          "model_module": "@jupyter-widgets/controls",
          "model_name": "DescriptionStyleModel",
          "state": {
            "_view_name": "StyleView",
            "_model_name": "DescriptionStyleModel",
            "description_width": "",
            "_view_module": "@jupyter-widgets/base",
            "_model_module_version": "1.5.0",
            "_view_count": null,
            "_view_module_version": "1.2.0",
            "_model_module": "@jupyter-widgets/controls"
          }
        },
        "0284b4d17d564790bf4887407b7b9950": {
          "model_module": "@jupyter-widgets/base",
          "model_name": "LayoutModel",
          "state": {
            "_view_name": "LayoutView",
            "grid_template_rows": null,
            "right": null,
            "justify_content": null,
            "_view_module": "@jupyter-widgets/base",
            "overflow": null,
            "_model_module_version": "1.2.0",
            "_view_count": null,
            "flex_flow": null,
            "width": null,
            "min_width": null,
            "border": null,
            "align_items": null,
            "bottom": null,
            "_model_module": "@jupyter-widgets/base",
            "top": null,
            "grid_column": null,
            "overflow_y": null,
            "overflow_x": null,
            "grid_auto_flow": null,
            "grid_area": null,
            "grid_template_columns": null,
            "flex": null,
            "_model_name": "LayoutModel",
            "justify_items": null,
            "grid_row": null,
            "max_height": null,
            "align_content": null,
            "visibility": null,
            "align_self": null,
            "height": null,
            "min_height": null,
            "padding": null,
            "grid_auto_rows": null,
            "grid_gap": null,
            "max_width": null,
            "order": null,
            "_view_module_version": "1.2.0",
            "grid_template_areas": null,
            "object_position": null,
            "object_fit": null,
            "grid_auto_columns": null,
            "margin": null,
            "display": null,
            "left": null
          }
        },
        "f483b7dd02204c42a645e454f87bbd71": {
          "model_module": "@jupyter-widgets/controls",
          "model_name": "HBoxModel",
          "state": {
            "_view_name": "HBoxView",
            "_dom_classes": [],
            "_model_name": "HBoxModel",
            "_view_module": "@jupyter-widgets/controls",
            "_model_module_version": "1.5.0",
            "_view_count": null,
            "_view_module_version": "1.5.0",
            "box_style": "",
            "layout": "IPY_MODEL_289cd53351784d84b43786936f196132",
            "_model_module": "@jupyter-widgets/controls",
            "children": [
              "IPY_MODEL_005e6c620bca46cea38ede0eac4bd7f3",
              "IPY_MODEL_f25b4442a8a24dcebc3b64395486650e"
            ]
          }
        },
        "289cd53351784d84b43786936f196132": {
          "model_module": "@jupyter-widgets/base",
          "model_name": "LayoutModel",
          "state": {
            "_view_name": "LayoutView",
            "grid_template_rows": null,
            "right": null,
            "justify_content": null,
            "_view_module": "@jupyter-widgets/base",
            "overflow": null,
            "_model_module_version": "1.2.0",
            "_view_count": null,
            "flex_flow": null,
            "width": null,
            "min_width": null,
            "border": null,
            "align_items": null,
            "bottom": null,
            "_model_module": "@jupyter-widgets/base",
            "top": null,
            "grid_column": null,
            "overflow_y": null,
            "overflow_x": null,
            "grid_auto_flow": null,
            "grid_area": null,
            "grid_template_columns": null,
            "flex": null,
            "_model_name": "LayoutModel",
            "justify_items": null,
            "grid_row": null,
            "max_height": null,
            "align_content": null,
            "visibility": null,
            "align_self": null,
            "height": null,
            "min_height": null,
            "padding": null,
            "grid_auto_rows": null,
            "grid_gap": null,
            "max_width": null,
            "order": null,
            "_view_module_version": "1.2.0",
            "grid_template_areas": null,
            "object_position": null,
            "object_fit": null,
            "grid_auto_columns": null,
            "margin": null,
            "display": null,
            "left": null
          }
        },
        "005e6c620bca46cea38ede0eac4bd7f3": {
          "model_module": "@jupyter-widgets/controls",
          "model_name": "IntProgressModel",
          "state": {
            "_view_name": "ProgressView",
            "style": "IPY_MODEL_7104bad0f925418eb1b050ca1dc39127",
            "_dom_classes": [],
            "description": "",
            "_model_name": "IntProgressModel",
            "bar_style": "success",
            "max": 804,
            "_view_module": "@jupyter-widgets/controls",
            "_model_module_version": "1.5.0",
            "value": 804,
            "_view_count": null,
            "_view_module_version": "1.5.0",
            "orientation": "horizontal",
            "min": 0,
            "description_tooltip": null,
            "_model_module": "@jupyter-widgets/controls",
            "layout": "IPY_MODEL_ea7281c11d7c4449ac08d48019ee6983"
          }
        },
        "f25b4442a8a24dcebc3b64395486650e": {
          "model_module": "@jupyter-widgets/controls",
          "model_name": "HTMLModel",
          "state": {
            "_view_name": "HTMLView",
            "style": "IPY_MODEL_b99c049543224f2bade7079a4802896e",
            "_dom_classes": [],
            "description": "",
            "_model_name": "HTMLModel",
            "placeholder": "​",
            "_view_module": "@jupyter-widgets/controls",
            "_model_module_version": "1.5.0",
            "value": "100% 804/804 [00:00&lt;00:00, 20695.32it/s]",
            "_view_count": null,
            "_view_module_version": "1.5.0",
            "description_tooltip": null,
            "_model_module": "@jupyter-widgets/controls",
            "layout": "IPY_MODEL_ca9283c2c30f41f09647b68ddba823c4"
          }
        },
        "7104bad0f925418eb1b050ca1dc39127": {
          "model_module": "@jupyter-widgets/controls",
          "model_name": "ProgressStyleModel",
          "state": {
            "_view_name": "StyleView",
            "_model_name": "ProgressStyleModel",
            "description_width": "",
            "_view_module": "@jupyter-widgets/base",
            "_model_module_version": "1.5.0",
            "_view_count": null,
            "_view_module_version": "1.2.0",
            "bar_color": null,
            "_model_module": "@jupyter-widgets/controls"
          }
        },
        "ea7281c11d7c4449ac08d48019ee6983": {
          "model_module": "@jupyter-widgets/base",
          "model_name": "LayoutModel",
          "state": {
            "_view_name": "LayoutView",
            "grid_template_rows": null,
            "right": null,
            "justify_content": null,
            "_view_module": "@jupyter-widgets/base",
            "overflow": null,
            "_model_module_version": "1.2.0",
            "_view_count": null,
            "flex_flow": null,
            "width": null,
            "min_width": null,
            "border": null,
            "align_items": null,
            "bottom": null,
            "_model_module": "@jupyter-widgets/base",
            "top": null,
            "grid_column": null,
            "overflow_y": null,
            "overflow_x": null,
            "grid_auto_flow": null,
            "grid_area": null,
            "grid_template_columns": null,
            "flex": null,
            "_model_name": "LayoutModel",
            "justify_items": null,
            "grid_row": null,
            "max_height": null,
            "align_content": null,
            "visibility": null,
            "align_self": null,
            "height": null,
            "min_height": null,
            "padding": null,
            "grid_auto_rows": null,
            "grid_gap": null,
            "max_width": null,
            "order": null,
            "_view_module_version": "1.2.0",
            "grid_template_areas": null,
            "object_position": null,
            "object_fit": null,
            "grid_auto_columns": null,
            "margin": null,
            "display": null,
            "left": null
          }
        },
        "b99c049543224f2bade7079a4802896e": {
          "model_module": "@jupyter-widgets/controls",
          "model_name": "DescriptionStyleModel",
          "state": {
            "_view_name": "StyleView",
            "_model_name": "DescriptionStyleModel",
            "description_width": "",
            "_view_module": "@jupyter-widgets/base",
            "_model_module_version": "1.5.0",
            "_view_count": null,
            "_view_module_version": "1.2.0",
            "_model_module": "@jupyter-widgets/controls"
          }
        },
        "ca9283c2c30f41f09647b68ddba823c4": {
          "model_module": "@jupyter-widgets/base",
          "model_name": "LayoutModel",
          "state": {
            "_view_name": "LayoutView",
            "grid_template_rows": null,
            "right": null,
            "justify_content": null,
            "_view_module": "@jupyter-widgets/base",
            "overflow": null,
            "_model_module_version": "1.2.0",
            "_view_count": null,
            "flex_flow": null,
            "width": null,
            "min_width": null,
            "border": null,
            "align_items": null,
            "bottom": null,
            "_model_module": "@jupyter-widgets/base",
            "top": null,
            "grid_column": null,
            "overflow_y": null,
            "overflow_x": null,
            "grid_auto_flow": null,
            "grid_area": null,
            "grid_template_columns": null,
            "flex": null,
            "_model_name": "LayoutModel",
            "justify_items": null,
            "grid_row": null,
            "max_height": null,
            "align_content": null,
            "visibility": null,
            "align_self": null,
            "height": null,
            "min_height": null,
            "padding": null,
            "grid_auto_rows": null,
            "grid_gap": null,
            "max_width": null,
            "order": null,
            "_view_module_version": "1.2.0",
            "grid_template_areas": null,
            "object_position": null,
            "object_fit": null,
            "grid_auto_columns": null,
            "margin": null,
            "display": null,
            "left": null
          }
        },
        "b2ced84ea53f4496b3d86c301a03cab6": {
          "model_module": "@jupyter-widgets/controls",
          "model_name": "HBoxModel",
          "state": {
            "_view_name": "HBoxView",
            "_dom_classes": [],
            "_model_name": "HBoxModel",
            "_view_module": "@jupyter-widgets/controls",
            "_model_module_version": "1.5.0",
            "_view_count": null,
            "_view_module_version": "1.5.0",
            "box_style": "",
            "layout": "IPY_MODEL_63f6bd881ee04b42860246cce1cd1cbf",
            "_model_module": "@jupyter-widgets/controls",
            "children": [
              "IPY_MODEL_69abd5e8e470472eb410c99553cbdc53",
              "IPY_MODEL_998d9fce2a66456da3dd3544140c7da2"
            ]
          }
        },
        "63f6bd881ee04b42860246cce1cd1cbf": {
          "model_module": "@jupyter-widgets/base",
          "model_name": "LayoutModel",
          "state": {
            "_view_name": "LayoutView",
            "grid_template_rows": null,
            "right": null,
            "justify_content": null,
            "_view_module": "@jupyter-widgets/base",
            "overflow": null,
            "_model_module_version": "1.2.0",
            "_view_count": null,
            "flex_flow": null,
            "width": null,
            "min_width": null,
            "border": null,
            "align_items": null,
            "bottom": null,
            "_model_module": "@jupyter-widgets/base",
            "top": null,
            "grid_column": null,
            "overflow_y": null,
            "overflow_x": null,
            "grid_auto_flow": null,
            "grid_area": null,
            "grid_template_columns": null,
            "flex": null,
            "_model_name": "LayoutModel",
            "justify_items": null,
            "grid_row": null,
            "max_height": null,
            "align_content": null,
            "visibility": null,
            "align_self": null,
            "height": null,
            "min_height": null,
            "padding": null,
            "grid_auto_rows": null,
            "grid_gap": null,
            "max_width": null,
            "order": null,
            "_view_module_version": "1.2.0",
            "grid_template_areas": null,
            "object_position": null,
            "object_fit": null,
            "grid_auto_columns": null,
            "margin": null,
            "display": null,
            "left": null
          }
        },
        "69abd5e8e470472eb410c99553cbdc53": {
          "model_module": "@jupyter-widgets/controls",
          "model_name": "IntProgressModel",
          "state": {
            "_view_name": "ProgressView",
            "style": "IPY_MODEL_b5ad59846d19464ea790cceaa39ebc7c",
            "_dom_classes": [],
            "description": "",
            "_model_name": "IntProgressModel",
            "bar_style": "success",
            "max": 1062961,
            "_view_module": "@jupyter-widgets/controls",
            "_model_module_version": "1.5.0",
            "value": 1062961,
            "_view_count": null,
            "_view_module_version": "1.5.0",
            "orientation": "horizontal",
            "min": 0,
            "description_tooltip": null,
            "_model_module": "@jupyter-widgets/controls",
            "layout": "IPY_MODEL_41de7ae56f794fe992e856605f0b0b5c"
          }
        },
        "998d9fce2a66456da3dd3544140c7da2": {
          "model_module": "@jupyter-widgets/controls",
          "model_name": "HTMLModel",
          "state": {
            "_view_name": "HTMLView",
            "style": "IPY_MODEL_33bd92d084a74e5282100357dd6027cd",
            "_dom_classes": [],
            "description": "",
            "_model_name": "HTMLModel",
            "placeholder": "​",
            "_view_module": "@jupyter-widgets/controls",
            "_model_module_version": "1.5.0",
            "value": "100% 1062961/1062961 [00:01&lt;00:00, 801198.56it/s]",
            "_view_count": null,
            "_view_module_version": "1.5.0",
            "description_tooltip": null,
            "_model_module": "@jupyter-widgets/controls",
            "layout": "IPY_MODEL_954c16e4227f4620a8a37d4acbde9cb6"
          }
        },
        "b5ad59846d19464ea790cceaa39ebc7c": {
          "model_module": "@jupyter-widgets/controls",
          "model_name": "ProgressStyleModel",
          "state": {
            "_view_name": "StyleView",
            "_model_name": "ProgressStyleModel",
            "description_width": "",
            "_view_module": "@jupyter-widgets/base",
            "_model_module_version": "1.5.0",
            "_view_count": null,
            "_view_module_version": "1.2.0",
            "bar_color": null,
            "_model_module": "@jupyter-widgets/controls"
          }
        },
        "41de7ae56f794fe992e856605f0b0b5c": {
          "model_module": "@jupyter-widgets/base",
          "model_name": "LayoutModel",
          "state": {
            "_view_name": "LayoutView",
            "grid_template_rows": null,
            "right": null,
            "justify_content": null,
            "_view_module": "@jupyter-widgets/base",
            "overflow": null,
            "_model_module_version": "1.2.0",
            "_view_count": null,
            "flex_flow": null,
            "width": null,
            "min_width": null,
            "border": null,
            "align_items": null,
            "bottom": null,
            "_model_module": "@jupyter-widgets/base",
            "top": null,
            "grid_column": null,
            "overflow_y": null,
            "overflow_x": null,
            "grid_auto_flow": null,
            "grid_area": null,
            "grid_template_columns": null,
            "flex": null,
            "_model_name": "LayoutModel",
            "justify_items": null,
            "grid_row": null,
            "max_height": null,
            "align_content": null,
            "visibility": null,
            "align_self": null,
            "height": null,
            "min_height": null,
            "padding": null,
            "grid_auto_rows": null,
            "grid_gap": null,
            "max_width": null,
            "order": null,
            "_view_module_version": "1.2.0",
            "grid_template_areas": null,
            "object_position": null,
            "object_fit": null,
            "grid_auto_columns": null,
            "margin": null,
            "display": null,
            "left": null
          }
        },
        "33bd92d084a74e5282100357dd6027cd": {
          "model_module": "@jupyter-widgets/controls",
          "model_name": "DescriptionStyleModel",
          "state": {
            "_view_name": "StyleView",
            "_model_name": "DescriptionStyleModel",
            "description_width": "",
            "_view_module": "@jupyter-widgets/base",
            "_model_module_version": "1.5.0",
            "_view_count": null,
            "_view_module_version": "1.2.0",
            "_model_module": "@jupyter-widgets/controls"
          }
        },
        "954c16e4227f4620a8a37d4acbde9cb6": {
          "model_module": "@jupyter-widgets/base",
          "model_name": "LayoutModel",
          "state": {
            "_view_name": "LayoutView",
            "grid_template_rows": null,
            "right": null,
            "justify_content": null,
            "_view_module": "@jupyter-widgets/base",
            "overflow": null,
            "_model_module_version": "1.2.0",
            "_view_count": null,
            "flex_flow": null,
            "width": null,
            "min_width": null,
            "border": null,
            "align_items": null,
            "bottom": null,
            "_model_module": "@jupyter-widgets/base",
            "top": null,
            "grid_column": null,
            "overflow_y": null,
            "overflow_x": null,
            "grid_auto_flow": null,
            "grid_area": null,
            "grid_template_columns": null,
            "flex": null,
            "_model_name": "LayoutModel",
            "justify_items": null,
            "grid_row": null,
            "max_height": null,
            "align_content": null,
            "visibility": null,
            "align_self": null,
            "height": null,
            "min_height": null,
            "padding": null,
            "grid_auto_rows": null,
            "grid_gap": null,
            "max_width": null,
            "order": null,
            "_view_module_version": "1.2.0",
            "grid_template_areas": null,
            "object_position": null,
            "object_fit": null,
            "grid_auto_columns": null,
            "margin": null,
            "display": null,
            "left": null
          }
        },
        "eb595ee97ddc411d835d952547f83c19": {
          "model_module": "@jupyter-widgets/controls",
          "model_name": "HBoxModel",
          "state": {
            "_view_name": "HBoxView",
            "_dom_classes": [],
            "_model_name": "HBoxModel",
            "_view_module": "@jupyter-widgets/controls",
            "_model_module_version": "1.5.0",
            "_view_count": null,
            "_view_module_version": "1.5.0",
            "box_style": "",
            "layout": "IPY_MODEL_48b88327decb4bfda133e8867214e862",
            "_model_module": "@jupyter-widgets/controls",
            "children": [
              "IPY_MODEL_7ebcf4943f214faabd44cc0c81a76b52",
              "IPY_MODEL_328a33aa1a6a4929961be253ffe19b4b"
            ]
          }
        },
        "48b88327decb4bfda133e8867214e862": {
          "model_module": "@jupyter-widgets/base",
          "model_name": "LayoutModel",
          "state": {
            "_view_name": "LayoutView",
            "grid_template_rows": null,
            "right": null,
            "justify_content": null,
            "_view_module": "@jupyter-widgets/base",
            "overflow": null,
            "_model_module_version": "1.2.0",
            "_view_count": null,
            "flex_flow": null,
            "width": null,
            "min_width": null,
            "border": null,
            "align_items": null,
            "bottom": null,
            "_model_module": "@jupyter-widgets/base",
            "top": null,
            "grid_column": null,
            "overflow_y": null,
            "overflow_x": null,
            "grid_auto_flow": null,
            "grid_area": null,
            "grid_template_columns": null,
            "flex": null,
            "_model_name": "LayoutModel",
            "justify_items": null,
            "grid_row": null,
            "max_height": null,
            "align_content": null,
            "visibility": null,
            "align_self": null,
            "height": null,
            "min_height": null,
            "padding": null,
            "grid_auto_rows": null,
            "grid_gap": null,
            "max_width": null,
            "order": null,
            "_view_module_version": "1.2.0",
            "grid_template_areas": null,
            "object_position": null,
            "object_fit": null,
            "grid_auto_columns": null,
            "margin": null,
            "display": null,
            "left": null
          }
        },
        "7ebcf4943f214faabd44cc0c81a76b52": {
          "model_module": "@jupyter-widgets/controls",
          "model_name": "IntProgressModel",
          "state": {
            "_view_name": "ProgressView",
            "style": "IPY_MODEL_dca6536b8cbd4410af4e80c6f6771498",
            "_dom_classes": [],
            "description": "",
            "_model_name": "IntProgressModel",
            "bar_style": "success",
            "max": 1062961,
            "_view_module": "@jupyter-widgets/controls",
            "_model_module_version": "1.5.0",
            "value": 1062961,
            "_view_count": null,
            "_view_module_version": "1.5.0",
            "orientation": "horizontal",
            "min": 0,
            "description_tooltip": null,
            "_model_module": "@jupyter-widgets/controls",
            "layout": "IPY_MODEL_83e975ccd08842a2821a12ab28290f26"
          }
        },
        "328a33aa1a6a4929961be253ffe19b4b": {
          "model_module": "@jupyter-widgets/controls",
          "model_name": "HTMLModel",
          "state": {
            "_view_name": "HTMLView",
            "style": "IPY_MODEL_f7df9286078e4542be47edf0e699e1b0",
            "_dom_classes": [],
            "description": "",
            "_model_name": "HTMLModel",
            "placeholder": "​",
            "_view_module": "@jupyter-widgets/controls",
            "_model_module_version": "1.5.0",
            "value": "100% 1062961/1062961 [00:00&lt;00:00, 1450375.91it/s]",
            "_view_count": null,
            "_view_module_version": "1.5.0",
            "description_tooltip": null,
            "_model_module": "@jupyter-widgets/controls",
            "layout": "IPY_MODEL_94b5b7f038744897bb61cac66eff2d88"
          }
        },
        "dca6536b8cbd4410af4e80c6f6771498": {
          "model_module": "@jupyter-widgets/controls",
          "model_name": "ProgressStyleModel",
          "state": {
            "_view_name": "StyleView",
            "_model_name": "ProgressStyleModel",
            "description_width": "",
            "_view_module": "@jupyter-widgets/base",
            "_model_module_version": "1.5.0",
            "_view_count": null,
            "_view_module_version": "1.2.0",
            "bar_color": null,
            "_model_module": "@jupyter-widgets/controls"
          }
        },
        "83e975ccd08842a2821a12ab28290f26": {
          "model_module": "@jupyter-widgets/base",
          "model_name": "LayoutModel",
          "state": {
            "_view_name": "LayoutView",
            "grid_template_rows": null,
            "right": null,
            "justify_content": null,
            "_view_module": "@jupyter-widgets/base",
            "overflow": null,
            "_model_module_version": "1.2.0",
            "_view_count": null,
            "flex_flow": null,
            "width": null,
            "min_width": null,
            "border": null,
            "align_items": null,
            "bottom": null,
            "_model_module": "@jupyter-widgets/base",
            "top": null,
            "grid_column": null,
            "overflow_y": null,
            "overflow_x": null,
            "grid_auto_flow": null,
            "grid_area": null,
            "grid_template_columns": null,
            "flex": null,
            "_model_name": "LayoutModel",
            "justify_items": null,
            "grid_row": null,
            "max_height": null,
            "align_content": null,
            "visibility": null,
            "align_self": null,
            "height": null,
            "min_height": null,
            "padding": null,
            "grid_auto_rows": null,
            "grid_gap": null,
            "max_width": null,
            "order": null,
            "_view_module_version": "1.2.0",
            "grid_template_areas": null,
            "object_position": null,
            "object_fit": null,
            "grid_auto_columns": null,
            "margin": null,
            "display": null,
            "left": null
          }
        },
        "f7df9286078e4542be47edf0e699e1b0": {
          "model_module": "@jupyter-widgets/controls",
          "model_name": "DescriptionStyleModel",
          "state": {
            "_view_name": "StyleView",
            "_model_name": "DescriptionStyleModel",
            "description_width": "",
            "_view_module": "@jupyter-widgets/base",
            "_model_module_version": "1.5.0",
            "_view_count": null,
            "_view_module_version": "1.2.0",
            "_model_module": "@jupyter-widgets/controls"
          }
        },
        "94b5b7f038744897bb61cac66eff2d88": {
          "model_module": "@jupyter-widgets/base",
          "model_name": "LayoutModel",
          "state": {
            "_view_name": "LayoutView",
            "grid_template_rows": null,
            "right": null,
            "justify_content": null,
            "_view_module": "@jupyter-widgets/base",
            "overflow": null,
            "_model_module_version": "1.2.0",
            "_view_count": null,
            "flex_flow": null,
            "width": null,
            "min_width": null,
            "border": null,
            "align_items": null,
            "bottom": null,
            "_model_module": "@jupyter-widgets/base",
            "top": null,
            "grid_column": null,
            "overflow_y": null,
            "overflow_x": null,
            "grid_auto_flow": null,
            "grid_area": null,
            "grid_template_columns": null,
            "flex": null,
            "_model_name": "LayoutModel",
            "justify_items": null,
            "grid_row": null,
            "max_height": null,
            "align_content": null,
            "visibility": null,
            "align_self": null,
            "height": null,
            "min_height": null,
            "padding": null,
            "grid_auto_rows": null,
            "grid_gap": null,
            "max_width": null,
            "order": null,
            "_view_module_version": "1.2.0",
            "grid_template_areas": null,
            "object_position": null,
            "object_fit": null,
            "grid_auto_columns": null,
            "margin": null,
            "display": null,
            "left": null
          }
        },
        "875c23c295944ded8cc40d5d0dc4e626": {
          "model_module": "@jupyter-widgets/controls",
          "model_name": "HBoxModel",
          "state": {
            "_view_name": "HBoxView",
            "_dom_classes": [],
            "_model_name": "HBoxModel",
            "_view_module": "@jupyter-widgets/controls",
            "_model_module_version": "1.5.0",
            "_view_count": null,
            "_view_module_version": "1.5.0",
            "box_style": "",
            "layout": "IPY_MODEL_5aa15b8b450c48c581d40d56c6496689",
            "_model_module": "@jupyter-widgets/controls",
            "children": [
              "IPY_MODEL_33b325e2969b43849e0bc5460fc01fdf",
              "IPY_MODEL_4a8be0612aa14102b2fc33b7f58ae753"
            ]
          }
        },
        "5aa15b8b450c48c581d40d56c6496689": {
          "model_module": "@jupyter-widgets/base",
          "model_name": "LayoutModel",
          "state": {
            "_view_name": "LayoutView",
            "grid_template_rows": null,
            "right": null,
            "justify_content": null,
            "_view_module": "@jupyter-widgets/base",
            "overflow": null,
            "_model_module_version": "1.2.0",
            "_view_count": null,
            "flex_flow": null,
            "width": null,
            "min_width": null,
            "border": null,
            "align_items": null,
            "bottom": null,
            "_model_module": "@jupyter-widgets/base",
            "top": null,
            "grid_column": null,
            "overflow_y": null,
            "overflow_x": null,
            "grid_auto_flow": null,
            "grid_area": null,
            "grid_template_columns": null,
            "flex": null,
            "_model_name": "LayoutModel",
            "justify_items": null,
            "grid_row": null,
            "max_height": null,
            "align_content": null,
            "visibility": null,
            "align_self": null,
            "height": null,
            "min_height": null,
            "padding": null,
            "grid_auto_rows": null,
            "grid_gap": null,
            "max_width": null,
            "order": null,
            "_view_module_version": "1.2.0",
            "grid_template_areas": null,
            "object_position": null,
            "object_fit": null,
            "grid_auto_columns": null,
            "margin": null,
            "display": null,
            "left": null
          }
        },
        "33b325e2969b43849e0bc5460fc01fdf": {
          "model_module": "@jupyter-widgets/controls",
          "model_name": "IntProgressModel",
          "state": {
            "_view_name": "ProgressView",
            "style": "IPY_MODEL_541e1fa0b32246b88a38ba708916e858",
            "_dom_classes": [],
            "description": "",
            "_model_name": "IntProgressModel",
            "bar_style": "success",
            "max": 1062961,
            "_view_module": "@jupyter-widgets/controls",
            "_model_module_version": "1.5.0",
            "value": 1062961,
            "_view_count": null,
            "_view_module_version": "1.5.0",
            "orientation": "horizontal",
            "min": 0,
            "description_tooltip": null,
            "_model_module": "@jupyter-widgets/controls",
            "layout": "IPY_MODEL_471cceee968444b89851826d65ae2340"
          }
        },
        "4a8be0612aa14102b2fc33b7f58ae753": {
          "model_module": "@jupyter-widgets/controls",
          "model_name": "HTMLModel",
          "state": {
            "_view_name": "HTMLView",
            "style": "IPY_MODEL_f7e9252ad7444898aa0b2d876069c21a",
            "_dom_classes": [],
            "description": "",
            "_model_name": "HTMLModel",
            "placeholder": "​",
            "_view_module": "@jupyter-widgets/controls",
            "_model_module_version": "1.5.0",
            "value": "100% 1062961/1062961 [00:00&lt;00:00, 1461105.76it/s]",
            "_view_count": null,
            "_view_module_version": "1.5.0",
            "description_tooltip": null,
            "_model_module": "@jupyter-widgets/controls",
            "layout": "IPY_MODEL_25d95d8d1eb94bbeb96850c12f283fb3"
          }
        },
        "541e1fa0b32246b88a38ba708916e858": {
          "model_module": "@jupyter-widgets/controls",
          "model_name": "ProgressStyleModel",
          "state": {
            "_view_name": "StyleView",
            "_model_name": "ProgressStyleModel",
            "description_width": "",
            "_view_module": "@jupyter-widgets/base",
            "_model_module_version": "1.5.0",
            "_view_count": null,
            "_view_module_version": "1.2.0",
            "bar_color": null,
            "_model_module": "@jupyter-widgets/controls"
          }
        },
        "471cceee968444b89851826d65ae2340": {
          "model_module": "@jupyter-widgets/base",
          "model_name": "LayoutModel",
          "state": {
            "_view_name": "LayoutView",
            "grid_template_rows": null,
            "right": null,
            "justify_content": null,
            "_view_module": "@jupyter-widgets/base",
            "overflow": null,
            "_model_module_version": "1.2.0",
            "_view_count": null,
            "flex_flow": null,
            "width": null,
            "min_width": null,
            "border": null,
            "align_items": null,
            "bottom": null,
            "_model_module": "@jupyter-widgets/base",
            "top": null,
            "grid_column": null,
            "overflow_y": null,
            "overflow_x": null,
            "grid_auto_flow": null,
            "grid_area": null,
            "grid_template_columns": null,
            "flex": null,
            "_model_name": "LayoutModel",
            "justify_items": null,
            "grid_row": null,
            "max_height": null,
            "align_content": null,
            "visibility": null,
            "align_self": null,
            "height": null,
            "min_height": null,
            "padding": null,
            "grid_auto_rows": null,
            "grid_gap": null,
            "max_width": null,
            "order": null,
            "_view_module_version": "1.2.0",
            "grid_template_areas": null,
            "object_position": null,
            "object_fit": null,
            "grid_auto_columns": null,
            "margin": null,
            "display": null,
            "left": null
          }
        },
        "f7e9252ad7444898aa0b2d876069c21a": {
          "model_module": "@jupyter-widgets/controls",
          "model_name": "DescriptionStyleModel",
          "state": {
            "_view_name": "StyleView",
            "_model_name": "DescriptionStyleModel",
            "description_width": "",
            "_view_module": "@jupyter-widgets/base",
            "_model_module_version": "1.5.0",
            "_view_count": null,
            "_view_module_version": "1.2.0",
            "_model_module": "@jupyter-widgets/controls"
          }
        },
        "25d95d8d1eb94bbeb96850c12f283fb3": {
          "model_module": "@jupyter-widgets/base",
          "model_name": "LayoutModel",
          "state": {
            "_view_name": "LayoutView",
            "grid_template_rows": null,
            "right": null,
            "justify_content": null,
            "_view_module": "@jupyter-widgets/base",
            "overflow": null,
            "_model_module_version": "1.2.0",
            "_view_count": null,
            "flex_flow": null,
            "width": null,
            "min_width": null,
            "border": null,
            "align_items": null,
            "bottom": null,
            "_model_module": "@jupyter-widgets/base",
            "top": null,
            "grid_column": null,
            "overflow_y": null,
            "overflow_x": null,
            "grid_auto_flow": null,
            "grid_area": null,
            "grid_template_columns": null,
            "flex": null,
            "_model_name": "LayoutModel",
            "justify_items": null,
            "grid_row": null,
            "max_height": null,
            "align_content": null,
            "visibility": null,
            "align_self": null,
            "height": null,
            "min_height": null,
            "padding": null,
            "grid_auto_rows": null,
            "grid_gap": null,
            "max_width": null,
            "order": null,
            "_view_module_version": "1.2.0",
            "grid_template_areas": null,
            "object_position": null,
            "object_fit": null,
            "grid_auto_columns": null,
            "margin": null,
            "display": null,
            "left": null
          }
        },
        "21dc343e420244a2856426dcba2c7aa8": {
          "model_module": "@jupyter-widgets/controls",
          "model_name": "HBoxModel",
          "state": {
            "_view_name": "HBoxView",
            "_dom_classes": [],
            "_model_name": "HBoxModel",
            "_view_module": "@jupyter-widgets/controls",
            "_model_module_version": "1.5.0",
            "_view_count": null,
            "_view_module_version": "1.5.0",
            "box_style": "",
            "layout": "IPY_MODEL_6254de0c936b403ebc7308f2a6b64d00",
            "_model_module": "@jupyter-widgets/controls",
            "children": [
              "IPY_MODEL_76e30f7c053e495795898ff880121fa4",
              "IPY_MODEL_e0082c72b9ce42e3bc73e957c711743d"
            ]
          }
        },
        "6254de0c936b403ebc7308f2a6b64d00": {
          "model_module": "@jupyter-widgets/base",
          "model_name": "LayoutModel",
          "state": {
            "_view_name": "LayoutView",
            "grid_template_rows": null,
            "right": null,
            "justify_content": null,
            "_view_module": "@jupyter-widgets/base",
            "overflow": null,
            "_model_module_version": "1.2.0",
            "_view_count": null,
            "flex_flow": null,
            "width": null,
            "min_width": null,
            "border": null,
            "align_items": null,
            "bottom": null,
            "_model_module": "@jupyter-widgets/base",
            "top": null,
            "grid_column": null,
            "overflow_y": null,
            "overflow_x": null,
            "grid_auto_flow": null,
            "grid_area": null,
            "grid_template_columns": null,
            "flex": null,
            "_model_name": "LayoutModel",
            "justify_items": null,
            "grid_row": null,
            "max_height": null,
            "align_content": null,
            "visibility": null,
            "align_self": null,
            "height": null,
            "min_height": null,
            "padding": null,
            "grid_auto_rows": null,
            "grid_gap": null,
            "max_width": null,
            "order": null,
            "_view_module_version": "1.2.0",
            "grid_template_areas": null,
            "object_position": null,
            "object_fit": null,
            "grid_auto_columns": null,
            "margin": null,
            "display": null,
            "left": null
          }
        },
        "76e30f7c053e495795898ff880121fa4": {
          "model_module": "@jupyter-widgets/controls",
          "model_name": "IntProgressModel",
          "state": {
            "_view_name": "ProgressView",
            "style": "IPY_MODEL_6d0eb9db35da429faa92059c5f6106cf",
            "_dom_classes": [],
            "description": "",
            "_model_name": "IntProgressModel",
            "bar_style": "success",
            "max": 1062961,
            "_view_module": "@jupyter-widgets/controls",
            "_model_module_version": "1.5.0",
            "value": 1062961,
            "_view_count": null,
            "_view_module_version": "1.5.0",
            "orientation": "horizontal",
            "min": 0,
            "description_tooltip": null,
            "_model_module": "@jupyter-widgets/controls",
            "layout": "IPY_MODEL_1a515400f4a74c299e401f6a1f250e8e"
          }
        },
        "e0082c72b9ce42e3bc73e957c711743d": {
          "model_module": "@jupyter-widgets/controls",
          "model_name": "HTMLModel",
          "state": {
            "_view_name": "HTMLView",
            "style": "IPY_MODEL_62531695fad3436c8f2f610c7751c621",
            "_dom_classes": [],
            "description": "",
            "_model_name": "HTMLModel",
            "placeholder": "​",
            "_view_module": "@jupyter-widgets/controls",
            "_model_module_version": "1.5.0",
            "value": "100% 1062961/1062961 [00:00&lt;00:00, 1485379.06it/s]",
            "_view_count": null,
            "_view_module_version": "1.5.0",
            "description_tooltip": null,
            "_model_module": "@jupyter-widgets/controls",
            "layout": "IPY_MODEL_856fb59572fc440ab420d96a71443248"
          }
        },
        "6d0eb9db35da429faa92059c5f6106cf": {
          "model_module": "@jupyter-widgets/controls",
          "model_name": "ProgressStyleModel",
          "state": {
            "_view_name": "StyleView",
            "_model_name": "ProgressStyleModel",
            "description_width": "",
            "_view_module": "@jupyter-widgets/base",
            "_model_module_version": "1.5.0",
            "_view_count": null,
            "_view_module_version": "1.2.0",
            "bar_color": null,
            "_model_module": "@jupyter-widgets/controls"
          }
        },
        "1a515400f4a74c299e401f6a1f250e8e": {
          "model_module": "@jupyter-widgets/base",
          "model_name": "LayoutModel",
          "state": {
            "_view_name": "LayoutView",
            "grid_template_rows": null,
            "right": null,
            "justify_content": null,
            "_view_module": "@jupyter-widgets/base",
            "overflow": null,
            "_model_module_version": "1.2.0",
            "_view_count": null,
            "flex_flow": null,
            "width": null,
            "min_width": null,
            "border": null,
            "align_items": null,
            "bottom": null,
            "_model_module": "@jupyter-widgets/base",
            "top": null,
            "grid_column": null,
            "overflow_y": null,
            "overflow_x": null,
            "grid_auto_flow": null,
            "grid_area": null,
            "grid_template_columns": null,
            "flex": null,
            "_model_name": "LayoutModel",
            "justify_items": null,
            "grid_row": null,
            "max_height": null,
            "align_content": null,
            "visibility": null,
            "align_self": null,
            "height": null,
            "min_height": null,
            "padding": null,
            "grid_auto_rows": null,
            "grid_gap": null,
            "max_width": null,
            "order": null,
            "_view_module_version": "1.2.0",
            "grid_template_areas": null,
            "object_position": null,
            "object_fit": null,
            "grid_auto_columns": null,
            "margin": null,
            "display": null,
            "left": null
          }
        },
        "62531695fad3436c8f2f610c7751c621": {
          "model_module": "@jupyter-widgets/controls",
          "model_name": "DescriptionStyleModel",
          "state": {
            "_view_name": "StyleView",
            "_model_name": "DescriptionStyleModel",
            "description_width": "",
            "_view_module": "@jupyter-widgets/base",
            "_model_module_version": "1.5.0",
            "_view_count": null,
            "_view_module_version": "1.2.0",
            "_model_module": "@jupyter-widgets/controls"
          }
        },
        "856fb59572fc440ab420d96a71443248": {
          "model_module": "@jupyter-widgets/base",
          "model_name": "LayoutModel",
          "state": {
            "_view_name": "LayoutView",
            "grid_template_rows": null,
            "right": null,
            "justify_content": null,
            "_view_module": "@jupyter-widgets/base",
            "overflow": null,
            "_model_module_version": "1.2.0",
            "_view_count": null,
            "flex_flow": null,
            "width": null,
            "min_width": null,
            "border": null,
            "align_items": null,
            "bottom": null,
            "_model_module": "@jupyter-widgets/base",
            "top": null,
            "grid_column": null,
            "overflow_y": null,
            "overflow_x": null,
            "grid_auto_flow": null,
            "grid_area": null,
            "grid_template_columns": null,
            "flex": null,
            "_model_name": "LayoutModel",
            "justify_items": null,
            "grid_row": null,
            "max_height": null,
            "align_content": null,
            "visibility": null,
            "align_self": null,
            "height": null,
            "min_height": null,
            "padding": null,
            "grid_auto_rows": null,
            "grid_gap": null,
            "max_width": null,
            "order": null,
            "_view_module_version": "1.2.0",
            "grid_template_areas": null,
            "object_position": null,
            "object_fit": null,
            "grid_auto_columns": null,
            "margin": null,
            "display": null,
            "left": null
          }
        }
      }
    }
  },
  "cells": [
    {
      "cell_type": "code",
      "metadata": {
        "id": "Z1a1YvqQMYwq",
        "colab_type": "code",
        "colab": {}
      },
      "source": [
        "!pip install gdal\n",
        "!pip install rasterio\n",
        "!pip install sentinelsat"
      ],
      "execution_count": 0,
      "outputs": []
    },
    {
      "cell_type": "code",
      "metadata": {
        "id": "RFoYRRBraO35",
        "colab_type": "code",
        "colab": {}
      },
      "source": [
        "from sentinelsat.sentinel import SentinelAPI, read_geojson, geojson_to_wkt\n",
        "import gdal\n",
        "from gdalconst import GA_ReadOnly \n",
        "import matplotlib.pyplot as plt\n",
        "%matplotlib inline \n",
        "import cv2\n",
        "import numpy as np\n",
        "from collections import Counter\n",
        "from tqdm import tqdm_notebook as tqdm\n",
        "IMG_SIZE=1031\n",
        "import rasterio\n",
        "from rasterio.plot import show\n",
        "import subprocess\n",
        "import os\n",
        "import math"
      ],
      "execution_count": 0,
      "outputs": []
    },
    {
      "cell_type": "markdown",
      "metadata": {
        "id": "mc5cUgbQMsgh",
        "colab_type": "text"
      },
      "source": [
        "**Download CLC reference data**"
      ]
    },
    {
      "cell_type": "code",
      "metadata": {
        "id": "cMkDlUdYMcms",
        "colab_type": "code",
        "colab": {}
      },
      "source": [
        "subprocess.run(['wget', 'https://land.copernicus.eu/land-files/7ac95361f9ac3cecdf37785bc183ff02dd765a16.zip'])\n",
        "subprocess.run(['unzip' ,'7ac95361f9ac3cecdf37785bc183ff02dd765a16.zip'])\n",
        "subprocess.run(['unzip' ,'clc2018_clc2018_v2018_20_raster100m.zip'])\n",
        "subprocess.run(['gdalwarp','-co','COMPRESS=DEFLATE','-t_srs','EPSG:32632','clc2018_clc2018_v2018_20_raster100m/CLC2018_CLC2018_V2018_20.tif','europe.tif'])\n"
      ],
      "execution_count": 0,
      "outputs": []
    },
    {
      "cell_type": "markdown",
      "metadata": {
        "id": "3TibEqxG3UVr",
        "colab_type": "text"
      },
      "source": [
        "**STEP 1 : DATA PREPROCESSING**"
      ]
    },
    {
      "cell_type": "code",
      "metadata": {
        "id": "7eprcUOi3EDs",
        "colab_type": "code",
        "colab": {}
      },
      "source": [
        "def download_scene(file_id):\n",
        "  api = SentinelAPI('uname', 'pwd',api_url='https://scihub.copernicus.eu/apihub')\n",
        "  api.download(file_id)\n",
        "\n",
        "def unzip_scene(file_name):\n",
        "  subprocess.call('unzip '+file_name,shell=True)\n",
        "\n",
        "def jp2_to_tif(input_file,output_file):\n",
        "  subprocess.call('gdal_translate ' +input_file+' '+output_file,shell=True)\n",
        "\n",
        "def clip_ref_scene(input_file,output_file):\n",
        "  data=gdal.Open(input_file,GA_ReadOnly) \n",
        "  geoTransform=data.GetGeoTransform() \n",
        "  minx=geoTransform[0] \n",
        "  maxy=geoTransform[3] \n",
        "  maxx = minx + geoTransform[1] * data.RasterXSize \n",
        "  miny = maxy + geoTransform[5] * data.RasterYSize \n",
        "  subprocess.call('gdal_translate -projwin ' + ' '.join([str(x) for x in [minx, maxy, maxx, miny]]) + ' -of GTiff europe.tif ' +output_file, shell=True) \n",
        "\n",
        "def resize_scene(input_file,output_file):\n",
        "  subprocess.call('gdal_translate -co QUALITY=100 -co PROGRESSIVE=ON -outsize '+str(IMG_SIZE)+' '+str(IMG_SIZE)+' -r bilinear '+input_file+' '+output_file,shell=True)"
      ],
      "execution_count": 0,
      "outputs": []
    },
    {
      "cell_type": "code",
      "metadata": {
        "id": "wNm3vAoqGJ3w",
        "colab_type": "code",
        "colab": {}
      },
      "source": [
        "download_scene('742eb824-df10-4402-866e-0d92e8575aa4')\n",
        "unzip_scene('/content/S2A_MSIL1C_20190723T101031_N0208_R022_T32TQQ_20190723T121220.zip')\n",
        "jp2_to_tif('/content/S2A_MSIL1C_20190723T101031_N0208_R022_T32TQQ_20190723T121220.SAFE/GRANULE/L1C_T32TQQ_A021326_20190723T101347/IMG_DATA/T32TQQ_20190723T101031_TCI.jp2','test-full.tif')\n",
        "clip_ref_scene('test-full.tif','test-y.tif')\n",
        "resize_scene('test-full.tif','test.tif')\n",
        "jp2_to_tif('/content/S2A_MSIL1C_20190723T101031_N0208_R022_T32TQQ_20190723T121220.SAFE/GRANULE/L1C_T32TQQ_A021326_20190723T101347/IMG_DATA/T32TQQ_20190723T101031_B08.jp2','test-b8-full.tif')\n",
        "clip_ref_scene('test-b8-full.tif','test-b8-y.tif')\n",
        "resize_scene('test-b8-full.tif','test-b8.tif')\n"
      ],
      "execution_count": 0,
      "outputs": []
    },
    {
      "cell_type": "code",
      "metadata": {
        "id": "ltZFj9WoNM6B",
        "colab_type": "code",
        "colab": {}
      },
      "source": [
        "download_scene('4f07815d-5709-4b0b-8fdd-7e12c78e6546')\n",
        "unzip_scene('S2A_MSIL1C_20190629T103031_N0207_R108_T32UMV_20190629T124358.zip')\n",
        "jp2_to_tif('/content/S2A_MSIL1C_20190629T103031_N0207_R108_T32UMV_20190629T124358.SAFE/GRANULE/L1C_T32UMV_A020983_20190629T103537/IMG_DATA/T32UMV_20190629T103031_TCI.jp2','s1-full.tif')\n",
        "clip_ref_scene('s1-full.tif','s1-y.tif')\n",
        "resize_scene('s1-full.tif','s1.tif')\n",
        "jp2_to_tif('/content/S2A_MSIL1C_20190629T103031_N0207_R108_T32UMV_20190629T124358.SAFE/GRANULE/L1C_T32UMV_A020983_20190629T103537/IMG_DATA/T32UMV_20190629T103031_B08.jp2','s1-b8-full.tif')\n",
        "clip_ref_scene('s1-b8-full.tif','s1-b8-y.tif')\n",
        "resize_scene('s1-b8-full.tif','s1-b8.tif')"
      ],
      "execution_count": 0,
      "outputs": []
    },
    {
      "cell_type": "code",
      "metadata": {
        "id": "_aXVnyDdPP5_",
        "colab_type": "code",
        "colab": {}
      },
      "source": [
        "download_scene('03cf3314-1b05-46f1-af1b-cee2652edf2b')\n",
        "unzip_scene('S2B_MSIL1C_20190724T103029_N0208_R108_T32UMV_20190724T122822.zip')\n",
        "jp2_to_tif('/content/S2B_MSIL1C_20190724T103029_N0208_R108_T32UMV_20190724T122822.SAFE/GRANULE/L1C_T32UMV_A012432_20190724T103030/IMG_DATA/T32UMV_20190724T103029_TCI.jp2','s2-full.tif')\n",
        "clip_ref_scene('s2-full.tif','s2-y.tif')\n",
        "resize_scene('s2-full.tif','s2.tif')\n",
        "jp2_to_tif('/content/S2B_MSIL1C_20190724T103029_N0208_R108_T32UMV_20190724T122822.SAFE/GRANULE/L1C_T32UMV_A012432_20190724T103030/IMG_DATA/T32UMV_20190724T103029_B08.jp2','s2-b8-full.tif')\n",
        "clip_ref_scene('s2-b8-full.tif','s2-b8-y.tif')\n",
        "resize_scene('s2-b8-full.tif','s2-b8.tif')"
      ],
      "execution_count": 0,
      "outputs": []
    },
    {
      "cell_type": "code",
      "metadata": {
        "id": "theSLX7TCzWm",
        "colab_type": "code",
        "colab": {}
      },
      "source": [
        "download_scene('67a87302-2ff4-4c81-9e5e-792367578f6d')\n",
        "unzip_scene('S2B_MSIL1C_20190921T105739_N0208_R094_T30UYC_20190921T131721.zip')\n",
        "jp2_to_tif('/content/S2B_MSIL1C_20190921T105739_N0208_R094_T30UYC_20190921T131721.SAFE/GRANULE/L1C_T30UYC_A013276_20190921T110218/IMG_DATA/T30UYC_20190921T105739_TCI.jp2','s3-full.tif')\n",
        "clip_ref_scene('s3-full.tif','s3-y.tif')\n",
        "resize_scene('s3-full.tif','s3.tif')\n",
        "jp2_to_tif('/content/S2B_MSIL1C_20190921T105739_N0208_R094_T30UYC_20190921T131721.SAFE/GRANULE/L1C_T30UYC_A013276_20190921T110218/IMG_DATA/T30UYC_20190921T105739_B08.jp2','s3-b8-full.tif')\n",
        "clip_ref_scene('s3-b8-full.tif','s3-b8-y.tif')\n",
        "resize_scene('s3-b8-full.tif','s3-b8.tif')"
      ],
      "execution_count": 0,
      "outputs": []
    },
    {
      "cell_type": "code",
      "metadata": {
        "id": "ZQxGlIB8I14v",
        "colab_type": "code",
        "colab": {}
      },
      "source": [
        "download_scene('c04d2ba0-4880-4dcf-a733-879231478aa3')\n",
        "unzip_scene('S2B_MSIL1C_20190724T103029_N0208_R108_T31TGN_20190724T122822.zip')\n",
        "jp2_to_tif('/content/S2B_MSIL1C_20190724T103029_N0208_R108_T31TGN_20190724T122822.SAFE/GRANULE/L1C_T31TGN_A012432_20190724T103030/IMG_DATA/T31TGN_20190724T103029_TCI.jp2','s4-full.tif')\n",
        "clip_ref_scene('s4-full.tif','s4-y.tif')\n",
        "resize_scene('s4-full.tif','s4.tif')\n",
        "jp2_to_tif('/content/S2B_MSIL1C_20190724T103029_N0208_R108_T31TGN_20190724T122822.SAFE/GRANULE/L1C_T31TGN_A012432_20190724T103030/IMG_DATA/T31TGN_20190724T103029_B08.jp2','s4-b8-full.tif')\n",
        "clip_ref_scene('s4-b8-full.tif','s4-b8-y.tif')\n",
        "resize_scene('s4-b8-full.tif','s4-b8.tif')"
      ],
      "execution_count": 0,
      "outputs": []
    },
    {
      "cell_type": "code",
      "metadata": {
        "id": "eIxGrcIFQYar",
        "colab_type": "code",
        "colab": {}
      },
      "source": [
        "download_scene('4557d038-7f7e-4356-b410-5c6e7d741e7f')\n",
        "unzip_scene('/content/S2A_MSIL1C_20190904T102021_N0208_R065_T32TNT_20190904T123501.zip')\n",
        "jp2_to_tif('/content/S2A_MSIL1C_20190904T102021_N0208_R065_T32TNT_20190904T123501.SAFE/GRANULE/L1C_T32TNT_A021941_20190904T102045/IMG_DATA/T32TNT_20190904T102021_TCI.jp2','s5-full.tif')\n",
        "clip_ref_scene('s5-full.tif','s5-y.tif')\n",
        "resize_scene('s5-full.tif','s5.tif')\n",
        "jp2_to_tif('/content/S2A_MSIL1C_20190904T102021_N0208_R065_T32TNT_20190904T123501.SAFE/GRANULE/L1C_T32TNT_A021941_20190904T102045/IMG_DATA/T32TNT_20190904T102021_B08.jp2','s5-b8-full.tif')\n",
        "clip_ref_scene('s5-b8-full.tif','s5-b8-y.tif')\n",
        "resize_scene('s5-b8-full.tif','s5-b8.tif')"
      ],
      "execution_count": 0,
      "outputs": []
    },
    {
      "cell_type": "code",
      "metadata": {
        "id": "Nk8gd31NQYeh",
        "colab_type": "code",
        "colab": {}
      },
      "source": [
        "download_scene('336a6ef0-784a-4a90-8333-02ed7ae93b85')\n",
        "unzip_scene('/content/S2B_MSIL1C_20190913T100029_N0208_R122_T33TVJ_20190913T134222.zip')\n",
        "jp2_to_tif('/content/S2B_MSIL1C_20190913T100029_N0208_R122_T33TVJ_20190913T134222.SAFE/GRANULE/L1C_T33TVJ_A013161_20190913T100548/IMG_DATA/T33TVJ_20190913T100029_TCI.jp2','s6-full.tif')\n",
        "clip_ref_scene('s6-full.tif','s6-y.tif')\n",
        "resize_scene('s6-full.tif','s6.tif')\n",
        "jp2_to_tif('/content/S2B_MSIL1C_20190913T100029_N0208_R122_T33TVJ_20190913T134222.SAFE/GRANULE/L1C_T33TVJ_A013161_20190913T100548/IMG_DATA/T33TVJ_20190913T100029_B08.jp2','s6-b8-full.tif')\n",
        "clip_ref_scene('s6-b8-full.tif','s6-b8-y.tif')\n",
        "resize_scene('s6-b8-full.tif','s6-b8.tif')"
      ],
      "execution_count": 0,
      "outputs": []
    },
    {
      "cell_type": "markdown",
      "metadata": {
        "id": "ixJUkrMgcU8L",
        "colab_type": "text"
      },
      "source": [
        "**VISUALIZE TEST SET - PORTO VIRO REGION - ITALY**"
      ]
    },
    {
      "cell_type": "code",
      "metadata": {
        "id": "yZyfQIfccjHl",
        "colab_type": "code",
        "outputId": "5ea346e8-5f7e-42ab-979c-3c41438c5268",
        "colab": {
          "base_uri": "https://localhost:8080/",
          "height": 286
        }
      },
      "source": [
        "dataset = rasterio.open('test.tif')\n",
        "show(dataset.read([1,2,3]))"
      ],
      "execution_count": 0,
      "outputs": [
        {
          "output_type": "display_data",
          "data": {
            "image/png": "[encoded data removed]",
            "text/plain": [
              "<Figure size 432x288 with 1 Axes>"
            ]
          },
          "metadata": {
            "tags": []
          }
        },
        {
          "output_type": "execute_result",
          "data": {
            "text/plain": [
              "<matplotlib.axes._subplots.AxesSubplot at 0x7f524e5b3e10>"
            ]
          },
          "metadata": {
            "tags": []
          },
          "execution_count": 1078
        }
      ]
    },
    {
      "cell_type": "code",
      "metadata": {
        "id": "i__Huo409P2W",
        "colab_type": "code",
        "colab": {}
      },
      "source": [
        "tif1=gdal.Open('s1.tif')\n",
        "s1r = tif1.GetRasterBand(1).ReadAsArray()\n",
        "s1g = tif1.GetRasterBand(2).ReadAsArray()\n",
        "s1b = tif1.GetRasterBand(3).ReadAsArray()\n",
        "tif1=gdal.Open('s1-b8.tif')\n",
        "s1b8=tif1.GetRasterBand(1).ReadAsArray()\n",
        "\n",
        "\n",
        "tif1=gdal.Open('s2.tif')\n",
        "s2r = tif1.GetRasterBand(1).ReadAsArray()\n",
        "s2g = tif1.GetRasterBand(2).ReadAsArray()\n",
        "s2b = tif1.GetRasterBand(3).ReadAsArray()\n",
        "tif1=gdal.Open('s2-b8.tif')\n",
        "s2b8=tif1.GetRasterBand(1).ReadAsArray()\n",
        "\n",
        "\n",
        "tif1=gdal.Open('s3.tif')\n",
        "s3r = tif1.GetRasterBand(1).ReadAsArray()\n",
        "s3g = tif1.GetRasterBand(2).ReadAsArray()\n",
        "s3b = tif1.GetRasterBand(3).ReadAsArray()\n",
        "tif1=gdal.Open('s3-b8.tif')\n",
        "s3b8=tif1.GetRasterBand(1).ReadAsArray()\n",
        "\n",
        "\n",
        "tif1=gdal.Open('s4.tif')\n",
        "s4r = tif1.GetRasterBand(1).ReadAsArray()\n",
        "s4g = tif1.GetRasterBand(2).ReadAsArray()\n",
        "s4b = tif1.GetRasterBand(3).ReadAsArray()\n",
        "tif1=gdal.Open('s4-b8.tif')\n",
        "s4b8=tif1.GetRasterBand(1).ReadAsArray()\n",
        "\n",
        "\n",
        "tif1=gdal.Open('s5.tif')\n",
        "s5r = tif1.GetRasterBand(1).ReadAsArray()\n",
        "s5g = tif1.GetRasterBand(2).ReadAsArray()\n",
        "s5b = tif1.GetRasterBand(3).ReadAsArray()\n",
        "tif1=gdal.Open('s5-b8.tif')\n",
        "s5b8=tif1.GetRasterBand(1).ReadAsArray()\n",
        "\n",
        "\n",
        "tif1=gdal.Open('s6.tif')\n",
        "s6r = tif1.GetRasterBand(1).ReadAsArray()\n",
        "s6g = tif1.GetRasterBand(2).ReadAsArray()\n",
        "s6b = tif1.GetRasterBand(3).ReadAsArray()\n",
        "tif1=gdal.Open('s6-b8.tif')\n",
        "s6b8=tif1.GetRasterBand(1).ReadAsArray()\n"
      ],
      "execution_count": 0,
      "outputs": []
    },
    {
      "cell_type": "code",
      "metadata": {
        "id": "UeXgX8gGJ1zr",
        "colab_type": "code",
        "colab": {}
      },
      "source": [
        "tif2=gdal.Open('test-y.tif')\n",
        "Y_raster_test= tif2.GetRasterBand(1).ReadAsArray()\n",
        "Y_raster_test[Y_raster_test < 100] = 999\n",
        "Y_raster_test[(Y_raster_test > 100)&(Y_raster_test <= 150)] = 0\n",
        "Y_raster_test[(Y_raster_test > 150) & (Y_raster_test < 450)] = 125\n",
        "Y_raster_test[(Y_raster_test >= 450) & (Y_raster_test < 530)] = 255\n",
        "Y_raster_test[Y_raster_test > 530] = 255"
      ],
      "execution_count": 0,
      "outputs": []
    },
    {
      "cell_type": "code",
      "metadata": {
        "id": "DhVGgAwsDE1W",
        "colab_type": "code",
        "outputId": "be23f92c-c658-4905-c906-50a0af75bea9",
        "colab": {
          "base_uri": "https://localhost:8080/",
          "height": 34
        }
      },
      "source": [
        "tif2=gdal.Open('s1-y.tif')\n",
        "Y_raster_s1 = tif2.GetRasterBand(1).ReadAsArray()\n",
        "\n",
        "Y_raster_s1[Y_raster_s1 < 100] = 999\n",
        "Y_raster_s1[(Y_raster_s1 > 100)&(Y_raster_s1 <= 150)] = 0\n",
        "Y_raster_s1[(Y_raster_s1 > 150) & (Y_raster_s1 < 450)] = 125\n",
        "Y_raster_s1[(Y_raster_s1 >= 450) & (Y_raster_s1 < 530)] = 255\n",
        "Y_raster_s1[Y_raster_s1 > 530] = 255\n",
        "\n",
        "\n",
        "Y_list=Y_raster_s1.flatten().tolist()\n",
        "print(len(Y_list))"
      ],
      "execution_count": 0,
      "outputs": [
        {
          "output_type": "stream",
          "text": [
            "1062961\n"
          ],
          "name": "stdout"
        }
      ]
    },
    {
      "cell_type": "code",
      "metadata": {
        "id": "Cm0pI9wdDbU2",
        "colab_type": "code",
        "outputId": "998d854e-8f41-4e95-d635-c31aaa4d1c08",
        "colab": {
          "base_uri": "https://localhost:8080/",
          "height": 50
        }
      },
      "source": [
        "tif2=gdal.Open('s2-y.tif')\n",
        "Y_raster_s2 = tif2.GetRasterBand(1).ReadAsArray()\n",
        "print(np.unique(Y_raster_s2))\n",
        "Y_raster_s2[Y_raster_s2 < 100] = 999\n",
        "Y_raster_s2[(Y_raster_s2 > 100)&(Y_raster_s2 <= 150)] = 0\n",
        "Y_raster_s2[(Y_raster_s2 > 150) & (Y_raster_s2 < 450)] = 125\n",
        "Y_raster_s2[(Y_raster_s2 >= 450) & (Y_raster_s2 < 530)] = 255\n",
        "Y_raster_s2[Y_raster_s2 > 530] = 255\n",
        "\n",
        "Y_list=Y_list+(Y_raster_s2.flatten().tolist())"
      ],
      "execution_count": 0,
      "outputs": [
        {
          "output_type": "stream",
          "text": [
            "[111 112 121 122 123 124 131 132 133 141 142 211 221 222 231 242 243 311\n",
            " 312 313 321 322 324 411 412 511 512]\n"
          ],
          "name": "stdout"
        }
      ]
    },
    {
      "cell_type": "code",
      "metadata": {
        "id": "4P6PAl0xDdJn",
        "colab_type": "code",
        "outputId": "bf8b01e6-5a55-4ff8-ca41-fd5f3e13b58a",
        "colab": {
          "base_uri": "https://localhost:8080/",
          "height": 50
        }
      },
      "source": [
        "tif2=gdal.Open('s3-y.tif')\n",
        "Y_raster_s3 = tif2.GetRasterBand(1).ReadAsArray()\n",
        "print(np.unique(Y_raster_s3))\n",
        "Y_raster_s3[Y_raster_s3 < 100] = 999\n",
        "Y_raster_s3[(Y_raster_s3 > 100)&(Y_raster_s3 <= 150)] = 0\n",
        "Y_raster_s3[(Y_raster_s3 > 150) & (Y_raster_s3 < 450)] = 125\n",
        "Y_raster_s3[(Y_raster_s3 >= 450) & (Y_raster_s3 < 530)] = 255\n",
        "Y_raster_s3[Y_raster_s3 > 530] = 255\n",
        "\n",
        "Y_list=Y_list+(Y_raster_s3.flatten().tolist())"
      ],
      "execution_count": 0,
      "outputs": [
        {
          "output_type": "stream",
          "text": [
            "[111 112 121 122 123 124 131 132 133 141 142 211 222 231 242 243 311 312\n",
            " 313 321 322 324 333 411 412 511 512]\n"
          ],
          "name": "stdout"
        }
      ]
    },
    {
      "cell_type": "code",
      "metadata": {
        "id": "fUYhZKvLR6UL",
        "colab_type": "code",
        "outputId": "4aa33b71-6433-4345-fae1-7d27ee4ba86e",
        "colab": {
          "base_uri": "https://localhost:8080/",
          "height": 67
        }
      },
      "source": [
        "tif2=gdal.Open('s4-y.tif')\n",
        "Y_raster_s4 = tif2.GetRasterBand(1).ReadAsArray()\n",
        "print(np.unique(Y_raster_s4))\n",
        "Y_raster_s4[Y_raster_s4 < 100] = 999\n",
        "Y_raster_s4[(Y_raster_s4 > 100)&(Y_raster_s4 <= 150)] = 0\n",
        "Y_raster_s4[(Y_raster_s4 > 150) & (Y_raster_s4 < 450)] = 125\n",
        "Y_raster_s4[(Y_raster_s4 >= 450) & (Y_raster_s4 < 530)] = 255\n",
        "Y_raster_s4[Y_raster_s4 > 530] = 255\n",
        " \n",
        "Y_list=Y_list+(Y_raster_s4.flatten().tolist())\n",
        "\n",
        "print(len(Y_list))"
      ],
      "execution_count": 0,
      "outputs": [
        {
          "output_type": "stream",
          "text": [
            "[111 112 121 122 124 131 141 142 211 231 242 243 311 312 313 321 322 324\n",
            " 331 332 333 335 411 412 511 512]\n",
            "4251844\n"
          ],
          "name": "stdout"
        }
      ]
    },
    {
      "cell_type": "code",
      "metadata": {
        "id": "zecGHKZnl6lE",
        "colab_type": "code",
        "outputId": "d772ed4d-4528-4b1f-cf5e-775cb6d99f3a",
        "colab": {
          "base_uri": "https://localhost:8080/",
          "height": 50
        }
      },
      "source": [
        "tif2=gdal.Open('s5-y.tif')\n",
        "Y_raster_s5 = tif2.GetRasterBand(1).ReadAsArray()\n",
        "print(np.unique(Y_raster_s5))\n",
        "Y_raster_s5[Y_raster_s5 < 100] = 999\n",
        "Y_raster_s5[(Y_raster_s5 > 100)&(Y_raster_s5 <= 150)] = 0\n",
        "Y_raster_s5[(Y_raster_s5 > 150) & (Y_raster_s5 < 450)] = 125\n",
        "Y_raster_s5[(Y_raster_s5 >= 450) & (Y_raster_s5 < 530)] = 255\n",
        "Y_raster_s5[Y_raster_s5 > 530] = 255\n",
        " \n",
        "Y_list=Y_list+(Y_raster_s5.flatten().tolist())"
      ],
      "execution_count": 0,
      "outputs": [
        {
          "output_type": "stream",
          "text": [
            "[111 112 121 122 124 131 132 133 141 142 211 221 222 231 242 243 311 312\n",
            " 313 321 322 324 331 332 333 335 411 412 511 512]\n"
          ],
          "name": "stdout"
        }
      ]
    },
    {
      "cell_type": "code",
      "metadata": {
        "id": "8gj9Q5FNryY-",
        "colab_type": "code",
        "outputId": "a30a0139-2541-4716-d28e-cb8c6d955729",
        "colab": {
          "base_uri": "https://localhost:8080/",
          "height": 67
        }
      },
      "source": [
        "tif2=gdal.Open('s6-y.tif')\n",
        "Y_raster_s6 = tif2.GetRasterBand(1).ReadAsArray()\n",
        "print(np.unique(Y_raster_s6))\n",
        "Y_raster_s6[Y_raster_s6 < 100] = 999\n",
        "Y_raster_s6[(Y_raster_s6 > 100)&(Y_raster_s6 <= 150)] = 0\n",
        "Y_raster_s6[(Y_raster_s6 > 150) & (Y_raster_s6 < 450)] = 125\n",
        "Y_raster_s6[(Y_raster_s6 >= 450) & (Y_raster_s6 < 530)] = 255\n",
        "Y_raster_s6[Y_raster_s6 > 530] = 255\n",
        " \n",
        "Y_list=Y_list+(Y_raster_s6.flatten().tolist())"
      ],
      "execution_count": 0,
      "outputs": [
        {
          "output_type": "stream",
          "text": [
            "[-32768    111    112    121    123    124    131    142    211    212\n",
            "    223    231    242    243    311    312    313    321    322    323\n",
            "    324    331    332    333    523]\n"
          ],
          "name": "stdout"
        }
      ]
    },
    {
      "cell_type": "code",
      "metadata": {
        "id": "Fje5-W0HDzrv",
        "colab_type": "code",
        "outputId": "5f1b11e6-c812-42ae-a73e-dd5b62c563de",
        "colab": {
          "base_uri": "https://localhost:8080/",
          "height": 34
        }
      },
      "source": [
        "print(np.unique(Y_list))"
      ],
      "execution_count": 0,
      "outputs": [
        {
          "output_type": "stream",
          "text": [
            "[  0 125 255]\n"
          ],
          "name": "stdout"
        }
      ]
    },
    {
      "cell_type": "code",
      "metadata": {
        "id": "eQz8Q81IEHjN",
        "colab_type": "code",
        "colab": {}
      },
      "source": [
        "#CONVERT RGB BANDS AS INPUT FEATURE SEQUENCES\n",
        "#QUANTIZATION\n",
        "\n",
        "rband_list=s1r.flatten().tolist()\n",
        "rband_list=rband_list+(s2r.flatten().tolist())\n",
        "rband_list=rband_list+(s3r.flatten().tolist())\n",
        "rband_list=rband_list+(s4r.flatten().tolist())\n",
        "rband_list=rband_list+(s5r.flatten().tolist())\n",
        "rband_list=rband_list+(s6r.flatten().tolist())\n",
        "\n",
        "\n",
        "\n",
        "gband_list=s1g.flatten().tolist()\n",
        "gband_list=gband_list+(s2g.flatten().tolist())\n",
        "gband_list=gband_list+(s3g.flatten().tolist())\n",
        "gband_list=gband_list+(s4g.flatten().tolist())\n",
        "gband_list=gband_list+(s5g.flatten().tolist())\n",
        "gband_list=gband_list+(s6g.flatten().tolist())\n",
        "\n",
        "\n",
        "\n",
        "\n",
        "bband_list=s1b.flatten().tolist()\n",
        "bband_list=bband_list+(s2b.flatten().tolist())\n",
        "bband_list=bband_list+(s3b.flatten().tolist())\n",
        "bband_list=bband_list+(s4b.flatten().tolist())\n",
        "bband_list=bband_list+(s5b.flatten().tolist())\n",
        "bband_list=bband_list+(s6b.flatten().tolist())\n",
        "\n",
        "\n",
        "\n",
        "band8_list=s1b8.flatten().tolist()\n",
        "band8_list=band8_list+(s2b8.flatten().tolist())\n",
        "band8_list=band8_list+(s3b8.flatten().tolist())\n",
        "band8_list=band8_list+(s4b8.flatten().tolist())\n",
        "band8_list=band8_list+(s5b8.flatten().tolist())\n",
        "band8_list=band8_list+(s6b8.flatten().tolist())\n",
        "\n",
        "\n",
        "q1=max(rband_list)/16\n",
        "q2=max(gband_list)/16\n",
        "q3=max(bband_list)/16\n",
        "q4=max(band8_list)/16\n",
        "\n",
        "\n",
        "rband_list = [round(math.floor(x+0.5)/q1) for x in rband_list]\n",
        "gband_list = [round(math.floor(x+0.5)/q2) for x in gband_list]\n",
        "bband_list = [round(math.floor(x+0.5)/q3) for x in bband_list]\n",
        "band8_list = [round(math.floor(x+0.5)/q4) for x in band8_list]\n",
        "\n"
      ],
      "execution_count": 0,
      "outputs": []
    },
    {
      "cell_type": "code",
      "metadata": {
        "id": "iyaKFSYjTXGE",
        "colab_type": "code",
        "outputId": "b81e4b92-944e-44e9-a5a0-de08beb0cbd5",
        "colab": {
          "base_uri": "https://localhost:8080/",
          "height": 34
        }
      },
      "source": [
        "print(len(rband_list))"
      ],
      "execution_count": 0,
      "outputs": [
        {
          "output_type": "stream",
          "text": [
            "6377766\n"
          ],
          "name": "stdout"
        }
      ]
    },
    {
      "cell_type": "markdown",
      "metadata": {
        "id": "G6x9yhlajJ8M",
        "colab_type": "text"
      },
      "source": [
        "***SEQUENCE LIST AND ANTECEDENT-CONSEQUENT LIST(X->Y)***"
      ]
    },
    {
      "cell_type": "code",
      "metadata": {
        "id": "ZsgmJ8Kew52V",
        "colab_type": "code",
        "colab": {}
      },
      "source": [
        "sequences_list=[]\n",
        "ante_consq_list=[]"
      ],
      "execution_count": 0,
      "outputs": []
    },
    {
      "cell_type": "code",
      "metadata": {
        "id": "mgDj_gvvthgO",
        "colab_type": "code",
        "outputId": "ddefb0d0-7334-4dd6-c7c0-780cee57dc90",
        "colab": {
          "base_uri": "https://localhost:8080/",
          "height": 82,
          "referenced_widgets": [
            "c474619bc0674a8d878e8c265a812b74",
            "2d7d15253cda49e5a50e697c159271e2",
            "86c5885b65b547ec93c6173df000223c",
            "89caebef7c88414c89e1d9c4b7116cd8",
            "6618c93ce0f04e69b0db89ae85444d0e",
            "ae8cb189ea7c40218b857025fc9a2fb8",
            "18855242f22242d4b7832b4a7177edc2",
            "0284b4d17d564790bf4887407b7b9950"
          ]
        }
      },
      "source": [
        "for i in tqdm(range(len(rband_list))):\n",
        "  sequences_list.append((rband_list[i],gband_list[i],bband_list[i],band8_list[i]))\n",
        "  ante_consq_list.append((rband_list[i],gband_list[i],bband_list[i],band8_list[i],Y_list[i]))\n",
        "\n",
        "print('BUILDING DATA DONE')\n"
      ],
      "execution_count": 0,
      "outputs": [
        {
          "output_type": "display_data",
          "data": {
            "application/vnd.jupyter.widget-view+json": {
              "model_id": "c474619bc0674a8d878e8c265a812b74",
              "version_minor": 0,
              "version_major": 2
            },
            "text/plain": [
              "HBox(children=(IntProgress(value=0, max=6377766), HTML(value='')))"
            ]
          },
          "metadata": {
            "tags": []
          }
        },
        {
          "output_type": "stream",
          "text": [
            "\n",
            "BUILDING DATA DONE\n"
          ],
          "name": "stdout"
        }
      ]
    },
    {
      "cell_type": "markdown",
      "metadata": {
        "id": "iCVRyjESjwwL",
        "colab_type": "text"
      },
      "source": [
        "***RANDOM EXAMPLE - DATA STRUCTURE (R, G, B, CLASS_LABEL)***"
      ]
    },
    {
      "cell_type": "code",
      "metadata": {
        "id": "HrJF9PIIthju",
        "colab_type": "code",
        "outputId": "a32c734b-9c31-43cd-ad49-426a9521d104",
        "colab": {
          "base_uri": "https://localhost:8080/",
          "height": 34
        }
      },
      "source": [
        "print ((ante_consq_list[56]))"
      ],
      "execution_count": 0,
      "outputs": [
        {
          "output_type": "stream",
          "text": [
            "(3, 4, 4, 4, 125)\n"
          ],
          "name": "stdout"
        }
      ]
    },
    {
      "cell_type": "markdown",
      "metadata": {
        "id": "O843PnPQj9p_",
        "colab_type": "text"
      },
      "source": [
        "***FIND UNIQUE SEQUENCES(X-cap) AND COUNT***"
      ]
    },
    {
      "cell_type": "code",
      "metadata": {
        "id": "W32qBvF1thnU",
        "colab_type": "code",
        "outputId": "919935cf-f6fe-4ec7-f823-d65839036f2d",
        "colab": {
          "base_uri": "https://localhost:8080/",
          "height": 50
        }
      },
      "source": [
        "print('UNIQUE SEQUENCES COUNT: ')\n",
        "print(len(list(set(sequences_list))))\n",
        "unique_X_sequences=list(set(sequences_list))"
      ],
      "execution_count": 0,
      "outputs": [
        {
          "output_type": "stream",
          "text": [
            "UNIQUE SEQUENCES COUNT: \n",
            "804\n"
          ],
          "name": "stdout"
        }
      ]
    },
    {
      "cell_type": "markdown",
      "metadata": {
        "id": "6u71bdBBsWU9",
        "colab_type": "text"
      },
      "source": [
        "\n",
        "\n",
        "---\n",
        "\n"
      ]
    },
    {
      "cell_type": "markdown",
      "metadata": {
        "id": "9tfHuR7ckert",
        "colab_type": "text"
      },
      "source": [
        "***STEP 2:***\n",
        "\n",
        "*   ***ASSOCIATION ANALYSIS***\n",
        "*   ***EVIDENCE BASED NORMALIZED DIFFERENTIAL INDEX(ENDI) MEASURE***\n",
        "\n",
        "\n"
      ]
    },
    {
      "cell_type": "markdown",
      "metadata": {
        "id": "CDwyOG-sluFT",
        "colab_type": "text"
      },
      "source": [
        "***HELPER FUNCTIONS:***"
      ]
    },
    {
      "cell_type": "code",
      "metadata": {
        "id": "PBmN7nsvxTGb",
        "colab_type": "code",
        "colab": {}
      },
      "source": [
        "#ONE VARIATION OF ENDI INTERESTINGNESS MEASURE\n",
        "def calculate_ENDI(positive,negative):\n",
        "  if (positive==0) and (negative==0) : return 0\n",
        "  return (positive-negative)/(positive+negative)"
      ],
      "execution_count": 0,
      "outputs": []
    },
    {
      "cell_type": "code",
      "metadata": {
        "id": "Q5DdKX6Z51Jm",
        "colab_type": "code",
        "colab": {}
      },
      "source": [
        "#POSITIVE EVIDENCES\n",
        "def positive_count(sequence,class_name):\n",
        "  item = list(sequence)\n",
        "  item.append(class_name)\n",
        "  c=counter[tuple(item)]\n",
        "  return c\n",
        "\n",
        "\n",
        "#NEGATIVE EVIDENCES\n",
        "def negative_count(sequence, class_list):\n",
        "  negative_classcount=0\n",
        "  for c in  class_list:\n",
        "    item = list(sequence)\n",
        "    item.append(c)\n",
        "    negative_classcount=negative_classcount+counter[tuple(item)]\n",
        "\n",
        "  return negative_classcount\n",
        "\n"
      ],
      "execution_count": 0,
      "outputs": []
    },
    {
      "cell_type": "code",
      "metadata": {
        "id": "GqVeHx5El9b7",
        "colab_type": "code",
        "colab": {}
      },
      "source": [
        "#COUNT FREQUENCIES OF EACH UNIQUE SEQUENCE\n",
        "counter=Counter(ante_consq_list)"
      ],
      "execution_count": 0,
      "outputs": []
    },
    {
      "cell_type": "markdown",
      "metadata": {
        "id": "N6c40R8gtgYA",
        "colab_type": "text"
      },
      "source": [
        "***CALCULATE ENDI MEASURE FOR ALL THE CLASSES PER SEQUENCE DATA***"
      ]
    },
    {
      "cell_type": "code",
      "metadata": {
        "id": "BHa17NbP4P6R",
        "colab_type": "code",
        "outputId": "cbacfcae-24b1-4fad-8b1a-6656cc7ba8af",
        "colab": {
          "base_uri": "https://localhost:8080/",
          "height": 82,
          "referenced_widgets": [
            "f483b7dd02204c42a645e454f87bbd71",
            "289cd53351784d84b43786936f196132",
            "005e6c620bca46cea38ede0eac4bd7f3",
            "f25b4442a8a24dcebc3b64395486650e",
            "7104bad0f925418eb1b050ca1dc39127",
            "ea7281c11d7c4449ac08d48019ee6983",
            "b99c049543224f2bade7079a4802896e",
            "ca9283c2c30f41f09647b68ddba823c4"
          ]
        }
      },
      "source": [
        "#GENERATE A DICTIONARY OF THE FORM : {(unique sequence) : [ENDI MEASURE-CLASS 0, ENDI MEASURE-CLASS 1, ENDI MEASURE-CLASS 2 ]}\n",
        "ENDI_table_dictionary={}\n",
        "\n",
        "for i in tqdm(range(len(unique_X_sequences))):\n",
        "  seq=unique_X_sequences[i]\n",
        "  ENDI_class_0=calculate_ENDI(positive_count(seq,0),negative_count(seq,[125,255]))\n",
        "  ENDI_class_1=calculate_ENDI(positive_count(seq,125),negative_count(seq,[0,255]))\n",
        "  ENDI_class_2=calculate_ENDI(positive_count(seq,255),negative_count(seq,[0,125]))\n",
        "  ENDI_table_dictionary[seq]=[ENDI_class_0,ENDI_class_1,ENDI_class_2]\n",
        "\n",
        "print('BUILDING DICTIONARY DONE')\n",
        "\n",
        "#PRINT RANDOM DATA POINT\n",
        "#print(ENDI_table_dictionary[unique_X_sequences[5000]])\n"
      ],
      "execution_count": 0,
      "outputs": [
        {
          "output_type": "display_data",
          "data": {
            "application/vnd.jupyter.widget-view+json": {
              "model_id": "f483b7dd02204c42a645e454f87bbd71",
              "version_minor": 0,
              "version_major": 2
            },
            "text/plain": [
              "HBox(children=(IntProgress(value=0, max=804), HTML(value='')))"
            ]
          },
          "metadata": {
            "tags": []
          }
        },
        {
          "output_type": "stream",
          "text": [
            "\n",
            "BUILDING DICTIONARY DONE\n"
          ],
          "name": "stdout"
        }
      ]
    },
    {
      "cell_type": "markdown",
      "metadata": {
        "id": "n84ur78SsZ-z",
        "colab_type": "text"
      },
      "source": [
        "\n",
        "\n",
        "---\n",
        "\n"
      ]
    },
    {
      "cell_type": "markdown",
      "metadata": {
        "id": "goD_JtMTtgo7",
        "colab_type": "text"
      },
      "source": [
        "***STEP 3 : CLASSIFICATION AND VISUALIZATION***"
      ]
    },
    {
      "cell_type": "code",
      "metadata": {
        "id": "8kntNAM6gcPn",
        "colab_type": "code",
        "colab": {}
      },
      "source": [
        "def classification(file_name,band8filename):\n",
        "          new_image=gdal.Open(file_name)\n",
        "          rband_new = new_image.GetRasterBand(1).ReadAsArray()\n",
        "          gband_new = new_image.GetRasterBand(2).ReadAsArray()\n",
        "          bband_new = new_image.GetRasterBand(3).ReadAsArray()\n",
        "          tif1=gdal.Open(band8filename)\n",
        "          band8_new=tif1.GetRasterBand(1).ReadAsArray()\n",
        "\n",
        "          rband_list_new=rband_new.flatten().tolist()\n",
        "          gband_list_new=gband_new.flatten().tolist()\n",
        "          bband_list_new=bband_new.flatten().tolist()\n",
        "          band8_list_new=band8_new.flatten().tolist()\n",
        "\n",
        "          q1=max(rband_list_new)/16\n",
        "          q2=max(gband_list_new)/16\n",
        "          q3=max(bband_list_new)/16\n",
        "          q4=max(band8_list_new)/16\n",
        "\n",
        "          rband_list_new = [round(math.floor(x+0.5)/q1) for x in rband_list_new]\n",
        "          gband_list_new = [round(math.floor(x+0.5)/q2) for x in gband_list_new]\n",
        "          bband_list_new = [round(math.floor(x+0.5)/q3) for x in bband_list_new]\n",
        "          band8_list_new = [round(math.floor(x+0.5)/q4) for x in band8_list_new]\n",
        "\n",
        "\n",
        "          final_pred_list=[]\n",
        "\n",
        "          for i in tqdm(range(len(rband_list_new))):\n",
        "\n",
        "            if ((rband_list_new[i],gband_list_new[i],bband_list_new[i],band8_list_new[i])) in ENDI_table_dictionary:\n",
        "                  ENDI_vals=ENDI_table_dictionary[(rband_list_new[i],gband_list_new[i],bband_list_new[i],band8_list_new[i])]\n",
        "                  max_val = max(ENDI_vals)\n",
        "                  index_max = ENDI_vals.index(max_val)\n",
        "                  final_pred_list.append(index_max)   \n",
        "            else:\n",
        "              final_pred_list.append(2)\n",
        "          return final_pred_list\n",
        "\n"
      ],
      "execution_count": 0,
      "outputs": []
    },
    {
      "cell_type": "code",
      "metadata": {
        "id": "wq6E1HhJhfi2",
        "colab_type": "code",
        "colab": {}
      },
      "source": [
        "def visualization(prediction_list,size):\n",
        "  numpy_array=np.asarray(prediction_list)\n",
        "  numpy_array[numpy_array == 1] = 125\n",
        "  numpy_array[numpy_array == 2] = 255\n",
        "  final_image_array=numpy_array.reshape((size,size))\n",
        "  print(np.unique(final_image_array))\n",
        "  plt.gray()\n",
        "  plt.title('PORTO VIRO REGION - CLASSIFICATION RESULTS')\n",
        "  plt.imshow(final_image_array)\n",
        "  plt.savefig('classification-result.png')\n",
        "  cv2.imwrite(\"classication-result.tif\", final_image_array)\n",
        "\n"
      ],
      "execution_count": 0,
      "outputs": []
    },
    {
      "cell_type": "code",
      "metadata": {
        "id": "72cxX4heaE5W",
        "colab_type": "code",
        "colab": {}
      },
      "source": [
        "def metrics(y_actual, y_pred_original):\n",
        "    numpy_array=np.asarray(y_pred_original)\n",
        "    numpy_array[numpy_array == 1] = 125\n",
        "    numpy_array[numpy_array == 2] = 255\n",
        "    y_pred=numpy_array.tolist()\n",
        "    class_id = set(y_actual).union(set(y_pred))\n",
        "    TP = []\n",
        "    FP = []\n",
        "    TN = []\n",
        "    FN = []\n",
        "\n",
        "    for index ,_id in enumerate(class_id):\n",
        "        TP.append(0)\n",
        "        FP.append(0)\n",
        "        TN.append(0)\n",
        "        FN.append(0)\n",
        "        for i in tqdm(range(len(y_pred))):\n",
        "            if y_actual[i] == y_pred[i] == _id:\n",
        "                TP[index] += 1\n",
        "            if y_pred[i] == _id and y_actual[i] != y_pred[i]:\n",
        "                FP[index] += 1\n",
        "            if y_actual[i] == y_pred[i] != _id:\n",
        "                TN[index] += 1\n",
        "            if y_pred[i] != _id and y_actual[i] != y_pred[i]:\n",
        "                FN[index] += 1\n",
        "\n",
        "\n",
        "    return class_id,TP, FP, TN, FN"
      ],
      "execution_count": 0,
      "outputs": []
    },
    {
      "cell_type": "markdown",
      "metadata": {
        "id": "RqZ2C_ow04Ij",
        "colab_type": "text"
      },
      "source": [
        "\n",
        "\n",
        "---\n",
        "\n"
      ]
    },
    {
      "cell_type": "markdown",
      "metadata": {
        "id": "JCK5RsYA05Ld",
        "colab_type": "text"
      },
      "source": [
        "**VISUALIZATION OF RESULTS AND METRICS - PORTO VIRO AREA(ITALY)**"
      ]
    },
    {
      "cell_type": "markdown",
      "metadata": {
        "id": "iPhSuhjw1S5y",
        "colab_type": "text"
      },
      "source": [
        "1) PORTO VIRO CLASSIFICATION RESULTS"
      ]
    },
    {
      "cell_type": "code",
      "metadata": {
        "id": "3zzrNttfg4p-",
        "colab_type": "code",
        "outputId": "e09f526b-f950-4ae8-fb5b-6dcde8b23ffe",
        "colab": {
          "base_uri": "https://localhost:8080/",
          "height": 66,
          "referenced_widgets": [
            "b2ced84ea53f4496b3d86c301a03cab6",
            "63f6bd881ee04b42860246cce1cd1cbf",
            "69abd5e8e470472eb410c99553cbdc53",
            "998d9fce2a66456da3dd3544140c7da2",
            "b5ad59846d19464ea790cceaa39ebc7c",
            "41de7ae56f794fe992e856605f0b0b5c",
            "33bd92d084a74e5282100357dd6027cd",
            "954c16e4227f4620a8a37d4acbde9cb6"
          ]
        }
      },
      "source": [
        "prediction_list=classification('test.tif','test-b8.tif')\n"
      ],
      "execution_count": 0,
      "outputs": [
        {
          "output_type": "display_data",
          "data": {
            "application/vnd.jupyter.widget-view+json": {
              "model_id": "b2ced84ea53f4496b3d86c301a03cab6",
              "version_minor": 0,
              "version_major": 2
            },
            "text/plain": [
              "HBox(children=(IntProgress(value=0, max=1062961), HTML(value='')))"
            ]
          },
          "metadata": {
            "tags": []
          }
        },
        {
          "output_type": "stream",
          "text": [
            "\n"
          ],
          "name": "stdout"
        }
      ]
    },
    {
      "cell_type": "code",
      "metadata": {
        "id": "JJYgfo6zWVj2",
        "colab_type": "code",
        "outputId": "cc92fc74-b0b9-4d45-8583-60ddfa5d1b16",
        "colab": {
          "base_uri": "https://localhost:8080/",
          "height": 298
        }
      },
      "source": [
        "visualization(prediction_list,  IMG_SIZE)"
      ],
      "execution_count": 0,
      "outputs": [
        {
          "output_type": "stream",
          "text": [
            "[  0 125 255]\n"
          ],
          "name": "stdout"
        },
        {
          "output_type": "display_data",
          "data": {
            "image/png": "[encoded data removed]",
            "text/plain": [
              "<Figure size 432x288 with 1 Axes>"
            ]
          },
          "metadata": {
            "tags": []
          }
        }
      ]
    },
    {
      "cell_type": "code",
      "metadata": {
        "id": "H8YwFJ2lbXdk",
        "colab_type": "code",
        "outputId": "0115fb3f-f9cf-4eda-a2e6-b98577483c2d",
        "colab": {
          "base_uri": "https://localhost:8080/",
          "height": 163,
          "referenced_widgets": [
            "eb595ee97ddc411d835d952547f83c19",
            "48b88327decb4bfda133e8867214e862",
            "7ebcf4943f214faabd44cc0c81a76b52",
            "328a33aa1a6a4929961be253ffe19b4b",
            "dca6536b8cbd4410af4e80c6f6771498",
            "83e975ccd08842a2821a12ab28290f26",
            "f7df9286078e4542be47edf0e699e1b0",
            "94b5b7f038744897bb61cac66eff2d88",
            "875c23c295944ded8cc40d5d0dc4e626",
            "5aa15b8b450c48c581d40d56c6496689",
            "33b325e2969b43849e0bc5460fc01fdf",
            "4a8be0612aa14102b2fc33b7f58ae753",
            "541e1fa0b32246b88a38ba708916e858",
            "471cceee968444b89851826d65ae2340",
            "f7e9252ad7444898aa0b2d876069c21a",
            "25d95d8d1eb94bbeb96850c12f283fb3",
            "21dc343e420244a2856426dcba2c7aa8",
            "6254de0c936b403ebc7308f2a6b64d00",
            "76e30f7c053e495795898ff880121fa4",
            "e0082c72b9ce42e3bc73e957c711743d",
            "6d0eb9db35da429faa92059c5f6106cf",
            "1a515400f4a74c299e401f6a1f250e8e",
            "62531695fad3436c8f2f610c7751c621",
            "856fb59572fc440ab420d96a71443248"
          ]
        }
      },
      "source": [
        "m=metrics(Y_raster_test.flatten().tolist(),prediction_list)"
      ],
      "execution_count": 0,
      "outputs": [
        {
          "output_type": "display_data",
          "data": {
            "application/vnd.jupyter.widget-view+json": {
              "model_id": "eb595ee97ddc411d835d952547f83c19",
              "version_minor": 0,
              "version_major": 2
            },
            "text/plain": [
              "HBox(children=(IntProgress(value=0, max=1062961), HTML(value='')))"
            ]
          },
          "metadata": {
            "tags": []
          }
        },
        {
          "output_type": "stream",
          "text": [
            "\n"
          ],
          "name": "stdout"
        },
        {
          "output_type": "display_data",
          "data": {
            "application/vnd.jupyter.widget-view+json": {
              "model_id": "875c23c295944ded8cc40d5d0dc4e626",
              "version_minor": 0,
              "version_major": 2
            },
            "text/plain": [
              "HBox(children=(IntProgress(value=0, max=1062961), HTML(value='')))"
            ]
          },
          "metadata": {
            "tags": []
          }
        },
        {
          "output_type": "stream",
          "text": [
            "\n"
          ],
          "name": "stdout"
        },
        {
          "output_type": "display_data",
          "data": {
            "application/vnd.jupyter.widget-view+json": {
              "model_id": "21dc343e420244a2856426dcba2c7aa8",
              "version_minor": 0,
              "version_major": 2
            },
            "text/plain": [
              "HBox(children=(IntProgress(value=0, max=1062961), HTML(value='')))"
            ]
          },
          "metadata": {
            "tags": []
          }
        },
        {
          "output_type": "stream",
          "text": [
            "\n"
          ],
          "name": "stdout"
        }
      ]
    },
    {
      "cell_type": "code",
      "metadata": {
        "id": "mbjXWoqsjQ_d",
        "colab_type": "code",
        "colab": {}
      },
      "source": [
        "unique, counts = np.unique(Y_raster_test.flatten().tolist(), return_counts=True)"
      ],
      "execution_count": 0,
      "outputs": []
    },
    {
      "cell_type": "code",
      "metadata": {
        "id": "p3mITwdRmvYt",
        "colab_type": "code",
        "colab": {}
      },
      "source": [
        ""
      ],
      "execution_count": 0,
      "outputs": []
    },
    {
      "cell_type": "code",
      "metadata": {
        "id": "WskaAi3ghsiH",
        "colab_type": "code",
        "outputId": "68e7fd20-5283-41a0-9e13-848cedafdf97",
        "colab": {
          "base_uri": "https://localhost:8080/",
          "height": 118
        }
      },
      "source": [
        "for i in range(0,3):\n",
        "  TP=m[1][i]\n",
        "  FP=m[2][i]\n",
        "  TN=m[3][i]\n",
        "  FN=m[4][i]\n",
        "  P=counts[i]\n",
        "  N=len(Y_list)-P\n",
        "  TPR=TP/P\n",
        "  TNR=TN/N\n",
        "  bal_measure = (TPR+TNR)/2\n",
        "  inf_accuracy=TPR-TNR\n",
        "  print('BALANCED ACCURACY FOR CLASS '+str(i)+\" is \"+ str(bal_measure))\n",
        "  print('INFORMEDNESS FOR CLASS '+str(i)+\" is \"+str(inf_accuracy))\n",
        "\n",
        "\n"
      ],
      "execution_count": 0,
      "outputs": [
        {
          "output_type": "stream",
          "text": [
            "BALANCED ACCURACY FOR CLASS 0 is 0.14610478629102508\n",
            "INFORMEDNESS FOR CLASS 0 is -0.00891469003171455\n",
            "BALANCED ACCURACY FOR CLASS 1 is 0.5259777427826535\n",
            "INFORMEDNESS FOR CLASS 1 is 0.9183099439101485\n",
            "BALANCED ACCURACY FOR CLASS 2 is 0.4791902128988923\n",
            "INFORMEDNESS FOR CLASS 2 is 0.7635858146667698\n"
          ],
          "name": "stdout"
        }
      ]
    },
    {
      "cell_type": "markdown",
      "metadata": {
        "id": "unQkKXcY1RAe",
        "colab_type": "text"
      },
      "source": [
        "2) PORTO VIRO RGB IMAGE"
      ]
    },
    {
      "cell_type": "code",
      "metadata": {
        "id": "wCHf3Rrg0J5J",
        "colab_type": "code",
        "outputId": "55c65c55-d082-4778-d57b-872e4709a091",
        "colab": {
          "base_uri": "https://localhost:8080/",
          "height": 286
        }
      },
      "source": [
        "dataset = rasterio.open('test.tif')\n",
        "show(dataset.read([1,2,3]))"
      ],
      "execution_count": 0,
      "outputs": [
        {
          "output_type": "display_data",
          "data": {
            "image/png": "[encoded data removed]",
            "text/plain": [
              "<Figure size 432x288 with 1 Axes>"
            ]
          },
          "metadata": {
            "tags": []
          }
        },
        {
          "output_type": "execute_result",
          "data": {
            "text/plain": [
              "<matplotlib.axes._subplots.AxesSubplot at 0x7f5262927f28>"
            ]
          },
          "metadata": {
            "tags": []
          },
          "execution_count": 1106
        }
      ]
    },
    {
      "cell_type": "markdown",
      "metadata": {
        "id": "0Uj7CmWs1DfC",
        "colab_type": "text"
      },
      "source": [
        "\n",
        "\n",
        "---\n",
        "\n"
      ]
    }
  ]
}