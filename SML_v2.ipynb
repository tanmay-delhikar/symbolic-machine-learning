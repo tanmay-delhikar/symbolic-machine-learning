{
  "nbformat": 4,
  "nbformat_minor": 0,
  "metadata": {
    "colab": {
      "name": "SML-v2.ipynb",
      "provenance": [],
      "collapsed_sections": [],
      "machine_shape": "hm"
    },
    "kernelspec": {
      "name": "python3",
      "display_name": "Python 3"
    },
    "accelerator": "GPU",
    "widgets": {
      "application/vnd.jupyter.widget-state+json": {
        "bd6ffcb2a7c34437af337249075d3058": {
          "model_module": "@jupyter-widgets/controls",
          "model_name": "HBoxModel",
          "state": {
            "_view_name": "HBoxView",
            "_dom_classes": [],
            "_model_name": "HBoxModel",
            "_view_module": "@jupyter-widgets/controls",
            "_model_module_version": "1.5.0",
            "_view_count": null,
            "_view_module_version": "1.5.0",
            "box_style": "",
            "layout": "IPY_MODEL_2a17cbde4bcb4ed59a906ddf57f9b1c3",
            "_model_module": "@jupyter-widgets/controls",
            "children": [
              "IPY_MODEL_97d56afc17834833ae5906493def6caa",
              "IPY_MODEL_7df3449998394dcca461a66d1b6b4252"
            ]
          }
        },
        "2a17cbde4bcb4ed59a906ddf57f9b1c3": {
          "model_module": "@jupyter-widgets/base",
          "model_name": "LayoutModel",
          "state": {
            "_view_name": "LayoutView",
            "grid_template_rows": null,
            "right": null,
            "justify_content": null,
            "_view_module": "@jupyter-widgets/base",
            "overflow": null,
            "_model_module_version": "1.2.0",
            "_view_count": null,
            "flex_flow": null,
            "width": null,
            "min_width": null,
            "border": null,
            "align_items": null,
            "bottom": null,
            "_model_module": "@jupyter-widgets/base",
            "top": null,
            "grid_column": null,
            "overflow_y": null,
            "overflow_x": null,
            "grid_auto_flow": null,
            "grid_area": null,
            "grid_template_columns": null,
            "flex": null,
            "_model_name": "LayoutModel",
            "justify_items": null,
            "grid_row": null,
            "max_height": null,
            "align_content": null,
            "visibility": null,
            "align_self": null,
            "height": null,
            "min_height": null,
            "padding": null,
            "grid_auto_rows": null,
            "grid_gap": null,
            "max_width": null,
            "order": null,
            "_view_module_version": "1.2.0",
            "grid_template_areas": null,
            "object_position": null,
            "object_fit": null,
            "grid_auto_columns": null,
            "margin": null,
            "display": null,
            "left": null
          }
        },
        "97d56afc17834833ae5906493def6caa": {
          "model_module": "@jupyter-widgets/controls",
          "model_name": "IntProgressModel",
          "state": {
            "_view_name": "ProgressView",
            "style": "IPY_MODEL_59ffde42933f42a1bc859d63d300be79",
            "_dom_classes": [],
            "description": "",
            "_model_name": "IntProgressModel",
            "bar_style": "success",
            "max": 3188883,
            "_view_module": "@jupyter-widgets/controls",
            "_model_module_version": "1.5.0",
            "value": 3188883,
            "_view_count": null,
            "_view_module_version": "1.5.0",
            "orientation": "horizontal",
            "min": 0,
            "description_tooltip": null,
            "_model_module": "@jupyter-widgets/controls",
            "layout": "IPY_MODEL_f9f9f19d274f4e60a365b11dab9e31c1"
          }
        },
        "7df3449998394dcca461a66d1b6b4252": {
          "model_module": "@jupyter-widgets/controls",
          "model_name": "HTMLModel",
          "state": {
            "_view_name": "HTMLView",
            "style": "IPY_MODEL_40cc5c4c0eb64835a28e7b84b0b414b8",
            "_dom_classes": [],
            "description": "",
            "_model_name": "HTMLModel",
            "placeholder": "​",
            "_view_module": "@jupyter-widgets/controls",
            "_model_module_version": "1.5.0",
            "value": "100% 3188883/3188883 [00:03&lt;00:00, 868496.27it/s]",
            "_view_count": null,
            "_view_module_version": "1.5.0",
            "description_tooltip": null,
            "_model_module": "@jupyter-widgets/controls",
            "layout": "IPY_MODEL_29552f779ab740459a0ff2554cd3ef96"
          }
        },
        "59ffde42933f42a1bc859d63d300be79": {
          "model_module": "@jupyter-widgets/controls",
          "model_name": "ProgressStyleModel",
          "state": {
            "_view_name": "StyleView",
            "_model_name": "ProgressStyleModel",
            "description_width": "",
            "_view_module": "@jupyter-widgets/base",
            "_model_module_version": "1.5.0",
            "_view_count": null,
            "_view_module_version": "1.2.0",
            "bar_color": null,
            "_model_module": "@jupyter-widgets/controls"
          }
        },
        "f9f9f19d274f4e60a365b11dab9e31c1": {
          "model_module": "@jupyter-widgets/base",
          "model_name": "LayoutModel",
          "state": {
            "_view_name": "LayoutView",
            "grid_template_rows": null,
            "right": null,
            "justify_content": null,
            "_view_module": "@jupyter-widgets/base",
            "overflow": null,
            "_model_module_version": "1.2.0",
            "_view_count": null,
            "flex_flow": null,
            "width": null,
            "min_width": null,
            "border": null,
            "align_items": null,
            "bottom": null,
            "_model_module": "@jupyter-widgets/base",
            "top": null,
            "grid_column": null,
            "overflow_y": null,
            "overflow_x": null,
            "grid_auto_flow": null,
            "grid_area": null,
            "grid_template_columns": null,
            "flex": null,
            "_model_name": "LayoutModel",
            "justify_items": null,
            "grid_row": null,
            "max_height": null,
            "align_content": null,
            "visibility": null,
            "align_self": null,
            "height": null,
            "min_height": null,
            "padding": null,
            "grid_auto_rows": null,
            "grid_gap": null,
            "max_width": null,
            "order": null,
            "_view_module_version": "1.2.0",
            "grid_template_areas": null,
            "object_position": null,
            "object_fit": null,
            "grid_auto_columns": null,
            "margin": null,
            "display": null,
            "left": null
          }
        },
        "40cc5c4c0eb64835a28e7b84b0b414b8": {
          "model_module": "@jupyter-widgets/controls",
          "model_name": "DescriptionStyleModel",
          "state": {
            "_view_name": "StyleView",
            "_model_name": "DescriptionStyleModel",
            "description_width": "",
            "_view_module": "@jupyter-widgets/base",
            "_model_module_version": "1.5.0",
            "_view_count": null,
            "_view_module_version": "1.2.0",
            "_model_module": "@jupyter-widgets/controls"
          }
        },
        "29552f779ab740459a0ff2554cd3ef96": {
          "model_module": "@jupyter-widgets/base",
          "model_name": "LayoutModel",
          "state": {
            "_view_name": "LayoutView",
            "grid_template_rows": null,
            "right": null,
            "justify_content": null,
            "_view_module": "@jupyter-widgets/base",
            "overflow": null,
            "_model_module_version": "1.2.0",
            "_view_count": null,
            "flex_flow": null,
            "width": null,
            "min_width": null,
            "border": null,
            "align_items": null,
            "bottom": null,
            "_model_module": "@jupyter-widgets/base",
            "top": null,
            "grid_column": null,
            "overflow_y": null,
            "overflow_x": null,
            "grid_auto_flow": null,
            "grid_area": null,
            "grid_template_columns": null,
            "flex": null,
            "_model_name": "LayoutModel",
            "justify_items": null,
            "grid_row": null,
            "max_height": null,
            "align_content": null,
            "visibility": null,
            "align_self": null,
            "height": null,
            "min_height": null,
            "padding": null,
            "grid_auto_rows": null,
            "grid_gap": null,
            "max_width": null,
            "order": null,
            "_view_module_version": "1.2.0",
            "grid_template_areas": null,
            "object_position": null,
            "object_fit": null,
            "grid_auto_columns": null,
            "margin": null,
            "display": null,
            "left": null
          }
        },
        "5023634fc79e4d2bbfdefd26b574c9f7": {
          "model_module": "@jupyter-widgets/controls",
          "model_name": "HBoxModel",
          "state": {
            "_view_name": "HBoxView",
            "_dom_classes": [],
            "_model_name": "HBoxModel",
            "_view_module": "@jupyter-widgets/controls",
            "_model_module_version": "1.5.0",
            "_view_count": null,
            "_view_module_version": "1.5.0",
            "box_style": "",
            "layout": "IPY_MODEL_c7ccf758232e4654ba293357b227ff96",
            "_model_module": "@jupyter-widgets/controls",
            "children": [
              "IPY_MODEL_41424ccb348f4cb9a5b77a8e2c451c09",
              "IPY_MODEL_7b73239989aa4fca89ea1286fd7a1285"
            ]
          }
        },
        "c7ccf758232e4654ba293357b227ff96": {
          "model_module": "@jupyter-widgets/base",
          "model_name": "LayoutModel",
          "state": {
            "_view_name": "LayoutView",
            "grid_template_rows": null,
            "right": null,
            "justify_content": null,
            "_view_module": "@jupyter-widgets/base",
            "overflow": null,
            "_model_module_version": "1.2.0",
            "_view_count": null,
            "flex_flow": null,
            "width": null,
            "min_width": null,
            "border": null,
            "align_items": null,
            "bottom": null,
            "_model_module": "@jupyter-widgets/base",
            "top": null,
            "grid_column": null,
            "overflow_y": null,
            "overflow_x": null,
            "grid_auto_flow": null,
            "grid_area": null,
            "grid_template_columns": null,
            "flex": null,
            "_model_name": "LayoutModel",
            "justify_items": null,
            "grid_row": null,
            "max_height": null,
            "align_content": null,
            "visibility": null,
            "align_self": null,
            "height": null,
            "min_height": null,
            "padding": null,
            "grid_auto_rows": null,
            "grid_gap": null,
            "max_width": null,
            "order": null,
            "_view_module_version": "1.2.0",
            "grid_template_areas": null,
            "object_position": null,
            "object_fit": null,
            "grid_auto_columns": null,
            "margin": null,
            "display": null,
            "left": null
          }
        },
        "41424ccb348f4cb9a5b77a8e2c451c09": {
          "model_module": "@jupyter-widgets/controls",
          "model_name": "IntProgressModel",
          "state": {
            "_view_name": "ProgressView",
            "style": "IPY_MODEL_3bd21eba43e346cf911c8430fba628f6",
            "_dom_classes": [],
            "description": "",
            "_model_name": "IntProgressModel",
            "bar_style": "success",
            "max": 87257,
            "_view_module": "@jupyter-widgets/controls",
            "_model_module_version": "1.5.0",
            "value": 87257,
            "_view_count": null,
            "_view_module_version": "1.5.0",
            "orientation": "horizontal",
            "min": 0,
            "description_tooltip": null,
            "_model_module": "@jupyter-widgets/controls",
            "layout": "IPY_MODEL_1415b3a7756d41dab7cb20c3a0d19758"
          }
        },
        "7b73239989aa4fca89ea1286fd7a1285": {
          "model_module": "@jupyter-widgets/controls",
          "model_name": "HTMLModel",
          "state": {
            "_view_name": "HTMLView",
            "style": "IPY_MODEL_d4fa712d867e4ccaacd896ff89d51e53",
            "_dom_classes": [],
            "description": "",
            "_model_name": "HTMLModel",
            "placeholder": "​",
            "_view_module": "@jupyter-widgets/controls",
            "_model_module_version": "1.5.0",
            "value": "100% 87257/87257 [00:01&lt;00:00, 48915.68it/s]",
            "_view_count": null,
            "_view_module_version": "1.5.0",
            "description_tooltip": null,
            "_model_module": "@jupyter-widgets/controls",
            "layout": "IPY_MODEL_a3790bb64b2f4d138dfa8ae69a7135b8"
          }
        },
        "3bd21eba43e346cf911c8430fba628f6": {
          "model_module": "@jupyter-widgets/controls",
          "model_name": "ProgressStyleModel",
          "state": {
            "_view_name": "StyleView",
            "_model_name": "ProgressStyleModel",
            "description_width": "",
            "_view_module": "@jupyter-widgets/base",
            "_model_module_version": "1.5.0",
            "_view_count": null,
            "_view_module_version": "1.2.0",
            "bar_color": null,
            "_model_module": "@jupyter-widgets/controls"
          }
        },
        "1415b3a7756d41dab7cb20c3a0d19758": {
          "model_module": "@jupyter-widgets/base",
          "model_name": "LayoutModel",
          "state": {
            "_view_name": "LayoutView",
            "grid_template_rows": null,
            "right": null,
            "justify_content": null,
            "_view_module": "@jupyter-widgets/base",
            "overflow": null,
            "_model_module_version": "1.2.0",
            "_view_count": null,
            "flex_flow": null,
            "width": null,
            "min_width": null,
            "border": null,
            "align_items": null,
            "bottom": null,
            "_model_module": "@jupyter-widgets/base",
            "top": null,
            "grid_column": null,
            "overflow_y": null,
            "overflow_x": null,
            "grid_auto_flow": null,
            "grid_area": null,
            "grid_template_columns": null,
            "flex": null,
            "_model_name": "LayoutModel",
            "justify_items": null,
            "grid_row": null,
            "max_height": null,
            "align_content": null,
            "visibility": null,
            "align_self": null,
            "height": null,
            "min_height": null,
            "padding": null,
            "grid_auto_rows": null,
            "grid_gap": null,
            "max_width": null,
            "order": null,
            "_view_module_version": "1.2.0",
            "grid_template_areas": null,
            "object_position": null,
            "object_fit": null,
            "grid_auto_columns": null,
            "margin": null,
            "display": null,
            "left": null
          }
        },
        "d4fa712d867e4ccaacd896ff89d51e53": {
          "model_module": "@jupyter-widgets/controls",
          "model_name": "DescriptionStyleModel",
          "state": {
            "_view_name": "StyleView",
            "_model_name": "DescriptionStyleModel",
            "description_width": "",
            "_view_module": "@jupyter-widgets/base",
            "_model_module_version": "1.5.0",
            "_view_count": null,
            "_view_module_version": "1.2.0",
            "_model_module": "@jupyter-widgets/controls"
          }
        },
        "a3790bb64b2f4d138dfa8ae69a7135b8": {
          "model_module": "@jupyter-widgets/base",
          "model_name": "LayoutModel",
          "state": {
            "_view_name": "LayoutView",
            "grid_template_rows": null,
            "right": null,
            "justify_content": null,
            "_view_module": "@jupyter-widgets/base",
            "overflow": null,
            "_model_module_version": "1.2.0",
            "_view_count": null,
            "flex_flow": null,
            "width": null,
            "min_width": null,
            "border": null,
            "align_items": null,
            "bottom": null,
            "_model_module": "@jupyter-widgets/base",
            "top": null,
            "grid_column": null,
            "overflow_y": null,
            "overflow_x": null,
            "grid_auto_flow": null,
            "grid_area": null,
            "grid_template_columns": null,
            "flex": null,
            "_model_name": "LayoutModel",
            "justify_items": null,
            "grid_row": null,
            "max_height": null,
            "align_content": null,
            "visibility": null,
            "align_self": null,
            "height": null,
            "min_height": null,
            "padding": null,
            "grid_auto_rows": null,
            "grid_gap": null,
            "max_width": null,
            "order": null,
            "_view_module_version": "1.2.0",
            "grid_template_areas": null,
            "object_position": null,
            "object_fit": null,
            "grid_auto_columns": null,
            "margin": null,
            "display": null,
            "left": null
          }
        },
        "2897b4b373c342f3907456b01b3dd3c6": {
          "model_module": "@jupyter-widgets/controls",
          "model_name": "HBoxModel",
          "state": {
            "_view_name": "HBoxView",
            "_dom_classes": [],
            "_model_name": "HBoxModel",
            "_view_module": "@jupyter-widgets/controls",
            "_model_module_version": "1.5.0",
            "_view_count": null,
            "_view_module_version": "1.5.0",
            "box_style": "",
            "layout": "IPY_MODEL_14f0cc528e814f53882c00a9384458de",
            "_model_module": "@jupyter-widgets/controls",
            "children": [
              "IPY_MODEL_48d5ee19097a4571bd2c80e37a2ae503",
              "IPY_MODEL_14682d3653c94cbcb5d5b6c677c389c8"
            ]
          }
        },
        "14f0cc528e814f53882c00a9384458de": {
          "model_module": "@jupyter-widgets/base",
          "model_name": "LayoutModel",
          "state": {
            "_view_name": "LayoutView",
            "grid_template_rows": null,
            "right": null,
            "justify_content": null,
            "_view_module": "@jupyter-widgets/base",
            "overflow": null,
            "_model_module_version": "1.2.0",
            "_view_count": null,
            "flex_flow": null,
            "width": null,
            "min_width": null,
            "border": null,
            "align_items": null,
            "bottom": null,
            "_model_module": "@jupyter-widgets/base",
            "top": null,
            "grid_column": null,
            "overflow_y": null,
            "overflow_x": null,
            "grid_auto_flow": null,
            "grid_area": null,
            "grid_template_columns": null,
            "flex": null,
            "_model_name": "LayoutModel",
            "justify_items": null,
            "grid_row": null,
            "max_height": null,
            "align_content": null,
            "visibility": null,
            "align_self": null,
            "height": null,
            "min_height": null,
            "padding": null,
            "grid_auto_rows": null,
            "grid_gap": null,
            "max_width": null,
            "order": null,
            "_view_module_version": "1.2.0",
            "grid_template_areas": null,
            "object_position": null,
            "object_fit": null,
            "grid_auto_columns": null,
            "margin": null,
            "display": null,
            "left": null
          }
        },
        "48d5ee19097a4571bd2c80e37a2ae503": {
          "model_module": "@jupyter-widgets/controls",
          "model_name": "IntProgressModel",
          "state": {
            "_view_name": "ProgressView",
            "style": "IPY_MODEL_a79c67415c3c41069b92cd0da15a5dd3",
            "_dom_classes": [],
            "description": "",
            "_model_name": "IntProgressModel",
            "bar_style": "success",
            "max": 1062961,
            "_view_module": "@jupyter-widgets/controls",
            "_model_module_version": "1.5.0",
            "value": 1062961,
            "_view_count": null,
            "_view_module_version": "1.5.0",
            "orientation": "horizontal",
            "min": 0,
            "description_tooltip": null,
            "_model_module": "@jupyter-widgets/controls",
            "layout": "IPY_MODEL_36c6920fbe9e430d9857c06f6522ab4a"
          }
        },
        "14682d3653c94cbcb5d5b6c677c389c8": {
          "model_module": "@jupyter-widgets/controls",
          "model_name": "HTMLModel",
          "state": {
            "_view_name": "HTMLView",
            "style": "IPY_MODEL_2fced98aebf649429c61287b8915b817",
            "_dom_classes": [],
            "description": "",
            "_model_name": "HTMLModel",
            "placeholder": "​",
            "_view_module": "@jupyter-widgets/controls",
            "_model_module_version": "1.5.0",
            "value": "100% 1062961/1062961 [00:01&lt;00:00, 694250.93it/s]",
            "_view_count": null,
            "_view_module_version": "1.5.0",
            "description_tooltip": null,
            "_model_module": "@jupyter-widgets/controls",
            "layout": "IPY_MODEL_13a3fba97fae46619b5d3ee07ba9755d"
          }
        },
        "a79c67415c3c41069b92cd0da15a5dd3": {
          "model_module": "@jupyter-widgets/controls",
          "model_name": "ProgressStyleModel",
          "state": {
            "_view_name": "StyleView",
            "_model_name": "ProgressStyleModel",
            "description_width": "",
            "_view_module": "@jupyter-widgets/base",
            "_model_module_version": "1.5.0",
            "_view_count": null,
            "_view_module_version": "1.2.0",
            "bar_color": null,
            "_model_module": "@jupyter-widgets/controls"
          }
        },
        "36c6920fbe9e430d9857c06f6522ab4a": {
          "model_module": "@jupyter-widgets/base",
          "model_name": "LayoutModel",
          "state": {
            "_view_name": "LayoutView",
            "grid_template_rows": null,
            "right": null,
            "justify_content": null,
            "_view_module": "@jupyter-widgets/base",
            "overflow": null,
            "_model_module_version": "1.2.0",
            "_view_count": null,
            "flex_flow": null,
            "width": null,
            "min_width": null,
            "border": null,
            "align_items": null,
            "bottom": null,
            "_model_module": "@jupyter-widgets/base",
            "top": null,
            "grid_column": null,
            "overflow_y": null,
            "overflow_x": null,
            "grid_auto_flow": null,
            "grid_area": null,
            "grid_template_columns": null,
            "flex": null,
            "_model_name": "LayoutModel",
            "justify_items": null,
            "grid_row": null,
            "max_height": null,
            "align_content": null,
            "visibility": null,
            "align_self": null,
            "height": null,
            "min_height": null,
            "padding": null,
            "grid_auto_rows": null,
            "grid_gap": null,
            "max_width": null,
            "order": null,
            "_view_module_version": "1.2.0",
            "grid_template_areas": null,
            "object_position": null,
            "object_fit": null,
            "grid_auto_columns": null,
            "margin": null,
            "display": null,
            "left": null
          }
        },
        "2fced98aebf649429c61287b8915b817": {
          "model_module": "@jupyter-widgets/controls",
          "model_name": "DescriptionStyleModel",
          "state": {
            "_view_name": "StyleView",
            "_model_name": "DescriptionStyleModel",
            "description_width": "",
            "_view_module": "@jupyter-widgets/base",
            "_model_module_version": "1.5.0",
            "_view_count": null,
            "_view_module_version": "1.2.0",
            "_model_module": "@jupyter-widgets/controls"
          }
        },
        "13a3fba97fae46619b5d3ee07ba9755d": {
          "model_module": "@jupyter-widgets/base",
          "model_name": "LayoutModel",
          "state": {
            "_view_name": "LayoutView",
            "grid_template_rows": null,
            "right": null,
            "justify_content": null,
            "_view_module": "@jupyter-widgets/base",
            "overflow": null,
            "_model_module_version": "1.2.0",
            "_view_count": null,
            "flex_flow": null,
            "width": null,
            "min_width": null,
            "border": null,
            "align_items": null,
            "bottom": null,
            "_model_module": "@jupyter-widgets/base",
            "top": null,
            "grid_column": null,
            "overflow_y": null,
            "overflow_x": null,
            "grid_auto_flow": null,
            "grid_area": null,
            "grid_template_columns": null,
            "flex": null,
            "_model_name": "LayoutModel",
            "justify_items": null,
            "grid_row": null,
            "max_height": null,
            "align_content": null,
            "visibility": null,
            "align_self": null,
            "height": null,
            "min_height": null,
            "padding": null,
            "grid_auto_rows": null,
            "grid_gap": null,
            "max_width": null,
            "order": null,
            "_view_module_version": "1.2.0",
            "grid_template_areas": null,
            "object_position": null,
            "object_fit": null,
            "grid_auto_columns": null,
            "margin": null,
            "display": null,
            "left": null
          }
        },
        "9f95f37d9a984e74a9f5d5c61775afc6": {
          "model_module": "@jupyter-widgets/controls",
          "model_name": "HBoxModel",
          "state": {
            "_view_name": "HBoxView",
            "_dom_classes": [],
            "_model_name": "HBoxModel",
            "_view_module": "@jupyter-widgets/controls",
            "_model_module_version": "1.5.0",
            "_view_count": null,
            "_view_module_version": "1.5.0",
            "box_style": "",
            "layout": "IPY_MODEL_e5b3b2088886434194f5b06f60b3b5f9",
            "_model_module": "@jupyter-widgets/controls",
            "children": [
              "IPY_MODEL_d37e35dcf96b4b7c9c8e399cf9e8af42",
              "IPY_MODEL_a13b2ed86b234e8591e02aeda3c34e11"
            ]
          }
        },
        "e5b3b2088886434194f5b06f60b3b5f9": {
          "model_module": "@jupyter-widgets/base",
          "model_name": "LayoutModel",
          "state": {
            "_view_name": "LayoutView",
            "grid_template_rows": null,
            "right": null,
            "justify_content": null,
            "_view_module": "@jupyter-widgets/base",
            "overflow": null,
            "_model_module_version": "1.2.0",
            "_view_count": null,
            "flex_flow": null,
            "width": null,
            "min_width": null,
            "border": null,
            "align_items": null,
            "bottom": null,
            "_model_module": "@jupyter-widgets/base",
            "top": null,
            "grid_column": null,
            "overflow_y": null,
            "overflow_x": null,
            "grid_auto_flow": null,
            "grid_area": null,
            "grid_template_columns": null,
            "flex": null,
            "_model_name": "LayoutModel",
            "justify_items": null,
            "grid_row": null,
            "max_height": null,
            "align_content": null,
            "visibility": null,
            "align_self": null,
            "height": null,
            "min_height": null,
            "padding": null,
            "grid_auto_rows": null,
            "grid_gap": null,
            "max_width": null,
            "order": null,
            "_view_module_version": "1.2.0",
            "grid_template_areas": null,
            "object_position": null,
            "object_fit": null,
            "grid_auto_columns": null,
            "margin": null,
            "display": null,
            "left": null
          }
        },
        "d37e35dcf96b4b7c9c8e399cf9e8af42": {
          "model_module": "@jupyter-widgets/controls",
          "model_name": "IntProgressModel",
          "state": {
            "_view_name": "ProgressView",
            "style": "IPY_MODEL_844ea83d90454691af42880aa85878cc",
            "_dom_classes": [],
            "description": "",
            "_model_name": "IntProgressModel",
            "bar_style": "success",
            "max": 1062961,
            "_view_module": "@jupyter-widgets/controls",
            "_model_module_version": "1.5.0",
            "value": 1062961,
            "_view_count": null,
            "_view_module_version": "1.5.0",
            "orientation": "horizontal",
            "min": 0,
            "description_tooltip": null,
            "_model_module": "@jupyter-widgets/controls",
            "layout": "IPY_MODEL_18429e51c2214811a1e9b40221dd0d33"
          }
        },
        "a13b2ed86b234e8591e02aeda3c34e11": {
          "model_module": "@jupyter-widgets/controls",
          "model_name": "HTMLModel",
          "state": {
            "_view_name": "HTMLView",
            "style": "IPY_MODEL_6216ae4bf0a241e2be110f81a3a80ba6",
            "_dom_classes": [],
            "description": "",
            "_model_name": "HTMLModel",
            "placeholder": "​",
            "_view_module": "@jupyter-widgets/controls",
            "_model_module_version": "1.5.0",
            "value": "100% 1062961/1062961 [00:00&lt;00:00, 1481753.55it/s]",
            "_view_count": null,
            "_view_module_version": "1.5.0",
            "description_tooltip": null,
            "_model_module": "@jupyter-widgets/controls",
            "layout": "IPY_MODEL_8e30ed2f148a4c299e02d02ceac23df1"
          }
        },
        "844ea83d90454691af42880aa85878cc": {
          "model_module": "@jupyter-widgets/controls",
          "model_name": "ProgressStyleModel",
          "state": {
            "_view_name": "StyleView",
            "_model_name": "ProgressStyleModel",
            "description_width": "",
            "_view_module": "@jupyter-widgets/base",
            "_model_module_version": "1.5.0",
            "_view_count": null,
            "_view_module_version": "1.2.0",
            "bar_color": null,
            "_model_module": "@jupyter-widgets/controls"
          }
        },
        "18429e51c2214811a1e9b40221dd0d33": {
          "model_module": "@jupyter-widgets/base",
          "model_name": "LayoutModel",
          "state": {
            "_view_name": "LayoutView",
            "grid_template_rows": null,
            "right": null,
            "justify_content": null,
            "_view_module": "@jupyter-widgets/base",
            "overflow": null,
            "_model_module_version": "1.2.0",
            "_view_count": null,
            "flex_flow": null,
            "width": null,
            "min_width": null,
            "border": null,
            "align_items": null,
            "bottom": null,
            "_model_module": "@jupyter-widgets/base",
            "top": null,
            "grid_column": null,
            "overflow_y": null,
            "overflow_x": null,
            "grid_auto_flow": null,
            "grid_area": null,
            "grid_template_columns": null,
            "flex": null,
            "_model_name": "LayoutModel",
            "justify_items": null,
            "grid_row": null,
            "max_height": null,
            "align_content": null,
            "visibility": null,
            "align_self": null,
            "height": null,
            "min_height": null,
            "padding": null,
            "grid_auto_rows": null,
            "grid_gap": null,
            "max_width": null,
            "order": null,
            "_view_module_version": "1.2.0",
            "grid_template_areas": null,
            "object_position": null,
            "object_fit": null,
            "grid_auto_columns": null,
            "margin": null,
            "display": null,
            "left": null
          }
        },
        "6216ae4bf0a241e2be110f81a3a80ba6": {
          "model_module": "@jupyter-widgets/controls",
          "model_name": "DescriptionStyleModel",
          "state": {
            "_view_name": "StyleView",
            "_model_name": "DescriptionStyleModel",
            "description_width": "",
            "_view_module": "@jupyter-widgets/base",
            "_model_module_version": "1.5.0",
            "_view_count": null,
            "_view_module_version": "1.2.0",
            "_model_module": "@jupyter-widgets/controls"
          }
        },
        "8e30ed2f148a4c299e02d02ceac23df1": {
          "model_module": "@jupyter-widgets/base",
          "model_name": "LayoutModel",
          "state": {
            "_view_name": "LayoutView",
            "grid_template_rows": null,
            "right": null,
            "justify_content": null,
            "_view_module": "@jupyter-widgets/base",
            "overflow": null,
            "_model_module_version": "1.2.0",
            "_view_count": null,
            "flex_flow": null,
            "width": null,
            "min_width": null,
            "border": null,
            "align_items": null,
            "bottom": null,
            "_model_module": "@jupyter-widgets/base",
            "top": null,
            "grid_column": null,
            "overflow_y": null,
            "overflow_x": null,
            "grid_auto_flow": null,
            "grid_area": null,
            "grid_template_columns": null,
            "flex": null,
            "_model_name": "LayoutModel",
            "justify_items": null,
            "grid_row": null,
            "max_height": null,
            "align_content": null,
            "visibility": null,
            "align_self": null,
            "height": null,
            "min_height": null,
            "padding": null,
            "grid_auto_rows": null,
            "grid_gap": null,
            "max_width": null,
            "order": null,
            "_view_module_version": "1.2.0",
            "grid_template_areas": null,
            "object_position": null,
            "object_fit": null,
            "grid_auto_columns": null,
            "margin": null,
            "display": null,
            "left": null
          }
        },
        "e2025bf5310042ec83f96989d0757078": {
          "model_module": "@jupyter-widgets/controls",
          "model_name": "HBoxModel",
          "state": {
            "_view_name": "HBoxView",
            "_dom_classes": [],
            "_model_name": "HBoxModel",
            "_view_module": "@jupyter-widgets/controls",
            "_model_module_version": "1.5.0",
            "_view_count": null,
            "_view_module_version": "1.5.0",
            "box_style": "",
            "layout": "IPY_MODEL_31d70b08f39a4610aa58ed7d21ed851c",
            "_model_module": "@jupyter-widgets/controls",
            "children": [
              "IPY_MODEL_c3baf883589e49448105b156d7962fed",
              "IPY_MODEL_2db3f8a315df43639fb11ab3d6aab462"
            ]
          }
        },
        "31d70b08f39a4610aa58ed7d21ed851c": {
          "model_module": "@jupyter-widgets/base",
          "model_name": "LayoutModel",
          "state": {
            "_view_name": "LayoutView",
            "grid_template_rows": null,
            "right": null,
            "justify_content": null,
            "_view_module": "@jupyter-widgets/base",
            "overflow": null,
            "_model_module_version": "1.2.0",
            "_view_count": null,
            "flex_flow": null,
            "width": null,
            "min_width": null,
            "border": null,
            "align_items": null,
            "bottom": null,
            "_model_module": "@jupyter-widgets/base",
            "top": null,
            "grid_column": null,
            "overflow_y": null,
            "overflow_x": null,
            "grid_auto_flow": null,
            "grid_area": null,
            "grid_template_columns": null,
            "flex": null,
            "_model_name": "LayoutModel",
            "justify_items": null,
            "grid_row": null,
            "max_height": null,
            "align_content": null,
            "visibility": null,
            "align_self": null,
            "height": null,
            "min_height": null,
            "padding": null,
            "grid_auto_rows": null,
            "grid_gap": null,
            "max_width": null,
            "order": null,
            "_view_module_version": "1.2.0",
            "grid_template_areas": null,
            "object_position": null,
            "object_fit": null,
            "grid_auto_columns": null,
            "margin": null,
            "display": null,
            "left": null
          }
        },
        "c3baf883589e49448105b156d7962fed": {
          "model_module": "@jupyter-widgets/controls",
          "model_name": "IntProgressModel",
          "state": {
            "_view_name": "ProgressView",
            "style": "IPY_MODEL_5eaf01586f084e4ead2ce5f6c29b17c4",
            "_dom_classes": [],
            "description": "",
            "_model_name": "IntProgressModel",
            "bar_style": "success",
            "max": 1062961,
            "_view_module": "@jupyter-widgets/controls",
            "_model_module_version": "1.5.0",
            "value": 1062961,
            "_view_count": null,
            "_view_module_version": "1.5.0",
            "orientation": "horizontal",
            "min": 0,
            "description_tooltip": null,
            "_model_module": "@jupyter-widgets/controls",
            "layout": "IPY_MODEL_c46508d09d06489d9bd4300cf69f3fb3"
          }
        },
        "2db3f8a315df43639fb11ab3d6aab462": {
          "model_module": "@jupyter-widgets/controls",
          "model_name": "HTMLModel",
          "state": {
            "_view_name": "HTMLView",
            "style": "IPY_MODEL_5fccfc068fc440ac905bf9732e2e638e",
            "_dom_classes": [],
            "description": "",
            "_model_name": "HTMLModel",
            "placeholder": "​",
            "_view_module": "@jupyter-widgets/controls",
            "_model_module_version": "1.5.0",
            "value": "100% 1062961/1062961 [00:00&lt;00:00, 1435456.53it/s]",
            "_view_count": null,
            "_view_module_version": "1.5.0",
            "description_tooltip": null,
            "_model_module": "@jupyter-widgets/controls",
            "layout": "IPY_MODEL_3e193c3af9de4747a8d43ed7c282b55b"
          }
        },
        "5eaf01586f084e4ead2ce5f6c29b17c4": {
          "model_module": "@jupyter-widgets/controls",
          "model_name": "ProgressStyleModel",
          "state": {
            "_view_name": "StyleView",
            "_model_name": "ProgressStyleModel",
            "description_width": "",
            "_view_module": "@jupyter-widgets/base",
            "_model_module_version": "1.5.0",
            "_view_count": null,
            "_view_module_version": "1.2.0",
            "bar_color": null,
            "_model_module": "@jupyter-widgets/controls"
          }
        },
        "c46508d09d06489d9bd4300cf69f3fb3": {
          "model_module": "@jupyter-widgets/base",
          "model_name": "LayoutModel",
          "state": {
            "_view_name": "LayoutView",
            "grid_template_rows": null,
            "right": null,
            "justify_content": null,
            "_view_module": "@jupyter-widgets/base",
            "overflow": null,
            "_model_module_version": "1.2.0",
            "_view_count": null,
            "flex_flow": null,
            "width": null,
            "min_width": null,
            "border": null,
            "align_items": null,
            "bottom": null,
            "_model_module": "@jupyter-widgets/base",
            "top": null,
            "grid_column": null,
            "overflow_y": null,
            "overflow_x": null,
            "grid_auto_flow": null,
            "grid_area": null,
            "grid_template_columns": null,
            "flex": null,
            "_model_name": "LayoutModel",
            "justify_items": null,
            "grid_row": null,
            "max_height": null,
            "align_content": null,
            "visibility": null,
            "align_self": null,
            "height": null,
            "min_height": null,
            "padding": null,
            "grid_auto_rows": null,
            "grid_gap": null,
            "max_width": null,
            "order": null,
            "_view_module_version": "1.2.0",
            "grid_template_areas": null,
            "object_position": null,
            "object_fit": null,
            "grid_auto_columns": null,
            "margin": null,
            "display": null,
            "left": null
          }
        },
        "5fccfc068fc440ac905bf9732e2e638e": {
          "model_module": "@jupyter-widgets/controls",
          "model_name": "DescriptionStyleModel",
          "state": {
            "_view_name": "StyleView",
            "_model_name": "DescriptionStyleModel",
            "description_width": "",
            "_view_module": "@jupyter-widgets/base",
            "_model_module_version": "1.5.0",
            "_view_count": null,
            "_view_module_version": "1.2.0",
            "_model_module": "@jupyter-widgets/controls"
          }
        },
        "3e193c3af9de4747a8d43ed7c282b55b": {
          "model_module": "@jupyter-widgets/base",
          "model_name": "LayoutModel",
          "state": {
            "_view_name": "LayoutView",
            "grid_template_rows": null,
            "right": null,
            "justify_content": null,
            "_view_module": "@jupyter-widgets/base",
            "overflow": null,
            "_model_module_version": "1.2.0",
            "_view_count": null,
            "flex_flow": null,
            "width": null,
            "min_width": null,
            "border": null,
            "align_items": null,
            "bottom": null,
            "_model_module": "@jupyter-widgets/base",
            "top": null,
            "grid_column": null,
            "overflow_y": null,
            "overflow_x": null,
            "grid_auto_flow": null,
            "grid_area": null,
            "grid_template_columns": null,
            "flex": null,
            "_model_name": "LayoutModel",
            "justify_items": null,
            "grid_row": null,
            "max_height": null,
            "align_content": null,
            "visibility": null,
            "align_self": null,
            "height": null,
            "min_height": null,
            "padding": null,
            "grid_auto_rows": null,
            "grid_gap": null,
            "max_width": null,
            "order": null,
            "_view_module_version": "1.2.0",
            "grid_template_areas": null,
            "object_position": null,
            "object_fit": null,
            "grid_auto_columns": null,
            "margin": null,
            "display": null,
            "left": null
          }
        },
        "fb168d0d932a42a99188e9f989a4a126": {
          "model_module": "@jupyter-widgets/controls",
          "model_name": "HBoxModel",
          "state": {
            "_view_name": "HBoxView",
            "_dom_classes": [],
            "_model_name": "HBoxModel",
            "_view_module": "@jupyter-widgets/controls",
            "_model_module_version": "1.5.0",
            "_view_count": null,
            "_view_module_version": "1.5.0",
            "box_style": "",
            "layout": "IPY_MODEL_b74eb37bb82f498ab032fa7476150474",
            "_model_module": "@jupyter-widgets/controls",
            "children": [
              "IPY_MODEL_4f183ffdb66846658bbf67b7a73478cf",
              "IPY_MODEL_bfe7a15e2a0b4e52bb36dee5a89babbb"
            ]
          }
        },
        "b74eb37bb82f498ab032fa7476150474": {
          "model_module": "@jupyter-widgets/base",
          "model_name": "LayoutModel",
          "state": {
            "_view_name": "LayoutView",
            "grid_template_rows": null,
            "right": null,
            "justify_content": null,
            "_view_module": "@jupyter-widgets/base",
            "overflow": null,
            "_model_module_version": "1.2.0",
            "_view_count": null,
            "flex_flow": null,
            "width": null,
            "min_width": null,
            "border": null,
            "align_items": null,
            "bottom": null,
            "_model_module": "@jupyter-widgets/base",
            "top": null,
            "grid_column": null,
            "overflow_y": null,
            "overflow_x": null,
            "grid_auto_flow": null,
            "grid_area": null,
            "grid_template_columns": null,
            "flex": null,
            "_model_name": "LayoutModel",
            "justify_items": null,
            "grid_row": null,
            "max_height": null,
            "align_content": null,
            "visibility": null,
            "align_self": null,
            "height": null,
            "min_height": null,
            "padding": null,
            "grid_auto_rows": null,
            "grid_gap": null,
            "max_width": null,
            "order": null,
            "_view_module_version": "1.2.0",
            "grid_template_areas": null,
            "object_position": null,
            "object_fit": null,
            "grid_auto_columns": null,
            "margin": null,
            "display": null,
            "left": null
          }
        },
        "4f183ffdb66846658bbf67b7a73478cf": {
          "model_module": "@jupyter-widgets/controls",
          "model_name": "IntProgressModel",
          "state": {
            "_view_name": "ProgressView",
            "style": "IPY_MODEL_03b4091d4cc242e592ccc891fb853518",
            "_dom_classes": [],
            "description": "",
            "_model_name": "IntProgressModel",
            "bar_style": "success",
            "max": 1062961,
            "_view_module": "@jupyter-widgets/controls",
            "_model_module_version": "1.5.0",
            "value": 1062961,
            "_view_count": null,
            "_view_module_version": "1.5.0",
            "orientation": "horizontal",
            "min": 0,
            "description_tooltip": null,
            "_model_module": "@jupyter-widgets/controls",
            "layout": "IPY_MODEL_ab8c89059ec64649b1e9dd530d579b12"
          }
        },
        "bfe7a15e2a0b4e52bb36dee5a89babbb": {
          "model_module": "@jupyter-widgets/controls",
          "model_name": "HTMLModel",
          "state": {
            "_view_name": "HTMLView",
            "style": "IPY_MODEL_e8956c384d784dd09511222f0db85625",
            "_dom_classes": [],
            "description": "",
            "_model_name": "HTMLModel",
            "placeholder": "​",
            "_view_module": "@jupyter-widgets/controls",
            "_model_module_version": "1.5.0",
            "value": "100% 1062961/1062961 [00:00&lt;00:00, 1425876.31it/s]",
            "_view_count": null,
            "_view_module_version": "1.5.0",
            "description_tooltip": null,
            "_model_module": "@jupyter-widgets/controls",
            "layout": "IPY_MODEL_8e105cef11914c80bb0a402782d94416"
          }
        },
        "03b4091d4cc242e592ccc891fb853518": {
          "model_module": "@jupyter-widgets/controls",
          "model_name": "ProgressStyleModel",
          "state": {
            "_view_name": "StyleView",
            "_model_name": "ProgressStyleModel",
            "description_width": "",
            "_view_module": "@jupyter-widgets/base",
            "_model_module_version": "1.5.0",
            "_view_count": null,
            "_view_module_version": "1.2.0",
            "bar_color": null,
            "_model_module": "@jupyter-widgets/controls"
          }
        },
        "ab8c89059ec64649b1e9dd530d579b12": {
          "model_module": "@jupyter-widgets/base",
          "model_name": "LayoutModel",
          "state": {
            "_view_name": "LayoutView",
            "grid_template_rows": null,
            "right": null,
            "justify_content": null,
            "_view_module": "@jupyter-widgets/base",
            "overflow": null,
            "_model_module_version": "1.2.0",
            "_view_count": null,
            "flex_flow": null,
            "width": null,
            "min_width": null,
            "border": null,
            "align_items": null,
            "bottom": null,
            "_model_module": "@jupyter-widgets/base",
            "top": null,
            "grid_column": null,
            "overflow_y": null,
            "overflow_x": null,
            "grid_auto_flow": null,
            "grid_area": null,
            "grid_template_columns": null,
            "flex": null,
            "_model_name": "LayoutModel",
            "justify_items": null,
            "grid_row": null,
            "max_height": null,
            "align_content": null,
            "visibility": null,
            "align_self": null,
            "height": null,
            "min_height": null,
            "padding": null,
            "grid_auto_rows": null,
            "grid_gap": null,
            "max_width": null,
            "order": null,
            "_view_module_version": "1.2.0",
            "grid_template_areas": null,
            "object_position": null,
            "object_fit": null,
            "grid_auto_columns": null,
            "margin": null,
            "display": null,
            "left": null
          }
        },
        "e8956c384d784dd09511222f0db85625": {
          "model_module": "@jupyter-widgets/controls",
          "model_name": "DescriptionStyleModel",
          "state": {
            "_view_name": "StyleView",
            "_model_name": "DescriptionStyleModel",
            "description_width": "",
            "_view_module": "@jupyter-widgets/base",
            "_model_module_version": "1.5.0",
            "_view_count": null,
            "_view_module_version": "1.2.0",
            "_model_module": "@jupyter-widgets/controls"
          }
        },
        "8e105cef11914c80bb0a402782d94416": {
          "model_module": "@jupyter-widgets/base",
          "model_name": "LayoutModel",
          "state": {
            "_view_name": "LayoutView",
            "grid_template_rows": null,
            "right": null,
            "justify_content": null,
            "_view_module": "@jupyter-widgets/base",
            "overflow": null,
            "_model_module_version": "1.2.0",
            "_view_count": null,
            "flex_flow": null,
            "width": null,
            "min_width": null,
            "border": null,
            "align_items": null,
            "bottom": null,
            "_model_module": "@jupyter-widgets/base",
            "top": null,
            "grid_column": null,
            "overflow_y": null,
            "overflow_x": null,
            "grid_auto_flow": null,
            "grid_area": null,
            "grid_template_columns": null,
            "flex": null,
            "_model_name": "LayoutModel",
            "justify_items": null,
            "grid_row": null,
            "max_height": null,
            "align_content": null,
            "visibility": null,
            "align_self": null,
            "height": null,
            "min_height": null,
            "padding": null,
            "grid_auto_rows": null,
            "grid_gap": null,
            "max_width": null,
            "order": null,
            "_view_module_version": "1.2.0",
            "grid_template_areas": null,
            "object_position": null,
            "object_fit": null,
            "grid_auto_columns": null,
            "margin": null,
            "display": null,
            "left": null
          }
        }
      }
    }
  },
  "cells": [
    {
      "cell_type": "code",
      "metadata": {
        "id": "Z1a1YvqQMYwq",
        "colab_type": "code",
        "colab": {}
      },
      "source": [
        "!pip install gdal\n",
        "!pip install rasterio\n",
        "!pip install sentinelsat"
      ],
      "execution_count": 0,
      "outputs": []
    },
    {
      "cell_type": "code",
      "metadata": {
        "id": "RFoYRRBraO35",
        "colab_type": "code",
        "colab": {}
      },
      "source": [
        "from sentinelsat.sentinel import SentinelAPI, read_geojson, geojson_to_wkt\n",
        "import gdal\n",
        "from gdalconst import GA_ReadOnly \n",
        "import matplotlib.pyplot as plt\n",
        "%matplotlib inline \n",
        "import cv2\n",
        "import numpy as np\n",
        "from collections import Counter\n",
        "from tqdm import tqdm_notebook as tqdm\n",
        "IMG_SIZE=1031\n",
        "import rasterio\n",
        "from rasterio.plot import show\n",
        "import subprocess\n",
        "import os"
      ],
      "execution_count": 0,
      "outputs": []
    },
    {
      "cell_type": "markdown",
      "metadata": {
        "id": "mc5cUgbQMsgh",
        "colab_type": "text"
      },
      "source": [
        "Download CLC reference data"
      ]
    },
    {
      "cell_type": "code",
      "metadata": {
        "id": "cMkDlUdYMcms",
        "colab_type": "code",
        "outputId": "d11a3289-2af6-49c7-8ea0-0d4e590bc676",
        "colab": {
          "base_uri": "https://localhost:8080/",
          "height": 34
        }
      },
      "source": [
        "# !wget https://land.copernicus.eu/land-files/7ac95361f9ac3cecdf37785bc183ff02dd765a16.zip\n",
        "# !unzip /content/7ac95361f9ac3cecdf37785bc183ff02dd765a16.zip\n",
        "# !unzip /content/clc2018_clc2018_v2018_20_raster100m.zip\n",
        "\n",
        "subprocess.run(['wget', 'https://land.copernicus.eu/land-files/7ac95361f9ac3cecdf37785bc183ff02dd765a16.zip'])\n",
        "subprocess.run(['unzip' ,'7ac95361f9ac3cecdf37785bc183ff02dd765a16.zip'])\n",
        "subprocess.run(['unzip' ,'clc2018_clc2018_v2018_20_raster100m.zip'])"
      ],
      "execution_count": 3,
      "outputs": [
        {
          "output_type": "execute_result",
          "data": {
            "text/plain": [
              "CompletedProcess(args=['unzip', 'clc2018_clc2018_v2018_20_raster100m.zip'], returncode=0)"
            ]
          },
          "metadata": {
            "tags": []
          },
          "execution_count": 3
        }
      ]
    },
    {
      "cell_type": "markdown",
      "metadata": {
        "id": "A_9bAWh0MycI",
        "colab_type": "text"
      },
      "source": [
        ""
      ]
    },
    {
      "cell_type": "code",
      "metadata": {
        "id": "F0WeswYMMxnR",
        "colab_type": "code",
        "colab": {}
      },
      "source": [
        ""
      ],
      "execution_count": 0,
      "outputs": []
    },
    {
      "cell_type": "code",
      "metadata": {
        "id": "ltZFj9WoNM6B",
        "colab_type": "code",
        "colab": {}
      },
      "source": [
        "api = SentinelAPI('uname', 'pwd',api_url='https://scihub.copernicus.eu/apihub')"
      ],
      "execution_count": 0,
      "outputs": []
    },
    {
      "cell_type": "code",
      "metadata": {
        "id": "o4BuJuayRQAb",
        "colab_type": "code",
        "outputId": "37544816-006c-4362-cb75-a65c45f0a1f6",
        "colab": {
          "base_uri": "https://localhost:8080/",
          "height": 272
        }
      },
      "source": [
        "api.download('e277e5c7-2bae-4fd6-a922-a6c68c60b1cf')"
      ],
      "execution_count": 5,
      "outputs": [
        {
          "output_type": "stream",
          "text": [
            "Downloading: 100%|██████████| 844M/844M [00:10<00:00, 78.6MB/s]\n",
            "MD5 checksumming: 100%|██████████| 844M/844M [00:02<00:00, 419MB/s]\n"
          ],
          "name": "stderr"
        },
        {
          "output_type": "execute_result",
          "data": {
            "text/plain": [
              "{'Creation Date': datetime.datetime(2019, 6, 13, 17, 58, 32, 770000),\n",
              " 'Ingestion Date': datetime.datetime(2019, 6, 13, 17, 57, 54, 831000),\n",
              " 'Online': True,\n",
              " 'date': datetime.datetime(2019, 6, 13, 10, 10, 31, 24000),\n",
              " 'downloaded_bytes': 844268679,\n",
              " 'footprint': 'POLYGON((11.542631357244325 45.12552488296481,12.936097556086393 45.08595696049961,12.869986766421333 44.099770918209835,11.499848789004083 44.13800768802703,11.542631357244325 45.12552488296481))',\n",
              " 'id': 'e277e5c7-2bae-4fd6-a922-a6c68c60b1cf',\n",
              " 'md5': '36A8EB036B38AAAAE872F9AF6A49C2DD',\n",
              " 'path': './S2A_MSIL1C_20190613T101031_N0207_R022_T32TQQ_20190613T121346.zip',\n",
              " 'size': 844268679,\n",
              " 'title': 'S2A_MSIL1C_20190613T101031_N0207_R022_T32TQQ_20190613T121346',\n",
              " 'url': \"https://scihub.copernicus.eu/apihub/odata/v1/Products('e277e5c7-2bae-4fd6-a922-a6c68c60b1cf')/$value\"}"
            ]
          },
          "metadata": {
            "tags": []
          },
          "execution_count": 5
        }
      ]
    },
    {
      "cell_type": "code",
      "metadata": {
        "id": "_aXVnyDdPP5_",
        "colab_type": "code",
        "outputId": "534ee6e8-b247-40ee-8e7a-d03034dfefeb",
        "colab": {
          "base_uri": "https://localhost:8080/",
          "height": 272
        }
      },
      "source": [
        "api.download('4f07815d-5709-4b0b-8fdd-7e12c78e6546')"
      ],
      "execution_count": 6,
      "outputs": [
        {
          "output_type": "stream",
          "text": [
            "Downloading: 100%|██████████| 854M/854M [00:12<00:00, 67.3MB/s]\n",
            "MD5 checksumming: 100%|██████████| 854M/854M [00:02<00:00, 422MB/s]\n"
          ],
          "name": "stderr"
        },
        {
          "output_type": "execute_result",
          "data": {
            "text/plain": [
              "{'Creation Date': datetime.datetime(2019, 6, 29, 21, 22, 36, 429000),\n",
              " 'Ingestion Date': datetime.datetime(2019, 6, 29, 21, 22, 10, 608000),\n",
              " 'Online': True,\n",
              " 'date': datetime.datetime(2019, 6, 29, 10, 30, 31, 24000),\n",
              " 'downloaded_bytes': 854147361,\n",
              " 'footprint': 'POLYGON((7.614272368185703 49.64443007346099,9.135213595780941 49.652643868751746,9.132551327123652 48.66495515183609,7.64154622508021 48.6570207750582,7.614272368185703 49.64443007346099))',\n",
              " 'id': '4f07815d-5709-4b0b-8fdd-7e12c78e6546',\n",
              " 'md5': '7A7C5C6A0AB7142CF3216A961FD69B5B',\n",
              " 'path': './S2A_MSIL1C_20190629T103031_N0207_R108_T32UMV_20190629T124358.zip',\n",
              " 'size': 854147361,\n",
              " 'title': 'S2A_MSIL1C_20190629T103031_N0207_R108_T32UMV_20190629T124358',\n",
              " 'url': \"https://scihub.copernicus.eu/apihub/odata/v1/Products('4f07815d-5709-4b0b-8fdd-7e12c78e6546')/$value\"}"
            ]
          },
          "metadata": {
            "tags": []
          },
          "execution_count": 6
        }
      ]
    },
    {
      "cell_type": "code",
      "metadata": {
        "id": "iN_4-qB7QnYA",
        "colab_type": "code",
        "outputId": "6b16320a-6508-48c6-e312-9e8b4e013c99",
        "colab": {
          "base_uri": "https://localhost:8080/",
          "height": 272
        }
      },
      "source": [
        "api.download('03cf3314-1b05-46f1-af1b-cee2652edf2b')"
      ],
      "execution_count": 7,
      "outputs": [
        {
          "output_type": "stream",
          "text": [
            "Downloading: 100%|██████████| 840M/840M [00:11<00:00, 71.3MB/s]\n",
            "MD5 checksumming: 100%|██████████| 840M/840M [00:01<00:00, 427MB/s]\n"
          ],
          "name": "stderr"
        },
        {
          "output_type": "execute_result",
          "data": {
            "text/plain": [
              "{'Creation Date': datetime.datetime(2019, 7, 24, 16, 12, 23, 125000),\n",
              " 'Ingestion Date': datetime.datetime(2019, 7, 24, 16, 11, 21, 753000),\n",
              " 'Online': True,\n",
              " 'date': datetime.datetime(2019, 7, 24, 10, 30, 29, 24000),\n",
              " 'downloaded_bytes': 839910682,\n",
              " 'footprint': 'POLYGON((7.614272368185703 49.64443007346099,9.135213595780941 49.652643868751746,9.132551327123652 48.66495515183609,7.64154622508021 48.6570207750582,7.614272368185703 49.64443007346099))',\n",
              " 'id': '03cf3314-1b05-46f1-af1b-cee2652edf2b',\n",
              " 'md5': '0123963D0FE407650F36D8D872725AAF',\n",
              " 'path': './S2B_MSIL1C_20190724T103029_N0208_R108_T32UMV_20190724T122822.zip',\n",
              " 'size': 839910682,\n",
              " 'title': 'S2B_MSIL1C_20190724T103029_N0208_R108_T32UMV_20190724T122822',\n",
              " 'url': \"https://scihub.copernicus.eu/apihub/odata/v1/Products('03cf3314-1b05-46f1-af1b-cee2652edf2b')/$value\"}"
            ]
          },
          "metadata": {
            "tags": []
          },
          "execution_count": 7
        }
      ]
    },
    {
      "cell_type": "code",
      "metadata": {
        "id": "fR9JtBvdRV69",
        "colab_type": "code",
        "outputId": "d16bff45-0282-48ca-80ec-78bb53b9b9ff",
        "colab": {
          "base_uri": "https://localhost:8080/",
          "height": 54
        }
      },
      "source": [
        "#!unzip /content/S2A_MSIL1C_20160827T101022_N0204_R022_T32TPR_20160827T101025.zip\n",
        "subprocess.run(['unzip', 'S2B_MSIL1C_20190724T103029_N0208_R108_T32UMV_20190724T122822.zip'])"
      ],
      "execution_count": 8,
      "outputs": [
        {
          "output_type": "execute_result",
          "data": {
            "text/plain": [
              "CompletedProcess(args=['unzip', 'S2B_MSIL1C_20190724T103029_N0208_R108_T32UMV_20190724T122822.zip'], returncode=0)"
            ]
          },
          "metadata": {
            "tags": []
          },
          "execution_count": 8
        }
      ]
    },
    {
      "cell_type": "code",
      "metadata": {
        "id": "6VLDsKsDTvDe",
        "colab_type": "code",
        "outputId": "589355cc-c415-48cc-8397-ddbc00be7c5b",
        "colab": {
          "base_uri": "https://localhost:8080/",
          "height": 54
        }
      },
      "source": [
        "#!unzip /content/S2A_MSIL1C_20190613T101031_N0207_R022_T32TQQ_20190613T121346.zip\n",
        "subprocess.run(['unzip', 'S2A_MSIL1C_20190613T101031_N0207_R022_T32TQQ_20190613T121346.zip'])"
      ],
      "execution_count": 9,
      "outputs": [
        {
          "output_type": "execute_result",
          "data": {
            "text/plain": [
              "CompletedProcess(args=['unzip', 'S2A_MSIL1C_20190613T101031_N0207_R022_T32TQQ_20190613T121346.zip'], returncode=0)"
            ]
          },
          "metadata": {
            "tags": []
          },
          "execution_count": 9
        }
      ]
    },
    {
      "cell_type": "code",
      "metadata": {
        "id": "fTlfG0imT0NF",
        "colab_type": "code",
        "outputId": "efaecdbf-f22a-4fed-b10d-bcb4f4cd5b57",
        "colab": {
          "base_uri": "https://localhost:8080/",
          "height": 54
        }
      },
      "source": [
        "#!unzip /content/S2A_MSIL1C_20190629T103031_N0207_R108_T32UMV_20190629T124358.zip\n",
        "subprocess.run(['unzip', 'S2A_MSIL1C_20190629T103031_N0207_R108_T32UMV_20190629T124358.zip'])"
      ],
      "execution_count": 10,
      "outputs": [
        {
          "output_type": "execute_result",
          "data": {
            "text/plain": [
              "CompletedProcess(args=['unzip', 'S2A_MSIL1C_20190629T103031_N0207_R108_T32UMV_20190629T124358.zip'], returncode=0)"
            ]
          },
          "metadata": {
            "tags": []
          },
          "execution_count": 10
        }
      ]
    },
    {
      "cell_type": "code",
      "metadata": {
        "id": "0dga4E3sUTfn",
        "colab_type": "code",
        "colab": {}
      },
      "source": [
        ""
      ],
      "execution_count": 0,
      "outputs": []
    },
    {
      "cell_type": "code",
      "metadata": {
        "id": "Tno87P2xVYpb",
        "colab_type": "code",
        "outputId": "bcd69107-ec0c-49cc-efe9-ebdf2f63da25",
        "colab": {
          "base_uri": "https://localhost:8080/",
          "height": 54
        }
      },
      "source": [
        "#!gdal_translate  '/content/S2A_MSIL1C_20160827T101022_N0204_R022_T32TPR_20160827T101025.SAFE/GRANULE/L1C_T32TPR_A006168_20160827T101025/IMG_DATA/T32TPR_20160827T101022_TCI.jp2' s1-full.tif\n",
        "subprocess.run(['gdal_translate' ,'S2A_MSIL1C_20190613T101031_N0207_R022_T32TQQ_20190613T121346.SAFE/GRANULE/L1C_T32TQQ_A020754_20190613T101027/IMG_DATA/T32TQQ_20190613T101031_TCI.jp2' ,'s1-full.tif'])"
      ],
      "execution_count": 11,
      "outputs": [
        {
          "output_type": "execute_result",
          "data": {
            "text/plain": [
              "CompletedProcess(args=['gdal_translate', 'S2A_MSIL1C_20190613T101031_N0207_R022_T32TQQ_20190613T121346.SAFE/GRANULE/L1C_T32TQQ_A020754_20190613T101027/IMG_DATA/T32TQQ_20190613T101031_TCI.jp2', 's1-full.tif'], returncode=0)"
            ]
          },
          "metadata": {
            "tags": []
          },
          "execution_count": 11
        }
      ]
    },
    {
      "cell_type": "code",
      "metadata": {
        "id": "o8IcV8rlVYtM",
        "colab_type": "code",
        "outputId": "fad44ac2-19d7-4014-b66c-ef7cc4f6549e",
        "colab": {
          "base_uri": "https://localhost:8080/",
          "height": 54
        }
      },
      "source": [
        "#!gdal_translate  '/content/S2A_MSIL1C_20190613T101031_N0207_R022_T32TQQ_20190613T121346.SAFE/GRANULE/L1C_T32TQQ_A020754_20190613T101027/IMG_DATA/T32TQQ_20190613T101031_TCI.jp2' s2-full.tif\n",
        "subprocess.run(['gdal_translate' ,'S2A_MSIL1C_20190629T103031_N0207_R108_T32UMV_20190629T124358.SAFE/GRANULE/L1C_T32UMV_A020983_20190629T103537/IMG_DATA/T32UMV_20190629T103031_TCI.jp2' ,'s2-full.tif'])"
      ],
      "execution_count": 12,
      "outputs": [
        {
          "output_type": "execute_result",
          "data": {
            "text/plain": [
              "CompletedProcess(args=['gdal_translate', 'S2A_MSIL1C_20190629T103031_N0207_R108_T32UMV_20190629T124358.SAFE/GRANULE/L1C_T32UMV_A020983_20190629T103537/IMG_DATA/T32UMV_20190629T103031_TCI.jp2', 's2-full.tif'], returncode=0)"
            ]
          },
          "metadata": {
            "tags": []
          },
          "execution_count": 12
        }
      ]
    },
    {
      "cell_type": "code",
      "metadata": {
        "id": "v9CqHcMDVYvm",
        "colab_type": "code",
        "outputId": "862cf8b4-eaec-4e03-c806-8ae40ba2d22b",
        "colab": {
          "base_uri": "https://localhost:8080/",
          "height": 54
        }
      },
      "source": [
        "#!gdal_translate  '/content/S2A_MSIL1C_20190629T103031_N0207_R108_T32UMV_20190629T124358.SAFE/GRANULE/L1C_T32UMV_A020983_20190629T103537/IMG_DATA/T32UMV_20190629T103031_TCI.jp2' s3-full.tif\n",
        "subprocess.run(['gdal_translate' ,'S2B_MSIL1C_20190724T103029_N0208_R108_T32UMV_20190724T122822.SAFE/GRANULE/L1C_T32UMV_A012432_20190724T103030/IMG_DATA/T32UMV_20190724T103029_TCI.jp2' ,'s3-full.tif'])"
      ],
      "execution_count": 13,
      "outputs": [
        {
          "output_type": "execute_result",
          "data": {
            "text/plain": [
              "CompletedProcess(args=['gdal_translate', 'S2B_MSIL1C_20190724T103029_N0208_R108_T32UMV_20190724T122822.SAFE/GRANULE/L1C_T32UMV_A012432_20190724T103030/IMG_DATA/T32UMV_20190724T103029_TCI.jp2', 's3-full.tif'], returncode=0)"
            ]
          },
          "metadata": {
            "tags": []
          },
          "execution_count": 13
        }
      ]
    },
    {
      "cell_type": "code",
      "metadata": {
        "id": "Q6HkhreyVa1w",
        "colab_type": "code",
        "colab": {}
      },
      "source": [
        ""
      ],
      "execution_count": 0,
      "outputs": []
    },
    {
      "cell_type": "code",
      "metadata": {
        "id": "Xhn407vjVa47",
        "colab_type": "code",
        "outputId": "bd646e44-353f-4f63-c390-423518cd925c",
        "colab": {
          "base_uri": "https://localhost:8080/",
          "height": 54
        }
      },
      "source": [
        "#!gdalwarp -co \"COMPRESS=DEFLATE\" -t_srs EPSG:32632  /content/clc2018_clc2018_v2018_20_raster100m/CLC2018_CLC2018_V2018_20.tif europe.tif\n",
        "\n",
        "subprocess.run(['gdalwarp','-co','COMPRESS=DEFLATE','-t_srs','EPSG:32632','clc2018_clc2018_v2018_20_raster100m/CLC2018_CLC2018_V2018_20.tif','europe.tif'])\n"
      ],
      "execution_count": 14,
      "outputs": [
        {
          "output_type": "execute_result",
          "data": {
            "text/plain": [
              "CompletedProcess(args=['gdalwarp', '-co', 'COMPRESS=DEFLATE', '-t_srs', 'EPSG:32632', 'clc2018_clc2018_v2018_20_raster100m/CLC2018_CLC2018_V2018_20.tif', 'europe.tif'], returncode=0)"
            ]
          },
          "metadata": {
            "tags": []
          },
          "execution_count": 14
        }
      ]
    },
    {
      "cell_type": "code",
      "metadata": {
        "id": "5Vs1SSJ5cD1e",
        "colab_type": "code",
        "outputId": "92df2f6c-3571-4dd6-c83b-12a5d965865a",
        "colab": {
          "base_uri": "https://localhost:8080/",
          "height": 34
        }
      },
      "source": [
        "data=gdal.Open('s1-full.tif',GA_ReadOnly) \n",
        "geoTransform=data.GetGeoTransform() \n",
        "minx=geoTransform[0] \n",
        "maxy=geoTransform[3] \n",
        "maxx = minx + geoTransform[1] * data.RasterXSize \n",
        "miny = maxy + geoTransform[5] * data.RasterYSize \n",
        "subprocess.call('gdal_translate -projwin ' + ' '.join([str(x) for x in [minx, maxy, maxx, miny]]) + ' -of GTiff europe.tif s1-y.tif', shell=True) "
      ],
      "execution_count": 15,
      "outputs": [
        {
          "output_type": "execute_result",
          "data": {
            "text/plain": [
              "0"
            ]
          },
          "metadata": {
            "tags": []
          },
          "execution_count": 15
        }
      ]
    },
    {
      "cell_type": "code",
      "metadata": {
        "id": "_UQqbT9n7x8W",
        "colab_type": "code",
        "colab": {}
      },
      "source": [
        "#!gdal_translate -co QUALITY=100 -co PROGRESSIVE=ON -outsize 10980 10980  's1-y-small.tif' 's1-y.tif'\n",
        "#subprocess.call('gdal_translate -co QUALITY=100 -co PROGRESSIVE=ON -outsize 10980 10980  s1-y-small.tif s1-y.tif', shell=True)"
      ],
      "execution_count": 0,
      "outputs": []
    },
    {
      "cell_type": "code",
      "metadata": {
        "id": "yowIeXlA7_Mz",
        "colab_type": "code",
        "colab": {}
      },
      "source": [
        "!gdalinfo s3-y-small.tif"
      ],
      "execution_count": 0,
      "outputs": []
    },
    {
      "cell_type": "code",
      "metadata": {
        "id": "uaaONzLV720M",
        "colab_type": "code",
        "outputId": "335fcede-9c20-4668-d788-a0615247b994",
        "colab": {
          "base_uri": "https://localhost:8080/",
          "height": 34
        }
      },
      "source": [
        "data=gdal.Open('s2-full.tif',GA_ReadOnly) \n",
        "geoTransform=data.GetGeoTransform() \n",
        "minx=geoTransform[0] \n",
        "maxy=geoTransform[3] \n",
        "maxx = minx + geoTransform[1] * data.RasterXSize \n",
        "miny = maxy + geoTransform[5] * data.RasterYSize \n",
        "subprocess.call('gdal_translate -projwin ' + ' '.join([str(x) for x in [minx, maxy, maxx, miny]]) + ' -of GTiff europe.tif s2-y.tif', shell=True) "
      ],
      "execution_count": 16,
      "outputs": [
        {
          "output_type": "execute_result",
          "data": {
            "text/plain": [
              "0"
            ]
          },
          "metadata": {
            "tags": []
          },
          "execution_count": 16
        }
      ]
    },
    {
      "cell_type": "code",
      "metadata": {
        "id": "gs5t2izV729s",
        "colab_type": "code",
        "colab": {}
      },
      "source": [
        "#!gdal_translate -co QUALITY=100 -co PROGRESSIVE=ON -outsize 10980 10980  's2-y-small.tif' 's2-y.tif'\n",
        "#subprocess.call('gdal_translate -co QUALITY=100 -co PROGRESSIVE=ON -outsize 10980 10980  s2-y-small.tif s2-y.tif', shell=True)"
      ],
      "execution_count": 0,
      "outputs": []
    },
    {
      "cell_type": "code",
      "metadata": {
        "id": "8OyKEfSN7_3-",
        "colab_type": "code",
        "colab": {}
      },
      "source": [
        ""
      ],
      "execution_count": 0,
      "outputs": []
    },
    {
      "cell_type": "code",
      "metadata": {
        "id": "Ttxkg4aq73HX",
        "colab_type": "code",
        "outputId": "ca1a729f-2be6-4a57-f803-65f6b075600c",
        "colab": {
          "base_uri": "https://localhost:8080/",
          "height": 34
        }
      },
      "source": [
        "data=gdal.Open('s3-full.tif',GA_ReadOnly) \n",
        "geoTransform=data.GetGeoTransform() \n",
        "minx=geoTransform[0] \n",
        "maxy=geoTransform[3] \n",
        "maxx = minx + geoTransform[1] * data.RasterXSize \n",
        "miny = maxy + geoTransform[5] * data.RasterYSize \n",
        "subprocess.call('gdal_translate -projwin ' + ' '.join([str(x) for x in [minx, maxy, maxx, miny]]) + ' -of GTiff europe.tif s3-y.tif', shell=True) "
      ],
      "execution_count": 17,
      "outputs": [
        {
          "output_type": "execute_result",
          "data": {
            "text/plain": [
              "0"
            ]
          },
          "metadata": {
            "tags": []
          },
          "execution_count": 17
        }
      ]
    },
    {
      "cell_type": "code",
      "metadata": {
        "id": "KKxHn5KBc8iX",
        "colab_type": "code",
        "outputId": "36419db5-2f09-42d3-fc47-b10576f868fb",
        "colab": {
          "base_uri": "https://localhost:8080/",
          "height": 218
        }
      },
      "source": [
        "!gdal_translate -co QUALITY=100 -co PROGRESSIVE=ON -outsize 1031 1031 -r bilinear  's1-full.tif' 's1.tif'\n",
        "!gdal_translate -co QUALITY=100 -co PROGRESSIVE=ON -outsize 1031 1031 -r bilinear  's2-full.tif' 's2.tif'\n",
        "!gdal_translate -co QUALITY=100 -co PROGRESSIVE=ON -outsize 1031 1031 -r bilinear  's3-full.tif' 's3.tif'"
      ],
      "execution_count": 18,
      "outputs": [
        {
          "output_type": "stream",
          "text": [
            "Input file size is 10980, 10980\n",
            "Warning 6: driver GTiff does not support creation option QUALITY\n",
            "Warning 6: driver GTiff does not support creation option PROGRESSIVE\n",
            "0...10...20...30...40...50...60...70...80...90...100 - done.\n",
            "Input file size is 10980, 10980\n",
            "Warning 6: driver GTiff does not support creation option QUALITY\n",
            "Warning 6: driver GTiff does not support creation option PROGRESSIVE\n",
            "0...10...20...30...40...50...60...70...80...90...100 - done.\n",
            "Input file size is 10980, 10980\n",
            "Warning 6: driver GTiff does not support creation option QUALITY\n",
            "Warning 6: driver GTiff does not support creation option PROGRESSIVE\n",
            "0...10...20...30...40...50...60...70...80...90...100 - done.\n"
          ],
          "name": "stdout"
        }
      ]
    },
    {
      "cell_type": "code",
      "metadata": {
        "id": "yZyfQIfccjHl",
        "colab_type": "code",
        "outputId": "c179b9b4-dcc3-49b9-b29b-dca2c97dfcef",
        "colab": {
          "base_uri": "https://localhost:8080/",
          "height": 286
        }
      },
      "source": [
        "dataset = rasterio.open('s1.tif')\n",
        "show(dataset.read([1,2,3]))"
      ],
      "execution_count": 54,
      "outputs": [
        {
          "output_type": "display_data",
          "data": {
            "image/png": "[encoded data removed]",
            "text/plain": [
              "<Figure size 432x288 with 1 Axes>"
            ]
          },
          "metadata": {
            "tags": []
          }
        },
        {
          "output_type": "execute_result",
          "data": {
            "text/plain": [
              "<matplotlib.axes._subplots.AxesSubplot at 0x7f3bf28b5518>"
            ]
          },
          "metadata": {
            "tags": []
          },
          "execution_count": 54
        }
      ]
    },
    {
      "cell_type": "code",
      "metadata": {
        "id": "i__Huo409P2W",
        "colab_type": "code",
        "colab": {}
      },
      "source": [
        "tif1=gdal.Open('s1.tif')\n",
        "s1r = tif1.GetRasterBand(1).ReadAsArray()\n",
        "s1g = tif1.GetRasterBand(2).ReadAsArray()\n",
        "s1b = tif1.GetRasterBand(3).ReadAsArray()\n",
        "\n",
        "tif1=gdal.Open('s2.tif')\n",
        "s2r = tif1.GetRasterBand(1).ReadAsArray()\n",
        "s2g = tif1.GetRasterBand(2).ReadAsArray()\n",
        "s2b = tif1.GetRasterBand(3).ReadAsArray()\n",
        "\n",
        "tif1=gdal.Open('s3.tif')\n",
        "s3r = tif1.GetRasterBand(1).ReadAsArray()\n",
        "s3g = tif1.GetRasterBand(2).ReadAsArray()\n",
        "s3b = tif1.GetRasterBand(3).ReadAsArray()\n"
      ],
      "execution_count": 0,
      "outputs": []
    },
    {
      "cell_type": "code",
      "metadata": {
        "id": "64rJ8UZi9P5p",
        "colab_type": "code",
        "colab": {}
      },
      "source": [
        ""
      ],
      "execution_count": 0,
      "outputs": []
    },
    {
      "cell_type": "markdown",
      "metadata": {
        "id": "68UAkLQ4DEqG",
        "colab_type": "text"
      },
      "source": [
        ""
      ]
    },
    {
      "cell_type": "code",
      "metadata": {
        "id": "DhVGgAwsDE1W",
        "colab_type": "code",
        "outputId": "e1964cf8-d804-43bf-f3f5-ca1caba93bc0",
        "colab": {
          "base_uri": "https://localhost:8080/",
          "height": 34
        }
      },
      "source": [
        "tif2=gdal.Open('s1-y.tif')\n",
        "Y_raster_s1 = tif2.GetRasterBand(1).ReadAsArray()\n",
        "\n",
        "Y_raster_s1[Y_raster_s1 < 100] = 999\n",
        "Y_raster_s1[(Y_raster_s1 > 100)&(Y_raster_s1 <= 150)] = 0\n",
        "Y_raster_s1[(Y_raster_s1 > 150) & (Y_raster_s1 < 450)] = 125\n",
        "Y_raster_s1[(Y_raster_s1 >= 450) & (Y_raster_s1 < 530)] = 255\n",
        "Y_raster_s1[Y_raster_s1 > 530] = 125\n",
        "\n",
        "\n",
        "Y_list=Y_raster_s1.flatten().tolist()\n",
        "print(len(Y_list))"
      ],
      "execution_count": 56,
      "outputs": [
        {
          "output_type": "stream",
          "text": [
            "1062961\n"
          ],
          "name": "stdout"
        }
      ]
    },
    {
      "cell_type": "code",
      "metadata": {
        "id": "Cm0pI9wdDbU2",
        "colab_type": "code",
        "outputId": "a405d9a6-8e44-46e9-da01-ad1132eeafb2",
        "colab": {
          "base_uri": "https://localhost:8080/",
          "height": 50
        }
      },
      "source": [
        "tif2=gdal.Open('s2-y.tif')\n",
        "Y_raster_s2 = tif2.GetRasterBand(1).ReadAsArray()\n",
        "print(np.unique(Y_raster_s2))\n",
        "Y_raster_s2[Y_raster_s2 < 100] = 999\n",
        "Y_raster_s2[(Y_raster_s2 > 100)&(Y_raster_s2 <= 150)] = 0\n",
        "Y_raster_s2[(Y_raster_s2 > 150) & (Y_raster_s2 < 450)] = 125\n",
        "Y_raster_s2[(Y_raster_s2 >= 450) & (Y_raster_s2 < 530)] = 255\n",
        "Y_raster_s2[Y_raster_s2 > 530] = 125\n",
        "\n",
        "Y_list=Y_list+(Y_raster_s2.flatten().tolist())"
      ],
      "execution_count": 57,
      "outputs": [
        {
          "output_type": "stream",
          "text": [
            "[111 112 121 122 123 124 131 132 133 141 142 211 221 222 231 242 243 311\n",
            " 312 313 321 322 324 411 412 511 512]\n"
          ],
          "name": "stdout"
        }
      ]
    },
    {
      "cell_type": "code",
      "metadata": {
        "id": "4P6PAl0xDdJn",
        "colab_type": "code",
        "outputId": "abb7e3d7-5c5e-4758-fe26-7d5e7f2dda97",
        "colab": {
          "base_uri": "https://localhost:8080/",
          "height": 34
        }
      },
      "source": [
        "tif2=gdal.Open('s3-y.tif')\n",
        "Y_raster_s3= tif2.GetRasterBand(1).ReadAsArray()\n",
        "\n",
        "Y_raster_s3[Y_raster_s3 < 100] = 999\n",
        "Y_raster_s3[(Y_raster_s3 > 100)&(Y_raster_s3 <= 150)] = 0\n",
        "Y_raster_s3[(Y_raster_s3 > 150) & (Y_raster_s3 < 450)] = 125\n",
        "Y_raster_s3[(Y_raster_s3 >= 450) & (Y_raster_s3 < 530)] = 255\n",
        "Y_raster_s3[Y_raster_s3 > 530] = 125\n",
        "\n",
        "Y_list=Y_list+(Y_raster_s3.flatten().tolist())\n",
        "\n",
        "print(len(Y_list))"
      ],
      "execution_count": 58,
      "outputs": [
        {
          "output_type": "stream",
          "text": [
            "3188883\n"
          ],
          "name": "stdout"
        }
      ]
    },
    {
      "cell_type": "code",
      "metadata": {
        "id": "Fje5-W0HDzrv",
        "colab_type": "code",
        "outputId": "124cb116-4454-484c-e793-29fb441db285",
        "colab": {
          "base_uri": "https://localhost:8080/",
          "height": 34
        }
      },
      "source": [
        "print(np.unique(Y_list))"
      ],
      "execution_count": 59,
      "outputs": [
        {
          "output_type": "stream",
          "text": [
            "[  0 125 255]\n"
          ],
          "name": "stdout"
        }
      ]
    },
    {
      "cell_type": "markdown",
      "metadata": {
        "id": "7wFlX4irEHZx",
        "colab_type": "text"
      },
      "source": [
        ""
      ]
    },
    {
      "cell_type": "code",
      "metadata": {
        "id": "eQz8Q81IEHjN",
        "colab_type": "code",
        "colab": {}
      },
      "source": [
        "#CONVERT RGB BANDS AS INPUT FEATURE SEQUENCES\n",
        "#QUANTIZATION\n",
        "\n",
        "rband_list=s1r.flatten().tolist()\n",
        "rband_list=rband_list+(s2r.flatten().tolist())\n",
        "rband_list=rband_list+(s3r.flatten().tolist())\n",
        "#rband_list = [round(x/8) for x in rband_list]\n",
        "\n",
        "\n",
        "gband_list=s1g.flatten().tolist()\n",
        "gband_list=gband_list+(s2g.flatten().tolist())\n",
        "gband_list=gband_list+(s3g.flatten().tolist())\n",
        "#gband_list = [round(x/8) for x in gband_list]\n",
        "\n",
        "bband_list=s1b.flatten().tolist()\n",
        "bband_list=bband_list+(s2b.flatten().tolist())\n",
        "bband_list=bband_list+(s3b.flatten().tolist())\n",
        "#bband_list = [round(x/8) for x in bband_list]"
      ],
      "execution_count": 0,
      "outputs": []
    },
    {
      "cell_type": "code",
      "metadata": {
        "id": "iyaKFSYjTXGE",
        "colab_type": "code",
        "outputId": "7179ac22-f2f1-47cc-c517-ede0fdf6a076",
        "colab": {
          "base_uri": "https://localhost:8080/",
          "height": 34
        }
      },
      "source": [
        "print(len(rband_list))"
      ],
      "execution_count": 61,
      "outputs": [
        {
          "output_type": "stream",
          "text": [
            "3188883\n"
          ],
          "name": "stdout"
        }
      ]
    },
    {
      "cell_type": "markdown",
      "metadata": {
        "id": "G6x9yhlajJ8M",
        "colab_type": "text"
      },
      "source": [
        "***SEQUENCE LIST AND ANTECEDENT-CONSEQUENT LIST(X->Y)***"
      ]
    },
    {
      "cell_type": "code",
      "metadata": {
        "id": "ZsgmJ8Kew52V",
        "colab_type": "code",
        "colab": {}
      },
      "source": [
        "sequences_list=[]\n",
        "ante_consq_list=[]"
      ],
      "execution_count": 0,
      "outputs": []
    },
    {
      "cell_type": "code",
      "metadata": {
        "id": "mgDj_gvvthgO",
        "colab_type": "code",
        "outputId": "b6a39410-9f0a-41f4-9467-b2776a08d6cd",
        "colab": {
          "base_uri": "https://localhost:8080/",
          "height": 82,
          "referenced_widgets": [
            "bd6ffcb2a7c34437af337249075d3058",
            "2a17cbde4bcb4ed59a906ddf57f9b1c3",
            "97d56afc17834833ae5906493def6caa",
            "7df3449998394dcca461a66d1b6b4252",
            "59ffde42933f42a1bc859d63d300be79",
            "f9f9f19d274f4e60a365b11dab9e31c1",
            "40cc5c4c0eb64835a28e7b84b0b414b8",
            "29552f779ab740459a0ff2554cd3ef96"
          ]
        }
      },
      "source": [
        "for i in tqdm(range(len(rband_list))):\n",
        "  sequences_list.append((rband_list[i],gband_list[i],bband_list[i]))\n",
        "  ante_consq_list.append((rband_list[i],gband_list[i],bband_list[i],Y_list[i]))\n",
        "\n",
        "print('BUILDING DATA DONE')\n"
      ],
      "execution_count": 63,
      "outputs": [
        {
          "output_type": "display_data",
          "data": {
            "application/vnd.jupyter.widget-view+json": {
              "model_id": "bd6ffcb2a7c34437af337249075d3058",
              "version_minor": 0,
              "version_major": 2
            },
            "text/plain": [
              "HBox(children=(IntProgress(value=0, max=3188883), HTML(value='')))"
            ]
          },
          "metadata": {
            "tags": []
          }
        },
        {
          "output_type": "stream",
          "text": [
            "\n",
            "BUILDING DATA DONE\n"
          ],
          "name": "stdout"
        }
      ]
    },
    {
      "cell_type": "markdown",
      "metadata": {
        "id": "iCVRyjESjwwL",
        "colab_type": "text"
      },
      "source": [
        "***RANDOM EXAMPLE - DATA STRUCTURE (R, G, B, CLASS_LABEL)***"
      ]
    },
    {
      "cell_type": "code",
      "metadata": {
        "id": "HrJF9PIIthju",
        "colab_type": "code",
        "outputId": "4bdb154d-e256-40d2-b445-384876a7e70f",
        "colab": {
          "base_uri": "https://localhost:8080/",
          "height": 34
        }
      },
      "source": [
        "print ((ante_consq_list[22222]))"
      ],
      "execution_count": 64,
      "outputs": [
        {
          "output_type": "stream",
          "text": [
            "(56, 68, 72, 125)\n"
          ],
          "name": "stdout"
        }
      ]
    },
    {
      "cell_type": "markdown",
      "metadata": {
        "id": "O843PnPQj9p_",
        "colab_type": "text"
      },
      "source": [
        "***FIND UNIQUE SEQUENCES(X-cap) AND COUNT***"
      ]
    },
    {
      "cell_type": "code",
      "metadata": {
        "id": "W32qBvF1thnU",
        "colab_type": "code",
        "outputId": "9d3fe236-8e73-4616-c921-83834c05c666",
        "colab": {
          "base_uri": "https://localhost:8080/",
          "height": 50
        }
      },
      "source": [
        "print('UNIQUE SEQUENCES COUNT: ')\n",
        "print(len(list(set(sequences_list))))\n",
        "unique_X_sequences=list(set(sequences_list))"
      ],
      "execution_count": 65,
      "outputs": [
        {
          "output_type": "stream",
          "text": [
            "UNIQUE SEQUENCES COUNT: \n",
            "87257\n"
          ],
          "name": "stdout"
        }
      ]
    },
    {
      "cell_type": "markdown",
      "metadata": {
        "id": "6u71bdBBsWU9",
        "colab_type": "text"
      },
      "source": [
        "\n",
        "\n",
        "---\n",
        "\n"
      ]
    },
    {
      "cell_type": "markdown",
      "metadata": {
        "id": "9tfHuR7ckert",
        "colab_type": "text"
      },
      "source": [
        "***STEP 2:***\n",
        "\n",
        "*   ***ASSOCIATION ANALYSIS***\n",
        "*   ***EVIDENCE BASED NORMALIZED DIFFERENTIAL INDEX(ENDI) MEASURE***\n",
        "\n",
        "\n"
      ]
    },
    {
      "cell_type": "markdown",
      "metadata": {
        "id": "CDwyOG-sluFT",
        "colab_type": "text"
      },
      "source": [
        "***HELPER FUNCTIONS:***"
      ]
    },
    {
      "cell_type": "code",
      "metadata": {
        "id": "PBmN7nsvxTGb",
        "colab_type": "code",
        "colab": {}
      },
      "source": [
        "#ONE VARIATION OF ENDI INTERESTINGNESS MEASURE\n",
        "def calculate_ENDI(positive,negative):\n",
        "  if (positive==0) and (negative==0) : return 0\n",
        "  return (positive-negative)/(positive+negative)"
      ],
      "execution_count": 0,
      "outputs": []
    },
    {
      "cell_type": "code",
      "metadata": {
        "id": "Q5DdKX6Z51Jm",
        "colab_type": "code",
        "colab": {}
      },
      "source": [
        "#POSITIVE EVIDENCES\n",
        "def positive_count(sequence,class_name):\n",
        "  item = list(sequence)\n",
        "  item.append(class_name)\n",
        "  c=counter[tuple(item)]\n",
        "  return c\n",
        "\n",
        "\n",
        "#NEGATIVE EVIDENCES\n",
        "def negative_count(sequence, class_list):\n",
        "  negative_classcount=0\n",
        "  for c in  class_list:\n",
        "    item = list(sequence)\n",
        "    item.append(c)\n",
        "    negative_classcount=negative_classcount+counter[tuple(item)]\n",
        "\n",
        "  return negative_classcount\n",
        "\n"
      ],
      "execution_count": 0,
      "outputs": []
    },
    {
      "cell_type": "code",
      "metadata": {
        "id": "GqVeHx5El9b7",
        "colab_type": "code",
        "colab": {}
      },
      "source": [
        "#COUNT FREQUENCIES OF EACH UNIQUE SEQUENCE\n",
        "counter=Counter(ante_consq_list)"
      ],
      "execution_count": 0,
      "outputs": []
    },
    {
      "cell_type": "markdown",
      "metadata": {
        "id": "N6c40R8gtgYA",
        "colab_type": "text"
      },
      "source": [
        "***CALCULATE ENDI MEASURE FOR ALL THE CLASSES PER SEQUENCE DATA***"
      ]
    },
    {
      "cell_type": "code",
      "metadata": {
        "id": "BHa17NbP4P6R",
        "colab_type": "code",
        "outputId": "bc26a690-420b-4785-d159-d68b621d84b7",
        "colab": {
          "base_uri": "https://localhost:8080/",
          "height": 82,
          "referenced_widgets": [
            "5023634fc79e4d2bbfdefd26b574c9f7",
            "c7ccf758232e4654ba293357b227ff96",
            "41424ccb348f4cb9a5b77a8e2c451c09",
            "7b73239989aa4fca89ea1286fd7a1285",
            "3bd21eba43e346cf911c8430fba628f6",
            "1415b3a7756d41dab7cb20c3a0d19758",
            "d4fa712d867e4ccaacd896ff89d51e53",
            "a3790bb64b2f4d138dfa8ae69a7135b8"
          ]
        }
      },
      "source": [
        "#GENERATE A DICTIONARY OF THE FORM : {(unique sequence) : [ENDI MEASURE-CLASS 0, ENDI MEASURE-CLASS 1, ENDI MEASURE-CLASS 2 ]}\n",
        "ENDI_table_dictionary={}\n",
        "\n",
        "for i in tqdm(range(len(unique_X_sequences))):\n",
        "  seq=unique_X_sequences[i]\n",
        "  ENDI_class_0=calculate_ENDI(positive_count(seq,0),negative_count(seq,[125,255]))\n",
        "  ENDI_class_1=calculate_ENDI(positive_count(seq,125),negative_count(seq,[0,255]))\n",
        "  ENDI_class_2=calculate_ENDI(positive_count(seq,255),negative_count(seq,[0,125]))\n",
        "  ENDI_table_dictionary[seq]=[ENDI_class_0,ENDI_class_1,ENDI_class_2]\n",
        "\n",
        "print('BUILDING DICTIONARY DONE')\n",
        "\n",
        "#PRINT RANDOM DATA POINT\n",
        "#print(ENDI_table_dictionary[unique_X_sequences[5000]])\n"
      ],
      "execution_count": 69,
      "outputs": [
        {
          "output_type": "display_data",
          "data": {
            "application/vnd.jupyter.widget-view+json": {
              "model_id": "5023634fc79e4d2bbfdefd26b574c9f7",
              "version_minor": 0,
              "version_major": 2
            },
            "text/plain": [
              "HBox(children=(IntProgress(value=0, max=87257), HTML(value='')))"
            ]
          },
          "metadata": {
            "tags": []
          }
        },
        {
          "output_type": "stream",
          "text": [
            "\n",
            "BUILDING DICTIONARY DONE\n"
          ],
          "name": "stdout"
        }
      ]
    },
    {
      "cell_type": "markdown",
      "metadata": {
        "id": "n84ur78SsZ-z",
        "colab_type": "text"
      },
      "source": [
        "\n",
        "\n",
        "---\n",
        "\n"
      ]
    },
    {
      "cell_type": "markdown",
      "metadata": {
        "id": "goD_JtMTtgo7",
        "colab_type": "text"
      },
      "source": [
        "***STEP 3 : CLASSIFICATION AND VISUALIZATION***"
      ]
    },
    {
      "cell_type": "code",
      "metadata": {
        "id": "8kntNAM6gcPn",
        "colab_type": "code",
        "colab": {}
      },
      "source": [
        "def classification(file_name):\n",
        "          new_image=gdal.Open(file_name)\n",
        "          rband_new = new_image.GetRasterBand(1).ReadAsArray()\n",
        "          gband_new = new_image.GetRasterBand(2).ReadAsArray()\n",
        "          bband_new = new_image.GetRasterBand(3).ReadAsArray()\n",
        "\n",
        "          rband_list_new=rband_new.flatten().tolist()\n",
        "          gband_list_new=gband_new.flatten().tolist()\n",
        "          bband_list_new=bband_new.flatten().tolist()\n",
        "\n",
        "          #rband_list_new = [round(x/8) for x in rband_list_new]\n",
        "          #gband_list_new = [round(x/8) for x in gband_list_new]\n",
        "          #bband_list_new = [round(x/8) for x in bband_list_new]\n",
        "\n",
        "\n",
        "          final_pred_list=[]\n",
        "\n",
        "          for i in tqdm(range(len(rband_list_new))):\n",
        "\n",
        "            if ((rband_list_new[i],gband_list_new[i],bband_list_new[i])) in ENDI_table_dictionary:\n",
        "                  ENDI_vals=ENDI_table_dictionary[(rband_list_new[i],gband_list_new[i],bband_list_new[i])]\n",
        "                  max_val = max(ENDI_vals)\n",
        "                  index_max = ENDI_vals.index(max_val)\n",
        "                  final_pred_list.append(index_max)   \n",
        "            else:\n",
        "              final_pred_list.append(1)\n",
        "          return final_pred_list\n",
        "\n"
      ],
      "execution_count": 0,
      "outputs": []
    },
    {
      "cell_type": "code",
      "metadata": {
        "id": "wq6E1HhJhfi2",
        "colab_type": "code",
        "colab": {}
      },
      "source": [
        "def visualization(prediction_list):\n",
        "  numpy_array=np.asarray(prediction_list)\n",
        "  numpy_array[numpy_array == 1] = 125\n",
        "  numpy_array[numpy_array == 2] = 255\n",
        "  final_image_array=numpy_array.reshape((IMG_SIZE,IMG_SIZE))\n",
        "  print(np.unique(final_image_array))\n",
        "  plt.gray()\n",
        "  plt.title('PORTO VIRO REGION - CLASSIFICATION RESULTS')\n",
        "  plt.imshow(final_image_array)\n",
        "  plt.savefig('classification-result.png')\n",
        "  cv2.imwrite(\"classication-result.tif\", final_image_array)\n",
        "\n"
      ],
      "execution_count": 0,
      "outputs": []
    },
    {
      "cell_type": "code",
      "metadata": {
        "id": "72cxX4heaE5W",
        "colab_type": "code",
        "colab": {}
      },
      "source": [
        "def metrics(y_actual, y_pred_original):\n",
        "    numpy_array=np.asarray(y_pred_original)\n",
        "    numpy_array[numpy_array == 1] = 125\n",
        "    numpy_array[numpy_array == 2] = 255\n",
        "    y_pred=numpy_array.tolist()\n",
        "    class_id = set(y_actual).union(set(y_pred))\n",
        "    TP = []\n",
        "    FP = []\n",
        "    TN = []\n",
        "    FN = []\n",
        "\n",
        "    for index ,_id in enumerate(class_id):\n",
        "        TP.append(0)\n",
        "        FP.append(0)\n",
        "        TN.append(0)\n",
        "        FN.append(0)\n",
        "        for i in tqdm(range(len(y_pred))):\n",
        "            if y_actual[i] == y_pred[i] == _id:\n",
        "                TP[index] += 1\n",
        "            if y_pred[i] == _id and y_actual[i] != y_pred[i]:\n",
        "                FP[index] += 1\n",
        "            if y_actual[i] == y_pred[i] != _id:\n",
        "                TN[index] += 1\n",
        "            if y_pred[i] != _id and y_actual[i] != y_pred[i]:\n",
        "                FN[index] += 1\n",
        "\n",
        "\n",
        "    return class_id,TP, FP, TN, FN"
      ],
      "execution_count": 0,
      "outputs": []
    },
    {
      "cell_type": "markdown",
      "metadata": {
        "id": "RqZ2C_ow04Ij",
        "colab_type": "text"
      },
      "source": [
        "\n",
        "\n",
        "---\n",
        "\n"
      ]
    },
    {
      "cell_type": "markdown",
      "metadata": {
        "id": "JCK5RsYA05Ld",
        "colab_type": "text"
      },
      "source": [
        "**VISUALIZATION OF RESULTS AND METRICS - PORTO VIRO AREA(ITALY)**"
      ]
    },
    {
      "cell_type": "markdown",
      "metadata": {
        "id": "iPhSuhjw1S5y",
        "colab_type": "text"
      },
      "source": [
        "1) PORTO VIRO CLASSIFICATION RESULTS"
      ]
    },
    {
      "cell_type": "code",
      "metadata": {
        "id": "3zzrNttfg4p-",
        "colab_type": "code",
        "outputId": "63fab9fa-dc17-4f60-f92b-77d49d0656eb",
        "colab": {
          "base_uri": "https://localhost:8080/",
          "height": 66,
          "referenced_widgets": [
            "2897b4b373c342f3907456b01b3dd3c6",
            "14f0cc528e814f53882c00a9384458de",
            "48d5ee19097a4571bd2c80e37a2ae503",
            "14682d3653c94cbcb5d5b6c677c389c8",
            "a79c67415c3c41069b92cd0da15a5dd3",
            "36c6920fbe9e430d9857c06f6522ab4a",
            "2fced98aebf649429c61287b8915b817",
            "13a3fba97fae46619b5d3ee07ba9755d"
          ]
        }
      },
      "source": [
        "prediction_list=classification('s1.tif')\n"
      ],
      "execution_count": 73,
      "outputs": [
        {
          "output_type": "display_data",
          "data": {
            "application/vnd.jupyter.widget-view+json": {
              "model_id": "2897b4b373c342f3907456b01b3dd3c6",
              "version_minor": 0,
              "version_major": 2
            },
            "text/plain": [
              "HBox(children=(IntProgress(value=0, max=1062961), HTML(value='')))"
            ]
          },
          "metadata": {
            "tags": []
          }
        },
        {
          "output_type": "stream",
          "text": [
            "\n"
          ],
          "name": "stdout"
        }
      ]
    },
    {
      "cell_type": "code",
      "metadata": {
        "id": "JJYgfo6zWVj2",
        "colab_type": "code",
        "outputId": "a62485c9-d8c5-4e2f-cf0b-5450fade97a3",
        "colab": {
          "base_uri": "https://localhost:8080/",
          "height": 298
        }
      },
      "source": [
        "visualization(prediction_list)"
      ],
      "execution_count": 74,
      "outputs": [
        {
          "output_type": "stream",
          "text": [
            "[  0 125 255]\n"
          ],
          "name": "stdout"
        },
        {
          "output_type": "display_data",
          "data": {
            "image/png": "[encoded data removed]",
            "text/plain": [
              "<Figure size 432x288 with 1 Axes>"
            ]
          },
          "metadata": {
            "tags": []
          }
        }
      ]
    },
    {
      "cell_type": "code",
      "metadata": {
        "id": "H8YwFJ2lbXdk",
        "colab_type": "code",
        "outputId": "051f6b26-5590-4406-9587-b21fcec83b98",
        "colab": {
          "base_uri": "https://localhost:8080/",
          "height": 163,
          "referenced_widgets": [
            "9f95f37d9a984e74a9f5d5c61775afc6",
            "e5b3b2088886434194f5b06f60b3b5f9",
            "d37e35dcf96b4b7c9c8e399cf9e8af42",
            "a13b2ed86b234e8591e02aeda3c34e11",
            "844ea83d90454691af42880aa85878cc",
            "18429e51c2214811a1e9b40221dd0d33",
            "6216ae4bf0a241e2be110f81a3a80ba6",
            "8e30ed2f148a4c299e02d02ceac23df1",
            "e2025bf5310042ec83f96989d0757078",
            "31d70b08f39a4610aa58ed7d21ed851c",
            "c3baf883589e49448105b156d7962fed",
            "2db3f8a315df43639fb11ab3d6aab462",
            "5eaf01586f084e4ead2ce5f6c29b17c4",
            "c46508d09d06489d9bd4300cf69f3fb3",
            "5fccfc068fc440ac905bf9732e2e638e",
            "3e193c3af9de4747a8d43ed7c282b55b",
            "fb168d0d932a42a99188e9f989a4a126",
            "b74eb37bb82f498ab032fa7476150474",
            "4f183ffdb66846658bbf67b7a73478cf",
            "bfe7a15e2a0b4e52bb36dee5a89babbb",
            "03b4091d4cc242e592ccc891fb853518",
            "ab8c89059ec64649b1e9dd530d579b12",
            "e8956c384d784dd09511222f0db85625",
            "8e105cef11914c80bb0a402782d94416"
          ]
        }
      },
      "source": [
        "m=metrics(Y_raster_s1.flatten().tolist(),prediction_list)"
      ],
      "execution_count": 75,
      "outputs": [
        {
          "output_type": "display_data",
          "data": {
            "application/vnd.jupyter.widget-view+json": {
              "model_id": "9f95f37d9a984e74a9f5d5c61775afc6",
              "version_minor": 0,
              "version_major": 2
            },
            "text/plain": [
              "HBox(children=(IntProgress(value=0, max=1062961), HTML(value='')))"
            ]
          },
          "metadata": {
            "tags": []
          }
        },
        {
          "output_type": "stream",
          "text": [
            "\n"
          ],
          "name": "stdout"
        },
        {
          "output_type": "display_data",
          "data": {
            "application/vnd.jupyter.widget-view+json": {
              "model_id": "e2025bf5310042ec83f96989d0757078",
              "version_minor": 0,
              "version_major": 2
            },
            "text/plain": [
              "HBox(children=(IntProgress(value=0, max=1062961), HTML(value='')))"
            ]
          },
          "metadata": {
            "tags": []
          }
        },
        {
          "output_type": "stream",
          "text": [
            "\n"
          ],
          "name": "stdout"
        },
        {
          "output_type": "display_data",
          "data": {
            "application/vnd.jupyter.widget-view+json": {
              "model_id": "fb168d0d932a42a99188e9f989a4a126",
              "version_minor": 0,
              "version_major": 2
            },
            "text/plain": [
              "HBox(children=(IntProgress(value=0, max=1062961), HTML(value='')))"
            ]
          },
          "metadata": {
            "tags": []
          }
        },
        {
          "output_type": "stream",
          "text": [
            "\n"
          ],
          "name": "stdout"
        }
      ]
    },
    {
      "cell_type": "code",
      "metadata": {
        "id": "mbjXWoqsjQ_d",
        "colab_type": "code",
        "colab": {}
      },
      "source": [
        "unique, counts = np.unique(Y_raster_s1.flatten().tolist(), return_counts=True)"
      ],
      "execution_count": 0,
      "outputs": []
    },
    {
      "cell_type": "code",
      "metadata": {
        "id": "WskaAi3ghsiH",
        "colab_type": "code",
        "outputId": "f829b585-0ea0-4c27-ae29-493bab35ddce",
        "colab": {
          "base_uri": "https://localhost:8080/",
          "height": 118
        }
      },
      "source": [
        "for i in range(0,3):\n",
        "  TP=m[1][i]\n",
        "  FP=m[2][i]\n",
        "  TN=m[3][i]\n",
        "  FN=m[4][i]\n",
        "  P=counts[i]\n",
        "  N=len(Y_list)-P\n",
        "  TPR=TP/P\n",
        "  TNR=TN/N\n",
        "  bal_measure = (TPR+TNR)/2\n",
        "  inf_accuracy=TPR-TNR\n",
        "  print('BALANCED ACCURACY FOR CLASS '+str(i)+\" is \"+ str(bal_measure))\n",
        "  print('INFORMEDNESS FOR CLASS '+str(i)+\" is \"+str(inf_accuracy))\n",
        "\n",
        "\n"
      ],
      "execution_count": 77,
      "outputs": [
        {
          "output_type": "stream",
          "text": [
            "BALANCED ACCURACY FOR CLASS 0 is 0.3228134324995199\n",
            "INFORMEDNESS FOR CLASS 0 is 0.03343144037008766\n",
            "BALANCED ACCURACY FOR CLASS 1 is 0.541679866977207\n",
            "INFORMEDNESS FOR CLASS 1 is 0.8369387957353143\n",
            "BALANCED ACCURACY FOR CLASS 2 is 0.5695304717837667\n",
            "INFORMEDNESS FOR CLASS 2 is 0.6615094155258958\n"
          ],
          "name": "stdout"
        }
      ]
    },
    {
      "cell_type": "markdown",
      "metadata": {
        "id": "unQkKXcY1RAe",
        "colab_type": "text"
      },
      "source": [
        "2) PORTO VIRO RGB IMAGE"
      ]
    },
    {
      "cell_type": "code",
      "metadata": {
        "id": "wCHf3Rrg0J5J",
        "colab_type": "code",
        "outputId": "86ddfba1-7429-41f3-a3fa-1aff16118d96",
        "colab": {
          "base_uri": "https://localhost:8080/",
          "height": 286
        }
      },
      "source": [
        "dataset = rasterio.open('s1.tif')\n",
        "show(dataset.read([1,2,3]))"
      ],
      "execution_count": 78,
      "outputs": [
        {
          "output_type": "display_data",
          "data": {
            "image/png": "[encoded data removed]",
            "text/plain": [
              "<Figure size 432x288 with 1 Axes>"
            ]
          },
          "metadata": {
            "tags": []
          }
        },
        {
          "output_type": "execute_result",
          "data": {
            "text/plain": [
              "<matplotlib.axes._subplots.AxesSubplot at 0x7f3bf28a3eb8>"
            ]
          },
          "metadata": {
            "tags": []
          },
          "execution_count": 78
        }
      ]
    },
    {
      "cell_type": "markdown",
      "metadata": {
        "id": "0Uj7CmWs1DfC",
        "colab_type": "text"
      },
      "source": [
        "\n",
        "\n",
        "---\n",
        "\n"
      ]
    }
  ]
}