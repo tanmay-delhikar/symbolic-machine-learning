{
  "nbformat": 4,
  "nbformat_minor": 0,
  "metadata": {
    "colab": {
      "name": "Small-SML_v7_big.ipynb",
      "provenance": [],
      "collapsed_sections": [],
      "toc_visible": true,
      "machine_shape": "hm"
    },
    "kernelspec": {
      "name": "python3",
      "display_name": "Python 3"
    },
    "widgets": {
      "application/vnd.jupyter.widget-state+json": {
        "ee3012354f0f41e6985e655ebcc1af48": {
          "model_module": "@jupyter-widgets/controls",
          "model_name": "HBoxModel",
          "state": {
            "_view_name": "HBoxView",
            "_dom_classes": [],
            "_model_name": "HBoxModel",
            "_view_module": "@jupyter-widgets/controls",
            "_model_module_version": "1.5.0",
            "_view_count": null,
            "_view_module_version": "1.5.0",
            "box_style": "",
            "layout": "IPY_MODEL_db439c8ab8744bf1857eeb29346b4822",
            "_model_module": "@jupyter-widgets/controls",
            "children": [
              "IPY_MODEL_ac1a029162a6494ea84f4d6214ee4db5",
              "IPY_MODEL_db300c1790694d25b907a699bcf268e7"
            ]
          }
        },
        "db439c8ab8744bf1857eeb29346b4822": {
          "model_module": "@jupyter-widgets/base",
          "model_name": "LayoutModel",
          "state": {
            "_view_name": "LayoutView",
            "grid_template_rows": null,
            "right": null,
            "justify_content": null,
            "_view_module": "@jupyter-widgets/base",
            "overflow": null,
            "_model_module_version": "1.2.0",
            "_view_count": null,
            "flex_flow": null,
            "width": null,
            "min_width": null,
            "border": null,
            "align_items": null,
            "bottom": null,
            "_model_module": "@jupyter-widgets/base",
            "top": null,
            "grid_column": null,
            "overflow_y": null,
            "overflow_x": null,
            "grid_auto_flow": null,
            "grid_area": null,
            "grid_template_columns": null,
            "flex": null,
            "_model_name": "LayoutModel",
            "justify_items": null,
            "grid_row": null,
            "max_height": null,
            "align_content": null,
            "visibility": null,
            "align_self": null,
            "height": null,
            "min_height": null,
            "padding": null,
            "grid_auto_rows": null,
            "grid_gap": null,
            "max_width": null,
            "order": null,
            "_view_module_version": "1.2.0",
            "grid_template_areas": null,
            "object_position": null,
            "object_fit": null,
            "grid_auto_columns": null,
            "margin": null,
            "display": null,
            "left": null
          }
        },
        "ac1a029162a6494ea84f4d6214ee4db5": {
          "model_module": "@jupyter-widgets/controls",
          "model_name": "IntProgressModel",
          "state": {
            "_view_name": "ProgressView",
            "style": "IPY_MODEL_35ea35b4cb92483294844675c6d9bb8a",
            "_dom_classes": [],
            "description": "",
            "_model_name": "IntProgressModel",
            "bar_style": "success",
            "max": 7440727,
            "_view_module": "@jupyter-widgets/controls",
            "_model_module_version": "1.5.0",
            "value": 7440727,
            "_view_count": null,
            "_view_module_version": "1.5.0",
            "orientation": "horizontal",
            "min": 0,
            "description_tooltip": null,
            "_model_module": "@jupyter-widgets/controls",
            "layout": "IPY_MODEL_a410b0c7cdd1480b8625faf7cbc71a29"
          }
        },
        "db300c1790694d25b907a699bcf268e7": {
          "model_module": "@jupyter-widgets/controls",
          "model_name": "HTMLModel",
          "state": {
            "_view_name": "HTMLView",
            "style": "IPY_MODEL_ff4957ab71304b0b8d4178bd093f5beb",
            "_dom_classes": [],
            "description": "",
            "_model_name": "HTMLModel",
            "placeholder": "​",
            "_view_module": "@jupyter-widgets/controls",
            "_model_module_version": "1.5.0",
            "value": "100% 7440727/7440727 [00:09&lt;00:00, 778466.55it/s]",
            "_view_count": null,
            "_view_module_version": "1.5.0",
            "description_tooltip": null,
            "_model_module": "@jupyter-widgets/controls",
            "layout": "IPY_MODEL_7f8d8799d5ef4289b3f212f976fd728a"
          }
        },
        "35ea35b4cb92483294844675c6d9bb8a": {
          "model_module": "@jupyter-widgets/controls",
          "model_name": "ProgressStyleModel",
          "state": {
            "_view_name": "StyleView",
            "_model_name": "ProgressStyleModel",
            "description_width": "",
            "_view_module": "@jupyter-widgets/base",
            "_model_module_version": "1.5.0",
            "_view_count": null,
            "_view_module_version": "1.2.0",
            "bar_color": null,
            "_model_module": "@jupyter-widgets/controls"
          }
        },
        "a410b0c7cdd1480b8625faf7cbc71a29": {
          "model_module": "@jupyter-widgets/base",
          "model_name": "LayoutModel",
          "state": {
            "_view_name": "LayoutView",
            "grid_template_rows": null,
            "right": null,
            "justify_content": null,
            "_view_module": "@jupyter-widgets/base",
            "overflow": null,
            "_model_module_version": "1.2.0",
            "_view_count": null,
            "flex_flow": null,
            "width": null,
            "min_width": null,
            "border": null,
            "align_items": null,
            "bottom": null,
            "_model_module": "@jupyter-widgets/base",
            "top": null,
            "grid_column": null,
            "overflow_y": null,
            "overflow_x": null,
            "grid_auto_flow": null,
            "grid_area": null,
            "grid_template_columns": null,
            "flex": null,
            "_model_name": "LayoutModel",
            "justify_items": null,
            "grid_row": null,
            "max_height": null,
            "align_content": null,
            "visibility": null,
            "align_self": null,
            "height": null,
            "min_height": null,
            "padding": null,
            "grid_auto_rows": null,
            "grid_gap": null,
            "max_width": null,
            "order": null,
            "_view_module_version": "1.2.0",
            "grid_template_areas": null,
            "object_position": null,
            "object_fit": null,
            "grid_auto_columns": null,
            "margin": null,
            "display": null,
            "left": null
          }
        },
        "ff4957ab71304b0b8d4178bd093f5beb": {
          "model_module": "@jupyter-widgets/controls",
          "model_name": "DescriptionStyleModel",
          "state": {
            "_view_name": "StyleView",
            "_model_name": "DescriptionStyleModel",
            "description_width": "",
            "_view_module": "@jupyter-widgets/base",
            "_model_module_version": "1.5.0",
            "_view_count": null,
            "_view_module_version": "1.2.0",
            "_model_module": "@jupyter-widgets/controls"
          }
        },
        "7f8d8799d5ef4289b3f212f976fd728a": {
          "model_module": "@jupyter-widgets/base",
          "model_name": "LayoutModel",
          "state": {
            "_view_name": "LayoutView",
            "grid_template_rows": null,
            "right": null,
            "justify_content": null,
            "_view_module": "@jupyter-widgets/base",
            "overflow": null,
            "_model_module_version": "1.2.0",
            "_view_count": null,
            "flex_flow": null,
            "width": null,
            "min_width": null,
            "border": null,
            "align_items": null,
            "bottom": null,
            "_model_module": "@jupyter-widgets/base",
            "top": null,
            "grid_column": null,
            "overflow_y": null,
            "overflow_x": null,
            "grid_auto_flow": null,
            "grid_area": null,
            "grid_template_columns": null,
            "flex": null,
            "_model_name": "LayoutModel",
            "justify_items": null,
            "grid_row": null,
            "max_height": null,
            "align_content": null,
            "visibility": null,
            "align_self": null,
            "height": null,
            "min_height": null,
            "padding": null,
            "grid_auto_rows": null,
            "grid_gap": null,
            "max_width": null,
            "order": null,
            "_view_module_version": "1.2.0",
            "grid_template_areas": null,
            "object_position": null,
            "object_fit": null,
            "grid_auto_columns": null,
            "margin": null,
            "display": null,
            "left": null
          }
        },
        "704f4d12a25a41a1a98195c509be1514": {
          "model_module": "@jupyter-widgets/controls",
          "model_name": "HBoxModel",
          "state": {
            "_view_name": "HBoxView",
            "_dom_classes": [],
            "_model_name": "HBoxModel",
            "_view_module": "@jupyter-widgets/controls",
            "_model_module_version": "1.5.0",
            "_view_count": null,
            "_view_module_version": "1.5.0",
            "box_style": "",
            "layout": "IPY_MODEL_e486a5f949f64f338efa889737659655",
            "_model_module": "@jupyter-widgets/controls",
            "children": [
              "IPY_MODEL_9a5cf7a2f3f44ffeacee2be04face678",
              "IPY_MODEL_34656eb7e2ba4c0cba7e41e3a1aadb1c"
            ]
          }
        },
        "e486a5f949f64f338efa889737659655": {
          "model_module": "@jupyter-widgets/base",
          "model_name": "LayoutModel",
          "state": {
            "_view_name": "LayoutView",
            "grid_template_rows": null,
            "right": null,
            "justify_content": null,
            "_view_module": "@jupyter-widgets/base",
            "overflow": null,
            "_model_module_version": "1.2.0",
            "_view_count": null,
            "flex_flow": null,
            "width": null,
            "min_width": null,
            "border": null,
            "align_items": null,
            "bottom": null,
            "_model_module": "@jupyter-widgets/base",
            "top": null,
            "grid_column": null,
            "overflow_y": null,
            "overflow_x": null,
            "grid_auto_flow": null,
            "grid_area": null,
            "grid_template_columns": null,
            "flex": null,
            "_model_name": "LayoutModel",
            "justify_items": null,
            "grid_row": null,
            "max_height": null,
            "align_content": null,
            "visibility": null,
            "align_self": null,
            "height": null,
            "min_height": null,
            "padding": null,
            "grid_auto_rows": null,
            "grid_gap": null,
            "max_width": null,
            "order": null,
            "_view_module_version": "1.2.0",
            "grid_template_areas": null,
            "object_position": null,
            "object_fit": null,
            "grid_auto_columns": null,
            "margin": null,
            "display": null,
            "left": null
          }
        },
        "9a5cf7a2f3f44ffeacee2be04face678": {
          "model_module": "@jupyter-widgets/controls",
          "model_name": "IntProgressModel",
          "state": {
            "_view_name": "ProgressView",
            "style": "IPY_MODEL_dae19f89f9d443d4bc36a57d682ba58d",
            "_dom_classes": [],
            "description": "",
            "_model_name": "IntProgressModel",
            "bar_style": "success",
            "max": 862,
            "_view_module": "@jupyter-widgets/controls",
            "_model_module_version": "1.5.0",
            "value": 862,
            "_view_count": null,
            "_view_module_version": "1.5.0",
            "orientation": "horizontal",
            "min": 0,
            "description_tooltip": null,
            "_model_module": "@jupyter-widgets/controls",
            "layout": "IPY_MODEL_04bcdd98ebe3452ab8d1f3690e13fc9e"
          }
        },
        "34656eb7e2ba4c0cba7e41e3a1aadb1c": {
          "model_module": "@jupyter-widgets/controls",
          "model_name": "HTMLModel",
          "state": {
            "_view_name": "HTMLView",
            "style": "IPY_MODEL_5858ed062f2c4ea280d7a3d2b56e04aa",
            "_dom_classes": [],
            "description": "",
            "_model_name": "HTMLModel",
            "placeholder": "​",
            "_view_module": "@jupyter-widgets/controls",
            "_model_module_version": "1.5.0",
            "value": "100% 862/862 [00:00&lt;00:00, 32662.61it/s]",
            "_view_count": null,
            "_view_module_version": "1.5.0",
            "description_tooltip": null,
            "_model_module": "@jupyter-widgets/controls",
            "layout": "IPY_MODEL_b27f9eaa9399493f94d8b64ea7ebff35"
          }
        },
        "dae19f89f9d443d4bc36a57d682ba58d": {
          "model_module": "@jupyter-widgets/controls",
          "model_name": "ProgressStyleModel",
          "state": {
            "_view_name": "StyleView",
            "_model_name": "ProgressStyleModel",
            "description_width": "",
            "_view_module": "@jupyter-widgets/base",
            "_model_module_version": "1.5.0",
            "_view_count": null,
            "_view_module_version": "1.2.0",
            "bar_color": null,
            "_model_module": "@jupyter-widgets/controls"
          }
        },
        "04bcdd98ebe3452ab8d1f3690e13fc9e": {
          "model_module": "@jupyter-widgets/base",
          "model_name": "LayoutModel",
          "state": {
            "_view_name": "LayoutView",
            "grid_template_rows": null,
            "right": null,
            "justify_content": null,
            "_view_module": "@jupyter-widgets/base",
            "overflow": null,
            "_model_module_version": "1.2.0",
            "_view_count": null,
            "flex_flow": null,
            "width": null,
            "min_width": null,
            "border": null,
            "align_items": null,
            "bottom": null,
            "_model_module": "@jupyter-widgets/base",
            "top": null,
            "grid_column": null,
            "overflow_y": null,
            "overflow_x": null,
            "grid_auto_flow": null,
            "grid_area": null,
            "grid_template_columns": null,
            "flex": null,
            "_model_name": "LayoutModel",
            "justify_items": null,
            "grid_row": null,
            "max_height": null,
            "align_content": null,
            "visibility": null,
            "align_self": null,
            "height": null,
            "min_height": null,
            "padding": null,
            "grid_auto_rows": null,
            "grid_gap": null,
            "max_width": null,
            "order": null,
            "_view_module_version": "1.2.0",
            "grid_template_areas": null,
            "object_position": null,
            "object_fit": null,
            "grid_auto_columns": null,
            "margin": null,
            "display": null,
            "left": null
          }
        },
        "5858ed062f2c4ea280d7a3d2b56e04aa": {
          "model_module": "@jupyter-widgets/controls",
          "model_name": "DescriptionStyleModel",
          "state": {
            "_view_name": "StyleView",
            "_model_name": "DescriptionStyleModel",
            "description_width": "",
            "_view_module": "@jupyter-widgets/base",
            "_model_module_version": "1.5.0",
            "_view_count": null,
            "_view_module_version": "1.2.0",
            "_model_module": "@jupyter-widgets/controls"
          }
        },
        "b27f9eaa9399493f94d8b64ea7ebff35": {
          "model_module": "@jupyter-widgets/base",
          "model_name": "LayoutModel",
          "state": {
            "_view_name": "LayoutView",
            "grid_template_rows": null,
            "right": null,
            "justify_content": null,
            "_view_module": "@jupyter-widgets/base",
            "overflow": null,
            "_model_module_version": "1.2.0",
            "_view_count": null,
            "flex_flow": null,
            "width": null,
            "min_width": null,
            "border": null,
            "align_items": null,
            "bottom": null,
            "_model_module": "@jupyter-widgets/base",
            "top": null,
            "grid_column": null,
            "overflow_y": null,
            "overflow_x": null,
            "grid_auto_flow": null,
            "grid_area": null,
            "grid_template_columns": null,
            "flex": null,
            "_model_name": "LayoutModel",
            "justify_items": null,
            "grid_row": null,
            "max_height": null,
            "align_content": null,
            "visibility": null,
            "align_self": null,
            "height": null,
            "min_height": null,
            "padding": null,
            "grid_auto_rows": null,
            "grid_gap": null,
            "max_width": null,
            "order": null,
            "_view_module_version": "1.2.0",
            "grid_template_areas": null,
            "object_position": null,
            "object_fit": null,
            "grid_auto_columns": null,
            "margin": null,
            "display": null,
            "left": null
          }
        },
        "4c9fd76f15bd4411a12b9a86de2b0fc0": {
          "model_module": "@jupyter-widgets/controls",
          "model_name": "HBoxModel",
          "state": {
            "_view_name": "HBoxView",
            "_dom_classes": [],
            "_model_name": "HBoxModel",
            "_view_module": "@jupyter-widgets/controls",
            "_model_module_version": "1.5.0",
            "_view_count": null,
            "_view_module_version": "1.5.0",
            "box_style": "",
            "layout": "IPY_MODEL_8c93054dd53e4bc89ef2a7567ce3d60d",
            "_model_module": "@jupyter-widgets/controls",
            "children": [
              "IPY_MODEL_124a5961a91f4837a3de749008302b73",
              "IPY_MODEL_9144efc18b60402bbd482c1aaa569de1"
            ]
          }
        },
        "8c93054dd53e4bc89ef2a7567ce3d60d": {
          "model_module": "@jupyter-widgets/base",
          "model_name": "LayoutModel",
          "state": {
            "_view_name": "LayoutView",
            "grid_template_rows": null,
            "right": null,
            "justify_content": null,
            "_view_module": "@jupyter-widgets/base",
            "overflow": null,
            "_model_module_version": "1.2.0",
            "_view_count": null,
            "flex_flow": null,
            "width": null,
            "min_width": null,
            "border": null,
            "align_items": null,
            "bottom": null,
            "_model_module": "@jupyter-widgets/base",
            "top": null,
            "grid_column": null,
            "overflow_y": null,
            "overflow_x": null,
            "grid_auto_flow": null,
            "grid_area": null,
            "grid_template_columns": null,
            "flex": null,
            "_model_name": "LayoutModel",
            "justify_items": null,
            "grid_row": null,
            "max_height": null,
            "align_content": null,
            "visibility": null,
            "align_self": null,
            "height": null,
            "min_height": null,
            "padding": null,
            "grid_auto_rows": null,
            "grid_gap": null,
            "max_width": null,
            "order": null,
            "_view_module_version": "1.2.0",
            "grid_template_areas": null,
            "object_position": null,
            "object_fit": null,
            "grid_auto_columns": null,
            "margin": null,
            "display": null,
            "left": null
          }
        },
        "124a5961a91f4837a3de749008302b73": {
          "model_module": "@jupyter-widgets/controls",
          "model_name": "IntProgressModel",
          "state": {
            "_view_name": "ProgressView",
            "style": "IPY_MODEL_b2dff960e4864cddbeac1c6c791bbce6",
            "_dom_classes": [],
            "description": "",
            "_model_name": "IntProgressModel",
            "bar_style": "success",
            "max": 120560400,
            "_view_module": "@jupyter-widgets/controls",
            "_model_module_version": "1.5.0",
            "value": 120560400,
            "_view_count": null,
            "_view_module_version": "1.5.0",
            "orientation": "horizontal",
            "min": 0,
            "description_tooltip": null,
            "_model_module": "@jupyter-widgets/controls",
            "layout": "IPY_MODEL_3f10ec561bc24981bf42236708820bc1"
          }
        },
        "9144efc18b60402bbd482c1aaa569de1": {
          "model_module": "@jupyter-widgets/controls",
          "model_name": "HTMLModel",
          "state": {
            "_view_name": "HTMLView",
            "style": "IPY_MODEL_18444ec547d9445fa3f2c61f78487b60",
            "_dom_classes": [],
            "description": "",
            "_model_name": "HTMLModel",
            "placeholder": "​",
            "_view_module": "@jupyter-widgets/controls",
            "_model_module_version": "1.5.0",
            "value": "100% 120560400/120560400 [02:18&lt;00:00, 870521.53it/s]",
            "_view_count": null,
            "_view_module_version": "1.5.0",
            "description_tooltip": null,
            "_model_module": "@jupyter-widgets/controls",
            "layout": "IPY_MODEL_cae28847372f44ae8085d1af74d0d3fa"
          }
        },
        "b2dff960e4864cddbeac1c6c791bbce6": {
          "model_module": "@jupyter-widgets/controls",
          "model_name": "ProgressStyleModel",
          "state": {
            "_view_name": "StyleView",
            "_model_name": "ProgressStyleModel",
            "description_width": "",
            "_view_module": "@jupyter-widgets/base",
            "_model_module_version": "1.5.0",
            "_view_count": null,
            "_view_module_version": "1.2.0",
            "bar_color": null,
            "_model_module": "@jupyter-widgets/controls"
          }
        },
        "3f10ec561bc24981bf42236708820bc1": {
          "model_module": "@jupyter-widgets/base",
          "model_name": "LayoutModel",
          "state": {
            "_view_name": "LayoutView",
            "grid_template_rows": null,
            "right": null,
            "justify_content": null,
            "_view_module": "@jupyter-widgets/base",
            "overflow": null,
            "_model_module_version": "1.2.0",
            "_view_count": null,
            "flex_flow": null,
            "width": null,
            "min_width": null,
            "border": null,
            "align_items": null,
            "bottom": null,
            "_model_module": "@jupyter-widgets/base",
            "top": null,
            "grid_column": null,
            "overflow_y": null,
            "overflow_x": null,
            "grid_auto_flow": null,
            "grid_area": null,
            "grid_template_columns": null,
            "flex": null,
            "_model_name": "LayoutModel",
            "justify_items": null,
            "grid_row": null,
            "max_height": null,
            "align_content": null,
            "visibility": null,
            "align_self": null,
            "height": null,
            "min_height": null,
            "padding": null,
            "grid_auto_rows": null,
            "grid_gap": null,
            "max_width": null,
            "order": null,
            "_view_module_version": "1.2.0",
            "grid_template_areas": null,
            "object_position": null,
            "object_fit": null,
            "grid_auto_columns": null,
            "margin": null,
            "display": null,
            "left": null
          }
        },
        "18444ec547d9445fa3f2c61f78487b60": {
          "model_module": "@jupyter-widgets/controls",
          "model_name": "DescriptionStyleModel",
          "state": {
            "_view_name": "StyleView",
            "_model_name": "DescriptionStyleModel",
            "description_width": "",
            "_view_module": "@jupyter-widgets/base",
            "_model_module_version": "1.5.0",
            "_view_count": null,
            "_view_module_version": "1.2.0",
            "_model_module": "@jupyter-widgets/controls"
          }
        },
        "cae28847372f44ae8085d1af74d0d3fa": {
          "model_module": "@jupyter-widgets/base",
          "model_name": "LayoutModel",
          "state": {
            "_view_name": "LayoutView",
            "grid_template_rows": null,
            "right": null,
            "justify_content": null,
            "_view_module": "@jupyter-widgets/base",
            "overflow": null,
            "_model_module_version": "1.2.0",
            "_view_count": null,
            "flex_flow": null,
            "width": null,
            "min_width": null,
            "border": null,
            "align_items": null,
            "bottom": null,
            "_model_module": "@jupyter-widgets/base",
            "top": null,
            "grid_column": null,
            "overflow_y": null,
            "overflow_x": null,
            "grid_auto_flow": null,
            "grid_area": null,
            "grid_template_columns": null,
            "flex": null,
            "_model_name": "LayoutModel",
            "justify_items": null,
            "grid_row": null,
            "max_height": null,
            "align_content": null,
            "visibility": null,
            "align_self": null,
            "height": null,
            "min_height": null,
            "padding": null,
            "grid_auto_rows": null,
            "grid_gap": null,
            "max_width": null,
            "order": null,
            "_view_module_version": "1.2.0",
            "grid_template_areas": null,
            "object_position": null,
            "object_fit": null,
            "grid_auto_columns": null,
            "margin": null,
            "display": null,
            "left": null
          }
        },
        "cf1b6896625145dd99c8df93f75fa6b7": {
          "model_module": "@jupyter-widgets/controls",
          "model_name": "HBoxModel",
          "state": {
            "_view_name": "HBoxView",
            "_dom_classes": [],
            "_model_name": "HBoxModel",
            "_view_module": "@jupyter-widgets/controls",
            "_model_module_version": "1.5.0",
            "_view_count": null,
            "_view_module_version": "1.5.0",
            "box_style": "",
            "layout": "IPY_MODEL_05e9fa89f8f14125a1183b4db4c102ae",
            "_model_module": "@jupyter-widgets/controls",
            "children": [
              "IPY_MODEL_0b9f3721c91a445eb30cd2baf8ab6250",
              "IPY_MODEL_52d04cce385a401c8c4c20cba338f1b6"
            ]
          }
        },
        "05e9fa89f8f14125a1183b4db4c102ae": {
          "model_module": "@jupyter-widgets/base",
          "model_name": "LayoutModel",
          "state": {
            "_view_name": "LayoutView",
            "grid_template_rows": null,
            "right": null,
            "justify_content": null,
            "_view_module": "@jupyter-widgets/base",
            "overflow": null,
            "_model_module_version": "1.2.0",
            "_view_count": null,
            "flex_flow": null,
            "width": null,
            "min_width": null,
            "border": null,
            "align_items": null,
            "bottom": null,
            "_model_module": "@jupyter-widgets/base",
            "top": null,
            "grid_column": null,
            "overflow_y": null,
            "overflow_x": null,
            "grid_auto_flow": null,
            "grid_area": null,
            "grid_template_columns": null,
            "flex": null,
            "_model_name": "LayoutModel",
            "justify_items": null,
            "grid_row": null,
            "max_height": null,
            "align_content": null,
            "visibility": null,
            "align_self": null,
            "height": null,
            "min_height": null,
            "padding": null,
            "grid_auto_rows": null,
            "grid_gap": null,
            "max_width": null,
            "order": null,
            "_view_module_version": "1.2.0",
            "grid_template_areas": null,
            "object_position": null,
            "object_fit": null,
            "grid_auto_columns": null,
            "margin": null,
            "display": null,
            "left": null
          }
        },
        "0b9f3721c91a445eb30cd2baf8ab6250": {
          "model_module": "@jupyter-widgets/controls",
          "model_name": "IntProgressModel",
          "state": {
            "_view_name": "ProgressView",
            "style": "IPY_MODEL_68c51ab72b5b45b58edb51599217226f",
            "_dom_classes": [],
            "description": "",
            "_model_name": "IntProgressModel",
            "bar_style": "success",
            "max": 1,
            "_view_module": "@jupyter-widgets/controls",
            "_model_module_version": "1.5.0",
            "value": 1,
            "_view_count": null,
            "_view_module_version": "1.5.0",
            "orientation": "horizontal",
            "min": 0,
            "description_tooltip": null,
            "_model_module": "@jupyter-widgets/controls",
            "layout": "IPY_MODEL_658ee1f1ae7f41ee936363edb8918b35"
          }
        },
        "52d04cce385a401c8c4c20cba338f1b6": {
          "model_module": "@jupyter-widgets/controls",
          "model_name": "HTMLModel",
          "state": {
            "_view_name": "HTMLView",
            "style": "IPY_MODEL_96035aa8607d42d0bbf807aeaf0b2927",
            "_dom_classes": [],
            "description": "",
            "_model_name": "HTMLModel",
            "placeholder": "​",
            "_view_module": "@jupyter-widgets/controls",
            "_model_module_version": "1.5.0",
            "value": "13395600it [05:34, 40005.11it/s]",
            "_view_count": null,
            "_view_module_version": "1.5.0",
            "description_tooltip": null,
            "_model_module": "@jupyter-widgets/controls",
            "layout": "IPY_MODEL_8a6d82b72e584fd989030b5dccc063b2"
          }
        },
        "68c51ab72b5b45b58edb51599217226f": {
          "model_module": "@jupyter-widgets/controls",
          "model_name": "ProgressStyleModel",
          "state": {
            "_view_name": "StyleView",
            "_model_name": "ProgressStyleModel",
            "description_width": "",
            "_view_module": "@jupyter-widgets/base",
            "_model_module_version": "1.5.0",
            "_view_count": null,
            "_view_module_version": "1.2.0",
            "bar_color": null,
            "_model_module": "@jupyter-widgets/controls"
          }
        },
        "658ee1f1ae7f41ee936363edb8918b35": {
          "model_module": "@jupyter-widgets/base",
          "model_name": "LayoutModel",
          "state": {
            "_view_name": "LayoutView",
            "grid_template_rows": null,
            "right": null,
            "justify_content": null,
            "_view_module": "@jupyter-widgets/base",
            "overflow": null,
            "_model_module_version": "1.2.0",
            "_view_count": null,
            "flex_flow": null,
            "width": null,
            "min_width": null,
            "border": null,
            "align_items": null,
            "bottom": null,
            "_model_module": "@jupyter-widgets/base",
            "top": null,
            "grid_column": null,
            "overflow_y": null,
            "overflow_x": null,
            "grid_auto_flow": null,
            "grid_area": null,
            "grid_template_columns": null,
            "flex": null,
            "_model_name": "LayoutModel",
            "justify_items": null,
            "grid_row": null,
            "max_height": null,
            "align_content": null,
            "visibility": null,
            "align_self": null,
            "height": null,
            "min_height": null,
            "padding": null,
            "grid_auto_rows": null,
            "grid_gap": null,
            "max_width": null,
            "order": null,
            "_view_module_version": "1.2.0",
            "grid_template_areas": null,
            "object_position": null,
            "object_fit": null,
            "grid_auto_columns": null,
            "margin": null,
            "display": null,
            "left": null
          }
        },
        "96035aa8607d42d0bbf807aeaf0b2927": {
          "model_module": "@jupyter-widgets/controls",
          "model_name": "DescriptionStyleModel",
          "state": {
            "_view_name": "StyleView",
            "_model_name": "DescriptionStyleModel",
            "description_width": "",
            "_view_module": "@jupyter-widgets/base",
            "_model_module_version": "1.5.0",
            "_view_count": null,
            "_view_module_version": "1.2.0",
            "_model_module": "@jupyter-widgets/controls"
          }
        },
        "8a6d82b72e584fd989030b5dccc063b2": {
          "model_module": "@jupyter-widgets/base",
          "model_name": "LayoutModel",
          "state": {
            "_view_name": "LayoutView",
            "grid_template_rows": null,
            "right": null,
            "justify_content": null,
            "_view_module": "@jupyter-widgets/base",
            "overflow": null,
            "_model_module_version": "1.2.0",
            "_view_count": null,
            "flex_flow": null,
            "width": null,
            "min_width": null,
            "border": null,
            "align_items": null,
            "bottom": null,
            "_model_module": "@jupyter-widgets/base",
            "top": null,
            "grid_column": null,
            "overflow_y": null,
            "overflow_x": null,
            "grid_auto_flow": null,
            "grid_area": null,
            "grid_template_columns": null,
            "flex": null,
            "_model_name": "LayoutModel",
            "justify_items": null,
            "grid_row": null,
            "max_height": null,
            "align_content": null,
            "visibility": null,
            "align_self": null,
            "height": null,
            "min_height": null,
            "padding": null,
            "grid_auto_rows": null,
            "grid_gap": null,
            "max_width": null,
            "order": null,
            "_view_module_version": "1.2.0",
            "grid_template_areas": null,
            "object_position": null,
            "object_fit": null,
            "grid_auto_columns": null,
            "margin": null,
            "display": null,
            "left": null
          }
        }
      }
    },
    "accelerator": "TPU"
  },
  "cells": [
    {
      "cell_type": "code",
      "metadata": {
        "id": "Z1a1YvqQMYwq",
        "colab_type": "code",
        "colab": {}
      },
      "source": [
        "!pip install gdal\n",
        "!pip install rasterio\n",
        "!pip install sentinelsat"
      ],
      "execution_count": 0,
      "outputs": []
    },
    {
      "cell_type": "code",
      "metadata": {
        "id": "RFoYRRBraO35",
        "colab_type": "code",
        "colab": {}
      },
      "source": [
        "from sentinelsat.sentinel import SentinelAPI, read_geojson, geojson_to_wkt\n",
        "import gdal\n",
        "from gdalconst import GA_ReadOnly \n",
        "import matplotlib.pyplot as plt\n",
        "%matplotlib inline \n",
        "import cv2\n",
        "import numpy as np\n",
        "from collections import Counter\n",
        "from tqdm import tqdm_notebook as tqdm\n",
        "IMG_SIZE=1031\n",
        "import rasterio\n",
        "from rasterio.plot import show\n",
        "import subprocess\n",
        "import os\n",
        "import math\n",
        "from sklearn.preprocessing import minmax_scale\n",
        "from google.colab import drive\n",
        "drive.mount('/content/drive')\n",
        "COORDINATE_SYSTEM='EPSG:32632'\n",
        "BIG_X_SIZE=12371\n",
        "BIG_Y_SIZE=12371"
      ],
      "execution_count": 0,
      "outputs": []
    },
    {
      "cell_type": "markdown",
      "metadata": {
        "id": "H8AocvjjPhJv",
        "colab_type": "text"
      },
      "source": [
        "# **GHS BUILT-UP**"
      ]
    },
    {
      "cell_type": "markdown",
      "metadata": {
        "id": "mc5cUgbQMsgh",
        "colab_type": "text"
      },
      "source": [
        "**DOWNLOAD CLC REFERENCE DATA**"
      ]
    },
    {
      "cell_type": "code",
      "metadata": {
        "id": "cMkDlUdYMcms",
        "colab_type": "code",
        "outputId": "4641865e-cffb-490d-da4a-cc419a4defc1",
        "colab": {
          "base_uri": "https://localhost:8080/",
          "height": 54
        }
      },
      "source": [
        "subprocess.run(['wget', 'https://land.copernicus.eu/land-files/7ac95361f9ac3cecdf37785bc183ff02dd765a16.zip'])\n",
        "subprocess.run(['unzip' ,'7ac95361f9ac3cecdf37785bc183ff02dd765a16.zip'])\n",
        "subprocess.run(['unzip' ,'clc2018_clc2018_v2018_20_raster100m.zip'])\n",
        "subprocess.run(['gdalwarp','-co','COMPRESS=DEFLATE','-t_srs',COORDINATE_SYSTEM,'clc2018_clc2018_v2018_20_raster100m/CLC2018_CLC2018_V2018_20.tif','europe.tif'])\n"
      ],
      "execution_count": 4,
      "outputs": [
        {
          "output_type": "execute_result",
          "data": {
            "text/plain": [
              "CompletedProcess(args=['gdalwarp', '-co', 'COMPRESS=DEFLATE', '-t_srs', 'EPSG:32632', 'clc2018_clc2018_v2018_20_raster100m/CLC2018_CLC2018_V2018_20.tif', 'europe.tif'], returncode=0)"
            ]
          },
          "metadata": {
            "tags": []
          },
          "execution_count": 4
        }
      ]
    },
    {
      "cell_type": "markdown",
      "metadata": {
        "id": "3TibEqxG3UVr",
        "colab_type": "text"
      },
      "source": [
        "**STEP 1 : DATA PREPROCESSING**"
      ]
    },
    {
      "cell_type": "code",
      "metadata": {
        "id": "7eprcUOi3EDs",
        "colab_type": "code",
        "colab": {}
      },
      "source": [
        "def download_scene(file_id):\n",
        "  api = SentinelAPI('s5pguest', 's5pguest',api_url='https://scihub.copernicus.eu/apihub')\n",
        "  api.download(file_id)\n",
        "\n",
        "def unzip_scene(file_name):\n",
        "  subprocess.call('unzip '+file_name,shell=True)\n",
        "\n",
        "def jp2_to_tif(input_file,output_file):\n",
        "  subprocess.call('gdal_translate ' +input_file+' '+output_file,shell=True)\n",
        "\n",
        "def clip_ref_scene(input_file,output_file):\n",
        "  data=gdal.Open(input_file,GA_ReadOnly) \n",
        "  geoTransform=data.GetGeoTransform() \n",
        "  minx=geoTransform[0] \n",
        "  maxy=geoTransform[3] \n",
        "  maxx = minx + geoTransform[1] * data.RasterXSize \n",
        "  miny = maxy + geoTransform[5] * data.RasterYSize \n",
        "  subprocess.call('gdal_translate -projwin ' + ' '.join([str(x) for x in [minx, maxy, maxx, miny]]) + ' -of GTiff europe.tif ' +output_file, shell=True) \n",
        "\n",
        "def resize_scene(input_file,output_file):\n",
        "  subprocess.call('gdal_translate -co QUALITY=100 -co PROGRESSIVE=ON -outsize '+str(IMG_SIZE)+' '+str(IMG_SIZE)+' -r bilinear '+input_file+' '+output_file,shell=True)\n",
        "\n",
        "def create_new_tif(sourceraster, targetraster,array2d,nbands):\n",
        "  with rasterio.open(sourceraster) as src:\n",
        "    data = src.read()\n",
        "    metadata = src.profile\n",
        "  metadata['count']=nbands\n",
        "  with rasterio.open(targetraster, 'w', **metadata) as dst:\n",
        "    dst.write(array2d, 1)\n",
        "    print('New tif created')\n",
        "\n",
        "def resize_scene_custom_size(input_file,output_file,xsize,ysize):\n",
        "  subprocess.call('gdal_translate -co QUALITY=100 -co PROGRESSIVE=ON -outsize '+str(xsize)+' '+str(ysize)+' '+input_file+' '+output_file,shell=True)\n",
        "\n",
        "def change_pixel_size(inputfile,outputfile,pixelsize):\n",
        "  subprocess.call('gdalwarp -tr '+ str(pixelsize)+' '+str(pixelsize)+' '+inputfile+' '+outputfile,shell=True)\n",
        "\n",
        "def change_coordinate_system(inputfile,outputfile):\n",
        "  subprocess.run(['gdalwarp','-co','COMPRESS=DEFLATE','-t_srs',COORDINATE_SYSTEM,inputfile,outputfile])\n",
        "\n",
        "def clip_ref_scene_pop(input_file,output_file):\n",
        "  data=gdal.Open(input_file,GA_ReadOnly) \n",
        "  geoTransform=data.GetGeoTransform() \n",
        "  minx=geoTransform[0] \n",
        "  maxy=geoTransform[3] \n",
        "  maxx = minx + geoTransform[1] * data.RasterXSize \n",
        "  miny = maxy + geoTransform[5] * data.RasterYSize \n",
        "  subprocess.call('gdal_translate -projwin ' + ' '.join([str(x) for x in [minx, maxy, maxx, miny]]) + ' -of GTiff world-population.tif ' +output_file, shell=True) "
      ],
      "execution_count": 0,
      "outputs": []
    },
    {
      "cell_type": "code",
      "metadata": {
        "id": "wNm3vAoqGJ3w",
        "colab_type": "code",
        "outputId": "fb989560-7f89-4e8c-cd72-8b7b01b6e3c8",
        "colab": {
          "base_uri": "https://localhost:8080/",
          "height": 50
        }
      },
      "source": [
        "download_scene('cbb628b9-8399-4a24-aaeb-b5d5bdc49be0')\n",
        "unzip_scene('/content/S2A_MSIL1C_20190926T105811_N0208_R094_T30TVK_20190926T130550.zip')\n",
        "jp2_to_tif('/content/S2A_MSIL1C_20190926T105811_N0208_R094_T30TVK_20190926T130550.SAFE/GRANULE/L1C_T30TVK_A022256_20190926T110642/IMG_DATA/T30TVK_20190926T105811_TCI.jp2','test-full-temp.tif')\n",
        "change_coordinate_system('test-full-temp.tif','test-full.tif')\n",
        "clip_ref_scene('test-full.tif','test-y-temp.tif')\n",
        "resize_scene('test-y-temp.tif','test-y.tif')\n",
        "resize_scene('test-full.tif','test.tif')\n",
        "jp2_to_tif('/content/S2A_MSIL1C_20190926T105811_N0208_R094_T30TVK_20190926T130550.SAFE/GRANULE/L1C_T30TVK_A022256_20190926T110642/IMG_DATA/T30TVK_20190926T105811_B08.jp2','test-b8-full-temp.tif')\n",
        "change_coordinate_system('test-b8-full-temp.tif','test-b8-full.tif')\n",
        "clip_ref_scene('test-b8-full.tif','test-b8-y-temp.tif')\n",
        "resize_scene('test-b8-y-temp.tif','test-b8-y.tif')\n",
        "resize_scene('test-b8-full.tif','test-b8.tif')\n"
      ],
      "execution_count": 6,
      "outputs": [
        {
          "output_type": "stream",
          "text": [
            "Downloading: 100%|██████████| 900M/900M [00:31<00:00, 28.1MB/s]\n",
            "MD5 checksumming: 100%|██████████| 900M/900M [00:02<00:00, 439MB/s]\n"
          ],
          "name": "stderr"
        }
      ]
    },
    {
      "cell_type": "code",
      "metadata": {
        "id": "eZKaYtiJnqQs",
        "colab_type": "code",
        "colab": {
          "base_uri": "https://localhost:8080/",
          "height": 50
        },
        "outputId": "e504a4ee-de3a-4ad3-b2cb-a68735fe1c6e"
      },
      "source": [
        "download_scene('742eb824-df10-4402-866e-0d92e8575aa4')\n",
        "unzip_scene('/content/S2A_MSIL1C_20190723T101031_N0208_R022_T32TQQ_20190723T121220.zip')\n",
        "jp2_to_tif('/content/S2A_MSIL1C_20190723T101031_N0208_R022_T32TQQ_20190723T121220.SAFE/GRANULE/L1C_T32TQQ_A021326_20190723T101347/IMG_DATA/T32TQQ_20190723T101031_TCI.jp2','test-full-temp.tif')\n",
        "change_coordinate_system('test-full-temp.tif','test-full.tif')\n",
        "clip_ref_scene('test-full.tif','test-y-temp.tif')\n",
        "resize_scene('test-y-temp.tif','test-y.tif')\n",
        "resize_scene('test-full.tif','test.tif')\n",
        "jp2_to_tif('/content/S2A_MSIL1C_20190723T101031_N0208_R022_T32TQQ_20190723T121220.SAFE/GRANULE/L1C_T32TQQ_A021326_20190723T101347/IMG_DATA/T32TQQ_20190723T101031_B08.jp2','test-b8-full-temp.tif')\n",
        "change_coordinate_system('test-b8-full-temp.tif','test-b8-full.tif')\n",
        "clip_ref_scene('test-b8-full.tif','test-b8-y-temp.tif')\n",
        "resize_scene('test-b8-y-temp.tif','test-b8-y.tif')\n",
        "resize_scene('test-b8-full.tif','test-b8.tif')"
      ],
      "execution_count": 134,
      "outputs": [
        {
          "output_type": "stream",
          "text": [
            "Downloading: 100%|██████████| 757M/757M [00:26<00:00, 29.2MB/s]\n",
            "MD5 checksumming: 100%|██████████| 757M/757M [00:01<00:00, 434MB/s]\n"
          ],
          "name": "stderr"
        }
      ]
    },
    {
      "cell_type": "markdown",
      "metadata": {
        "colab_type": "text",
        "id": "jPMzARDeN1pE"
      },
      "source": [
        "**DOWNLOAD GPW DATA**"
      ]
    },
    {
      "cell_type": "code",
      "metadata": {
        "colab_type": "code",
        "id": "t_oZDcf9N1pI",
        "outputId": "7fd6f25f-3ac0-43a8-bb05-0cd5e951394a",
        "colab": {
          "base_uri": "https://localhost:8080/",
          "height": 67
        }
      },
      "source": [
        "!unzip '/content/drive/My Drive/Colab_Notebooks/gpw-v4-population-count-rev11_2015_30_sec_tif.zip'\n",
        "change_coordinate_system('/content/gpw_v4_population_count_rev11_2015_30_sec.tif','world-population.tif')\n",
        "# clip_ref_scene_pop('test-full.tif','test-pop-full.tif')\n",
        "# resize_scene('test-pop-full.tif','test-pop.tif')"
      ],
      "execution_count": 7,
      "outputs": [
        {
          "output_type": "stream",
          "text": [
            "Archive:  /content/drive/My Drive/Colab_Notebooks/gpw-v4-population-count-rev11_2015_30_sec_tif.zip\n",
            "  inflating: gpw_v4_population_count_rev11_2015_30_sec.tif  \n",
            "  inflating: gpw_v4_population_count_rev11_2015_30_sec_tif_readme.txt  \n"
          ],
          "name": "stdout"
        }
      ]
    },
    {
      "cell_type": "code",
      "metadata": {
        "id": "ltZFj9WoNM6B",
        "colab_type": "code",
        "outputId": "8339029c-8899-42b8-85f3-e3efcd2ffbc5",
        "colab": {
          "base_uri": "https://localhost:8080/",
          "height": 50
        }
      },
      "source": [
        "download_scene('4f07815d-5709-4b0b-8fdd-7e12c78e6546')\n",
        "unzip_scene('S2A_MSIL1C_20190629T103031_N0207_R108_T32UMV_20190629T124358.zip')\n",
        "jp2_to_tif('/content/S2A_MSIL1C_20190629T103031_N0207_R108_T32UMV_20190629T124358.SAFE/GRANULE/L1C_T32UMV_A020983_20190629T103537/IMG_DATA/T32UMV_20190629T103031_TCI.jp2','s1-full0.tif')\n",
        "change_coordinate_system('s1-full0.tif','s1-full.tif')\n",
        "clip_ref_scene('s1-full.tif','s1-y-temp.tif')\n",
        "resize_scene('s1-y-temp.tif','s1-y.tif')\n",
        "resize_scene('s1-full.tif','s1.tif')\n",
        "jp2_to_tif('/content/S2A_MSIL1C_20190629T103031_N0207_R108_T32UMV_20190629T124358.SAFE/GRANULE/L1C_T32UMV_A020983_20190629T103537/IMG_DATA/T32UMV_20190629T103031_B08.jp2','s1-b8-full0.tif')\n",
        "change_coordinate_system('s1-b8-full0.tif','s1-b8-full.tif')\n",
        "clip_ref_scene('s1-b8-full.tif','s1-b8-y-temp.tif')\n",
        "resize_scene('s1-b8-y-temp.tif','s1-b8-y.tif')\n",
        "resize_scene('s1-b8-full.tif','s1-b8.tif')"
      ],
      "execution_count": 8,
      "outputs": [
        {
          "output_type": "stream",
          "text": [
            "Downloading: 100%|██████████| 854M/854M [00:30<00:00, 27.7MB/s]\n",
            "MD5 checksumming: 100%|██████████| 854M/854M [00:01<00:00, 441MB/s]\n"
          ],
          "name": "stderr"
        }
      ]
    },
    {
      "cell_type": "code",
      "metadata": {
        "id": "_aXVnyDdPP5_",
        "colab_type": "code",
        "outputId": "31e34e69-eadc-40d1-c9c8-43532c881d62",
        "colab": {
          "base_uri": "https://localhost:8080/",
          "height": 50
        }
      },
      "source": [
        "download_scene('03cf3314-1b05-46f1-af1b-cee2652edf2b')\n",
        "unzip_scene('S2B_MSIL1C_20190724T103029_N0208_R108_T32UMV_20190724T122822.zip')\n",
        "jp2_to_tif('/content/S2B_MSIL1C_20190724T103029_N0208_R108_T32UMV_20190724T122822.SAFE/GRANULE/L1C_T32UMV_A012432_20190724T103030/IMG_DATA/T32UMV_20190724T103029_TCI.jp2','s2-full0.tif')\n",
        "change_coordinate_system('s2-full0.tif','s2-full.tif')\n",
        "clip_ref_scene('s2-full.tif','s2-y-temp.tif')\n",
        "resize_scene('s2-y-temp.tif','s2-y.tif')\n",
        "resize_scene('s2-full.tif','s2.tif')\n",
        "jp2_to_tif('/content/S2B_MSIL1C_20190724T103029_N0208_R108_T32UMV_20190724T122822.SAFE/GRANULE/L1C_T32UMV_A012432_20190724T103030/IMG_DATA/T32UMV_20190724T103029_B08.jp2','s2-b8-full0.tif')\n",
        "change_coordinate_system('s2-b8-full0.tif','s2-b8-full.tif')\n",
        "clip_ref_scene('s2-b8-full.tif','s2-b8-y-temp.tif')\n",
        "resize_scene('s2-b8-y-temp.tif','s2-b8-y.tif')\n",
        "resize_scene('s2-b8-full.tif','s2-b8.tif')"
      ],
      "execution_count": 9,
      "outputs": [
        {
          "output_type": "stream",
          "text": [
            "Downloading: 100%|██████████| 840M/840M [00:36<00:00, 23.3MB/s]\n",
            "MD5 checksumming: 100%|██████████| 840M/840M [00:01<00:00, 442MB/s]\n"
          ],
          "name": "stderr"
        }
      ]
    },
    {
      "cell_type": "code",
      "metadata": {
        "id": "theSLX7TCzWm",
        "colab_type": "code",
        "outputId": "3b6d0f77-0ae4-4aad-f3a4-633c6a1ea7a5",
        "colab": {
          "base_uri": "https://localhost:8080/",
          "height": 50
        }
      },
      "source": [
        "download_scene('67a87302-2ff4-4c81-9e5e-792367578f6d')\n",
        "unzip_scene('S2B_MSIL1C_20190921T105739_N0208_R094_T30UYC_20190921T131721.zip')\n",
        "jp2_to_tif('/content/S2B_MSIL1C_20190921T105739_N0208_R094_T30UYC_20190921T131721.SAFE/GRANULE/L1C_T30UYC_A013276_20190921T110218/IMG_DATA/T30UYC_20190921T105739_TCI.jp2','s3-full-temp.tif')\n",
        "change_coordinate_system('s3-full-temp.tif','s3-full.tif')\n",
        "clip_ref_scene('s3-full.tif','s3-y-temp.tif')\n",
        "resize_scene('s3-y-temp.tif','s3-y.tif')\n",
        "resize_scene('s3-full.tif','s3.tif')\n",
        "jp2_to_tif('/content/S2B_MSIL1C_20190921T105739_N0208_R094_T30UYC_20190921T131721.SAFE/GRANULE/L1C_T30UYC_A013276_20190921T110218/IMG_DATA/T30UYC_20190921T105739_B08.jp2','s3-b8-full-temp.tif')\n",
        "change_coordinate_system('s3-b8-full-temp.tif','s3-b8-full.tif')\n",
        "clip_ref_scene('s3-b8-full.tif','s3-b8-y-temp.tif')\n",
        "resize_scene('s3-b8-y-temp.tif','s3-b8-y.tif')\n",
        "resize_scene('s3-b8-full.tif','s3-b8.tif')"
      ],
      "execution_count": 10,
      "outputs": [
        {
          "output_type": "stream",
          "text": [
            "Downloading: 100%|██████████| 818M/818M [00:28<00:00, 28.4MB/s]\n",
            "MD5 checksumming: 100%|██████████| 818M/818M [00:01<00:00, 437MB/s]\n"
          ],
          "name": "stderr"
        }
      ]
    },
    {
      "cell_type": "code",
      "metadata": {
        "id": "ZQxGlIB8I14v",
        "colab_type": "code",
        "outputId": "740bfa04-df54-45b2-c2ae-07c0498b2a19",
        "colab": {
          "base_uri": "https://localhost:8080/",
          "height": 50
        }
      },
      "source": [
        "download_scene('c04d2ba0-4880-4dcf-a733-879231478aa3')\n",
        "unzip_scene('S2B_MSIL1C_20190724T103029_N0208_R108_T31TGN_20190724T122822.zip')\n",
        "jp2_to_tif('/content/S2B_MSIL1C_20190724T103029_N0208_R108_T31TGN_20190724T122822.SAFE/GRANULE/L1C_T31TGN_A012432_20190724T103030/IMG_DATA/T31TGN_20190724T103029_TCI.jp2','s4-full-temp.tif')\n",
        "change_coordinate_system('s4-full-temp.tif','s4-full.tif')\n",
        "clip_ref_scene('s4-full.tif','s4-y-temp.tif')\n",
        "resize_scene('s4-y-temp.tif','s4-y.tif')\n",
        "resize_scene('s4-full.tif','s4.tif')\n",
        "jp2_to_tif('/content/S2B_MSIL1C_20190724T103029_N0208_R108_T31TGN_20190724T122822.SAFE/GRANULE/L1C_T31TGN_A012432_20190724T103030/IMG_DATA/T31TGN_20190724T103029_B08.jp2','s4-b8-full-temp.tif')\n",
        "change_coordinate_system('s4-b8-full-temp.tif','s4-b8-full.tif')\n",
        "clip_ref_scene('s4-b8-full.tif','s4-b8-y-temp.tif')\n",
        "resize_scene('s4-b8-y-temp.tif','s4-b8-y.tif')\n",
        "resize_scene('s4-b8-full.tif','s4-b8.tif')"
      ],
      "execution_count": 11,
      "outputs": [
        {
          "output_type": "stream",
          "text": [
            "Downloading: 100%|██████████| 824M/824M [00:29<00:00, 28.3MB/s]\n",
            "MD5 checksumming: 100%|██████████| 824M/824M [00:01<00:00, 442MB/s]\n"
          ],
          "name": "stderr"
        }
      ]
    },
    {
      "cell_type": "code",
      "metadata": {
        "id": "eIxGrcIFQYar",
        "colab_type": "code",
        "outputId": "efe33d00-0f23-408e-d426-5338b7e38ef3",
        "colab": {
          "base_uri": "https://localhost:8080/",
          "height": 50
        }
      },
      "source": [
        "download_scene('4557d038-7f7e-4356-b410-5c6e7d741e7f')\n",
        "unzip_scene('/content/S2A_MSIL1C_20190904T102021_N0208_R065_T32TNT_20190904T123501.zip')\n",
        "jp2_to_tif('/content/S2A_MSIL1C_20190904T102021_N0208_R065_T32TNT_20190904T123501.SAFE/GRANULE/L1C_T32TNT_A021941_20190904T102045/IMG_DATA/T32TNT_20190904T102021_TCI.jp2','s5-full0.tif')\n",
        "change_coordinate_system('s5-full0.tif','s5-full.tif')\n",
        "clip_ref_scene('s5-full.tif','s5-y-temp.tif')\n",
        "resize_scene('s5-y-temp.tif','s5-y.tif')\n",
        "resize_scene('s5-full.tif','s5.tif')\n",
        "jp2_to_tif('/content/S2A_MSIL1C_20190904T102021_N0208_R065_T32TNT_20190904T123501.SAFE/GRANULE/L1C_T32TNT_A021941_20190904T102045/IMG_DATA/T32TNT_20190904T102021_B08.jp2','s5-b8-full0.tif')\n",
        "change_coordinate_system('s5-b8-full0.tif','s5-b8-full.tif')\n",
        "clip_ref_scene('s5-b8-full.tif','s5-b8-y-temp.tif')\n",
        "resize_scene('s5-b8-y-temp.tif','s5-b8-y.tif')\n",
        "resize_scene('s5-b8-full.tif','s5-b8.tif')"
      ],
      "execution_count": 12,
      "outputs": [
        {
          "output_type": "stream",
          "text": [
            "Downloading: 100%|██████████| 847M/847M [00:30<00:00, 28.2MB/s]\n",
            "MD5 checksumming: 100%|██████████| 847M/847M [00:01<00:00, 439MB/s]\n"
          ],
          "name": "stderr"
        }
      ]
    },
    {
      "cell_type": "code",
      "metadata": {
        "id": "Nk8gd31NQYeh",
        "colab_type": "code",
        "outputId": "e7312403-a4a5-485c-a636-d03f180b068b",
        "colab": {
          "base_uri": "https://localhost:8080/",
          "height": 50
        }
      },
      "source": [
        "download_scene('336a6ef0-784a-4a90-8333-02ed7ae93b85')\n",
        "unzip_scene('/content/S2B_MSIL1C_20190913T100029_N0208_R122_T33TVJ_20190913T134222.zip')\n",
        "jp2_to_tif('/content/S2B_MSIL1C_20190913T100029_N0208_R122_T33TVJ_20190913T134222.SAFE/GRANULE/L1C_T33TVJ_A013161_20190913T100548/IMG_DATA/T33TVJ_20190913T100029_TCI.jp2','s6-full-temp.tif')\n",
        "change_coordinate_system('s6-full-temp.tif','s6-full.tif')\n",
        "clip_ref_scene('s6-full.tif','s6-y-temp.tif')\n",
        "resize_scene('s6-y-temp.tif','s6-y.tif')\n",
        "resize_scene('s6-full.tif','s6.tif')\n",
        "jp2_to_tif('/content/S2B_MSIL1C_20190913T100029_N0208_R122_T33TVJ_20190913T134222.SAFE/GRANULE/L1C_T33TVJ_A013161_20190913T100548/IMG_DATA/T33TVJ_20190913T100029_B08.jp2','s6-b8-full-temp.tif')\n",
        "change_coordinate_system('s6-b8-full-temp.tif','s6-b8-full.tif')\n",
        "clip_ref_scene('s6-b8-full.tif','s6-b8-y-temp.tif')\n",
        "resize_scene('s6-b8-y-temp.tif','s6-b8-y.tif')\n",
        "resize_scene('s6-b8-full.tif','s6-b8.tif')"
      ],
      "execution_count": 13,
      "outputs": [
        {
          "output_type": "stream",
          "text": [
            "Downloading: 100%|██████████| 555M/555M [00:19<00:00, 28.1MB/s]\n",
            "MD5 checksumming: 100%|██████████| 555M/555M [00:01<00:00, 429MB/s]\n"
          ],
          "name": "stderr"
        }
      ]
    },
    {
      "cell_type": "code",
      "metadata": {
        "id": "mmGBNaUol3r-",
        "colab_type": "code",
        "outputId": "2cda644b-f65c-40c9-f79a-6c943313ff7b",
        "colab": {
          "base_uri": "https://localhost:8080/",
          "height": 50
        }
      },
      "source": [
        "download_scene('e27091e1-9c59-4326-8b3f-2dfd81d99c65')\n",
        "unzip_scene('/content/S2A_MSIL1C_20190922T094031_N0208_R036_T34TCT_20190922T101504.zip')\n",
        "jp2_to_tif('/content/S2A_MSIL1C_20190922T094031_N0208_R036_T34TCT_20190922T101504.SAFE/GRANULE/L1C_T34TCT_A022198_20190922T094031/IMG_DATA/T34TCT_20190922T094031_TCI.jp2','s7-full-temp.tif')\n",
        "change_coordinate_system('s7-full-temp.tif','s7-full.tif')\n",
        "clip_ref_scene('s7-full.tif','s7-y-temp.tif')\n",
        "resize_scene('s7-y-temp.tif','s7-y.tif')\n",
        "resize_scene('s7-full.tif','s7.tif')\n",
        "jp2_to_tif('/content/S2A_MSIL1C_20190922T094031_N0208_R036_T34TCT_20190922T101504.SAFE/GRANULE/L1C_T34TCT_A022198_20190922T094031/IMG_DATA/T34TCT_20190922T094031_B08.jp2','s7-b8-full-temp.tif')\n",
        "change_coordinate_system('s7-b8-full-temp.tif','s7-b8-full.tif')\n",
        "clip_ref_scene('s7-b8-full.tif','s7-b8-y-temp.tif')\n",
        "resize_scene('s7-b8-y-temp.tif','s7-b8-y.tif')\n",
        "resize_scene('s7-b8-full.tif','s7-b8.tif')"
      ],
      "execution_count": 14,
      "outputs": [
        {
          "output_type": "stream",
          "text": [
            "Downloading: 100%|██████████| 839M/839M [00:30<00:00, 27.5MB/s]\n",
            "MD5 checksumming: 100%|██████████| 839M/839M [00:01<00:00, 439MB/s]\n"
          ],
          "name": "stderr"
        }
      ]
    },
    {
      "cell_type": "markdown",
      "metadata": {
        "id": "ixJUkrMgcU8L",
        "colab_type": "text"
      },
      "source": [
        "**VISUALIZE TEST SET - PORTO VIRO REGION - ITALY**"
      ]
    },
    {
      "cell_type": "code",
      "metadata": {
        "id": "D5VzCQizzh_7",
        "colab_type": "code",
        "outputId": "0b104cb3-5176-4408-9c03-e8fd4a375677",
        "colab": {
          "base_uri": "https://localhost:8080/",
          "height": 286
        }
      },
      "source": [
        "dataset = rasterio.open('test.tif')\n",
        "show(dataset.read([1,2,3]))"
      ],
      "execution_count": 214,
      "outputs": [
        {
          "output_type": "display_data",
          "data": {
            "image/png": "[encoded data removed]",
            "text/plain": [
              "<Figure size 432x288 with 1 Axes>"
            ]
          },
          "metadata": {
            "tags": []
          }
        },
        {
          "output_type": "execute_result",
          "data": {
            "text/plain": [
              "<matplotlib.axes._subplots.AxesSubplot at 0x7f8b954a4978>"
            ]
          },
          "metadata": {
            "tags": []
          },
          "execution_count": 214
        }
      ]
    },
    {
      "cell_type": "code",
      "metadata": {
        "id": "i__Huo409P2W",
        "colab_type": "code",
        "colab": {}
      },
      "source": [
        "tif1=gdal.Open('s1.tif')\n",
        "s1r = tif1.GetRasterBand(1).ReadAsArray()\n",
        "s1g = tif1.GetRasterBand(2).ReadAsArray()\n",
        "s1b = tif1.GetRasterBand(3).ReadAsArray()\n",
        "tif1=gdal.Open('s1-b8.tif')\n",
        "s1b8=tif1.GetRasterBand(1).ReadAsArray()\n",
        "\n",
        "tif1=gdal.Open('s2.tif')\n",
        "s2r = tif1.GetRasterBand(1).ReadAsArray()\n",
        "s2g = tif1.GetRasterBand(2).ReadAsArray()\n",
        "s2b = tif1.GetRasterBand(3).ReadAsArray()\n",
        "tif1=gdal.Open('s2-b8.tif')\n",
        "s2b8=tif1.GetRasterBand(1).ReadAsArray()\n",
        "\n",
        "tif1=gdal.Open('s3.tif')\n",
        "s3r = tif1.GetRasterBand(1).ReadAsArray()\n",
        "s3g = tif1.GetRasterBand(2).ReadAsArray()\n",
        "s3b = tif1.GetRasterBand(3).ReadAsArray()\n",
        "tif1=gdal.Open('s3-b8.tif')\n",
        "s3b8=tif1.GetRasterBand(1).ReadAsArray()\n",
        "\n",
        "tif1=gdal.Open('s4.tif')\n",
        "s4r = tif1.GetRasterBand(1).ReadAsArray()\n",
        "s4g = tif1.GetRasterBand(2).ReadAsArray()\n",
        "s4b = tif1.GetRasterBand(3).ReadAsArray()\n",
        "tif1=gdal.Open('s4-b8.tif')\n",
        "s4b8=tif1.GetRasterBand(1).ReadAsArray()\n",
        "\n",
        "tif1=gdal.Open('s5.tif')\n",
        "s5r = tif1.GetRasterBand(1).ReadAsArray()\n",
        "s5g = tif1.GetRasterBand(2).ReadAsArray()\n",
        "s5b = tif1.GetRasterBand(3).ReadAsArray()\n",
        "tif1=gdal.Open('s5-b8.tif')\n",
        "s5b8=tif1.GetRasterBand(1).ReadAsArray()\n",
        "\n",
        "tif1=gdal.Open('s6.tif')\n",
        "s6r = tif1.GetRasterBand(1).ReadAsArray()\n",
        "s6g = tif1.GetRasterBand(2).ReadAsArray()\n",
        "s6b = tif1.GetRasterBand(3).ReadAsArray()\n",
        "tif1=gdal.Open('s6-b8.tif')\n",
        "s6b8=tif1.GetRasterBand(1).ReadAsArray()\n",
        "\n",
        "tif1=gdal.Open('s7.tif')\n",
        "s7r = tif1.GetRasterBand(1).ReadAsArray()\n",
        "s7g = tif1.GetRasterBand(2).ReadAsArray()\n",
        "s7b = tif1.GetRasterBand(3).ReadAsArray()\n",
        "tif1=gdal.Open('s7-b8.tif')\n",
        "s7b8=tif1.GetRasterBand(1).ReadAsArray()"
      ],
      "execution_count": 0,
      "outputs": []
    },
    {
      "cell_type": "code",
      "metadata": {
        "id": "UeXgX8gGJ1zr",
        "colab_type": "code",
        "colab": {}
      },
      "source": [
        "tif2=gdal.Open('test-y.tif')\n",
        "Y_raster_test= tif2.GetRasterBand(1).ReadAsArray()\n",
        "Y_raster_test[Y_raster_test < 100] = 999\n",
        "Y_raster_test[(Y_raster_test > 100)&(Y_raster_test <= 150)] = 0\n",
        "Y_raster_test[(Y_raster_test > 150) & (Y_raster_test < 450)] = 125\n",
        "Y_raster_test[(Y_raster_test >= 450) & (Y_raster_test < 530)] = 255\n",
        "Y_raster_test[Y_raster_test > 530] = 255"
      ],
      "execution_count": 0,
      "outputs": []
    },
    {
      "cell_type": "code",
      "metadata": {
        "id": "PgbzHx-TZnCq",
        "colab_type": "code",
        "colab": {}
      },
      "source": [
        "Y_list=[]\n",
        "for i in range(1,8):\n",
        "    tif2=gdal.Open('s'+str(i)+'-y.tif')\n",
        "    Y_raster_s1 = tif2.GetRasterBand(1).ReadAsArray()\n",
        "    Y_raster_s1[Y_raster_s1 < 100] = 999\n",
        "    Y_raster_s1[(Y_raster_s1 > 100)&(Y_raster_s1 <= 150)] = 0\n",
        "    Y_raster_s1[(Y_raster_s1 > 150) & (Y_raster_s1 < 450)] = 125\n",
        "    Y_raster_s1[(Y_raster_s1 >= 450) & (Y_raster_s1 < 530)] = 255\n",
        "    Y_raster_s1[Y_raster_s1 > 530] = 255\n",
        "    Y_list=Y_list+(Y_raster_s1.flatten().tolist())"
      ],
      "execution_count": 0,
      "outputs": []
    },
    {
      "cell_type": "code",
      "metadata": {
        "id": "Fje5-W0HDzrv",
        "colab_type": "code",
        "outputId": "b8cc6a70-c334-4018-a92b-5bb941c5d99e",
        "colab": {
          "base_uri": "https://localhost:8080/",
          "height": 34
        }
      },
      "source": [
        "print(np.unique(Y_list))"
      ],
      "execution_count": 141,
      "outputs": [
        {
          "output_type": "stream",
          "text": [
            "[  0 125 255]\n"
          ],
          "name": "stdout"
        }
      ]
    },
    {
      "cell_type": "code",
      "metadata": {
        "id": "eQz8Q81IEHjN",
        "colab_type": "code",
        "colab": {}
      },
      "source": [
        "#CONVERT RGB BANDS AS INPUT FEATURE SEQUENCES\n",
        "#QUANTIZATION\n",
        "\n",
        "rband_list=s1r.flatten().tolist()\n",
        "rband_list=rband_list+(s2r.flatten().tolist())\n",
        "rband_list=rband_list+(s3r.flatten().tolist())\n",
        "rband_list=rband_list+(s4r.flatten().tolist())\n",
        "rband_list=rband_list+(s5r.flatten().tolist())\n",
        "rband_list=rband_list+(s6r.flatten().tolist())\n",
        "rband_list=rband_list+(s7r.flatten().tolist())\n",
        "\n",
        "gband_list=s1g.flatten().tolist()\n",
        "gband_list=gband_list+(s2g.flatten().tolist())\n",
        "gband_list=gband_list+(s3g.flatten().tolist())\n",
        "gband_list=gband_list+(s4g.flatten().tolist())\n",
        "gband_list=gband_list+(s5g.flatten().tolist())\n",
        "gband_list=gband_list+(s6g.flatten().tolist())\n",
        "gband_list=gband_list+(s7g.flatten().tolist())\n",
        "\n",
        "bband_list=s1b.flatten().tolist()\n",
        "bband_list=bband_list+(s2b.flatten().tolist())\n",
        "bband_list=bband_list+(s3b.flatten().tolist())\n",
        "bband_list=bband_list+(s4b.flatten().tolist())\n",
        "bband_list=bband_list+(s5b.flatten().tolist())\n",
        "bband_list=bband_list+(s6b.flatten().tolist())\n",
        "bband_list=bband_list+(s7b.flatten().tolist())\n",
        "\n",
        "band8_list=s1b8.flatten().tolist()\n",
        "band8_list=band8_list+(s2b8.flatten().tolist())\n",
        "band8_list=band8_list+(s3b8.flatten().tolist())\n",
        "band8_list=band8_list+(s4b8.flatten().tolist())\n",
        "band8_list=band8_list+(s5b8.flatten().tolist())\n",
        "band8_list=band8_list+(s6b8.flatten().tolist())\n",
        "band8_list=band8_list+(s7b8.flatten().tolist())\n",
        "\n",
        "q1=max(rband_list)/16\n",
        "q2=max(gband_list)/16\n",
        "q3=max(bband_list)/16\n",
        "q4=max(band8_list)/16\n",
        "\n",
        "rband_list = [round(math.floor(x+0.5)/q1) for x in rband_list]\n",
        "gband_list = [round(math.floor(x+0.5)/q2) for x in gband_list]\n",
        "bband_list = [round(math.floor(x+0.5)/q3) for x in bband_list]\n",
        "band8_list = [round(math.floor(x+0.5)/q4) for x in band8_list]"
      ],
      "execution_count": 0,
      "outputs": []
    },
    {
      "cell_type": "code",
      "metadata": {
        "id": "iyaKFSYjTXGE",
        "colab_type": "code",
        "outputId": "c6322c3f-573c-4f6c-b3b2-0d5503c66e4b",
        "colab": {
          "base_uri": "https://localhost:8080/",
          "height": 34
        }
      },
      "source": [
        "print(len(rband_list))"
      ],
      "execution_count": 143,
      "outputs": [
        {
          "output_type": "stream",
          "text": [
            "7440727\n"
          ],
          "name": "stdout"
        }
      ]
    },
    {
      "cell_type": "markdown",
      "metadata": {
        "id": "G6x9yhlajJ8M",
        "colab_type": "text"
      },
      "source": [
        "***SEQUENCE LIST AND ANTECEDENT-CONSEQUENT LIST(X->Y)***"
      ]
    },
    {
      "cell_type": "code",
      "metadata": {
        "id": "ZsgmJ8Kew52V",
        "colab_type": "code",
        "colab": {}
      },
      "source": [
        "sequences_list=[]\n",
        "ante_consq_list=[]"
      ],
      "execution_count": 0,
      "outputs": []
    },
    {
      "cell_type": "code",
      "metadata": {
        "id": "mgDj_gvvthgO",
        "colab_type": "code",
        "outputId": "7bff760c-0ea5-485c-df58-9edf2fd68c09",
        "colab": {
          "base_uri": "https://localhost:8080/",
          "height": 82,
          "referenced_widgets": [
            "ee3012354f0f41e6985e655ebcc1af48",
            "db439c8ab8744bf1857eeb29346b4822",
            "ac1a029162a6494ea84f4d6214ee4db5",
            "db300c1790694d25b907a699bcf268e7",
            "35ea35b4cb92483294844675c6d9bb8a",
            "a410b0c7cdd1480b8625faf7cbc71a29",
            "ff4957ab71304b0b8d4178bd093f5beb",
            "7f8d8799d5ef4289b3f212f976fd728a"
          ]
        }
      },
      "source": [
        "for i in tqdm(range(len(rband_list))):\n",
        "  sequences_list.append((rband_list[i],gband_list[i],bband_list[i],band8_list[i]))\n",
        "  ante_consq_list.append((rband_list[i],gband_list[i],bband_list[i],band8_list[i],Y_list[i]))\n",
        "\n",
        "print('BUILDING DATA DONE')\n"
      ],
      "execution_count": 145,
      "outputs": [
        {
          "output_type": "display_data",
          "data": {
            "application/vnd.jupyter.widget-view+json": {
              "model_id": "ee3012354f0f41e6985e655ebcc1af48",
              "version_minor": 0,
              "version_major": 2
            },
            "text/plain": [
              "HBox(children=(IntProgress(value=0, max=7440727), HTML(value='')))"
            ]
          },
          "metadata": {
            "tags": []
          }
        },
        {
          "output_type": "stream",
          "text": [
            "\n",
            "BUILDING DATA DONE\n"
          ],
          "name": "stdout"
        }
      ]
    },
    {
      "cell_type": "markdown",
      "metadata": {
        "id": "iCVRyjESjwwL",
        "colab_type": "text"
      },
      "source": [
        "***RANDOM EXAMPLE - DATA STRUCTURE (R, G, B, B8, CLASS_LABEL)***"
      ]
    },
    {
      "cell_type": "code",
      "metadata": {
        "id": "HrJF9PIIthju",
        "colab_type": "code",
        "outputId": "6576f1de-1d44-4129-866f-91b5b8b83153",
        "colab": {
          "base_uri": "https://localhost:8080/",
          "height": 34
        }
      },
      "source": [
        "print ((ante_consq_list[600]))"
      ],
      "execution_count": 146,
      "outputs": [
        {
          "output_type": "stream",
          "text": [
            "(2, 3, 4, 3, 125)\n"
          ],
          "name": "stdout"
        }
      ]
    },
    {
      "cell_type": "markdown",
      "metadata": {
        "id": "O843PnPQj9p_",
        "colab_type": "text"
      },
      "source": [
        "***FIND UNIQUE SEQUENCES(X-cap) AND COUNT***"
      ]
    },
    {
      "cell_type": "code",
      "metadata": {
        "id": "W32qBvF1thnU",
        "colab_type": "code",
        "outputId": "53971a82-d3a4-43f6-91cf-39f08cae7989",
        "colab": {
          "base_uri": "https://localhost:8080/",
          "height": 50
        }
      },
      "source": [
        "print('UNIQUE SEQUENCES COUNT: ')\n",
        "print(len(list(set(sequences_list))))\n",
        "unique_X_sequences=list(set(sequences_list))"
      ],
      "execution_count": 147,
      "outputs": [
        {
          "output_type": "stream",
          "text": [
            "UNIQUE SEQUENCES COUNT: \n",
            "862\n"
          ],
          "name": "stdout"
        }
      ]
    },
    {
      "cell_type": "markdown",
      "metadata": {
        "id": "6u71bdBBsWU9",
        "colab_type": "text"
      },
      "source": [
        "\n",
        "\n",
        "---\n",
        "\n"
      ]
    },
    {
      "cell_type": "markdown",
      "metadata": {
        "id": "9tfHuR7ckert",
        "colab_type": "text"
      },
      "source": [
        "***STEP 2:***\n",
        "\n",
        "*   ***ASSOCIATION ANALYSIS***\n",
        "*   ***EVIDENCE BASED NORMALIZED DIFFERENTIAL INDEX(ENDI) MEASURE***\n",
        "\n",
        "\n"
      ]
    },
    {
      "cell_type": "markdown",
      "metadata": {
        "id": "CDwyOG-sluFT",
        "colab_type": "text"
      },
      "source": [
        "***HELPER FUNCTIONS:***"
      ]
    },
    {
      "cell_type": "code",
      "metadata": {
        "id": "PBmN7nsvxTGb",
        "colab_type": "code",
        "colab": {}
      },
      "source": [
        "#ONE VARIATION OF ENDI INTERESTINGNESS MEASURE\n",
        "def calculate_ENDI(positive,negative):\n",
        "  if (positive==0) and (negative==0) : return 0\n",
        "  return (positive-negative)/(positive+negative)"
      ],
      "execution_count": 0,
      "outputs": []
    },
    {
      "cell_type": "code",
      "metadata": {
        "id": "Q5DdKX6Z51Jm",
        "colab_type": "code",
        "colab": {}
      },
      "source": [
        "#POSITIVE EVIDENCES\n",
        "def positive_count(sequence,class_name):\n",
        "  item = list(sequence)\n",
        "  item.append(class_name)\n",
        "  c=counter[tuple(item)]\n",
        "  return c\n",
        "\n",
        "#NEGATIVE EVIDENCES\n",
        "def negative_count(sequence, class_list):\n",
        "  negative_classcount=0\n",
        "  for c in  class_list:\n",
        "    item = list(sequence)\n",
        "    item.append(c)\n",
        "    negative_classcount=negative_classcount+counter[tuple(item)]\n",
        "\n",
        "  return negative_classcount"
      ],
      "execution_count": 0,
      "outputs": []
    },
    {
      "cell_type": "code",
      "metadata": {
        "id": "GqVeHx5El9b7",
        "colab_type": "code",
        "colab": {}
      },
      "source": [
        "#COUNT FREQUENCIES OF EACH UNIQUE SEQUENCE\n",
        "counter=Counter(ante_consq_list)"
      ],
      "execution_count": 0,
      "outputs": []
    },
    {
      "cell_type": "markdown",
      "metadata": {
        "id": "N6c40R8gtgYA",
        "colab_type": "text"
      },
      "source": [
        "***CALCULATE ENDI MEASURE FOR ALL THE CLASSES PER SEQUENCE DATA***"
      ]
    },
    {
      "cell_type": "code",
      "metadata": {
        "id": "BHa17NbP4P6R",
        "colab_type": "code",
        "outputId": "947a1a0b-178b-4bdb-9f10-e1d67d3f6dac",
        "colab": {
          "base_uri": "https://localhost:8080/",
          "height": 82,
          "referenced_widgets": [
            "704f4d12a25a41a1a98195c509be1514",
            "e486a5f949f64f338efa889737659655",
            "9a5cf7a2f3f44ffeacee2be04face678",
            "34656eb7e2ba4c0cba7e41e3a1aadb1c",
            "dae19f89f9d443d4bc36a57d682ba58d",
            "04bcdd98ebe3452ab8d1f3690e13fc9e",
            "5858ed062f2c4ea280d7a3d2b56e04aa",
            "b27f9eaa9399493f94d8b64ea7ebff35"
          ]
        }
      },
      "source": [
        "#GENERATE A DICTIONARY OF THE FORM : {(unique sequence) : [ENDI MEASURE-CLASS 0, ENDI MEASURE-CLASS 1]}\n",
        "ENDI_table_dictionary={}\n",
        "\n",
        "for i in tqdm(range(len(unique_X_sequences))):\n",
        "  seq=unique_X_sequences[i]\n",
        "  ENDI_class_0=calculate_ENDI(positive_count(seq,0),negative_count(seq,[125,255]))\n",
        "  ENDI_class_1=calculate_ENDI(positive_count(seq,125),negative_count(seq,[0,255]))\n",
        "  ENDI_class_2=calculate_ENDI(positive_count(seq,255),negative_count(seq,[0,125]))\n",
        "  ENDI_table_dictionary[seq]=[ENDI_class_0,ENDI_class_1,ENDI_class_2]\n",
        "\n",
        "print('BUILDING DICTIONARY DONE')\n",
        "\n",
        "#PRINT RANDOM DATA POINT\n",
        "#print(ENDI_table_dictionary[unique_X_sequences[5000]])\n"
      ],
      "execution_count": 151,
      "outputs": [
        {
          "output_type": "display_data",
          "data": {
            "application/vnd.jupyter.widget-view+json": {
              "model_id": "704f4d12a25a41a1a98195c509be1514",
              "version_minor": 0,
              "version_major": 2
            },
            "text/plain": [
              "HBox(children=(IntProgress(value=0, max=862), HTML(value='')))"
            ]
          },
          "metadata": {
            "tags": []
          }
        },
        {
          "output_type": "stream",
          "text": [
            "\n",
            "BUILDING DICTIONARY DONE\n"
          ],
          "name": "stdout"
        }
      ]
    },
    {
      "cell_type": "markdown",
      "metadata": {
        "id": "n84ur78SsZ-z",
        "colab_type": "text"
      },
      "source": [
        "\n",
        "\n",
        "---\n",
        "\n"
      ]
    },
    {
      "cell_type": "markdown",
      "metadata": {
        "id": "goD_JtMTtgo7",
        "colab_type": "text"
      },
      "source": [
        "***STEP 3 : CLASSIFICATION AND VISUALIZATION***"
      ]
    },
    {
      "cell_type": "code",
      "metadata": {
        "id": "8kntNAM6gcPn",
        "colab_type": "code",
        "colab": {}
      },
      "source": [
        "def classification(file_name,band8filename):\n",
        "          new_image=gdal.Open(file_name)\n",
        "          rband_new = new_image.GetRasterBand(1).ReadAsArray()\n",
        "          gband_new = new_image.GetRasterBand(2).ReadAsArray()\n",
        "          bband_new = new_image.GetRasterBand(3).ReadAsArray()\n",
        "          tif1=gdal.Open(band8filename)\n",
        "          band8_new=tif1.GetRasterBand(1).ReadAsArray()\n",
        "\n",
        "          rband_list_new=rband_new.flatten().tolist()\n",
        "          gband_list_new=gband_new.flatten().tolist()\n",
        "          bband_list_new=bband_new.flatten().tolist()\n",
        "          band8_list_new=band8_new.flatten().tolist()\n",
        "\n",
        "          q1=max(rband_list_new)/16\n",
        "          q2=max(gband_list_new)/16\n",
        "          q3=max(bband_list_new)/16\n",
        "          q4=max(band8_list_new)/16\n",
        "\n",
        "          rband_list_new = [round(math.floor(x+0.5)/q1) for x in rband_list_new]\n",
        "          gband_list_new = [round(math.floor(x+0.5)/q2) for x in gband_list_new]\n",
        "          bband_list_new = [round(math.floor(x+0.5)/q3) for x in bband_list_new]\n",
        "          band8_list_new = [round(math.floor(x+0.5)/q4) for x in band8_list_new]\n",
        "\n",
        "\n",
        "          final_pred_list=[]\n",
        "          final_confidence_list=[]\n",
        "\n",
        "          for i in tqdm(range(len(rband_list_new))):\n",
        "\n",
        "            if ((rband_list_new[i],gband_list_new[i],bband_list_new[i],band8_list_new[i])) in ENDI_table_dictionary:\n",
        "                  ENDI_vals=ENDI_table_dictionary[(rband_list_new[i],gband_list_new[i],bband_list_new[i],band8_list_new[i])]\n",
        "                  max_val = max(ENDI_vals)\n",
        "                  if max_val >= 0.5:\n",
        "                        index_max = ENDI_vals.index(max_val)\n",
        "                        final_pred_list.append(index_max)\n",
        "                        final_confidence_list.append(ENDI_vals[0]) \n",
        "                  else :\n",
        "                        final_pred_list.append(1)\n",
        "                        final_confidence_list.append(ENDI_vals[0])\n",
        "\n",
        "            else:\n",
        "              final_pred_list.append(1)\n",
        "              final_confidence_list.append(-1)\n",
        "\n",
        "          final_confidence_list_scaled = minmax_scale(final_confidence_list, feature_range=(0,100))\n",
        "          return final_pred_list,final_confidence_list_scaled"
      ],
      "execution_count": 0,
      "outputs": []
    },
    {
      "cell_type": "code",
      "metadata": {
        "id": "wq6E1HhJhfi2",
        "colab_type": "code",
        "colab": {}
      },
      "source": [
        "def visualization(any_list,xsize,ysize,title,outputfile,colormap):\n",
        "  numpy_array=np.asarray(any_list,dtype='uint8')\n",
        "  #numpy_array[numpy_array == 1] = 125\n",
        "  #numpy_array[numpy_array == 2] = 255\n",
        "  final_image_array=numpy_array.reshape((xsize,ysize))\n",
        "  fig, ax = plt.subplots()\n",
        "  ax.set_title(title)\n",
        "  img = ax.imshow(final_image_array,cmap=plt.get_cmap(colormap))\n",
        "  fig.colorbar(img, ax=ax)\n",
        "  fig.savefig(outputfile+'.png')"
      ],
      "execution_count": 0,
      "outputs": []
    },
    {
      "cell_type": "code",
      "metadata": {
        "id": "72cxX4heaE5W",
        "colab_type": "code",
        "colab": {}
      },
      "source": [
        "def metrics(y_actual, y_pred_original):\n",
        "    numpy_array=np.asarray(y_pred_original)\n",
        "    numpy_array[numpy_array == 1] = 125\n",
        "    numpy_array[numpy_array == 2] = 255\n",
        "    y_pred=numpy_array.tolist()\n",
        "    class_id = set(y_actual).union(set(y_pred))\n",
        "    TP = []\n",
        "    FP = []\n",
        "    TN = []\n",
        "    FN = []\n",
        "\n",
        "    for index ,_id in enumerate(class_id):\n",
        "        TP.append(0)\n",
        "        FP.append(0)\n",
        "        TN.append(0)\n",
        "        FN.append(0)\n",
        "        for i in tqdm(range(len(y_pred))):\n",
        "            if y_actual[i] == y_pred[i] == _id:\n",
        "                TP[index] += 1\n",
        "            if y_pred[i] == _id and y_actual[i] != y_pred[i]:\n",
        "                FP[index] += 1\n",
        "            if y_actual[i] == y_pred[i] != _id:\n",
        "                TN[index] += 1\n",
        "            if y_pred[i] != _id and y_actual[i] != y_pred[i]:\n",
        "                FN[index] += 1\n",
        "\n",
        "\n",
        "    return class_id,TP, FP, TN, FN"
      ],
      "execution_count": 0,
      "outputs": []
    },
    {
      "cell_type": "markdown",
      "metadata": {
        "id": "RqZ2C_ow04Ij",
        "colab_type": "text"
      },
      "source": [
        "\n",
        "\n",
        "---\n",
        "\n"
      ]
    },
    {
      "cell_type": "markdown",
      "metadata": {
        "id": "JCK5RsYA05Ld",
        "colab_type": "text"
      },
      "source": [
        "**VISUALIZATION OF RESULTS AND METRICS - PORTO VIRO AREA(ITALY)**"
      ]
    },
    {
      "cell_type": "markdown",
      "metadata": {
        "id": "iPhSuhjw1S5y",
        "colab_type": "text"
      },
      "source": [
        "1) MADRID CLASSIFICATION RESULTS"
      ]
    },
    {
      "cell_type": "code",
      "metadata": {
        "id": "3zzrNttfg4p-",
        "colab_type": "code",
        "outputId": "e4ce0d56-ad3b-43f8-f72e-7f027860d71d",
        "colab": {
          "base_uri": "https://localhost:8080/",
          "height": 66,
          "referenced_widgets": [
            "4c9fd76f15bd4411a12b9a86de2b0fc0",
            "8c93054dd53e4bc89ef2a7567ce3d60d",
            "124a5961a91f4837a3de749008302b73",
            "9144efc18b60402bbd482c1aaa569de1",
            "b2dff960e4864cddbeac1c6c791bbce6",
            "3f10ec561bc24981bf42236708820bc1",
            "18444ec547d9445fa3f2c61f78487b60",
            "cae28847372f44ae8085d1af74d0d3fa"
          ]
        }
      },
      "source": [
        "prediction_list,confidence_list=classification('test-full.tif','test-b8-full.tif')\n"
      ],
      "execution_count": 155,
      "outputs": [
        {
          "output_type": "display_data",
          "data": {
            "application/vnd.jupyter.widget-view+json": {
              "model_id": "4c9fd76f15bd4411a12b9a86de2b0fc0",
              "version_minor": 0,
              "version_major": 2
            },
            "text/plain": [
              "HBox(children=(IntProgress(value=0, max=120560400), HTML(value='')))"
            ]
          },
          "metadata": {
            "tags": []
          }
        },
        {
          "output_type": "stream",
          "text": [
            "\n"
          ],
          "name": "stdout"
        }
      ]
    },
    {
      "cell_type": "code",
      "metadata": {
        "id": "Y5ryzwTEG5Sg",
        "colab_type": "code",
        "outputId": "05731eb4-43e9-4c13-cc81-6639e4c091d2",
        "colab": {
          "base_uri": "https://localhost:8080/",
          "height": 70
        }
      },
      "source": [
        "with rasterio.open('test-full.tif') as src:\n",
        "    prof = src.profile\n",
        "    print(prof)\n",
        "    BIG_X_SIZE=prof['width']\n",
        "    BIG_Y_SIZE=prof['height']"
      ],
      "execution_count": 157,
      "outputs": [
        {
          "output_type": "stream",
          "text": [
            "{'driver': 'GTiff', 'dtype': 'uint8', 'nodata': None, 'width': 10980, 'height': 10980, 'count': 3, 'crs': CRS.from_epsg(32632), 'transform': Affine(10.0, 0.0, 699960.0,\n",
            "       0.0, -10.0, 5000040.0), 'tiled': False, 'compress': 'deflate', 'interleave': 'pixel'}\n"
          ],
          "name": "stdout"
        }
      ]
    },
    {
      "cell_type": "code",
      "metadata": {
        "id": "JJYgfo6zWVj2",
        "colab_type": "code",
        "outputId": "c97a1673-0d15-4014-c2ce-a530c23d6804",
        "colab": {
          "base_uri": "https://localhost:8080/",
          "height": 281
        }
      },
      "source": [
        "visualization(prediction_list,BIG_X_SIZE,BIG_Y_SIZE, 'Classification-Porto Viro Region, Italy','predictions-madrid',colormap='binary')"
      ],
      "execution_count": 213,
      "outputs": [
        {
          "output_type": "display_data",
          "data": {
            "image/png": "[encoded data removed]",
            "text/plain": [
              "<Figure size 432x288 with 2 Axes>"
            ]
          },
          "metadata": {
            "tags": []
          }
        }
      ]
    },
    {
      "cell_type": "code",
      "metadata": {
        "id": "lJSm-m30qk3a",
        "colab_type": "code",
        "outputId": "761c1757-eccd-499d-e6b3-85e9b4024ba3",
        "colab": {
          "base_uri": "https://localhost:8080/",
          "height": 281
        }
      },
      "source": [
        "visualization(confidence_list,BIG_X_SIZE,BIG_Y_SIZE,'Built up confidence-Porto Viro Region, Italy','confidence-madrid',colormap='gist_yarg')"
      ],
      "execution_count": 205,
      "outputs": [
        {
          "output_type": "display_data",
          "data": {
            "image/png": "[encoded data removed]",
            "text/plain": [
              "<Figure size 432x288 with 2 Axes>"
            ]
          },
          "metadata": {
            "tags": []
          }
        }
      ]
    },
    {
      "cell_type": "code",
      "metadata": {
        "id": "bobDQgnS23E_",
        "colab_type": "code",
        "colab": {}
      },
      "source": [
        "create_new_tif('test-full.tif','prediction-raster.tif',np.asarray(prediction_list,dtype='uint8').reshape(BIG_X_SIZE,BIG_Y_SIZE),1)"
      ],
      "execution_count": 0,
      "outputs": []
    },
    {
      "cell_type": "code",
      "metadata": {
        "id": "OHo-PY9d7Vj3",
        "colab_type": "code",
        "colab": {}
      },
      "source": [
        "create_new_tif('test-full.tif','confidence-raster.tif',np.asarray(confidence_list,dtype='uint8').reshape(BIG_X_SIZE,BIG_Y_SIZE),1)"
      ],
      "execution_count": 0,
      "outputs": []
    },
    {
      "cell_type": "code",
      "metadata": {
        "id": "NyyMSO6qWIod",
        "colab_type": "code",
        "colab": {}
      },
      "source": [
        "change_pixel_size('confidence-raster.tif','ghsl-built-confidence-raster-30m.tif',30)"
      ],
      "execution_count": 0,
      "outputs": []
    },
    {
      "cell_type": "code",
      "metadata": {
        "id": "i5L4lKLiWImd",
        "colab_type": "code",
        "colab": {}
      },
      "source": [
        "change_pixel_size('prediction-raster.tif','ghsl-built-prediction-raster-30m.tif',30)"
      ],
      "execution_count": 0,
      "outputs": []
    },
    {
      "cell_type": "code",
      "metadata": {
        "id": "u2IRpMeZOQKp",
        "colab_type": "code",
        "outputId": "813dd185-2393-441f-a04f-15733832fb77",
        "colab": {
          "base_uri": "https://localhost:8080/",
          "height": 70
        }
      },
      "source": [
        "with rasterio.open('ghsl-built-prediction-raster-30m.tif') as src:\n",
        "    metadata = src.profile\n",
        "new_x_size=metadata['width']\n",
        "new_y_size=metadata['height']\n",
        "\n",
        "metadata"
      ],
      "execution_count": 165,
      "outputs": [
        {
          "output_type": "execute_result",
          "data": {
            "text/plain": [
              "{'driver': 'GTiff', 'dtype': 'uint8', 'nodata': None, 'width': 3660, 'height': 3660, 'count': 1, 'crs': CRS.from_epsg(32632), 'transform': Affine(30.0, 0.0, 699960.0,\n",
              "       0.0, -30.0, 5000040.0), 'tiled': False, 'interleave': 'band'}"
            ]
          },
          "metadata": {
            "tags": []
          },
          "execution_count": 165
        }
      ]
    },
    {
      "cell_type": "code",
      "metadata": {
        "id": "4-gn_XQ6WIXI",
        "colab_type": "code",
        "colab": {}
      },
      "source": [
        "clip_ref_scene_pop('test-full.tif','test-pop-full.tif')\n",
        "resize_scene_custom_size('test-pop-full.tif','test-pop.tif',new_x_size,new_y_size)"
      ],
      "execution_count": 0,
      "outputs": []
    },
    {
      "cell_type": "code",
      "metadata": {
        "id": "H8YwFJ2lbXdk",
        "colab_type": "code",
        "colab": {}
      },
      "source": [
        "# m=metrics(Y_raster_test.flatten().tolist(),prediction_list)\n",
        "# unique, counts = np.unique(Y_raster_test.flatten().tolist(), return_counts=True)\n",
        "# for i in range(0,3):\n",
        "#   TP=m[1][i]\n",
        "#   FP=m[2][i]\n",
        "#   TN=m[3][i]\n",
        "#   FN=m[4][i]\n",
        "#   P=counts[i]\n",
        "#   N=len(Y_list)-P\n",
        "#   TPR=TP/P\n",
        "#   TNR=TN/N\n",
        "#   bal_measure = (TPR+TNR)/2\n",
        "#   inf_accuracy=TPR-TNR\n",
        "#   print('BALANCED ACCURACY FOR CLASS '+str(i)+\" is \"+ str(bal_measure))\n",
        "#   print('INFORMEDNESS FOR CLASS '+str(i)+\" is \"+str(inf_accuracy))\n"
      ],
      "execution_count": 0,
      "outputs": []
    },
    {
      "cell_type": "markdown",
      "metadata": {
        "id": "unQkKXcY1RAe",
        "colab_type": "text"
      },
      "source": [
        "2)ORIGINAL RGB IMAGE"
      ]
    },
    {
      "cell_type": "code",
      "metadata": {
        "id": "wCHf3Rrg0J5J",
        "colab_type": "code",
        "outputId": "31d5fd7f-af63-478f-f751-747177941ec9",
        "colab": {
          "base_uri": "https://localhost:8080/",
          "height": 286
        }
      },
      "source": [
        "dataset = rasterio.open('test-full.tif')\n",
        "show(dataset.read([1,2,3]))"
      ],
      "execution_count": 167,
      "outputs": [
        {
          "output_type": "display_data",
          "data": {
            "image/png": "[encoded data removed]",
            "text/plain": [
              "<Figure size 432x288 with 1 Axes>"
            ]
          },
          "metadata": {
            "tags": []
          }
        },
        {
          "output_type": "execute_result",
          "data": {
            "text/plain": [
              "<matplotlib.axes._subplots.AxesSubplot at 0x7f8bb6d721d0>"
            ]
          },
          "metadata": {
            "tags": []
          },
          "execution_count": 167
        }
      ]
    },
    {
      "cell_type": "markdown",
      "metadata": {
        "id": "kahuQs5RQke_",
        "colab_type": "text"
      },
      "source": [
        "\n",
        "\n",
        "---\n",
        "\n"
      ]
    },
    {
      "cell_type": "markdown",
      "metadata": {
        "id": "Wi0eQgxbQc-Z",
        "colab_type": "text"
      },
      "source": [
        "# **GHS-POP**"
      ]
    },
    {
      "cell_type": "markdown",
      "metadata": {
        "id": "S94YkUPYyfNP",
        "colab_type": "text"
      },
      "source": [
        "**USING DASYMMETRIC MAPPING ALGORITHM**"
      ]
    },
    {
      "cell_type": "code",
      "metadata": {
        "id": "V_x38xXZvfRw",
        "colab_type": "code",
        "colab": {}
      },
      "source": [
        "pop1=gdal.Open('test-pop.tif')\n",
        "pop2d = pop1.GetRasterBand(1).ReadAsArray()\n",
        "pop2d[pop2d < 0] = 0\n",
        "pop1d=pop2d.flatten()"
      ],
      "execution_count": 0,
      "outputs": []
    },
    {
      "cell_type": "code",
      "metadata": {
        "id": "snWgc0JnuVeh",
        "colab_type": "code",
        "colab": {}
      },
      "source": [
        "a=gdal.Open('ghsl-built-confidence-raster-30m.tif')\n",
        "confidence_values_category=a.GetRasterBand(1).ReadAsArray().flatten()"
      ],
      "execution_count": 0,
      "outputs": []
    },
    {
      "cell_type": "code",
      "metadata": {
        "id": "KONCsYQIusBa",
        "colab_type": "code",
        "colab": {}
      },
      "source": [
        "confidence_values_category[confidence_values_category<30]=0\n",
        "confidence_values_category[(confidence_values_category<60)&(confidence_values_category>=30)]=1\n",
        "confidence_values_category[confidence_values_category>=60]=2"
      ],
      "execution_count": 0,
      "outputs": []
    },
    {
      "cell_type": "code",
      "metadata": {
        "id": "tLFs7tUZu9s5",
        "colab_type": "code",
        "colab": {}
      },
      "source": [
        "uniquevals, eachcount = np.unique(confidence_values_category, return_counts=True)"
      ],
      "execution_count": 0,
      "outputs": []
    },
    {
      "cell_type": "code",
      "metadata": {
        "id": "a9pVGM-qdSmr",
        "colab_type": "code",
        "outputId": "0d8bc73b-03be-4b00-cc01-3f5829de20f4",
        "colab": {
          "base_uri": "https://localhost:8080/",
          "height": 34
        }
      },
      "source": [
        "print(uniquevals)\n",
        "uhigh_population=0\n",
        "ulow_population=0\n",
        "non_population=0"
      ],
      "execution_count": 172,
      "outputs": [
        {
          "output_type": "stream",
          "text": [
            "[0 1 2]\n"
          ],
          "name": "stdout"
        }
      ]
    },
    {
      "cell_type": "code",
      "metadata": {
        "id": "hrj_KAuieUUR",
        "colab_type": "code",
        "colab": {}
      },
      "source": [
        "for i in range(0,pop1d.size):\n",
        "  if(confidence_values_category[i]==0):\n",
        "    non_population=non_population+pop1d[i]\n",
        "  elif(confidence_values_category[i]==1):\n",
        "    ulow_population=ulow_population+pop1d[i]\n",
        "  else:\n",
        "     uhigh_population=uhigh_population+pop1d[i]"
      ],
      "execution_count": 0,
      "outputs": []
    },
    {
      "cell_type": "code",
      "metadata": {
        "id": "Z2wFDfDrkz8h",
        "colab_type": "code",
        "colab": {}
      },
      "source": [
        "uhigh_area=eachcount[2]*30*30\n",
        "ulow_area=eachcount[1]*30*30\n",
        "non_population_area=eachcount[0]*30*30"
      ],
      "execution_count": 0,
      "outputs": []
    },
    {
      "cell_type": "code",
      "metadata": {
        "id": "haSyEiiilTdK",
        "colab_type": "code",
        "colab": {}
      },
      "source": [
        "print(non_population+ulow_population+uhigh_population)"
      ],
      "execution_count": 0,
      "outputs": []
    },
    {
      "cell_type": "code",
      "metadata": {
        "id": "VizZAqwnlpbN",
        "colab_type": "code",
        "colab": {}
      },
      "source": [
        "uhigh_density=uhigh_population/uhigh_area\n",
        "ulow_density=ulow_population/ulow_area\n",
        "non_population_density=non_population/non_population_area"
      ],
      "execution_count": 0,
      "outputs": []
    },
    {
      "cell_type": "code",
      "metadata": {
        "id": "uCeLJAhMmMuY",
        "colab_type": "code",
        "outputId": "dc2e2ffc-7e94-441a-ce19-914910b008c9",
        "colab": {
          "base_uri": "https://localhost:8080/",
          "height": 67
        }
      },
      "source": [
        "print(uhigh_density)\n",
        "print(ulow_density)\n",
        "print(non_population_density)"
      ],
      "execution_count": 177,
      "outputs": [
        {
          "output_type": "stream",
          "text": [
            "0.17968130165717552\n",
            "0.13643456706856855\n",
            "0.058427895500390334\n"
          ],
          "name": "stdout"
        }
      ]
    },
    {
      "cell_type": "code",
      "metadata": {
        "id": "xXT7BYclm6Ak",
        "colab_type": "code",
        "colab": {}
      },
      "source": [
        "d_uhigh=(uhigh_density)/(uhigh_density+ulow_density+non_population_density)\n",
        "d_ulow=(ulow_density)/(uhigh_density+ulow_density+non_population_density)\n",
        "d_non_population=(non_population_density)/(uhigh_density+ulow_density+non_population_density)"
      ],
      "execution_count": 0,
      "outputs": []
    },
    {
      "cell_type": "code",
      "metadata": {
        "id": "j4zbJSz1ol78",
        "colab_type": "code",
        "colab": {}
      },
      "source": [
        "a_uhigh=(eachcount[2]/pop1d.size)/0.33\n",
        "a_ulow=(eachcount[1]/pop1d.size)/0.33\n",
        "a_non_population=(eachcount[0]/pop1d.size)/0.33"
      ],
      "execution_count": 0,
      "outputs": []
    },
    {
      "cell_type": "code",
      "metadata": {
        "id": "_XeGSvLoqKqh",
        "colab_type": "code",
        "colab": {}
      },
      "source": [
        "f_uhigh=(d_uhigh*a_uhigh)/((d_uhigh*a_uhigh)+(d_ulow*a_ulow)+(d_non_population*a_non_population))\n",
        "f_ulow=(d_ulow*a_ulow)/((d_uhigh*a_uhigh)+(d_ulow*a_ulow)+(d_non_population*a_non_population))\n",
        "f_non_population=(d_non_population*a_non_population)/((d_uhigh*a_uhigh)+(d_ulow*a_ulow)+(d_non_population*a_non_population))"
      ],
      "execution_count": 0,
      "outputs": []
    },
    {
      "cell_type": "code",
      "metadata": {
        "id": "UV2XGpHGryeA",
        "colab_type": "code",
        "colab": {}
      },
      "source": [
        "total_pop=np.sum(pop1d)\n",
        "pop_uhigh=(f_uhigh*total_pop)/eachcount[2]\n",
        "pop_ulow=(f_ulow*total_pop)/eachcount[1]\n",
        "pop_non_population=(f_non_population*total_pop)/eachcount[0]"
      ],
      "execution_count": 0,
      "outputs": []
    },
    {
      "cell_type": "code",
      "metadata": {
        "id": "DWK9lchetWZz",
        "colab_type": "code",
        "colab": {}
      },
      "source": [
        "final_ghspop1d=[]\n",
        "\n",
        "for i in range(0,pop1d.size):\n",
        "  if(confidence_values_category[i]==0):\n",
        "    final_ghspop1d.append(pop_non_population)\n",
        "  elif(confidence_values_category[i]==1):\n",
        "    final_ghspop1d.append(pop_ulow)\n",
        "  else:\n",
        "     final_ghspop1d.append(pop_uhigh)\n",
        "\n",
        "final_ghs_pop2d=np.reshape(final_ghspop1d,(new_x_size,new_y_size))"
      ],
      "execution_count": 0,
      "outputs": []
    },
    {
      "cell_type": "code",
      "metadata": {
        "id": "q9M1gM6MWg77",
        "colab_type": "code",
        "outputId": "0babd685-c189-4be1-b4bc-5a628707dc41",
        "colab": {
          "base_uri": "https://localhost:8080/",
          "height": 34
        }
      },
      "source": [
        "np.unique(final_ghs_pop2d)"
      ],
      "execution_count": 183,
      "outputs": [
        {
          "output_type": "execute_result",
          "data": {
            "text/plain": [
              "array([ 52.58509941, 122.7910951 , 161.71315139])"
            ]
          },
          "metadata": {
            "tags": []
          },
          "execution_count": 183
        }
      ]
    },
    {
      "cell_type": "code",
      "metadata": {
        "id": "9IsK-oDj-oyX",
        "colab_type": "code",
        "colab": {}
      },
      "source": [
        "create_new_tif('test-pop.tif','ghsl-pop-raster-30m.tif',np.asarray(final_ghspop1d,dtype='float32').reshape(new_x_size,new_y_size),1)"
      ],
      "execution_count": 0,
      "outputs": []
    },
    {
      "cell_type": "code",
      "metadata": {
        "id": "nr9wE6LyuSKZ",
        "colab_type": "code",
        "outputId": "befea73f-0e3a-4e3d-a400-6e585fe57cd9",
        "colab": {
          "base_uri": "https://localhost:8080/",
          "height": 298
        }
      },
      "source": [
        "fig, ax = plt.subplots()\n",
        "img = ax.imshow((final_ghs_pop2d),cmap=plt.get_cmap('summer'))\n",
        "fig.colorbar(img, ax=ax)\n",
        "ax.set_title('GHS POP')"
      ],
      "execution_count": 207,
      "outputs": [
        {
          "output_type": "execute_result",
          "data": {
            "text/plain": [
              "Text(0.5, 1.0, 'GHS POP')"
            ]
          },
          "metadata": {
            "tags": []
          },
          "execution_count": 207
        },
        {
          "output_type": "display_data",
          "data": {
            "image/png": "[encoded data removed]",
            "text/plain": [
              "<Figure size 432x288 with 2 Axes>"
            ]
          },
          "metadata": {
            "tags": []
          }
        }
      ]
    },
    {
      "cell_type": "markdown",
      "metadata": {
        "id": "mvZV26J1PRtM",
        "colab_type": "text"
      },
      "source": [
        "\n",
        "\n",
        "---\n",
        "\n"
      ]
    },
    {
      "cell_type": "markdown",
      "metadata": {
        "id": "1ZzqcPLVPSkn",
        "colab_type": "text"
      },
      "source": [
        "# **GHS S-MOD**"
      ]
    },
    {
      "cell_type": "code",
      "metadata": {
        "id": "bboKeNp8hoEC",
        "colab_type": "code",
        "colab": {}
      },
      "source": [
        "def classify_urban_area(i,j,d,arr):\n",
        "  n = arr[i-d:i+d+1, j-d:j+d+1].flatten()\n",
        "  return n"
      ],
      "execution_count": 0,
      "outputs": []
    },
    {
      "cell_type": "code",
      "metadata": {
        "id": "nT2V_oR7kubq",
        "colab_type": "code",
        "colab": {}
      },
      "source": [
        "cc=gdal.Open('ghsl-built-confidence-raster-30m.tif')\n",
        "confidence2d = cc.GetRasterBand(1).ReadAsArray()\n",
        "dd=gdal.Open('ghsl-pop-raster-30m.tif')\n",
        "final_ghs_pop2d=dd.GetRasterBand(1).ReadAsArray()"
      ],
      "execution_count": 0,
      "outputs": []
    },
    {
      "cell_type": "markdown",
      "metadata": {
        "id": "zKvjUXZgQEGI",
        "colab_type": "text"
      },
      "source": [
        "CLASSIFY URBAN CENTRE, URBAN CLUSTER, RURAL AREA AND OTHER REGIONS"
      ]
    },
    {
      "cell_type": "code",
      "metadata": {
        "id": "NxHaEnLJjxbf",
        "colab_type": "code",
        "outputId": "96d3a6cd-ea87-40b8-f85f-e45c716272cd",
        "colab": {
          "base_uri": "https://localhost:8080/",
          "height": 66,
          "referenced_widgets": [
            "cf1b6896625145dd99c8df93f75fa6b7",
            "05e9fa89f8f14125a1183b4db4c102ae",
            "0b9f3721c91a445eb30cd2baf8ab6250",
            "52d04cce385a401c8c4c20cba338f1b6",
            "68c51ab72b5b45b58edb51599217226f",
            "658ee1f1ae7f41ee936363edb8918b35",
            "96035aa8607d42d0bbf807aeaf0b2927",
            "8a6d82b72e584fd989030b5dccc063b2"
          ]
        }
      },
      "source": [
        "urban_array=np.zeros(final_ghs_pop2d.shape,dtype='uint8')\n",
        "for ix,iy in tqdm(np.ndindex(final_ghs_pop2d.shape)):\n",
        "    popcellvalue=final_ghs_pop2d[ix,iy]\n",
        "    confidencecellvalue=confidence2d[ix,iy]\n",
        "\n",
        "    if((popcellvalue>1500 or confidencecellvalue>50) and (np.sum(classify_urban_area(ix,iy,5,final_ghs_pop2d))>50000)):\n",
        "      urban_array[ix,iy]=3\n",
        "    elif (popcellvalue>300 and (np.sum(classify_urban_area(ix,iy,6,final_ghs_pop2d))>5000)):\n",
        "      urban_array[ix,iy]=2\n",
        "    elif(popcellvalue>1 and (np.sum(classify_urban_area(ix,iy,3,final_ghs_pop2d))<5000)):\n",
        "      urban_array[ix,iy]=1"
      ],
      "execution_count": 188,
      "outputs": [
        {
          "output_type": "display_data",
          "data": {
            "application/vnd.jupyter.widget-view+json": {
              "model_id": "cf1b6896625145dd99c8df93f75fa6b7",
              "version_minor": 0,
              "version_major": 2
            },
            "text/plain": [
              "HBox(children=(IntProgress(value=1, bar_style='info', max=1), HTML(value='')))"
            ]
          },
          "metadata": {
            "tags": []
          }
        },
        {
          "output_type": "stream",
          "text": [
            "\n"
          ],
          "name": "stdout"
        }
      ]
    },
    {
      "cell_type": "code",
      "metadata": {
        "id": "Pc2R0DuKCkXC",
        "colab_type": "code",
        "outputId": "848d2ab5-967d-47c1-dcc8-6fd3bea8ffcc",
        "colab": {
          "base_uri": "https://localhost:8080/",
          "height": 34
        }
      },
      "source": [
        "print(np.unique(urban_array, return_counts=True))"
      ],
      "execution_count": 189,
      "outputs": [
        {
          "output_type": "stream",
          "text": [
            "(array([0, 1], dtype=uint8), array([  983087, 12412513]))\n"
          ],
          "name": "stdout"
        }
      ]
    },
    {
      "cell_type": "code",
      "metadata": {
        "id": "ny5DJDt_ozxY",
        "colab_type": "code",
        "colab": {}
      },
      "source": [
        "# from matplotlib import colors\n",
        "# import matplotlib.patches as mpatches\n",
        "# fig, ax = plt.subplots()\n",
        "# black_patch = mpatches.Patch(color='black', label='Urban Centre')\n",
        "# dark_grey_patch=mpatches.Patch(color='grey', label='Urban Cluster')\n",
        "# grey_patch = mpatches.Patch(color='lightgray', label='Others')\n",
        "# white_patch = mpatches.Patch(color='white', label='Rural')\n",
        "\n",
        "# ax.legend(handles=[black_patch,dark_grey_patch,white_patch, grey_patch], loc='lower right')\n",
        "# img = ax.imshow(urban_array)\n",
        "# ax.set_title('GHS-SMOD')"
      ],
      "execution_count": 0,
      "outputs": []
    },
    {
      "cell_type": "code",
      "metadata": {
        "id": "K_CCm2dhMIN1",
        "colab_type": "code",
        "colab": {}
      },
      "source": [
        "create_new_tif('test-pop.tif','ghsl-smod-raster-30m.tif',np.asarray(urban_array,dtype='float32'),1)"
      ],
      "execution_count": 0,
      "outputs": []
    },
    {
      "cell_type": "markdown",
      "metadata": {
        "id": "0WgcV4Drwq91",
        "colab_type": "text"
      },
      "source": [
        "30m Saved BUILT, POP, SMOD Raster Information"
      ]
    },
    {
      "cell_type": "code",
      "metadata": {
        "id": "EyF_F09wTMQX",
        "colab_type": "code",
        "outputId": "479262c3-a8a2-46df-aa11-6dd708adda39",
        "colab": {
          "base_uri": "https://localhost:8080/",
          "height": 689
        }
      },
      "source": [
        "!gdalinfo ghsl-smod-raster-30m.tif"
      ],
      "execution_count": 193,
      "outputs": [
        {
          "output_type": "stream",
          "text": [
            "Driver: GTiff/GeoTIFF\n",
            "Files: ghsl-smod-raster-30m.tif\n",
            "Size is 3660, 3660\n",
            "Coordinate System is:\n",
            "PROJCS[\"WGS 84 / UTM zone 32N\",\n",
            "    GEOGCS[\"WGS 84\",\n",
            "        DATUM[\"WGS_1984\",\n",
            "            SPHEROID[\"WGS 84\",6378137,298.257223563,\n",
            "                AUTHORITY[\"EPSG\",\"7030\"]],\n",
            "            AUTHORITY[\"EPSG\",\"6326\"]],\n",
            "        PRIMEM[\"Greenwich\",0,\n",
            "            AUTHORITY[\"EPSG\",\"8901\"]],\n",
            "        UNIT[\"degree\",0.0174532925199433,\n",
            "            AUTHORITY[\"EPSG\",\"9122\"]],\n",
            "        AUTHORITY[\"EPSG\",\"4326\"]],\n",
            "    PROJECTION[\"Transverse_Mercator\"],\n",
            "    PARAMETER[\"latitude_of_origin\",0],\n",
            "    PARAMETER[\"central_meridian\",9],\n",
            "    PARAMETER[\"scale_factor\",0.9996],\n",
            "    PARAMETER[\"false_easting\",500000],\n",
            "    PARAMETER[\"false_northing\",0],\n",
            "    UNIT[\"metre\",1,\n",
            "        AUTHORITY[\"EPSG\",\"9001\"]],\n",
            "    AXIS[\"Easting\",EAST],\n",
            "    AXIS[\"Northing\",NORTH],\n",
            "    AUTHORITY[\"EPSG\",\"32632\"]]\n",
            "Origin = (699049.534879520535469,5000628.359786620363593)\n",
            "Pixel Size = (29.973999881374677,-29.974155089881851)\n",
            "Metadata:\n",
            "  AREA_OR_POINT=Area\n",
            "Image Structure Metadata:\n",
            "  INTERLEAVE=BAND\n",
            "Corner Coordinates:\n",
            "Upper Left  (  699049.535, 5000628.360) ( 11d31'52.68\"E, 45d 7'51.86\"N)\n",
            "Lower Left  (  699049.535, 4890922.952) ( 11d29'19.45\"E, 44d 8'39.84\"N)\n",
            "Upper Right (  808754.374, 5000628.360) ( 12d55'25.36\"E, 45d 5'30.05\"N)\n",
            "Lower Right (  808754.374, 4890922.952) ( 12d51'28.26\"E, 44d 6'22.79\"N)\n",
            "Center      (  753901.955, 4945775.656) ( 12d12' 1.44\"E, 44d37'13.73\"N)\n",
            "Band 1 Block=3660x1 Type=Float32, ColorInterp=Gray\n",
            "  NoData Value=-3.40282306073709653e+38\n"
          ],
          "name": "stdout"
        }
      ]
    },
    {
      "cell_type": "code",
      "metadata": {
        "id": "RpXOsPBRutFL",
        "colab_type": "code",
        "colab": {
          "base_uri": "https://localhost:8080/",
          "height": 672
        },
        "outputId": "a6bb6eeb-b03b-4fa1-9260-940cd474d512"
      },
      "source": [
        "!gdalinfo ghsl-built-prediction-raster-30m.tif"
      ],
      "execution_count": 211,
      "outputs": [
        {
          "output_type": "stream",
          "text": [
            "Driver: GTiff/GeoTIFF\n",
            "Files: ghsl-built-prediction-raster-30m.tif\n",
            "Size is 3660, 3660\n",
            "Coordinate System is:\n",
            "PROJCS[\"WGS 84 / UTM zone 32N\",\n",
            "    GEOGCS[\"WGS 84\",\n",
            "        DATUM[\"WGS_1984\",\n",
            "            SPHEROID[\"WGS 84\",6378137,298.257223563,\n",
            "                AUTHORITY[\"EPSG\",\"7030\"]],\n",
            "            AUTHORITY[\"EPSG\",\"6326\"]],\n",
            "        PRIMEM[\"Greenwich\",0,\n",
            "            AUTHORITY[\"EPSG\",\"8901\"]],\n",
            "        UNIT[\"degree\",0.0174532925199433,\n",
            "            AUTHORITY[\"EPSG\",\"9122\"]],\n",
            "        AUTHORITY[\"EPSG\",\"4326\"]],\n",
            "    PROJECTION[\"Transverse_Mercator\"],\n",
            "    PARAMETER[\"latitude_of_origin\",0],\n",
            "    PARAMETER[\"central_meridian\",9],\n",
            "    PARAMETER[\"scale_factor\",0.9996],\n",
            "    PARAMETER[\"false_easting\",500000],\n",
            "    PARAMETER[\"false_northing\",0],\n",
            "    UNIT[\"metre\",1,\n",
            "        AUTHORITY[\"EPSG\",\"9001\"]],\n",
            "    AXIS[\"Easting\",EAST],\n",
            "    AXIS[\"Northing\",NORTH],\n",
            "    AUTHORITY[\"EPSG\",\"32632\"]]\n",
            "Origin = (699960.000000000000000,5000040.000000000000000)\n",
            "Pixel Size = (30.000000000000000,-30.000000000000000)\n",
            "Metadata:\n",
            "  AREA_OR_POINT=Area\n",
            "Image Structure Metadata:\n",
            "  INTERLEAVE=BAND\n",
            "Corner Coordinates:\n",
            "Upper Left  (  699960.000, 5000040.000) ( 11d32'33.47\"E, 45d 7'31.89\"N)\n",
            "Lower Left  (  699960.000, 4890240.000) ( 11d29'59.46\"E, 44d 8'16.83\"N)\n",
            "Upper Right (  809760.000, 5000040.000) ( 12d56' 9.95\"E, 45d 5' 9.45\"N)\n",
            "Lower Right (  809760.000, 4890240.000) ( 12d52'11.95\"E, 44d 5'59.18\"N)\n",
            "Center      (  754860.000, 4945140.000) ( 12d12'43.71\"E, 44d36'51.95\"N)\n",
            "Band 1 Block=3660x2 Type=Byte, ColorInterp=Gray\n"
          ],
          "name": "stdout"
        }
      ]
    },
    {
      "cell_type": "code",
      "metadata": {
        "id": "H_EZddByTF89",
        "colab_type": "code",
        "outputId": "5a8eff62-ad28-42ee-fbf1-0a4a68257950",
        "colab": {
          "base_uri": "https://localhost:8080/",
          "height": 689
        }
      },
      "source": [
        "!gdalinfo ghsl-pop-raster-30m.tif"
      ],
      "execution_count": 192,
      "outputs": [
        {
          "output_type": "stream",
          "text": [
            "Driver: GTiff/GeoTIFF\n",
            "Files: ghsl-pop-raster-30m.tif\n",
            "Size is 3660, 3660\n",
            "Coordinate System is:\n",
            "PROJCS[\"WGS 84 / UTM zone 32N\",\n",
            "    GEOGCS[\"WGS 84\",\n",
            "        DATUM[\"WGS_1984\",\n",
            "            SPHEROID[\"WGS 84\",6378137,298.257223563,\n",
            "                AUTHORITY[\"EPSG\",\"7030\"]],\n",
            "            AUTHORITY[\"EPSG\",\"6326\"]],\n",
            "        PRIMEM[\"Greenwich\",0,\n",
            "            AUTHORITY[\"EPSG\",\"8901\"]],\n",
            "        UNIT[\"degree\",0.0174532925199433,\n",
            "            AUTHORITY[\"EPSG\",\"9122\"]],\n",
            "        AUTHORITY[\"EPSG\",\"4326\"]],\n",
            "    PROJECTION[\"Transverse_Mercator\"],\n",
            "    PARAMETER[\"latitude_of_origin\",0],\n",
            "    PARAMETER[\"central_meridian\",9],\n",
            "    PARAMETER[\"scale_factor\",0.9996],\n",
            "    PARAMETER[\"false_easting\",500000],\n",
            "    PARAMETER[\"false_northing\",0],\n",
            "    UNIT[\"metre\",1,\n",
            "        AUTHORITY[\"EPSG\",\"9001\"]],\n",
            "    AXIS[\"Easting\",EAST],\n",
            "    AXIS[\"Northing\",NORTH],\n",
            "    AUTHORITY[\"EPSG\",\"32632\"]]\n",
            "Origin = (699049.534879520535469,5000628.359786620363593)\n",
            "Pixel Size = (29.973999881374677,-29.974155089881851)\n",
            "Metadata:\n",
            "  AREA_OR_POINT=Area\n",
            "Image Structure Metadata:\n",
            "  INTERLEAVE=BAND\n",
            "Corner Coordinates:\n",
            "Upper Left  (  699049.535, 5000628.360) ( 11d31'52.68\"E, 45d 7'51.86\"N)\n",
            "Lower Left  (  699049.535, 4890922.952) ( 11d29'19.45\"E, 44d 8'39.84\"N)\n",
            "Upper Right (  808754.374, 5000628.360) ( 12d55'25.36\"E, 45d 5'30.05\"N)\n",
            "Lower Right (  808754.374, 4890922.952) ( 12d51'28.26\"E, 44d 6'22.79\"N)\n",
            "Center      (  753901.955, 4945775.656) ( 12d12' 1.44\"E, 44d37'13.73\"N)\n",
            "Band 1 Block=3660x1 Type=Float32, ColorInterp=Gray\n",
            "  NoData Value=-3.40282306073709653e+38\n"
          ],
          "name": "stdout"
        }
      ]
    },
    {
      "cell_type": "markdown",
      "metadata": {
        "id": "0Uj7CmWs1DfC",
        "colab_type": "text"
      },
      "source": [
        "\n",
        "\n",
        "---\n",
        "\n"
      ]
    }
  ]
}