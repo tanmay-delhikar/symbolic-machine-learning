{
  "nbformat": 4,
  "nbformat_minor": 0,
  "metadata": {
    "colab": {
      "name": "Small-SML_v6_big.ipynb",
      "provenance": [],
      "collapsed_sections": [],
      "toc_visible": true,
      "machine_shape": "hm"
    },
    "kernelspec": {
      "name": "python3",
      "display_name": "Python 3"
    },
    "widgets": {
      "application/vnd.jupyter.widget-state+json": {
        "9b393ec082814efaa73cf56f9ea49965": {
          "model_module": "@jupyter-widgets/controls",
          "model_name": "HBoxModel",
          "state": {
            "_view_name": "HBoxView",
            "_dom_classes": [],
            "_model_name": "HBoxModel",
            "_view_module": "@jupyter-widgets/controls",
            "_model_module_version": "1.5.0",
            "_view_count": null,
            "_view_module_version": "1.5.0",
            "box_style": "",
            "layout": "IPY_MODEL_a87be27b38db4a758aad6587b71f74f6",
            "_model_module": "@jupyter-widgets/controls",
            "children": [
              "IPY_MODEL_7786f3bc98d74066988e39c433315491",
              "IPY_MODEL_ccc3ae84f9804bb3a043fdc1d6a8ff7a"
            ]
          }
        },
        "a87be27b38db4a758aad6587b71f74f6": {
          "model_module": "@jupyter-widgets/base",
          "model_name": "LayoutModel",
          "state": {
            "_view_name": "LayoutView",
            "grid_template_rows": null,
            "right": null,
            "justify_content": null,
            "_view_module": "@jupyter-widgets/base",
            "overflow": null,
            "_model_module_version": "1.2.0",
            "_view_count": null,
            "flex_flow": null,
            "width": null,
            "min_width": null,
            "border": null,
            "align_items": null,
            "bottom": null,
            "_model_module": "@jupyter-widgets/base",
            "top": null,
            "grid_column": null,
            "overflow_y": null,
            "overflow_x": null,
            "grid_auto_flow": null,
            "grid_area": null,
            "grid_template_columns": null,
            "flex": null,
            "_model_name": "LayoutModel",
            "justify_items": null,
            "grid_row": null,
            "max_height": null,
            "align_content": null,
            "visibility": null,
            "align_self": null,
            "height": null,
            "min_height": null,
            "padding": null,
            "grid_auto_rows": null,
            "grid_gap": null,
            "max_width": null,
            "order": null,
            "_view_module_version": "1.2.0",
            "grid_template_areas": null,
            "object_position": null,
            "object_fit": null,
            "grid_auto_columns": null,
            "margin": null,
            "display": null,
            "left": null
          }
        },
        "7786f3bc98d74066988e39c433315491": {
          "model_module": "@jupyter-widgets/controls",
          "model_name": "IntProgressModel",
          "state": {
            "_view_name": "ProgressView",
            "style": "IPY_MODEL_ffd8658f7ed043e1ab997133cef1d63d",
            "_dom_classes": [],
            "description": "",
            "_model_name": "IntProgressModel",
            "bar_style": "success",
            "max": 7000000,
            "_view_module": "@jupyter-widgets/controls",
            "_model_module_version": "1.5.0",
            "value": 7000000,
            "_view_count": null,
            "_view_module_version": "1.5.0",
            "orientation": "horizontal",
            "min": 0,
            "description_tooltip": null,
            "_model_module": "@jupyter-widgets/controls",
            "layout": "IPY_MODEL_25f665264ad942a6b155e5bdae909b5b"
          }
        },
        "ccc3ae84f9804bb3a043fdc1d6a8ff7a": {
          "model_module": "@jupyter-widgets/controls",
          "model_name": "HTMLModel",
          "state": {
            "_view_name": "HTMLView",
            "style": "IPY_MODEL_8bab1e822b4041c2b21d18c5bc60eb4e",
            "_dom_classes": [],
            "description": "",
            "_model_name": "HTMLModel",
            "placeholder": "​",
            "_view_module": "@jupyter-widgets/controls",
            "_model_module_version": "1.5.0",
            "value": "100% 7000000/7000000 [00:09&lt;00:00, 776010.65it/s]",
            "_view_count": null,
            "_view_module_version": "1.5.0",
            "description_tooltip": null,
            "_model_module": "@jupyter-widgets/controls",
            "layout": "IPY_MODEL_74c459a6a2a346b983794b7ab3cff332"
          }
        },
        "ffd8658f7ed043e1ab997133cef1d63d": {
          "model_module": "@jupyter-widgets/controls",
          "model_name": "ProgressStyleModel",
          "state": {
            "_view_name": "StyleView",
            "_model_name": "ProgressStyleModel",
            "description_width": "",
            "_view_module": "@jupyter-widgets/base",
            "_model_module_version": "1.5.0",
            "_view_count": null,
            "_view_module_version": "1.2.0",
            "bar_color": null,
            "_model_module": "@jupyter-widgets/controls"
          }
        },
        "25f665264ad942a6b155e5bdae909b5b": {
          "model_module": "@jupyter-widgets/base",
          "model_name": "LayoutModel",
          "state": {
            "_view_name": "LayoutView",
            "grid_template_rows": null,
            "right": null,
            "justify_content": null,
            "_view_module": "@jupyter-widgets/base",
            "overflow": null,
            "_model_module_version": "1.2.0",
            "_view_count": null,
            "flex_flow": null,
            "width": null,
            "min_width": null,
            "border": null,
            "align_items": null,
            "bottom": null,
            "_model_module": "@jupyter-widgets/base",
            "top": null,
            "grid_column": null,
            "overflow_y": null,
            "overflow_x": null,
            "grid_auto_flow": null,
            "grid_area": null,
            "grid_template_columns": null,
            "flex": null,
            "_model_name": "LayoutModel",
            "justify_items": null,
            "grid_row": null,
            "max_height": null,
            "align_content": null,
            "visibility": null,
            "align_self": null,
            "height": null,
            "min_height": null,
            "padding": null,
            "grid_auto_rows": null,
            "grid_gap": null,
            "max_width": null,
            "order": null,
            "_view_module_version": "1.2.0",
            "grid_template_areas": null,
            "object_position": null,
            "object_fit": null,
            "grid_auto_columns": null,
            "margin": null,
            "display": null,
            "left": null
          }
        },
        "8bab1e822b4041c2b21d18c5bc60eb4e": {
          "model_module": "@jupyter-widgets/controls",
          "model_name": "DescriptionStyleModel",
          "state": {
            "_view_name": "StyleView",
            "_model_name": "DescriptionStyleModel",
            "description_width": "",
            "_view_module": "@jupyter-widgets/base",
            "_model_module_version": "1.5.0",
            "_view_count": null,
            "_view_module_version": "1.2.0",
            "_model_module": "@jupyter-widgets/controls"
          }
        },
        "74c459a6a2a346b983794b7ab3cff332": {
          "model_module": "@jupyter-widgets/base",
          "model_name": "LayoutModel",
          "state": {
            "_view_name": "LayoutView",
            "grid_template_rows": null,
            "right": null,
            "justify_content": null,
            "_view_module": "@jupyter-widgets/base",
            "overflow": null,
            "_model_module_version": "1.2.0",
            "_view_count": null,
            "flex_flow": null,
            "width": null,
            "min_width": null,
            "border": null,
            "align_items": null,
            "bottom": null,
            "_model_module": "@jupyter-widgets/base",
            "top": null,
            "grid_column": null,
            "overflow_y": null,
            "overflow_x": null,
            "grid_auto_flow": null,
            "grid_area": null,
            "grid_template_columns": null,
            "flex": null,
            "_model_name": "LayoutModel",
            "justify_items": null,
            "grid_row": null,
            "max_height": null,
            "align_content": null,
            "visibility": null,
            "align_self": null,
            "height": null,
            "min_height": null,
            "padding": null,
            "grid_auto_rows": null,
            "grid_gap": null,
            "max_width": null,
            "order": null,
            "_view_module_version": "1.2.0",
            "grid_template_areas": null,
            "object_position": null,
            "object_fit": null,
            "grid_auto_columns": null,
            "margin": null,
            "display": null,
            "left": null
          }
        },
        "b9871fe301fa49e3bf04a3d586ea3e93": {
          "model_module": "@jupyter-widgets/controls",
          "model_name": "HBoxModel",
          "state": {
            "_view_name": "HBoxView",
            "_dom_classes": [],
            "_model_name": "HBoxModel",
            "_view_module": "@jupyter-widgets/controls",
            "_model_module_version": "1.5.0",
            "_view_count": null,
            "_view_module_version": "1.5.0",
            "box_style": "",
            "layout": "IPY_MODEL_4fac13e6c7084c919591b93d46441e34",
            "_model_module": "@jupyter-widgets/controls",
            "children": [
              "IPY_MODEL_93cee5f0298b4ca6b2a9cd086c90d31e",
              "IPY_MODEL_35a208bb16c844dea0ef0c18c9cd863d"
            ]
          }
        },
        "4fac13e6c7084c919591b93d46441e34": {
          "model_module": "@jupyter-widgets/base",
          "model_name": "LayoutModel",
          "state": {
            "_view_name": "LayoutView",
            "grid_template_rows": null,
            "right": null,
            "justify_content": null,
            "_view_module": "@jupyter-widgets/base",
            "overflow": null,
            "_model_module_version": "1.2.0",
            "_view_count": null,
            "flex_flow": null,
            "width": null,
            "min_width": null,
            "border": null,
            "align_items": null,
            "bottom": null,
            "_model_module": "@jupyter-widgets/base",
            "top": null,
            "grid_column": null,
            "overflow_y": null,
            "overflow_x": null,
            "grid_auto_flow": null,
            "grid_area": null,
            "grid_template_columns": null,
            "flex": null,
            "_model_name": "LayoutModel",
            "justify_items": null,
            "grid_row": null,
            "max_height": null,
            "align_content": null,
            "visibility": null,
            "align_self": null,
            "height": null,
            "min_height": null,
            "padding": null,
            "grid_auto_rows": null,
            "grid_gap": null,
            "max_width": null,
            "order": null,
            "_view_module_version": "1.2.0",
            "grid_template_areas": null,
            "object_position": null,
            "object_fit": null,
            "grid_auto_columns": null,
            "margin": null,
            "display": null,
            "left": null
          }
        },
        "93cee5f0298b4ca6b2a9cd086c90d31e": {
          "model_module": "@jupyter-widgets/controls",
          "model_name": "IntProgressModel",
          "state": {
            "_view_name": "ProgressView",
            "style": "IPY_MODEL_6b474d4026234a0cbeafeb6aeffc6e2c",
            "_dom_classes": [],
            "description": "",
            "_model_name": "IntProgressModel",
            "bar_style": "success",
            "max": 888,
            "_view_module": "@jupyter-widgets/controls",
            "_model_module_version": "1.5.0",
            "value": 888,
            "_view_count": null,
            "_view_module_version": "1.5.0",
            "orientation": "horizontal",
            "min": 0,
            "description_tooltip": null,
            "_model_module": "@jupyter-widgets/controls",
            "layout": "IPY_MODEL_0ecf92d281af485d8fefce9ebdb3bea5"
          }
        },
        "35a208bb16c844dea0ef0c18c9cd863d": {
          "model_module": "@jupyter-widgets/controls",
          "model_name": "HTMLModel",
          "state": {
            "_view_name": "HTMLView",
            "style": "IPY_MODEL_6c02461e45c14dcaab202434d3bb680c",
            "_dom_classes": [],
            "description": "",
            "_model_name": "HTMLModel",
            "placeholder": "​",
            "_view_module": "@jupyter-widgets/controls",
            "_model_module_version": "1.5.0",
            "value": "100% 888/888 [00:00&lt;00:00, 40230.09it/s]",
            "_view_count": null,
            "_view_module_version": "1.5.0",
            "description_tooltip": null,
            "_model_module": "@jupyter-widgets/controls",
            "layout": "IPY_MODEL_d084f5184f2d417a9d625a726502243d"
          }
        },
        "6b474d4026234a0cbeafeb6aeffc6e2c": {
          "model_module": "@jupyter-widgets/controls",
          "model_name": "ProgressStyleModel",
          "state": {
            "_view_name": "StyleView",
            "_model_name": "ProgressStyleModel",
            "description_width": "",
            "_view_module": "@jupyter-widgets/base",
            "_model_module_version": "1.5.0",
            "_view_count": null,
            "_view_module_version": "1.2.0",
            "bar_color": null,
            "_model_module": "@jupyter-widgets/controls"
          }
        },
        "0ecf92d281af485d8fefce9ebdb3bea5": {
          "model_module": "@jupyter-widgets/base",
          "model_name": "LayoutModel",
          "state": {
            "_view_name": "LayoutView",
            "grid_template_rows": null,
            "right": null,
            "justify_content": null,
            "_view_module": "@jupyter-widgets/base",
            "overflow": null,
            "_model_module_version": "1.2.0",
            "_view_count": null,
            "flex_flow": null,
            "width": null,
            "min_width": null,
            "border": null,
            "align_items": null,
            "bottom": null,
            "_model_module": "@jupyter-widgets/base",
            "top": null,
            "grid_column": null,
            "overflow_y": null,
            "overflow_x": null,
            "grid_auto_flow": null,
            "grid_area": null,
            "grid_template_columns": null,
            "flex": null,
            "_model_name": "LayoutModel",
            "justify_items": null,
            "grid_row": null,
            "max_height": null,
            "align_content": null,
            "visibility": null,
            "align_self": null,
            "height": null,
            "min_height": null,
            "padding": null,
            "grid_auto_rows": null,
            "grid_gap": null,
            "max_width": null,
            "order": null,
            "_view_module_version": "1.2.0",
            "grid_template_areas": null,
            "object_position": null,
            "object_fit": null,
            "grid_auto_columns": null,
            "margin": null,
            "display": null,
            "left": null
          }
        },
        "6c02461e45c14dcaab202434d3bb680c": {
          "model_module": "@jupyter-widgets/controls",
          "model_name": "DescriptionStyleModel",
          "state": {
            "_view_name": "StyleView",
            "_model_name": "DescriptionStyleModel",
            "description_width": "",
            "_view_module": "@jupyter-widgets/base",
            "_model_module_version": "1.5.0",
            "_view_count": null,
            "_view_module_version": "1.2.0",
            "_model_module": "@jupyter-widgets/controls"
          }
        },
        "d084f5184f2d417a9d625a726502243d": {
          "model_module": "@jupyter-widgets/base",
          "model_name": "LayoutModel",
          "state": {
            "_view_name": "LayoutView",
            "grid_template_rows": null,
            "right": null,
            "justify_content": null,
            "_view_module": "@jupyter-widgets/base",
            "overflow": null,
            "_model_module_version": "1.2.0",
            "_view_count": null,
            "flex_flow": null,
            "width": null,
            "min_width": null,
            "border": null,
            "align_items": null,
            "bottom": null,
            "_model_module": "@jupyter-widgets/base",
            "top": null,
            "grid_column": null,
            "overflow_y": null,
            "overflow_x": null,
            "grid_auto_flow": null,
            "grid_area": null,
            "grid_template_columns": null,
            "flex": null,
            "_model_name": "LayoutModel",
            "justify_items": null,
            "grid_row": null,
            "max_height": null,
            "align_content": null,
            "visibility": null,
            "align_self": null,
            "height": null,
            "min_height": null,
            "padding": null,
            "grid_auto_rows": null,
            "grid_gap": null,
            "max_width": null,
            "order": null,
            "_view_module_version": "1.2.0",
            "grid_template_areas": null,
            "object_position": null,
            "object_fit": null,
            "grid_auto_columns": null,
            "margin": null,
            "display": null,
            "left": null
          }
        },
        "f4accc347fca441abd5532b95950fe69": {
          "model_module": "@jupyter-widgets/controls",
          "model_name": "HBoxModel",
          "state": {
            "_view_name": "HBoxView",
            "_dom_classes": [],
            "_model_name": "HBoxModel",
            "_view_module": "@jupyter-widgets/controls",
            "_model_module_version": "1.5.0",
            "_view_count": null,
            "_view_module_version": "1.5.0",
            "box_style": "",
            "layout": "IPY_MODEL_5b71494bbbde4fb38353d481f1bb6264",
            "_model_module": "@jupyter-widgets/controls",
            "children": [
              "IPY_MODEL_8305d3b412da43e59d08ab8ba0818d40",
              "IPY_MODEL_49ea29159a5e411793f84c01b345bdbb"
            ]
          }
        },
        "5b71494bbbde4fb38353d481f1bb6264": {
          "model_module": "@jupyter-widgets/base",
          "model_name": "LayoutModel",
          "state": {
            "_view_name": "LayoutView",
            "grid_template_rows": null,
            "right": null,
            "justify_content": null,
            "_view_module": "@jupyter-widgets/base",
            "overflow": null,
            "_model_module_version": "1.2.0",
            "_view_count": null,
            "flex_flow": null,
            "width": null,
            "min_width": null,
            "border": null,
            "align_items": null,
            "bottom": null,
            "_model_module": "@jupyter-widgets/base",
            "top": null,
            "grid_column": null,
            "overflow_y": null,
            "overflow_x": null,
            "grid_auto_flow": null,
            "grid_area": null,
            "grid_template_columns": null,
            "flex": null,
            "_model_name": "LayoutModel",
            "justify_items": null,
            "grid_row": null,
            "max_height": null,
            "align_content": null,
            "visibility": null,
            "align_self": null,
            "height": null,
            "min_height": null,
            "padding": null,
            "grid_auto_rows": null,
            "grid_gap": null,
            "max_width": null,
            "order": null,
            "_view_module_version": "1.2.0",
            "grid_template_areas": null,
            "object_position": null,
            "object_fit": null,
            "grid_auto_columns": null,
            "margin": null,
            "display": null,
            "left": null
          }
        },
        "8305d3b412da43e59d08ab8ba0818d40": {
          "model_module": "@jupyter-widgets/controls",
          "model_name": "IntProgressModel",
          "state": {
            "_view_name": "ProgressView",
            "style": "IPY_MODEL_2fcee20892f74cf6bd82014f03df81de",
            "_dom_classes": [],
            "description": "",
            "_model_name": "IntProgressModel",
            "bar_style": "success",
            "max": 153041641,
            "_view_module": "@jupyter-widgets/controls",
            "_model_module_version": "1.5.0",
            "value": 153041641,
            "_view_count": null,
            "_view_module_version": "1.5.0",
            "orientation": "horizontal",
            "min": 0,
            "description_tooltip": null,
            "_model_module": "@jupyter-widgets/controls",
            "layout": "IPY_MODEL_44add83b858c4350858d76c32a66c072"
          }
        },
        "49ea29159a5e411793f84c01b345bdbb": {
          "model_module": "@jupyter-widgets/controls",
          "model_name": "HTMLModel",
          "state": {
            "_view_name": "HTMLView",
            "style": "IPY_MODEL_fbcea1bb99c845209c82d457ab853c1a",
            "_dom_classes": [],
            "description": "",
            "_model_name": "HTMLModel",
            "placeholder": "​",
            "_view_module": "@jupyter-widgets/controls",
            "_model_module_version": "1.5.0",
            "value": "100% 153041641/153041641 [02:14&lt;00:00, 1137070.46it/s]",
            "_view_count": null,
            "_view_module_version": "1.5.0",
            "description_tooltip": null,
            "_model_module": "@jupyter-widgets/controls",
            "layout": "IPY_MODEL_aca320aee0e4464ab1c3c301b2dbe616"
          }
        },
        "2fcee20892f74cf6bd82014f03df81de": {
          "model_module": "@jupyter-widgets/controls",
          "model_name": "ProgressStyleModel",
          "state": {
            "_view_name": "StyleView",
            "_model_name": "ProgressStyleModel",
            "description_width": "",
            "_view_module": "@jupyter-widgets/base",
            "_model_module_version": "1.5.0",
            "_view_count": null,
            "_view_module_version": "1.2.0",
            "bar_color": null,
            "_model_module": "@jupyter-widgets/controls"
          }
        },
        "44add83b858c4350858d76c32a66c072": {
          "model_module": "@jupyter-widgets/base",
          "model_name": "LayoutModel",
          "state": {
            "_view_name": "LayoutView",
            "grid_template_rows": null,
            "right": null,
            "justify_content": null,
            "_view_module": "@jupyter-widgets/base",
            "overflow": null,
            "_model_module_version": "1.2.0",
            "_view_count": null,
            "flex_flow": null,
            "width": null,
            "min_width": null,
            "border": null,
            "align_items": null,
            "bottom": null,
            "_model_module": "@jupyter-widgets/base",
            "top": null,
            "grid_column": null,
            "overflow_y": null,
            "overflow_x": null,
            "grid_auto_flow": null,
            "grid_area": null,
            "grid_template_columns": null,
            "flex": null,
            "_model_name": "LayoutModel",
            "justify_items": null,
            "grid_row": null,
            "max_height": null,
            "align_content": null,
            "visibility": null,
            "align_self": null,
            "height": null,
            "min_height": null,
            "padding": null,
            "grid_auto_rows": null,
            "grid_gap": null,
            "max_width": null,
            "order": null,
            "_view_module_version": "1.2.0",
            "grid_template_areas": null,
            "object_position": null,
            "object_fit": null,
            "grid_auto_columns": null,
            "margin": null,
            "display": null,
            "left": null
          }
        },
        "fbcea1bb99c845209c82d457ab853c1a": {
          "model_module": "@jupyter-widgets/controls",
          "model_name": "DescriptionStyleModel",
          "state": {
            "_view_name": "StyleView",
            "_model_name": "DescriptionStyleModel",
            "description_width": "",
            "_view_module": "@jupyter-widgets/base",
            "_model_module_version": "1.5.0",
            "_view_count": null,
            "_view_module_version": "1.2.0",
            "_model_module": "@jupyter-widgets/controls"
          }
        },
        "aca320aee0e4464ab1c3c301b2dbe616": {
          "model_module": "@jupyter-widgets/base",
          "model_name": "LayoutModel",
          "state": {
            "_view_name": "LayoutView",
            "grid_template_rows": null,
            "right": null,
            "justify_content": null,
            "_view_module": "@jupyter-widgets/base",
            "overflow": null,
            "_model_module_version": "1.2.0",
            "_view_count": null,
            "flex_flow": null,
            "width": null,
            "min_width": null,
            "border": null,
            "align_items": null,
            "bottom": null,
            "_model_module": "@jupyter-widgets/base",
            "top": null,
            "grid_column": null,
            "overflow_y": null,
            "overflow_x": null,
            "grid_auto_flow": null,
            "grid_area": null,
            "grid_template_columns": null,
            "flex": null,
            "_model_name": "LayoutModel",
            "justify_items": null,
            "grid_row": null,
            "max_height": null,
            "align_content": null,
            "visibility": null,
            "align_self": null,
            "height": null,
            "min_height": null,
            "padding": null,
            "grid_auto_rows": null,
            "grid_gap": null,
            "max_width": null,
            "order": null,
            "_view_module_version": "1.2.0",
            "grid_template_areas": null,
            "object_position": null,
            "object_fit": null,
            "grid_auto_columns": null,
            "margin": null,
            "display": null,
            "left": null
          }
        },
        "a1ccd02ebe7b4217a89d0a7db14a2f87": {
          "model_module": "@jupyter-widgets/controls",
          "model_name": "HBoxModel",
          "state": {
            "_view_name": "HBoxView",
            "_dom_classes": [],
            "_model_name": "HBoxModel",
            "_view_module": "@jupyter-widgets/controls",
            "_model_module_version": "1.5.0",
            "_view_count": null,
            "_view_module_version": "1.5.0",
            "box_style": "",
            "layout": "IPY_MODEL_c2a7b749efcc44f290e89db65ac60c7e",
            "_model_module": "@jupyter-widgets/controls",
            "children": [
              "IPY_MODEL_ae010684c24f44c29c207fc9b05800ec",
              "IPY_MODEL_00e712cf3e684830b7720bc092a93642"
            ]
          }
        },
        "c2a7b749efcc44f290e89db65ac60c7e": {
          "model_module": "@jupyter-widgets/base",
          "model_name": "LayoutModel",
          "state": {
            "_view_name": "LayoutView",
            "grid_template_rows": null,
            "right": null,
            "justify_content": null,
            "_view_module": "@jupyter-widgets/base",
            "overflow": null,
            "_model_module_version": "1.2.0",
            "_view_count": null,
            "flex_flow": null,
            "width": null,
            "min_width": null,
            "border": null,
            "align_items": null,
            "bottom": null,
            "_model_module": "@jupyter-widgets/base",
            "top": null,
            "grid_column": null,
            "overflow_y": null,
            "overflow_x": null,
            "grid_auto_flow": null,
            "grid_area": null,
            "grid_template_columns": null,
            "flex": null,
            "_model_name": "LayoutModel",
            "justify_items": null,
            "grid_row": null,
            "max_height": null,
            "align_content": null,
            "visibility": null,
            "align_self": null,
            "height": null,
            "min_height": null,
            "padding": null,
            "grid_auto_rows": null,
            "grid_gap": null,
            "max_width": null,
            "order": null,
            "_view_module_version": "1.2.0",
            "grid_template_areas": null,
            "object_position": null,
            "object_fit": null,
            "grid_auto_columns": null,
            "margin": null,
            "display": null,
            "left": null
          }
        },
        "ae010684c24f44c29c207fc9b05800ec": {
          "model_module": "@jupyter-widgets/controls",
          "model_name": "IntProgressModel",
          "state": {
            "_view_name": "ProgressView",
            "style": "IPY_MODEL_d3580fca9d42468e947781b4e4dbe2ee",
            "_dom_classes": [],
            "description": "",
            "_model_name": "IntProgressModel",
            "bar_style": "success",
            "max": 1,
            "_view_module": "@jupyter-widgets/controls",
            "_model_module_version": "1.5.0",
            "value": 1,
            "_view_count": null,
            "_view_module_version": "1.5.0",
            "orientation": "horizontal",
            "min": 0,
            "description_tooltip": null,
            "_model_module": "@jupyter-widgets/controls",
            "layout": "IPY_MODEL_252ec285c68741b2ad457a9a4a1c80f4"
          }
        },
        "00e712cf3e684830b7720bc092a93642": {
          "model_module": "@jupyter-widgets/controls",
          "model_name": "HTMLModel",
          "state": {
            "_view_name": "HTMLView",
            "style": "IPY_MODEL_1a41951880984760bc30b33b76b2bd1e",
            "_dom_classes": [],
            "description": "",
            "_model_name": "HTMLModel",
            "placeholder": "​",
            "_view_module": "@jupyter-widgets/controls",
            "_model_module_version": "1.5.0",
            "value": "17489124it [06:04, 47950.54it/s]",
            "_view_count": null,
            "_view_module_version": "1.5.0",
            "description_tooltip": null,
            "_model_module": "@jupyter-widgets/controls",
            "layout": "IPY_MODEL_93754a1e6ac54baabaf46a1eda010a4a"
          }
        },
        "d3580fca9d42468e947781b4e4dbe2ee": {
          "model_module": "@jupyter-widgets/controls",
          "model_name": "ProgressStyleModel",
          "state": {
            "_view_name": "StyleView",
            "_model_name": "ProgressStyleModel",
            "description_width": "",
            "_view_module": "@jupyter-widgets/base",
            "_model_module_version": "1.5.0",
            "_view_count": null,
            "_view_module_version": "1.2.0",
            "bar_color": null,
            "_model_module": "@jupyter-widgets/controls"
          }
        },
        "252ec285c68741b2ad457a9a4a1c80f4": {
          "model_module": "@jupyter-widgets/base",
          "model_name": "LayoutModel",
          "state": {
            "_view_name": "LayoutView",
            "grid_template_rows": null,
            "right": null,
            "justify_content": null,
            "_view_module": "@jupyter-widgets/base",
            "overflow": null,
            "_model_module_version": "1.2.0",
            "_view_count": null,
            "flex_flow": null,
            "width": null,
            "min_width": null,
            "border": null,
            "align_items": null,
            "bottom": null,
            "_model_module": "@jupyter-widgets/base",
            "top": null,
            "grid_column": null,
            "overflow_y": null,
            "overflow_x": null,
            "grid_auto_flow": null,
            "grid_area": null,
            "grid_template_columns": null,
            "flex": null,
            "_model_name": "LayoutModel",
            "justify_items": null,
            "grid_row": null,
            "max_height": null,
            "align_content": null,
            "visibility": null,
            "align_self": null,
            "height": null,
            "min_height": null,
            "padding": null,
            "grid_auto_rows": null,
            "grid_gap": null,
            "max_width": null,
            "order": null,
            "_view_module_version": "1.2.0",
            "grid_template_areas": null,
            "object_position": null,
            "object_fit": null,
            "grid_auto_columns": null,
            "margin": null,
            "display": null,
            "left": null
          }
        },
        "1a41951880984760bc30b33b76b2bd1e": {
          "model_module": "@jupyter-widgets/controls",
          "model_name": "DescriptionStyleModel",
          "state": {
            "_view_name": "StyleView",
            "_model_name": "DescriptionStyleModel",
            "description_width": "",
            "_view_module": "@jupyter-widgets/base",
            "_model_module_version": "1.5.0",
            "_view_count": null,
            "_view_module_version": "1.2.0",
            "_model_module": "@jupyter-widgets/controls"
          }
        },
        "93754a1e6ac54baabaf46a1eda010a4a": {
          "model_module": "@jupyter-widgets/base",
          "model_name": "LayoutModel",
          "state": {
            "_view_name": "LayoutView",
            "grid_template_rows": null,
            "right": null,
            "justify_content": null,
            "_view_module": "@jupyter-widgets/base",
            "overflow": null,
            "_model_module_version": "1.2.0",
            "_view_count": null,
            "flex_flow": null,
            "width": null,
            "min_width": null,
            "border": null,
            "align_items": null,
            "bottom": null,
            "_model_module": "@jupyter-widgets/base",
            "top": null,
            "grid_column": null,
            "overflow_y": null,
            "overflow_x": null,
            "grid_auto_flow": null,
            "grid_area": null,
            "grid_template_columns": null,
            "flex": null,
            "_model_name": "LayoutModel",
            "justify_items": null,
            "grid_row": null,
            "max_height": null,
            "align_content": null,
            "visibility": null,
            "align_self": null,
            "height": null,
            "min_height": null,
            "padding": null,
            "grid_auto_rows": null,
            "grid_gap": null,
            "max_width": null,
            "order": null,
            "_view_module_version": "1.2.0",
            "grid_template_areas": null,
            "object_position": null,
            "object_fit": null,
            "grid_auto_columns": null,
            "margin": null,
            "display": null,
            "left": null
          }
        }
      }
    },
    "accelerator": "TPU"
  },
  "cells": [
    {
      "cell_type": "code",
      "metadata": {
        "id": "Z1a1YvqQMYwq",
        "colab_type": "code",
        "colab": {}
      },
      "source": [
        "!pip install gdal\n",
        "!pip install rasterio\n",
        "!pip install sentinelsat"
      ],
      "execution_count": 0,
      "outputs": []
    },
    {
      "cell_type": "code",
      "metadata": {
        "id": "RFoYRRBraO35",
        "colab_type": "code",
        "outputId": "753ec06d-91d1-44b3-e486-fdd9496d7d91",
        "colab": {
          "base_uri": "https://localhost:8080/",
          "height": 34
        }
      },
      "source": [
        "from sentinelsat.sentinel import SentinelAPI, read_geojson, geojson_to_wkt\n",
        "import gdal\n",
        "from gdalconst import GA_ReadOnly \n",
        "import matplotlib.pyplot as plt\n",
        "%matplotlib inline \n",
        "import cv2\n",
        "import numpy as np\n",
        "from collections import Counter\n",
        "from tqdm import tqdm_notebook as tqdm\n",
        "IMG_SIZE=1000\n",
        "import rasterio\n",
        "from rasterio.plot import show\n",
        "import subprocess\n",
        "import os\n",
        "import math\n",
        "from sklearn.preprocessing import minmax_scale\n",
        "from google.colab import drive\n",
        "drive.mount('/content/drive')"
      ],
      "execution_count": 44,
      "outputs": [
        {
          "output_type": "stream",
          "text": [
            "Drive already mounted at /content/drive; to attempt to forcibly remount, call drive.mount(\"/content/drive\", force_remount=True).\n"
          ],
          "name": "stdout"
        }
      ]
    },
    {
      "cell_type": "code",
      "metadata": {
        "id": "naCl-yUfPJzk",
        "colab_type": "code",
        "colab": {}
      },
      "source": [
        "BIG_SIZE=12371"
      ],
      "execution_count": 0,
      "outputs": []
    },
    {
      "cell_type": "markdown",
      "metadata": {
        "id": "H8AocvjjPhJv",
        "colab_type": "text"
      },
      "source": [
        "# **GHS BUILT-UP**"
      ]
    },
    {
      "cell_type": "markdown",
      "metadata": {
        "id": "mc5cUgbQMsgh",
        "colab_type": "text"
      },
      "source": [
        "**DOWNLOAD CLC REFERENCE DATA**"
      ]
    },
    {
      "cell_type": "code",
      "metadata": {
        "id": "cMkDlUdYMcms",
        "colab_type": "code",
        "outputId": "e6a51d9a-88ba-4166-bea5-00392483b1ec",
        "colab": {
          "base_uri": "https://localhost:8080/",
          "height": 54
        }
      },
      "source": [
        "subprocess.run(['wget', 'https://land.copernicus.eu/land-files/7ac95361f9ac3cecdf37785bc183ff02dd765a16.zip'])\n",
        "subprocess.run(['unzip' ,'7ac95361f9ac3cecdf37785bc183ff02dd765a16.zip'])\n",
        "subprocess.run(['unzip' ,'clc2018_clc2018_v2018_20_raster100m.zip'])\n",
        "subprocess.run(['gdalwarp','-co','COMPRESS=DEFLATE','-t_srs','EPSG:32632','clc2018_clc2018_v2018_20_raster100m/CLC2018_CLC2018_V2018_20.tif','europe.tif'])\n"
      ],
      "execution_count": 0,
      "outputs": [
        {
          "output_type": "execute_result",
          "data": {
            "text/plain": [
              "CompletedProcess(args=['gdalwarp', '-co', 'COMPRESS=DEFLATE', '-t_srs', 'EPSG:32632', 'clc2018_clc2018_v2018_20_raster100m/CLC2018_CLC2018_V2018_20.tif', 'europe.tif'], returncode=0)"
            ]
          },
          "metadata": {
            "tags": []
          },
          "execution_count": 3
        }
      ]
    },
    {
      "cell_type": "markdown",
      "metadata": {
        "id": "3TibEqxG3UVr",
        "colab_type": "text"
      },
      "source": [
        "**STEP 1 : DATA PREPROCESSING**"
      ]
    },
    {
      "cell_type": "code",
      "metadata": {
        "id": "7eprcUOi3EDs",
        "colab_type": "code",
        "colab": {}
      },
      "source": [
        "def download_scene(file_id):\n",
        "  api = SentinelAPI('s5pguest', 's5pguest',api_url='https://scihub.copernicus.eu/apihub')\n",
        "  api.download(file_id)\n",
        "\n",
        "def unzip_scene(file_name):\n",
        "  subprocess.call('unzip '+file_name,shell=True)\n",
        "\n",
        "def jp2_to_tif(input_file,output_file):\n",
        "  subprocess.call('gdal_translate ' +input_file+' '+output_file,shell=True)\n",
        "\n",
        "def clip_ref_scene(input_file,output_file):\n",
        "  data=gdal.Open(input_file,GA_ReadOnly) \n",
        "  geoTransform=data.GetGeoTransform() \n",
        "  minx=geoTransform[0] \n",
        "  maxy=geoTransform[3] \n",
        "  maxx = minx + geoTransform[1] * data.RasterXSize \n",
        "  miny = maxy + geoTransform[5] * data.RasterYSize \n",
        "  subprocess.call('gdal_translate -projwin ' + ' '.join([str(x) for x in [minx, maxy, maxx, miny]]) + ' -of GTiff europe.tif ' +output_file, shell=True) \n",
        "\n",
        "def resize_scene(input_file,output_file):\n",
        "  subprocess.call('gdal_translate -co QUALITY=100 -co PROGRESSIVE=ON -outsize '+str(IMG_SIZE)+' '+str(IMG_SIZE)+' -r bilinear '+input_file+' '+output_file,shell=True)\n",
        "\n",
        "def create_new_tif(sourceraster, targetraster,array2d,nbands):\n",
        "  with rasterio.open(sourceraster) as src:\n",
        "    data = src.read()\n",
        "    metadata = src.profile\n",
        "  metadata['count']=nbands\n",
        "  with rasterio.open(targetraster, 'w', **metadata) as dst:\n",
        "    dst.write(array2d, 1)\n",
        "    print('New tif created')\n",
        "\n",
        "def resize_scene_custom_size(input_file,output_file,sizenew):\n",
        "  subprocess.call('gdal_translate -co QUALITY=100 -co PROGRESSIVE=ON -outsize '+str(sizenew)+' '+str(sizenew)+' '+input_file+' '+output_file,shell=True)\n",
        "\n",
        "def change_pixel_size(inputfile,outputfile,pixelsize):\n",
        "  subprocess.call('gdalwarp -tr '+ str(pixelsize)+' '+str(pixelsize)+' '+inputfile+' '+outputfile,shell=True)\n",
        "\n",
        "\n",
        "def clip_ref_scene_pop(input_file,output_file):\n",
        "  data=gdal.Open(input_file,GA_ReadOnly) \n",
        "  geoTransform=data.GetGeoTransform() \n",
        "  minx=geoTransform[0] \n",
        "  maxy=geoTransform[3] \n",
        "  maxx = minx + geoTransform[1] * data.RasterXSize \n",
        "  miny = maxy + geoTransform[5] * data.RasterYSize \n",
        "  subprocess.call('gdal_translate -projwin ' + ' '.join([str(x) for x in [minx, maxy, maxx, miny]]) + ' -of GTiff world-population.tif ' +output_file, shell=True) "
      ],
      "execution_count": 0,
      "outputs": []
    },
    {
      "cell_type": "code",
      "metadata": {
        "id": "wNm3vAoqGJ3w",
        "colab_type": "code",
        "outputId": "5d17830d-9efa-4099-c144-5a1209f1fb62",
        "colab": {
          "base_uri": "https://localhost:8080/",
          "height": 151
        }
      },
      "source": [
        "#download_scene('742eb824-df10-4402-866e-0d92e8575aa4')\n",
        "download_scene('cbb628b9-8399-4a24-aaeb-b5d5bdc49be0')\n",
        "unzip_scene('/content/S2A_MSIL1C_20190926T105811_N0208_R094_T30TVK_20190926T130550.zip')\n",
        "jp2_to_tif('/content/S2A_MSIL1C_20190926T105811_N0208_R094_T30TVK_20190926T130550.SAFE/GRANULE/L1C_T30TVK_A022256_20190926T110642/IMG_DATA/T30TVK_20190926T105811_TCI.jp2','test-full-temp.tif')\n",
        "!gdalwarp -co  COMPRESS=DEFLATE -t_srs EPSG:32632 'test-full-temp.tif' 'test-full.tif'\n",
        "clip_ref_scene('test-full.tif','test-y-temp.tif')\n",
        "resize_scene('test-y-temp.tif','test-y.tif')\n",
        "\n",
        "resize_scene('test-full.tif','test.tif')\n",
        "jp2_to_tif('/content/S2A_MSIL1C_20190926T105811_N0208_R094_T30TVK_20190926T130550.SAFE/GRANULE/L1C_T30TVK_A022256_20190926T110642/IMG_DATA/T30TVK_20190926T105811_B08.jp2','test-b8-full-temp.tif')\n",
        "!gdalwarp -co  COMPRESS=DEFLATE -t_srs EPSG:32632 'test-b8-full-temp.tif' 'test-b8-full.tif'\n",
        "clip_ref_scene('test-b8-full.tif','test-b8-y-temp.tif')\n",
        "resize_scene('test-b8-y-temp.tif','test-b8-y.tif')\n",
        "resize_scene('test-b8-full.tif','test-b8.tif')\n"
      ],
      "execution_count": 0,
      "outputs": [
        {
          "output_type": "stream",
          "text": [
            "Downloading: 100%|██████████| 900M/900M [01:16<00:00, 11.4MB/s]\n",
            "MD5 checksumming: 100%|██████████| 900M/900M [00:02<00:00, 443MB/s]\n"
          ],
          "name": "stderr"
        },
        {
          "output_type": "stream",
          "text": [
            "Creating output file that is 12371P x 12371L.\n",
            "Processing input file test-full-temp.tif.\n",
            "0...10...20...30...40...50...60...70...80...90...100 - done.\n",
            "Creating output file that is 12371P x 12371L.\n",
            "Processing input file test-b8-full-temp.tif.\n",
            "0...10...20...30...40...50...60...70...80...90...100 - done.\n"
          ],
          "name": "stdout"
        }
      ]
    },
    {
      "cell_type": "code",
      "metadata": {
        "id": "jLwK3dawSrH-",
        "colab_type": "code",
        "colab": {}
      },
      "source": [
        ""
      ],
      "execution_count": 0,
      "outputs": []
    },
    {
      "cell_type": "markdown",
      "metadata": {
        "colab_type": "text",
        "id": "jPMzARDeN1pE"
      },
      "source": [
        "**DOWNLOAD GPW DATA**"
      ]
    },
    {
      "cell_type": "code",
      "metadata": {
        "colab_type": "code",
        "id": "t_oZDcf9N1pI",
        "outputId": "106d34c5-f265-4868-952f-966556299c12",
        "colab": {
          "base_uri": "https://localhost:8080/",
          "height": 151
        }
      },
      "source": [
        "!unzip '/content/drive/My Drive/Colab_Notebooks/gpw-v4-population-count-rev11_2015_30_sec_tif.zip'\n",
        "!gdalwarp -co  COMPRESS=DEFLATE -t_srs EPSG:32632 '/content/gpw_v4_population_count_rev11_2015_30_sec.tif' 'world-population.tif'\n",
        "# clip_ref_scene_pop('test-full.tif','test-pop-full.tif')\n",
        "# resize_scene('test-pop-full.tif','test-pop.tif')\n"
      ],
      "execution_count": 0,
      "outputs": [
        {
          "output_type": "stream",
          "text": [
            "Archive:  /content/drive/My Drive/Colab_Notebooks/gpw-v4-population-count-rev11_2015_30_sec_tif.zip\n",
            "  inflating: gpw_v4_population_count_rev11_2015_30_sec.tif  \n",
            "  inflating: gpw_v4_population_count_rev11_2015_30_sec_tif_readme.txt  \n",
            "Creating output file that is 31049P x 36997L.\n",
            "Processing input file /content/gpw_v4_population_count_rev11_2015_30_sec.tif.\n",
            "Using internal nodata values (e.g. -3.40282e+38) for image /content/gpw_v4_population_count_rev11_2015_30_sec.tif.\n",
            "Copying nodata values from source /content/gpw_v4_population_count_rev11_2015_30_sec.tif to destination world-population.tif.\n",
            "0...10...20...30...40...50...60...70...80...90...100 - done.\n"
          ],
          "name": "stdout"
        }
      ]
    },
    {
      "cell_type": "code",
      "metadata": {
        "id": "ltZFj9WoNM6B",
        "colab_type": "code",
        "outputId": "630309c9-4b2f-4618-c118-54370168751f",
        "colab": {
          "base_uri": "https://localhost:8080/",
          "height": 50
        }
      },
      "source": [
        "download_scene('4f07815d-5709-4b0b-8fdd-7e12c78e6546')\n",
        "unzip_scene('S2A_MSIL1C_20190629T103031_N0207_R108_T32UMV_20190629T124358.zip')\n",
        "jp2_to_tif('/content/S2A_MSIL1C_20190629T103031_N0207_R108_T32UMV_20190629T124358.SAFE/GRANULE/L1C_T32UMV_A020983_20190629T103537/IMG_DATA/T32UMV_20190629T103031_TCI.jp2','s1-full.tif')\n",
        "clip_ref_scene('s1-full.tif','s1-y-temp.tif')\n",
        "\n",
        "resize_scene('s1-y-temp.tif','s1-y.tif')\n",
        "resize_scene('s1-full.tif','s1.tif')\n",
        "\n",
        "\n",
        "jp2_to_tif('/content/S2A_MSIL1C_20190629T103031_N0207_R108_T32UMV_20190629T124358.SAFE/GRANULE/L1C_T32UMV_A020983_20190629T103537/IMG_DATA/T32UMV_20190629T103031_B08.jp2','s1-b8-full.tif')\n",
        "clip_ref_scene('s1-b8-full.tif','s1-b8-y-temp.tif')\n",
        "\n",
        "resize_scene('s1-b8-y-temp.tif','s1-b8-y.tif')\n",
        "resize_scene('s1-b8-full.tif','s1-b8.tif')"
      ],
      "execution_count": 0,
      "outputs": [
        {
          "output_type": "stream",
          "text": [
            "Downloading: 100%|██████████| 854M/854M [00:29<00:00, 28.5MB/s]\n",
            "MD5 checksumming: 100%|██████████| 854M/854M [00:01<00:00, 437MB/s]\n"
          ],
          "name": "stderr"
        }
      ]
    },
    {
      "cell_type": "code",
      "metadata": {
        "id": "_aXVnyDdPP5_",
        "colab_type": "code",
        "outputId": "3d1fc356-82f2-4e44-a093-f3d64232ae55",
        "colab": {
          "base_uri": "https://localhost:8080/",
          "height": 50
        }
      },
      "source": [
        "download_scene('03cf3314-1b05-46f1-af1b-cee2652edf2b')\n",
        "unzip_scene('S2B_MSIL1C_20190724T103029_N0208_R108_T32UMV_20190724T122822.zip')\n",
        "jp2_to_tif('/content/S2B_MSIL1C_20190724T103029_N0208_R108_T32UMV_20190724T122822.SAFE/GRANULE/L1C_T32UMV_A012432_20190724T103030/IMG_DATA/T32UMV_20190724T103029_TCI.jp2','s2-full.tif')\n",
        "clip_ref_scene('s2-full.tif','s2-y-temp.tif')\n",
        "resize_scene('s2-y-temp.tif','s2-y.tif')\n",
        "\n",
        "\n",
        "resize_scene('s2-full.tif','s2.tif')\n",
        "jp2_to_tif('/content/S2B_MSIL1C_20190724T103029_N0208_R108_T32UMV_20190724T122822.SAFE/GRANULE/L1C_T32UMV_A012432_20190724T103030/IMG_DATA/T32UMV_20190724T103029_B08.jp2','s2-b8-full.tif')\n",
        "clip_ref_scene('s2-b8-full.tif','s2-b8-y-temp.tif')\n",
        "resize_scene('s2-b8-y-temp.tif','s2-b8-y.tif')\n",
        "\n",
        "resize_scene('s2-b8-full.tif','s2-b8.tif')"
      ],
      "execution_count": 0,
      "outputs": [
        {
          "output_type": "stream",
          "text": [
            "Downloading: 100%|██████████| 840M/840M [00:32<00:00, 25.9MB/s]\n",
            "MD5 checksumming: 100%|██████████| 840M/840M [00:01<00:00, 437MB/s]\n"
          ],
          "name": "stderr"
        }
      ]
    },
    {
      "cell_type": "code",
      "metadata": {
        "id": "theSLX7TCzWm",
        "colab_type": "code",
        "outputId": "e61ab1d1-17fe-4098-8618-09d17a5236e3",
        "colab": {
          "base_uri": "https://localhost:8080/",
          "height": 151
        }
      },
      "source": [
        "download_scene('67a87302-2ff4-4c81-9e5e-792367578f6d')\n",
        "unzip_scene('S2B_MSIL1C_20190921T105739_N0208_R094_T30UYC_20190921T131721.zip')\n",
        "jp2_to_tif('/content/S2B_MSIL1C_20190921T105739_N0208_R094_T30UYC_20190921T131721.SAFE/GRANULE/L1C_T30UYC_A013276_20190921T110218/IMG_DATA/T30UYC_20190921T105739_TCI.jp2','s3-full-temp.tif')\n",
        "!gdalwarp -co  COMPRESS=DEFLATE -t_srs EPSG:32632 's3-full-temp.tif' 's3-full.tif'\n",
        "clip_ref_scene('s3-full.tif','s3-y-temp.tif')\n",
        "resize_scene('s3-y-temp.tif','s3-y.tif')\n",
        "\n",
        "\n",
        "resize_scene('s3-full.tif','s3.tif')\n",
        "jp2_to_tif('/content/S2B_MSIL1C_20190921T105739_N0208_R094_T30UYC_20190921T131721.SAFE/GRANULE/L1C_T30UYC_A013276_20190921T110218/IMG_DATA/T30UYC_20190921T105739_B08.jp2','s3-b8-full-temp.tif')\n",
        "!gdalwarp -co  COMPRESS=DEFLATE -t_srs EPSG:32632 's3-b8-full-temp.tif' 's3-b8-full.tif'\n",
        "clip_ref_scene('s3-b8-full.tif','s3-b8-y-temp.tif')\n",
        "resize_scene('s3-b8-y-temp.tif','s3-b8-y.tif')\n",
        "\n",
        "resize_scene('s3-b8-full.tif','s3-b8.tif')"
      ],
      "execution_count": 0,
      "outputs": [
        {
          "output_type": "stream",
          "text": [
            "Downloading: 100%|██████████| 818M/818M [00:28<00:00, 28.4MB/s]\n",
            "MD5 checksumming: 100%|██████████| 818M/818M [00:01<00:00, 443MB/s]\n"
          ],
          "name": "stderr"
        },
        {
          "output_type": "stream",
          "text": [
            "Creating output file that is 12634P x 12634L.\n",
            "Processing input file s3-full-temp.tif.\n",
            "0...10...20...30...40...50...60...70...80...90...100 - done.\n",
            "Creating output file that is 12634P x 12634L.\n",
            "Processing input file s3-b8-full-temp.tif.\n",
            "0...10...20...30...40...50...60...70...80...90...100 - done.\n"
          ],
          "name": "stdout"
        }
      ]
    },
    {
      "cell_type": "code",
      "metadata": {
        "id": "ZQxGlIB8I14v",
        "colab_type": "code",
        "outputId": "6e4002f0-5933-474a-ba88-a13b42874dd4",
        "colab": {
          "base_uri": "https://localhost:8080/",
          "height": 151
        }
      },
      "source": [
        "download_scene('c04d2ba0-4880-4dcf-a733-879231478aa3')\n",
        "unzip_scene('S2B_MSIL1C_20190724T103029_N0208_R108_T31TGN_20190724T122822.zip')\n",
        "jp2_to_tif('/content/S2B_MSIL1C_20190724T103029_N0208_R108_T31TGN_20190724T122822.SAFE/GRANULE/L1C_T31TGN_A012432_20190724T103030/IMG_DATA/T31TGN_20190724T103029_TCI.jp2','s4-full-temp.tif')\n",
        "!gdalwarp -co  COMPRESS=DEFLATE -t_srs EPSG:32632 's4-full-temp.tif' 's4-full.tif'\n",
        "clip_ref_scene('s4-full.tif','s4-y-temp.tif')\n",
        "resize_scene('s4-y-temp.tif','s4-y.tif')\n",
        "\n",
        "\n",
        "\n",
        "resize_scene('s4-full.tif','s4.tif')\n",
        "jp2_to_tif('/content/S2B_MSIL1C_20190724T103029_N0208_R108_T31TGN_20190724T122822.SAFE/GRANULE/L1C_T31TGN_A012432_20190724T103030/IMG_DATA/T31TGN_20190724T103029_B08.jp2','s4-b8-full-temp.tif')\n",
        "!gdalwarp -co  COMPRESS=DEFLATE -t_srs EPSG:32632 's4-b8-full-temp.tif' 's4-b8-full.tif'\n",
        "clip_ref_scene('s4-b8-full.tif','s4-b8-y-temp.tif')\n",
        "resize_scene('s4-b8-y-temp.tif','s4-b8-y.tif')\n",
        "\n",
        "\n",
        "resize_scene('s4-b8-full.tif','s4-b8.tif')"
      ],
      "execution_count": 0,
      "outputs": [
        {
          "output_type": "stream",
          "text": [
            "Downloading: 100%|██████████| 824M/824M [00:29<00:00, 28.2MB/s]\n",
            "MD5 checksumming: 100%|██████████| 824M/824M [00:01<00:00, 442MB/s]\n"
          ],
          "name": "stderr"
        },
        {
          "output_type": "stream",
          "text": [
            "Creating output file that is 11792P x 11792L.\n",
            "Processing input file s4-full-temp.tif.\n",
            "0...10...20...30...40...50...60...70...80...90...100 - done.\n",
            "Creating output file that is 11792P x 11792L.\n",
            "Processing input file s4-b8-full-temp.tif.\n",
            "0...10...20...30...40...50...60...70...80...90...100 - done.\n"
          ],
          "name": "stdout"
        }
      ]
    },
    {
      "cell_type": "code",
      "metadata": {
        "id": "eIxGrcIFQYar",
        "colab_type": "code",
        "outputId": "f8105bea-8be3-4385-a650-3dd59e42c63f",
        "colab": {
          "base_uri": "https://localhost:8080/",
          "height": 50
        }
      },
      "source": [
        "download_scene('4557d038-7f7e-4356-b410-5c6e7d741e7f')\n",
        "unzip_scene('/content/S2A_MSIL1C_20190904T102021_N0208_R065_T32TNT_20190904T123501.zip')\n",
        "jp2_to_tif('/content/S2A_MSIL1C_20190904T102021_N0208_R065_T32TNT_20190904T123501.SAFE/GRANULE/L1C_T32TNT_A021941_20190904T102045/IMG_DATA/T32TNT_20190904T102021_TCI.jp2','s5-full.tif')\n",
        "clip_ref_scene('s5-full.tif','s5-y-temp.tif')\n",
        "resize_scene('s5-y-temp.tif','s5-y.tif')\n",
        "\n",
        "\n",
        "\n",
        "resize_scene('s5-full.tif','s5.tif')\n",
        "jp2_to_tif('/content/S2A_MSIL1C_20190904T102021_N0208_R065_T32TNT_20190904T123501.SAFE/GRANULE/L1C_T32TNT_A021941_20190904T102045/IMG_DATA/T32TNT_20190904T102021_B08.jp2','s5-b8-full.tif')\n",
        "clip_ref_scene('s5-b8-full.tif','s5-b8-y-temp.tif')\n",
        "resize_scene('s5-b8-y-temp.tif','s5-b8-y.tif')\n",
        "\n",
        "\n",
        "resize_scene('s5-b8-full.tif','s5-b8.tif')"
      ],
      "execution_count": 0,
      "outputs": [
        {
          "output_type": "stream",
          "text": [
            "Downloading: 100%|██████████| 847M/847M [00:29<00:00, 28.3MB/s]\n",
            "MD5 checksumming: 100%|██████████| 847M/847M [00:01<00:00, 439MB/s]\n"
          ],
          "name": "stderr"
        }
      ]
    },
    {
      "cell_type": "code",
      "metadata": {
        "id": "Nk8gd31NQYeh",
        "colab_type": "code",
        "outputId": "1867ef5b-5335-4df1-9b78-d0203f6aecf2",
        "colab": {
          "base_uri": "https://localhost:8080/",
          "height": 151
        }
      },
      "source": [
        "download_scene('336a6ef0-784a-4a90-8333-02ed7ae93b85')\n",
        "unzip_scene('/content/S2B_MSIL1C_20190913T100029_N0208_R122_T33TVJ_20190913T134222.zip')\n",
        "jp2_to_tif('/content/S2B_MSIL1C_20190913T100029_N0208_R122_T33TVJ_20190913T134222.SAFE/GRANULE/L1C_T33TVJ_A013161_20190913T100548/IMG_DATA/T33TVJ_20190913T100029_TCI.jp2','s6-full-temp.tif')\n",
        "!gdalwarp -co  COMPRESS=DEFLATE -t_srs EPSG:32632 's6-full-temp.tif' 's6-full.tif'\n",
        "clip_ref_scene('s6-full.tif','s6-y-temp.tif')\n",
        "resize_scene('s6-y-temp.tif','s6-y.tif')\n",
        "\n",
        "\n",
        "resize_scene('s6-full.tif','s6.tif')\n",
        "jp2_to_tif('/content/S2B_MSIL1C_20190913T100029_N0208_R122_T33TVJ_20190913T134222.SAFE/GRANULE/L1C_T33TVJ_A013161_20190913T100548/IMG_DATA/T33TVJ_20190913T100029_B08.jp2','s6-b8-full-temp.tif')\n",
        "!gdalwarp -co  COMPRESS=DEFLATE -t_srs EPSG:32632 's6-b8-full-temp.tif' 's6-b8-full.tif'\n",
        "clip_ref_scene('s6-b8-full.tif','s6-b8-y-temp.tif')\n",
        "resize_scene('s6-b8-y-temp.tif','s6-b8-y.tif')\n",
        "\n",
        "resize_scene('s6-b8-full.tif','s6-b8.tif')"
      ],
      "execution_count": 0,
      "outputs": [
        {
          "output_type": "stream",
          "text": [
            "Downloading: 100%|██████████| 555M/555M [00:19<00:00, 27.8MB/s]\n",
            "MD5 checksumming: 100%|██████████| 555M/555M [00:01<00:00, 433MB/s]\n"
          ],
          "name": "stderr"
        },
        {
          "output_type": "stream",
          "text": [
            "Creating output file that is 11747P x 11747L.\n",
            "Processing input file s6-full-temp.tif.\n",
            "0...10...20...30...40...50...60...70...80...90...100 - done.\n",
            "Creating output file that is 11747P x 11747L.\n",
            "Processing input file s6-b8-full-temp.tif.\n",
            "0...10...20...30...40...50...60...70...80...90...100 - done.\n"
          ],
          "name": "stdout"
        }
      ]
    },
    {
      "cell_type": "code",
      "metadata": {
        "id": "mmGBNaUol3r-",
        "colab_type": "code",
        "outputId": "685b5148-1014-4954-d84b-e115587cad5a",
        "colab": {
          "base_uri": "https://localhost:8080/",
          "height": 151
        }
      },
      "source": [
        "download_scene('e27091e1-9c59-4326-8b3f-2dfd81d99c65')\n",
        "unzip_scene('/content/S2A_MSIL1C_20190922T094031_N0208_R036_T34TCT_20190922T101504.zip')\n",
        "jp2_to_tif('/content/S2A_MSIL1C_20190922T094031_N0208_R036_T34TCT_20190922T101504.SAFE/GRANULE/L1C_T34TCT_A022198_20190922T094031/IMG_DATA/T34TCT_20190922T094031_TCI.jp2','s7-full-temp.tif')\n",
        "!gdalwarp -co  COMPRESS=DEFLATE -t_srs EPSG:32632 's7-full-temp.tif' 's7-full.tif'\n",
        "clip_ref_scene('s7-full.tif','s7-y-temp.tif')\n",
        "\n",
        "resize_scene('s7-y-temp.tif','s7-y.tif')\n",
        "\n",
        "\n",
        "resize_scene('s7-full.tif','s7.tif')\n",
        "jp2_to_tif('/content/S2A_MSIL1C_20190922T094031_N0208_R036_T34TCT_20190922T101504.SAFE/GRANULE/L1C_T34TCT_A022198_20190922T094031/IMG_DATA/T34TCT_20190922T094031_B08.jp2','s7-b8-full-temp.tif')\n",
        "!gdalwarp -co  COMPRESS=DEFLATE -t_srs EPSG:32632 's7-b8-full-temp.tif' 's7-b8-full.tif'\n",
        "clip_ref_scene('s7-b8-full.tif','s7-b8-y-temp.tif')\n",
        "\n",
        "resize_scene('s7-b8-y-temp.tif','s7-b8-y.tif')\n",
        "\n",
        "resize_scene('s7-b8-full.tif','s7-b8.tif')"
      ],
      "execution_count": 0,
      "outputs": [
        {
          "output_type": "stream",
          "text": [
            "Downloading: 100%|██████████| 839M/839M [00:29<00:00, 28.2MB/s]\n",
            "MD5 checksumming: 100%|██████████| 839M/839M [00:01<00:00, 438MB/s]\n"
          ],
          "name": "stderr"
        },
        {
          "output_type": "stream",
          "text": [
            "Creating output file that is 12540P x 12540L.\n",
            "Processing input file s7-full-temp.tif.\n",
            "0...10...20...30...40...50...60...70...80...90...100 - done.\n",
            "Creating output file that is 12540P x 12540L.\n",
            "Processing input file s7-b8-full-temp.tif.\n",
            "0...10...20...30...40...50...60...70...80...90...100 - done.\n"
          ],
          "name": "stdout"
        }
      ]
    },
    {
      "cell_type": "markdown",
      "metadata": {
        "id": "ixJUkrMgcU8L",
        "colab_type": "text"
      },
      "source": [
        "**VISUALIZE TEST SET - MADRID REGION - SPAIN**"
      ]
    },
    {
      "cell_type": "code",
      "metadata": {
        "id": "yZyfQIfccjHl",
        "colab_type": "code",
        "outputId": "26e21e02-eb45-4bb2-f29d-6811b68f5da1",
        "colab": {
          "base_uri": "https://localhost:8080/",
          "height": 286
        }
      },
      "source": [
        "dataset = rasterio.open('test-full.tif')\n",
        "show(dataset.read([1,2,3]))"
      ],
      "execution_count": 4,
      "outputs": [
        {
          "output_type": "display_data",
          "data": {
            "image/png": "[encoded data removed]",
            "text/plain": [
              "<Figure size 432x288 with 1 Axes>"
            ]
          },
          "metadata": {
            "tags": []
          }
        },
        {
          "output_type": "execute_result",
          "data": {
            "text/plain": [
              "<matplotlib.axes._subplots.AxesSubplot at 0x7fbb202d4048>"
            ]
          },
          "metadata": {
            "tags": []
          },
          "execution_count": 4
        }
      ]
    },
    {
      "cell_type": "code",
      "metadata": {
        "id": "i__Huo409P2W",
        "colab_type": "code",
        "colab": {}
      },
      "source": [
        "tif1=gdal.Open('s1.tif')\n",
        "s1r = tif1.GetRasterBand(1).ReadAsArray()\n",
        "s1g = tif1.GetRasterBand(2).ReadAsArray()\n",
        "s1b = tif1.GetRasterBand(3).ReadAsArray()\n",
        "tif1=gdal.Open('s1-b8.tif')\n",
        "s1b8=tif1.GetRasterBand(1).ReadAsArray()\n",
        "\n",
        "\n",
        "tif1=gdal.Open('s2.tif')\n",
        "s2r = tif1.GetRasterBand(1).ReadAsArray()\n",
        "s2g = tif1.GetRasterBand(2).ReadAsArray()\n",
        "s2b = tif1.GetRasterBand(3).ReadAsArray()\n",
        "tif1=gdal.Open('s2-b8.tif')\n",
        "s2b8=tif1.GetRasterBand(1).ReadAsArray()\n",
        "\n",
        "\n",
        "tif1=gdal.Open('s3.tif')\n",
        "s3r = tif1.GetRasterBand(1).ReadAsArray()\n",
        "s3g = tif1.GetRasterBand(2).ReadAsArray()\n",
        "s3b = tif1.GetRasterBand(3).ReadAsArray()\n",
        "tif1=gdal.Open('s3-b8.tif')\n",
        "s3b8=tif1.GetRasterBand(1).ReadAsArray()\n",
        "\n",
        "\n",
        "tif1=gdal.Open('s4.tif')\n",
        "s4r = tif1.GetRasterBand(1).ReadAsArray()\n",
        "s4g = tif1.GetRasterBand(2).ReadAsArray()\n",
        "s4b = tif1.GetRasterBand(3).ReadAsArray()\n",
        "tif1=gdal.Open('s4-b8.tif')\n",
        "s4b8=tif1.GetRasterBand(1).ReadAsArray()\n",
        "\n",
        "\n",
        "tif1=gdal.Open('s5.tif')\n",
        "s5r = tif1.GetRasterBand(1).ReadAsArray()\n",
        "s5g = tif1.GetRasterBand(2).ReadAsArray()\n",
        "s5b = tif1.GetRasterBand(3).ReadAsArray()\n",
        "tif1=gdal.Open('s5-b8.tif')\n",
        "s5b8=tif1.GetRasterBand(1).ReadAsArray()\n",
        "\n",
        "\n",
        "tif1=gdal.Open('s6.tif')\n",
        "s6r = tif1.GetRasterBand(1).ReadAsArray()\n",
        "s6g = tif1.GetRasterBand(2).ReadAsArray()\n",
        "s6b = tif1.GetRasterBand(3).ReadAsArray()\n",
        "tif1=gdal.Open('s6-b8.tif')\n",
        "s6b8=tif1.GetRasterBand(1).ReadAsArray()\n",
        "\n",
        "\n",
        "tif1=gdal.Open('s7.tif')\n",
        "s7r = tif1.GetRasterBand(1).ReadAsArray()\n",
        "s7g = tif1.GetRasterBand(2).ReadAsArray()\n",
        "s7b = tif1.GetRasterBand(3).ReadAsArray()\n",
        "tif1=gdal.Open('s7-b8.tif')\n",
        "s7b8=tif1.GetRasterBand(1).ReadAsArray()\n"
      ],
      "execution_count": 0,
      "outputs": []
    },
    {
      "cell_type": "code",
      "metadata": {
        "id": "UeXgX8gGJ1zr",
        "colab_type": "code",
        "colab": {}
      },
      "source": [
        "tif2=gdal.Open('test-y.tif')\n",
        "Y_raster_test= tif2.GetRasterBand(1).ReadAsArray()\n",
        "Y_raster_test[Y_raster_test < 100] = 999\n",
        "Y_raster_test[(Y_raster_test > 100)&(Y_raster_test <= 150)] = 0\n",
        "Y_raster_test[Y_raster_test > 150] = 255"
      ],
      "execution_count": 0,
      "outputs": []
    },
    {
      "cell_type": "code",
      "metadata": {
        "id": "DhVGgAwsDE1W",
        "colab_type": "code",
        "colab": {}
      },
      "source": [
        "tif2=gdal.Open('s1-y.tif')\n",
        "Y_raster_s1 = tif2.GetRasterBand(1).ReadAsArray()\n",
        "Y_raster_s1[Y_raster_s1 < 100] = 999\n",
        "Y_raster_s1[(Y_raster_s1 > 100)&(Y_raster_s1 <= 150)] = 0\n",
        "Y_raster_s1[Y_raster_s1 > 150] = 255\n",
        "Y_list=Y_raster_s1.flatten().tolist()\n"
      ],
      "execution_count": 0,
      "outputs": []
    },
    {
      "cell_type": "code",
      "metadata": {
        "id": "Cm0pI9wdDbU2",
        "colab_type": "code",
        "colab": {}
      },
      "source": [
        "tif2=gdal.Open('s2-y.tif')\n",
        "Y_raster_s2 = tif2.GetRasterBand(1).ReadAsArray()\n",
        "Y_raster_s2[Y_raster_s2 < 100] = 999\n",
        "Y_raster_s2[(Y_raster_s2 > 100)&(Y_raster_s2 <= 150)] = 0\n",
        "Y_raster_s2[Y_raster_s2 > 150] = 255\n",
        "\n",
        "Y_list=Y_list+(Y_raster_s2.flatten().tolist())"
      ],
      "execution_count": 0,
      "outputs": []
    },
    {
      "cell_type": "code",
      "metadata": {
        "id": "4P6PAl0xDdJn",
        "colab_type": "code",
        "colab": {}
      },
      "source": [
        "tif2=gdal.Open('s3-y.tif')\n",
        "Y_raster_s3 = tif2.GetRasterBand(1).ReadAsArray()\n",
        "Y_raster_s3[Y_raster_s3 < 100] = 999\n",
        "Y_raster_s3[(Y_raster_s3 > 100)&(Y_raster_s3 <= 150)] = 0\n",
        "Y_raster_s3[Y_raster_s3 > 150] = 255\n",
        "\n",
        "Y_list=Y_list+(Y_raster_s3.flatten().tolist())"
      ],
      "execution_count": 0,
      "outputs": []
    },
    {
      "cell_type": "code",
      "metadata": {
        "id": "fUYhZKvLR6UL",
        "colab_type": "code",
        "colab": {}
      },
      "source": [
        "tif2=gdal.Open('s4-y.tif')\n",
        "Y_raster_s4 = tif2.GetRasterBand(1).ReadAsArray()\n",
        "Y_raster_s4[Y_raster_s4 < 100] = 999\n",
        "Y_raster_s4[(Y_raster_s4 > 100)&(Y_raster_s4 <= 150)] = 0\n",
        "Y_raster_s4[Y_raster_s4 > 150] = 255\n",
        " \n",
        "Y_list=Y_list+(Y_raster_s4.flatten().tolist())\n",
        "\n"
      ],
      "execution_count": 0,
      "outputs": []
    },
    {
      "cell_type": "code",
      "metadata": {
        "id": "zecGHKZnl6lE",
        "colab_type": "code",
        "colab": {}
      },
      "source": [
        "tif2=gdal.Open('s5-y.tif')\n",
        "Y_raster_s5 = tif2.GetRasterBand(1).ReadAsArray()\n",
        "Y_raster_s5[Y_raster_s5 < 100] = 999\n",
        "Y_raster_s5[(Y_raster_s5 > 100)&(Y_raster_s5 <= 150)] = 0\n",
        "Y_raster_s5[Y_raster_s5 > 150] = 255\n",
        " \n",
        "Y_list=Y_list+(Y_raster_s5.flatten().tolist())"
      ],
      "execution_count": 0,
      "outputs": []
    },
    {
      "cell_type": "code",
      "metadata": {
        "id": "8gj9Q5FNryY-",
        "colab_type": "code",
        "colab": {}
      },
      "source": [
        "tif2=gdal.Open('s6-y.tif')\n",
        "Y_raster_s6 = tif2.GetRasterBand(1).ReadAsArray()\n",
        "Y_raster_s6[Y_raster_s6 < 100] = 999\n",
        "Y_raster_s6[(Y_raster_s6 > 100)&(Y_raster_s6 <= 150)] = 0\n",
        "Y_raster_s6[Y_raster_s6 > 150] = 255\n",
        " \n",
        "Y_list=Y_list+(Y_raster_s6.flatten().tolist())"
      ],
      "execution_count": 0,
      "outputs": []
    },
    {
      "cell_type": "code",
      "metadata": {
        "id": "yA-I_i4RmjlR",
        "colab_type": "code",
        "colab": {}
      },
      "source": [
        "tif2=gdal.Open('s7-y.tif')\n",
        "Y_raster_s7 = tif2.GetRasterBand(1).ReadAsArray()\n",
        "Y_raster_s7[Y_raster_s7 < 100] = 999\n",
        "Y_raster_s7[(Y_raster_s7 > 100)&(Y_raster_s7 <= 150)] = 0\n",
        "Y_raster_s7[Y_raster_s7 > 150] = 255\n",
        "Y_list=Y_list+(Y_raster_s7.flatten().tolist())"
      ],
      "execution_count": 0,
      "outputs": []
    },
    {
      "cell_type": "code",
      "metadata": {
        "id": "Fje5-W0HDzrv",
        "colab_type": "code",
        "outputId": "e1256752-db61-4c8c-a64d-5226a51d2c8d",
        "colab": {
          "base_uri": "https://localhost:8080/",
          "height": 34
        }
      },
      "source": [
        "print(np.unique(Y_list))"
      ],
      "execution_count": 56,
      "outputs": [
        {
          "output_type": "stream",
          "text": [
            "[  0 255]\n"
          ],
          "name": "stdout"
        }
      ]
    },
    {
      "cell_type": "code",
      "metadata": {
        "id": "eQz8Q81IEHjN",
        "colab_type": "code",
        "colab": {}
      },
      "source": [
        "#CONVERT RGB BANDS AS INPUT FEATURE SEQUENCES\n",
        "#QUANTIZATION\n",
        "\n",
        "rband_list=s1r.flatten().tolist()\n",
        "rband_list=rband_list+(s2r.flatten().tolist())\n",
        "rband_list=rband_list+(s3r.flatten().tolist())\n",
        "rband_list=rband_list+(s4r.flatten().tolist())\n",
        "rband_list=rband_list+(s5r.flatten().tolist())\n",
        "rband_list=rband_list+(s6r.flatten().tolist())\n",
        "rband_list=rband_list+(s7r.flatten().tolist())\n",
        "\n",
        "\n",
        "\n",
        "gband_list=s1g.flatten().tolist()\n",
        "gband_list=gband_list+(s2g.flatten().tolist())\n",
        "gband_list=gband_list+(s3g.flatten().tolist())\n",
        "gband_list=gband_list+(s4g.flatten().tolist())\n",
        "gband_list=gband_list+(s5g.flatten().tolist())\n",
        "gband_list=gband_list+(s6g.flatten().tolist())\n",
        "gband_list=gband_list+(s7g.flatten().tolist())\n",
        "\n",
        "\n",
        "\n",
        "\n",
        "bband_list=s1b.flatten().tolist()\n",
        "bband_list=bband_list+(s2b.flatten().tolist())\n",
        "bband_list=bband_list+(s3b.flatten().tolist())\n",
        "bband_list=bband_list+(s4b.flatten().tolist())\n",
        "bband_list=bband_list+(s5b.flatten().tolist())\n",
        "bband_list=bband_list+(s6b.flatten().tolist())\n",
        "bband_list=bband_list+(s7b.flatten().tolist())\n",
        "\n",
        "\n",
        "\n",
        "band8_list=s1b8.flatten().tolist()\n",
        "band8_list=band8_list+(s2b8.flatten().tolist())\n",
        "band8_list=band8_list+(s3b8.flatten().tolist())\n",
        "band8_list=band8_list+(s4b8.flatten().tolist())\n",
        "band8_list=band8_list+(s5b8.flatten().tolist())\n",
        "band8_list=band8_list+(s6b8.flatten().tolist())\n",
        "band8_list=band8_list+(s7b8.flatten().tolist())\n",
        "\n",
        "\n",
        "q1=max(rband_list)/16\n",
        "q2=max(gband_list)/16\n",
        "q3=max(bband_list)/16\n",
        "q4=max(band8_list)/16\n",
        "\n",
        "\n",
        "rband_list = [round(math.floor(x+0.5)/q1) for x in rband_list]\n",
        "gband_list = [round(math.floor(x+0.5)/q2) for x in gband_list]\n",
        "bband_list = [round(math.floor(x+0.5)/q3) for x in bband_list]\n",
        "band8_list = [round(math.floor(x+0.5)/q4) for x in band8_list]\n",
        "\n"
      ],
      "execution_count": 0,
      "outputs": []
    },
    {
      "cell_type": "code",
      "metadata": {
        "id": "iyaKFSYjTXGE",
        "colab_type": "code",
        "outputId": "460b299d-ffbc-4e97-8300-b462d9f6fcb0",
        "colab": {
          "base_uri": "https://localhost:8080/",
          "height": 34
        }
      },
      "source": [
        "print(len(rband_list))"
      ],
      "execution_count": 58,
      "outputs": [
        {
          "output_type": "stream",
          "text": [
            "7000000\n"
          ],
          "name": "stdout"
        }
      ]
    },
    {
      "cell_type": "markdown",
      "metadata": {
        "id": "G6x9yhlajJ8M",
        "colab_type": "text"
      },
      "source": [
        "***SEQUENCE LIST AND ANTECEDENT-CONSEQUENT LIST(X->Y)***"
      ]
    },
    {
      "cell_type": "code",
      "metadata": {
        "id": "ZsgmJ8Kew52V",
        "colab_type": "code",
        "colab": {}
      },
      "source": [
        "sequences_list=[]\n",
        "ante_consq_list=[]"
      ],
      "execution_count": 0,
      "outputs": []
    },
    {
      "cell_type": "code",
      "metadata": {
        "id": "mgDj_gvvthgO",
        "colab_type": "code",
        "outputId": "0064dc2e-91f7-463a-e8b8-c08ae28d71e6",
        "colab": {
          "base_uri": "https://localhost:8080/",
          "height": 82,
          "referenced_widgets": [
            "9b393ec082814efaa73cf56f9ea49965",
            "a87be27b38db4a758aad6587b71f74f6",
            "7786f3bc98d74066988e39c433315491",
            "ccc3ae84f9804bb3a043fdc1d6a8ff7a",
            "ffd8658f7ed043e1ab997133cef1d63d",
            "25f665264ad942a6b155e5bdae909b5b",
            "8bab1e822b4041c2b21d18c5bc60eb4e",
            "74c459a6a2a346b983794b7ab3cff332"
          ]
        }
      },
      "source": [
        "for i in tqdm(range(len(rband_list))):\n",
        "  sequences_list.append((rband_list[i],gband_list[i],bband_list[i],band8_list[i]))\n",
        "  ante_consq_list.append((rband_list[i],gband_list[i],bband_list[i],band8_list[i],Y_list[i]))\n",
        "\n",
        "print('BUILDING DATA DONE')\n"
      ],
      "execution_count": 60,
      "outputs": [
        {
          "output_type": "display_data",
          "data": {
            "application/vnd.jupyter.widget-view+json": {
              "model_id": "9b393ec082814efaa73cf56f9ea49965",
              "version_minor": 0,
              "version_major": 2
            },
            "text/plain": [
              "HBox(children=(IntProgress(value=0, max=7000000), HTML(value='')))"
            ]
          },
          "metadata": {
            "tags": []
          }
        },
        {
          "output_type": "stream",
          "text": [
            "\n",
            "BUILDING DATA DONE\n"
          ],
          "name": "stdout"
        }
      ]
    },
    {
      "cell_type": "markdown",
      "metadata": {
        "id": "iCVRyjESjwwL",
        "colab_type": "text"
      },
      "source": [
        "***RANDOM EXAMPLE - DATA STRUCTURE (R, G, B, B8, CLASS_LABEL)***"
      ]
    },
    {
      "cell_type": "code",
      "metadata": {
        "id": "HrJF9PIIthju",
        "colab_type": "code",
        "outputId": "2246122c-12a6-48a6-f4ef-0b91ee908b4c",
        "colab": {
          "base_uri": "https://localhost:8080/",
          "height": 34
        }
      },
      "source": [
        "print ((ante_consq_list[56]))"
      ],
      "execution_count": 61,
      "outputs": [
        {
          "output_type": "stream",
          "text": [
            "(2, 3, 4, 4, 255)\n"
          ],
          "name": "stdout"
        }
      ]
    },
    {
      "cell_type": "markdown",
      "metadata": {
        "id": "O843PnPQj9p_",
        "colab_type": "text"
      },
      "source": [
        "***FIND UNIQUE SEQUENCES(X-cap) AND COUNT***"
      ]
    },
    {
      "cell_type": "code",
      "metadata": {
        "id": "W32qBvF1thnU",
        "colab_type": "code",
        "outputId": "4c55e38f-d574-4e13-bc85-e38c84315ae5",
        "colab": {
          "base_uri": "https://localhost:8080/",
          "height": 50
        }
      },
      "source": [
        "print('UNIQUE SEQUENCES COUNT: ')\n",
        "print(len(list(set(sequences_list))))\n",
        "unique_X_sequences=list(set(sequences_list))"
      ],
      "execution_count": 62,
      "outputs": [
        {
          "output_type": "stream",
          "text": [
            "UNIQUE SEQUENCES COUNT: \n",
            "888\n"
          ],
          "name": "stdout"
        }
      ]
    },
    {
      "cell_type": "markdown",
      "metadata": {
        "id": "6u71bdBBsWU9",
        "colab_type": "text"
      },
      "source": [
        "\n",
        "\n",
        "---\n",
        "\n"
      ]
    },
    {
      "cell_type": "markdown",
      "metadata": {
        "id": "9tfHuR7ckert",
        "colab_type": "text"
      },
      "source": [
        "***STEP 2:***\n",
        "\n",
        "*   ***ASSOCIATION ANALYSIS***\n",
        "*   ***EVIDENCE BASED NORMALIZED DIFFERENTIAL INDEX(ENDI) MEASURE***\n",
        "\n",
        "\n"
      ]
    },
    {
      "cell_type": "markdown",
      "metadata": {
        "id": "CDwyOG-sluFT",
        "colab_type": "text"
      },
      "source": [
        "***HELPER FUNCTIONS:***"
      ]
    },
    {
      "cell_type": "code",
      "metadata": {
        "id": "PBmN7nsvxTGb",
        "colab_type": "code",
        "colab": {}
      },
      "source": [
        "#ONE VARIATION OF ENDI INTERESTINGNESS MEASURE\n",
        "def calculate_ENDI(positive,negative):\n",
        "  if (positive==0) and (negative==0) : return 0\n",
        "  return (positive-negative)/(positive+negative)"
      ],
      "execution_count": 0,
      "outputs": []
    },
    {
      "cell_type": "code",
      "metadata": {
        "id": "Q5DdKX6Z51Jm",
        "colab_type": "code",
        "colab": {}
      },
      "source": [
        "#POSITIVE EVIDENCES\n",
        "def positive_count(sequence,class_name):\n",
        "  item = list(sequence)\n",
        "  item.append(class_name)\n",
        "  c=counter[tuple(item)]\n",
        "  return c\n",
        "\n",
        "\n",
        "#NEGATIVE EVIDENCES\n",
        "def negative_count(sequence, class_list):\n",
        "  negative_classcount=0\n",
        "  for c in  class_list:\n",
        "    item = list(sequence)\n",
        "    item.append(c)\n",
        "    negative_classcount=negative_classcount+counter[tuple(item)]\n",
        "\n",
        "  return negative_classcount\n",
        "\n"
      ],
      "execution_count": 0,
      "outputs": []
    },
    {
      "cell_type": "code",
      "metadata": {
        "id": "GqVeHx5El9b7",
        "colab_type": "code",
        "colab": {}
      },
      "source": [
        "#COUNT FREQUENCIES OF EACH UNIQUE SEQUENCE\n",
        "counter=Counter(ante_consq_list)"
      ],
      "execution_count": 0,
      "outputs": []
    },
    {
      "cell_type": "markdown",
      "metadata": {
        "id": "N6c40R8gtgYA",
        "colab_type": "text"
      },
      "source": [
        "***CALCULATE ENDI MEASURE FOR ALL THE CLASSES PER SEQUENCE DATA***"
      ]
    },
    {
      "cell_type": "code",
      "metadata": {
        "id": "BHa17NbP4P6R",
        "colab_type": "code",
        "outputId": "38046586-45f9-4c98-e8c7-236dd759487d",
        "colab": {
          "base_uri": "https://localhost:8080/",
          "height": 82,
          "referenced_widgets": [
            "b9871fe301fa49e3bf04a3d586ea3e93",
            "4fac13e6c7084c919591b93d46441e34",
            "93cee5f0298b4ca6b2a9cd086c90d31e",
            "35a208bb16c844dea0ef0c18c9cd863d",
            "6b474d4026234a0cbeafeb6aeffc6e2c",
            "0ecf92d281af485d8fefce9ebdb3bea5",
            "6c02461e45c14dcaab202434d3bb680c",
            "d084f5184f2d417a9d625a726502243d"
          ]
        }
      },
      "source": [
        "#GENERATE A DICTIONARY OF THE FORM : {(unique sequence) : [ENDI MEASURE-CLASS 0, ENDI MEASURE-CLASS 1]}\n",
        "ENDI_table_dictionary={}\n",
        "\n",
        "for i in tqdm(range(len(unique_X_sequences))):\n",
        "  seq=unique_X_sequences[i]\n",
        "  ENDI_class_0=calculate_ENDI(positive_count(seq,0),negative_count(seq,[255]))\n",
        "  ENDI_class_1=calculate_ENDI(positive_count(seq,255),negative_count(seq,[0]))\n",
        "  ENDI_table_dictionary[seq]=[ENDI_class_0,ENDI_class_1]\n",
        "\n",
        "print('BUILDING DICTIONARY DONE')\n",
        "\n",
        "#PRINT RANDOM DATA POINT\n",
        "#print(ENDI_table_dictionary[unique_X_sequences[5000]])\n"
      ],
      "execution_count": 66,
      "outputs": [
        {
          "output_type": "display_data",
          "data": {
            "application/vnd.jupyter.widget-view+json": {
              "model_id": "b9871fe301fa49e3bf04a3d586ea3e93",
              "version_minor": 0,
              "version_major": 2
            },
            "text/plain": [
              "HBox(children=(IntProgress(value=0, max=888), HTML(value='')))"
            ]
          },
          "metadata": {
            "tags": []
          }
        },
        {
          "output_type": "stream",
          "text": [
            "\n",
            "BUILDING DICTIONARY DONE\n"
          ],
          "name": "stdout"
        }
      ]
    },
    {
      "cell_type": "markdown",
      "metadata": {
        "id": "n84ur78SsZ-z",
        "colab_type": "text"
      },
      "source": [
        "\n",
        "\n",
        "---\n",
        "\n"
      ]
    },
    {
      "cell_type": "markdown",
      "metadata": {
        "id": "goD_JtMTtgo7",
        "colab_type": "text"
      },
      "source": [
        "***STEP 3 : CLASSIFICATION AND VISUALIZATION***"
      ]
    },
    {
      "cell_type": "code",
      "metadata": {
        "id": "8kntNAM6gcPn",
        "colab_type": "code",
        "colab": {}
      },
      "source": [
        "def classification(file_name,band8filename):\n",
        "          new_image=gdal.Open(file_name)\n",
        "          rband_new = new_image.GetRasterBand(1).ReadAsArray()\n",
        "          gband_new = new_image.GetRasterBand(2).ReadAsArray()\n",
        "          bband_new = new_image.GetRasterBand(3).ReadAsArray()\n",
        "          tif1=gdal.Open(band8filename)\n",
        "          band8_new=tif1.GetRasterBand(1).ReadAsArray()\n",
        "\n",
        "          rband_list_new=rband_new.flatten().tolist()\n",
        "          gband_list_new=gband_new.flatten().tolist()\n",
        "          bband_list_new=bband_new.flatten().tolist()\n",
        "          band8_list_new=band8_new.flatten().tolist()\n",
        "\n",
        "          q1=max(rband_list_new)/16\n",
        "          q2=max(gband_list_new)/16\n",
        "          q3=max(bband_list_new)/16\n",
        "          q4=max(band8_list_new)/16\n",
        "\n",
        "          rband_list_new = [round(math.floor(x+0.5)/q1) for x in rband_list_new]\n",
        "          gband_list_new = [round(math.floor(x+0.5)/q2) for x in gband_list_new]\n",
        "          bband_list_new = [round(math.floor(x+0.5)/q3) for x in bband_list_new]\n",
        "          band8_list_new = [round(math.floor(x+0.5)/q4) for x in band8_list_new]\n",
        "\n",
        "\n",
        "          final_pred_list=[]\n",
        "          final_confidence_list=[]\n",
        "\n",
        "          for i in tqdm(range(len(rband_list_new))):\n",
        "\n",
        "            if ((rband_list_new[i],gband_list_new[i],bband_list_new[i],band8_list_new[i])) in ENDI_table_dictionary:\n",
        "                  ENDI_vals=ENDI_table_dictionary[(rband_list_new[i],gband_list_new[i],bband_list_new[i],band8_list_new[i])]\n",
        "                  max_val = max(ENDI_vals)\n",
        "                  if max_val >= 0.4:\n",
        "                        index_max = ENDI_vals.index(max_val)\n",
        "                        final_pred_list.append(index_max)\n",
        "                        final_confidence_list.append(ENDI_vals[0]) \n",
        "                  else :\n",
        "                        final_pred_list.append(1)\n",
        "                        final_confidence_list.append(ENDI_vals[0])\n",
        "\n",
        "            else:\n",
        "              final_pred_list.append(1)\n",
        "              final_confidence_list.append(-1)\n",
        "\n",
        "          final_confidence_list_scaled = minmax_scale(final_confidence_list, feature_range=(0,100))\n",
        "          return final_pred_list,final_confidence_list_scaled\n",
        "\n"
      ],
      "execution_count": 0,
      "outputs": []
    },
    {
      "cell_type": "code",
      "metadata": {
        "id": "wq6E1HhJhfi2",
        "colab_type": "code",
        "colab": {}
      },
      "source": [
        "def visualization(any_list,size,title,outputfile,colormap):\n",
        "  numpy_array=np.asarray(any_list,dtype='uint8')\n",
        "  #numpy_array[numpy_array == 1] = 255\n",
        "  final_image_array=numpy_array.reshape((size,size))\n",
        "  fig, ax = plt.subplots()\n",
        "  ax.set_title(title)\n",
        "  img = ax.imshow(final_image_array,cmap=plt.get_cmap(colormap))\n",
        "  fig.colorbar(img, ax=ax)\n",
        "  fig.savefig(outputfile+'.png')"
      ],
      "execution_count": 0,
      "outputs": []
    },
    {
      "cell_type": "code",
      "metadata": {
        "id": "72cxX4heaE5W",
        "colab_type": "code",
        "colab": {}
      },
      "source": [
        "def metrics(y_actual, y_pred_original):\n",
        "    numpy_array=np.asarray(y_pred_original)\n",
        "    numpy_array[numpy_array == 1] = 255\n",
        "    y_pred=numpy_array.tolist()\n",
        "    class_id = set(y_actual).union(set(y_pred))\n",
        "    TP = []\n",
        "    FP = []\n",
        "    TN = []\n",
        "    FN = []\n",
        "\n",
        "    for index ,_id in enumerate(class_id):\n",
        "        TP.append(0)\n",
        "        FP.append(0)\n",
        "        TN.append(0)\n",
        "        FN.append(0)\n",
        "        for i in tqdm(range(len(y_pred))):\n",
        "            if y_actual[i] == y_pred[i] == _id:\n",
        "                TP[index] += 1\n",
        "            if y_pred[i] == _id and y_actual[i] != y_pred[i]:\n",
        "                FP[index] += 1\n",
        "            if y_actual[i] == y_pred[i] != _id:\n",
        "                TN[index] += 1\n",
        "            if y_pred[i] != _id and y_actual[i] != y_pred[i]:\n",
        "                FN[index] += 1\n",
        "\n",
        "\n",
        "    return class_id,TP, FP, TN, FN"
      ],
      "execution_count": 0,
      "outputs": []
    },
    {
      "cell_type": "markdown",
      "metadata": {
        "id": "RqZ2C_ow04Ij",
        "colab_type": "text"
      },
      "source": [
        "\n",
        "\n",
        "---\n",
        "\n"
      ]
    },
    {
      "cell_type": "markdown",
      "metadata": {
        "id": "JCK5RsYA05Ld",
        "colab_type": "text"
      },
      "source": [
        "**VISUALIZATION OF RESULTS AND METRICS - MADRID AREA(SPAIN)**"
      ]
    },
    {
      "cell_type": "markdown",
      "metadata": {
        "id": "iPhSuhjw1S5y",
        "colab_type": "text"
      },
      "source": [
        "1) MADRID CLASSIFICATION RESULTS"
      ]
    },
    {
      "cell_type": "code",
      "metadata": {
        "id": "3zzrNttfg4p-",
        "colab_type": "code",
        "outputId": "ef92e2c1-13b8-47a9-a6ab-8f6e0236d7d4",
        "colab": {
          "base_uri": "https://localhost:8080/",
          "height": 66,
          "referenced_widgets": [
            "f4accc347fca441abd5532b95950fe69",
            "5b71494bbbde4fb38353d481f1bb6264",
            "8305d3b412da43e59d08ab8ba0818d40",
            "49ea29159a5e411793f84c01b345bdbb",
            "2fcee20892f74cf6bd82014f03df81de",
            "44add83b858c4350858d76c32a66c072",
            "fbcea1bb99c845209c82d457ab853c1a",
            "aca320aee0e4464ab1c3c301b2dbe616"
          ]
        }
      },
      "source": [
        "prediction_list,confidence_list=classification('test-full.tif','test-b8-full.tif')\n"
      ],
      "execution_count": 70,
      "outputs": [
        {
          "output_type": "display_data",
          "data": {
            "application/vnd.jupyter.widget-view+json": {
              "model_id": "f4accc347fca441abd5532b95950fe69",
              "version_minor": 0,
              "version_major": 2
            },
            "text/plain": [
              "HBox(children=(IntProgress(value=0, max=153041641), HTML(value='')))"
            ]
          },
          "metadata": {
            "tags": []
          }
        },
        {
          "output_type": "stream",
          "text": [
            "\n"
          ],
          "name": "stdout"
        }
      ]
    },
    {
      "cell_type": "code",
      "metadata": {
        "id": "JJYgfo6zWVj2",
        "colab_type": "code",
        "outputId": "0edbc9ee-3251-4ac2-b5b1-1493d76c484c",
        "colab": {
          "base_uri": "https://localhost:8080/",
          "height": 281
        }
      },
      "source": [
        "visualization(prediction_list,  BIG_SIZE, 'Classification-Madrid Region, Spain','predictions-madrid',colormap='binary')"
      ],
      "execution_count": 71,
      "outputs": [
        {
          "output_type": "display_data",
          "data": {
            "image/png": "[encoded data removed]",
            "text/plain": [
              "<Figure size 432x288 with 2 Axes>"
            ]
          },
          "metadata": {
            "tags": []
          }
        }
      ]
    },
    {
      "cell_type": "code",
      "metadata": {
        "id": "lJSm-m30qk3a",
        "colab_type": "code",
        "outputId": "25d6f46f-a06a-4529-a564-f8c23f5fa63d",
        "colab": {
          "base_uri": "https://localhost:8080/",
          "height": 281
        }
      },
      "source": [
        "visualization(confidence_list,  BIG_SIZE,'Confidence-Madrid Region, Spain','confidence-madrid',colormap='Greens')"
      ],
      "execution_count": 72,
      "outputs": [
        {
          "output_type": "display_data",
          "data": {
            "image/png": "[encoded data removed]",
            "text/plain": [
              "<Figure size 432x288 with 2 Axes>"
            ]
          },
          "metadata": {
            "tags": []
          }
        }
      ]
    },
    {
      "cell_type": "code",
      "metadata": {
        "id": "bobDQgnS23E_",
        "colab_type": "code",
        "outputId": "3b78684c-0cb5-424a-d226-c45114452faf",
        "colab": {
          "base_uri": "https://localhost:8080/",
          "height": 34
        }
      },
      "source": [
        "create_new_tif('test-full.tif','prediction-raster.tif',np.asarray(prediction_list,dtype='uint8').reshape(BIG_SIZE,BIG_SIZE),1)"
      ],
      "execution_count": 73,
      "outputs": [
        {
          "output_type": "stream",
          "text": [
            "New tif created\n"
          ],
          "name": "stdout"
        }
      ]
    },
    {
      "cell_type": "code",
      "metadata": {
        "id": "OHo-PY9d7Vj3",
        "colab_type": "code",
        "outputId": "1a4d2544-ac19-4ab1-992a-bd0dc2721e3e",
        "colab": {
          "base_uri": "https://localhost:8080/",
          "height": 34
        }
      },
      "source": [
        "create_new_tif('test-full.tif','confidence-raster.tif',np.asarray(confidence_list,dtype='uint8').reshape(BIG_SIZE,BIG_SIZE),1)"
      ],
      "execution_count": 74,
      "outputs": [
        {
          "output_type": "stream",
          "text": [
            "New tif created\n"
          ],
          "name": "stdout"
        }
      ]
    },
    {
      "cell_type": "code",
      "metadata": {
        "id": "NyyMSO6qWIod",
        "colab_type": "code",
        "colab": {}
      },
      "source": [
        "change_pixel_size('confidence-raster.tif','ghsl-built-confidence-raster-30m.tif',30)"
      ],
      "execution_count": 0,
      "outputs": []
    },
    {
      "cell_type": "code",
      "metadata": {
        "id": "i5L4lKLiWImd",
        "colab_type": "code",
        "colab": {}
      },
      "source": [
        "change_pixel_size('prediction-raster.tif','ghsl-built-prediction-raster-30m.tif',30)"
      ],
      "execution_count": 0,
      "outputs": []
    },
    {
      "cell_type": "code",
      "metadata": {
        "id": "u2IRpMeZOQKp",
        "colab_type": "code",
        "outputId": "9ea89cde-80d2-43c5-f3b6-7b73c825ffa2",
        "colab": {
          "base_uri": "https://localhost:8080/",
          "height": 70
        }
      },
      "source": [
        "with rasterio.open('ghsl-built-prediction-raster-30m.tif') as src:\n",
        "    data = src.read()\n",
        "    metadata = src.profile\n",
        "new_size=metadata['height']\n",
        "metadata"
      ],
      "execution_count": 77,
      "outputs": [
        {
          "output_type": "execute_result",
          "data": {
            "text/plain": [
              "{'driver': 'GTiff', 'dtype': 'uint8', 'nodata': None, 'width': 4182, 'height': 4182, 'count': 1, 'crs': CRS.from_epsg(32632), 'transform': Affine(30.0, 0.0, -631281.5761908018,\n",
              "       0.0, -30.0, 4583771.408250019), 'tiled': False, 'interleave': 'band'}"
            ]
          },
          "metadata": {
            "tags": []
          },
          "execution_count": 77
        }
      ]
    },
    {
      "cell_type": "code",
      "metadata": {
        "id": "4-gn_XQ6WIXI",
        "colab_type": "code",
        "colab": {}
      },
      "source": [
        "clip_ref_scene_pop('test-full.tif','test-pop-full.tif')\n",
        "resize_scene_custom_size('test-pop-full.tif','test-pop.tif',new_size)"
      ],
      "execution_count": 0,
      "outputs": []
    },
    {
      "cell_type": "code",
      "metadata": {
        "id": "H8YwFJ2lbXdk",
        "colab_type": "code",
        "colab": {}
      },
      "source": [
        "# m=metrics(Y_raster_test.flatten().tolist(),prediction_list)\n",
        "# unique, counts = np.unique(Y_raster_test.flatten().tolist(), return_counts=True)\n",
        "# for i in range(0,2):\n",
        "#   TP=m[1][i]\n",
        "#   FP=m[2][i]\n",
        "#   TN=m[3][i]\n",
        "#   FN=m[4][i]\n",
        "#   P=counts[i]\n",
        "#   N=len(Y_list)-P\n",
        "#   TPR=TP/P\n",
        "#   TNR=TN/N\n",
        "#   bal_measure = (TPR+TNR)/2\n",
        "#   inf_accuracy=TPR-TNR\n",
        "#   print('BALANCED ACCURACY FOR CLASS '+str(i)+\" is \"+ str(bal_measure))\n",
        "#   print('INFORMEDNESS FOR CLASS '+str(i)+\" is \"+str(inf_accuracy))\n"
      ],
      "execution_count": 0,
      "outputs": []
    },
    {
      "cell_type": "markdown",
      "metadata": {
        "id": "unQkKXcY1RAe",
        "colab_type": "text"
      },
      "source": [
        "2)ORIGINAL RGB IMAGE"
      ]
    },
    {
      "cell_type": "code",
      "metadata": {
        "id": "wCHf3Rrg0J5J",
        "colab_type": "code",
        "outputId": "61e6593c-3c01-45d0-e29c-bb1d58c464b7",
        "colab": {
          "base_uri": "https://localhost:8080/",
          "height": 286
        }
      },
      "source": [
        "dataset = rasterio.open('test-full.tif')\n",
        "show(dataset.read([1,2,3]))"
      ],
      "execution_count": 79,
      "outputs": [
        {
          "output_type": "display_data",
          "data": {
            "image/png": "[encoded data removed]",
            "text/plain": [
              "<Figure size 432x288 with 1 Axes>"
            ]
          },
          "metadata": {
            "tags": []
          }
        },
        {
          "output_type": "execute_result",
          "data": {
            "text/plain": [
              "<matplotlib.axes._subplots.AxesSubplot at 0x7fbb001a7198>"
            ]
          },
          "metadata": {
            "tags": []
          },
          "execution_count": 79
        }
      ]
    },
    {
      "cell_type": "markdown",
      "metadata": {
        "id": "kahuQs5RQke_",
        "colab_type": "text"
      },
      "source": [
        "\n",
        "\n",
        "---\n",
        "\n"
      ]
    },
    {
      "cell_type": "markdown",
      "metadata": {
        "id": "Wi0eQgxbQc-Z",
        "colab_type": "text"
      },
      "source": [
        "# **GHS-POP**"
      ]
    },
    {
      "cell_type": "markdown",
      "metadata": {
        "id": "S94YkUPYyfNP",
        "colab_type": "text"
      },
      "source": [
        "**USING DASYMMETRIC MAPPING ALGORITHM**"
      ]
    },
    {
      "cell_type": "code",
      "metadata": {
        "id": "V_x38xXZvfRw",
        "colab_type": "code",
        "colab": {}
      },
      "source": [
        "pop1=gdal.Open('test-pop.tif')\n",
        "pop2d = pop1.GetRasterBand(1).ReadAsArray()\n",
        "pop2d[pop2d < 0] = 0\n",
        "pop1d=pop2d.flatten()"
      ],
      "execution_count": 0,
      "outputs": []
    },
    {
      "cell_type": "code",
      "metadata": {
        "id": "snWgc0JnuVeh",
        "colab_type": "code",
        "colab": {}
      },
      "source": [
        "a=gdal.Open('ghsl-built-confidence-raster-30m.tif')\n",
        "confidence_values_category=a.GetRasterBand(1).ReadAsArray().flatten()"
      ],
      "execution_count": 0,
      "outputs": []
    },
    {
      "cell_type": "code",
      "metadata": {
        "id": "KONCsYQIusBa",
        "colab_type": "code",
        "colab": {}
      },
      "source": [
        "confidence_values_category[confidence_values_category<30]=0\n",
        "confidence_values_category[(confidence_values_category<60)&(confidence_values_category>=30)]=1\n",
        "confidence_values_category[confidence_values_category>=60]=2"
      ],
      "execution_count": 0,
      "outputs": []
    },
    {
      "cell_type": "code",
      "metadata": {
        "id": "tLFs7tUZu9s5",
        "colab_type": "code",
        "colab": {}
      },
      "source": [
        "uniquevals, eachcount = np.unique(confidence_values_category, return_counts=True)"
      ],
      "execution_count": 0,
      "outputs": []
    },
    {
      "cell_type": "code",
      "metadata": {
        "id": "a9pVGM-qdSmr",
        "colab_type": "code",
        "outputId": "84fbab24-9aef-46ef-dbc1-5ba77b06c870",
        "colab": {
          "base_uri": "https://localhost:8080/",
          "height": 34
        }
      },
      "source": [
        "print(uniquevals)\n",
        "uhigh_population=0\n",
        "ulow_population=0\n",
        "non_population=0"
      ],
      "execution_count": 84,
      "outputs": [
        {
          "output_type": "stream",
          "text": [
            "[0 1 2]\n"
          ],
          "name": "stdout"
        }
      ]
    },
    {
      "cell_type": "code",
      "metadata": {
        "id": "hrj_KAuieUUR",
        "colab_type": "code",
        "colab": {}
      },
      "source": [
        "for i in range(0,pop1d.size):\n",
        "  if(confidence_values_category[i]==0):\n",
        "    non_population=non_population+pop1d[i]\n",
        "  elif(confidence_values_category[i]==1):\n",
        "    ulow_population=ulow_population+pop1d[i]\n",
        "  else:\n",
        "     uhigh_population=uhigh_population+pop1d[i]\n"
      ],
      "execution_count": 0,
      "outputs": []
    },
    {
      "cell_type": "code",
      "metadata": {
        "id": "Z2wFDfDrkz8h",
        "colab_type": "code",
        "colab": {}
      },
      "source": [
        "uhigh_area=eachcount[2]*30*30\n",
        "ulow_area=eachcount[1]*30*30\n",
        "non_population_area=eachcount[0]*30*30"
      ],
      "execution_count": 0,
      "outputs": []
    },
    {
      "cell_type": "code",
      "metadata": {
        "id": "haSyEiiilTdK",
        "colab_type": "code",
        "outputId": "98b68296-eb59-46d4-85d0-e674708e94b4",
        "colab": {
          "base_uri": "https://localhost:8080/",
          "height": 34
        }
      },
      "source": [
        "print(non_population+ulow_population+uhigh_population)"
      ],
      "execution_count": 87,
      "outputs": [
        {
          "output_type": "stream",
          "text": [
            "5510869663.136666\n"
          ],
          "name": "stdout"
        }
      ]
    },
    {
      "cell_type": "code",
      "metadata": {
        "id": "VizZAqwnlpbN",
        "colab_type": "code",
        "colab": {}
      },
      "source": [
        "uhigh_density=uhigh_population/uhigh_area\n",
        "ulow_density=ulow_population/ulow_area\n",
        "non_population_density=non_population/non_population_area"
      ],
      "execution_count": 0,
      "outputs": []
    },
    {
      "cell_type": "code",
      "metadata": {
        "id": "uCeLJAhMmMuY",
        "colab_type": "code",
        "outputId": "5b900fc1-e391-4c43-bdb0-6afaed783d5e",
        "colab": {
          "base_uri": "https://localhost:8080/",
          "height": 67
        }
      },
      "source": [
        "print(uhigh_density)\n",
        "print(ulow_density)\n",
        "print(non_population_density)"
      ],
      "execution_count": 89,
      "outputs": [
        {
          "output_type": "stream",
          "text": [
            "0.5381521678811994\n",
            "0.8492231195421566\n",
            "0.3351668589337902\n"
          ],
          "name": "stdout"
        }
      ]
    },
    {
      "cell_type": "code",
      "metadata": {
        "id": "xXT7BYclm6Ak",
        "colab_type": "code",
        "colab": {}
      },
      "source": [
        "d_uhigh=(uhigh_density)/(uhigh_density+ulow_density+non_population_density)\n",
        "d_ulow=(ulow_density)/(uhigh_density+ulow_density+non_population_density)\n",
        "d_non_population=(non_population_density)/(uhigh_density+ulow_density+non_population_density)"
      ],
      "execution_count": 0,
      "outputs": []
    },
    {
      "cell_type": "code",
      "metadata": {
        "id": "j4zbJSz1ol78",
        "colab_type": "code",
        "colab": {}
      },
      "source": [
        "a_uhigh=(eachcount[2]/pop1d.size)/0.33\n",
        "a_ulow=(eachcount[1]/pop1d.size)/0.33\n",
        "a_non_population=(eachcount[0]/pop1d.size)/0.33"
      ],
      "execution_count": 0,
      "outputs": []
    },
    {
      "cell_type": "code",
      "metadata": {
        "id": "_XeGSvLoqKqh",
        "colab_type": "code",
        "colab": {}
      },
      "source": [
        "f_uhigh=(d_uhigh*a_uhigh)/((d_uhigh*a_uhigh)+(d_ulow*a_ulow)+(d_non_population*a_non_population))\n",
        "f_ulow=(d_ulow*a_ulow)/((d_uhigh*a_uhigh)+(d_ulow*a_ulow)+(d_non_population*a_non_population))\n",
        "f_non_population=(d_non_population*a_non_population)/((d_uhigh*a_uhigh)+(d_ulow*a_ulow)+(d_non_population*a_non_population))"
      ],
      "execution_count": 0,
      "outputs": []
    },
    {
      "cell_type": "code",
      "metadata": {
        "id": "UV2XGpHGryeA",
        "colab_type": "code",
        "colab": {}
      },
      "source": [
        "total_pop=np.sum(pop1d)\n",
        "pop_uhigh=(f_uhigh*total_pop)/eachcount[2]\n",
        "pop_ulow=(f_ulow*total_pop)/eachcount[1]\n",
        "pop_non_population=(f_non_population*total_pop)/eachcount[0]"
      ],
      "execution_count": 0,
      "outputs": []
    },
    {
      "cell_type": "code",
      "metadata": {
        "id": "DWK9lchetWZz",
        "colab_type": "code",
        "colab": {}
      },
      "source": [
        "final_ghspop1d=[]\n",
        "\n",
        "for i in range(0,pop1d.size):\n",
        "  if(confidence_values_category[i]==0):\n",
        "    final_ghspop1d.append(pop_non_population)\n",
        "  elif(confidence_values_category[i]==1):\n",
        "    final_ghspop1d.append(pop_ulow)\n",
        "  else:\n",
        "     final_ghspop1d.append(pop_uhigh)\n",
        "\n",
        "final_ghs_pop2d=np.reshape(final_ghspop1d,(new_size,new_size))"
      ],
      "execution_count": 0,
      "outputs": []
    },
    {
      "cell_type": "code",
      "metadata": {
        "id": "q9M1gM6MWg77",
        "colab_type": "code",
        "outputId": "c5195318-fd11-4685-c3c2-83ef5dabd0c7",
        "colab": {
          "base_uri": "https://localhost:8080/",
          "height": 34
        }
      },
      "source": [
        "np.unique(final_ghs_pop2d)"
      ],
      "execution_count": 95,
      "outputs": [
        {
          "output_type": "execute_result",
          "data": {
            "text/plain": [
              "array([301.65010828, 484.33684711, 764.3006435 ])"
            ]
          },
          "metadata": {
            "tags": []
          },
          "execution_count": 95
        }
      ]
    },
    {
      "cell_type": "code",
      "metadata": {
        "id": "9IsK-oDj-oyX",
        "colab_type": "code",
        "outputId": "9c3dd49a-c860-4b9b-cb1d-a1d20741100d",
        "colab": {
          "base_uri": "https://localhost:8080/",
          "height": 34
        }
      },
      "source": [
        "create_new_tif('test-pop.tif','ghsl-pop-raster-30m.tif',np.asarray(final_ghspop1d,dtype='float32').reshape(new_size,new_size),1)"
      ],
      "execution_count": 96,
      "outputs": [
        {
          "output_type": "stream",
          "text": [
            "New tif created\n"
          ],
          "name": "stdout"
        }
      ]
    },
    {
      "cell_type": "code",
      "metadata": {
        "id": "nr9wE6LyuSKZ",
        "colab_type": "code",
        "outputId": "a77ca562-e148-4a92-8071-acbb9775f173",
        "colab": {
          "base_uri": "https://localhost:8080/",
          "height": 298
        }
      },
      "source": [
        "fig, ax = plt.subplots()\n",
        "img = ax.imshow((final_ghs_pop2d),cmap=plt.get_cmap('Purples'))\n",
        "fig.colorbar(img, ax=ax)\n",
        "ax.set_title('GHS POP')"
      ],
      "execution_count": 97,
      "outputs": [
        {
          "output_type": "execute_result",
          "data": {
            "text/plain": [
              "Text(0.5, 1.0, 'GHS POP')"
            ]
          },
          "metadata": {
            "tags": []
          },
          "execution_count": 97
        },
        {
          "output_type": "display_data",
          "data": {
            "image/png": "[encoded data removed]",
            "text/plain": [
              "<Figure size 432x288 with 2 Axes>"
            ]
          },
          "metadata": {
            "tags": []
          }
        }
      ]
    },
    {
      "cell_type": "markdown",
      "metadata": {
        "id": "mvZV26J1PRtM",
        "colab_type": "text"
      },
      "source": [
        "\n",
        "\n",
        "---\n",
        "\n"
      ]
    },
    {
      "cell_type": "markdown",
      "metadata": {
        "id": "1ZzqcPLVPSkn",
        "colab_type": "text"
      },
      "source": [
        "# **GHS S-MOD**"
      ]
    },
    {
      "cell_type": "code",
      "metadata": {
        "id": "bboKeNp8hoEC",
        "colab_type": "code",
        "colab": {}
      },
      "source": [
        "def classify_urban_area(i,j,d,arr):\n",
        "  n = arr[i-d:i+d+1, j-d:j+d+1].flatten()\n",
        "  return n"
      ],
      "execution_count": 0,
      "outputs": []
    },
    {
      "cell_type": "code",
      "metadata": {
        "id": "nT2V_oR7kubq",
        "colab_type": "code",
        "colab": {}
      },
      "source": [
        "cc=gdal.Open('ghsl-built-confidence-raster-30m.tif')\n",
        "confidence2d = cc.GetRasterBand(1).ReadAsArray()\n",
        "dd=gdal.Open('ghsl-pop-raster-30m.tif')\n",
        "final_ghs_pop2d=dd.GetRasterBand(1).ReadAsArray()"
      ],
      "execution_count": 0,
      "outputs": []
    },
    {
      "cell_type": "markdown",
      "metadata": {
        "id": "zKvjUXZgQEGI",
        "colab_type": "text"
      },
      "source": [
        "CLASSIFY URBAN CENTRE, URBAN CLUSTER, RURAL AREA AND OTHER REGIONS"
      ]
    },
    {
      "cell_type": "code",
      "metadata": {
        "id": "NxHaEnLJjxbf",
        "colab_type": "code",
        "outputId": "3baeffa3-6fed-435f-9f05-f3baff3e1f1b",
        "colab": {
          "base_uri": "https://localhost:8080/",
          "height": 66,
          "referenced_widgets": [
            "a1ccd02ebe7b4217a89d0a7db14a2f87",
            "c2a7b749efcc44f290e89db65ac60c7e",
            "ae010684c24f44c29c207fc9b05800ec",
            "00e712cf3e684830b7720bc092a93642",
            "d3580fca9d42468e947781b4e4dbe2ee",
            "252ec285c68741b2ad457a9a4a1c80f4",
            "1a41951880984760bc30b33b76b2bd1e",
            "93754a1e6ac54baabaf46a1eda010a4a"
          ]
        }
      },
      "source": [
        "urban_array=np.zeros(final_ghs_pop2d.shape,dtype='uint8')\n",
        "for ix,iy in tqdm(np.ndindex(final_ghs_pop2d.shape)):\n",
        "    popcellvalue=final_ghs_pop2d[ix,iy]\n",
        "    confidencecellvalue=confidence2d[ix,iy]\n",
        "\n",
        "    if((popcellvalue>1500 or confidencecellvalue>50) and (np.sum(classify_urban_area(ix,iy,5,final_ghs_pop2d))>50000)):\n",
        "      urban_array[ix,iy]=3\n",
        "    elif (popcellvalue>300 and (np.sum(classify_urban_area(ix,iy,6,final_ghs_pop2d))>5000)):\n",
        "      urban_array[ix,iy]=2\n",
        "    elif(popcellvalue>1 and (np.sum(classify_urban_area(ix,iy,3,final_ghs_pop2d))<5000)):\n",
        "      urban_array[ix,iy]=1"
      ],
      "execution_count": 100,
      "outputs": [
        {
          "output_type": "display_data",
          "data": {
            "application/vnd.jupyter.widget-view+json": {
              "model_id": "a1ccd02ebe7b4217a89d0a7db14a2f87",
              "version_minor": 0,
              "version_major": 2
            },
            "text/plain": [
              "HBox(children=(IntProgress(value=1, bar_style='info', max=1), HTML(value='')))"
            ]
          },
          "metadata": {
            "tags": []
          }
        },
        {
          "output_type": "stream",
          "text": [
            "\n"
          ],
          "name": "stdout"
        }
      ]
    },
    {
      "cell_type": "code",
      "metadata": {
        "id": "Pc2R0DuKCkXC",
        "colab_type": "code",
        "outputId": "dd9df6f4-5ed2-484f-ea6c-1d5edc886a78",
        "colab": {
          "base_uri": "https://localhost:8080/",
          "height": 34
        }
      },
      "source": [
        "print(np.unique(urban_array, return_counts=True))"
      ],
      "execution_count": 101,
      "outputs": [
        {
          "output_type": "stream",
          "text": [
            "(array([0, 1, 2, 3], dtype=uint8), array([   25065,    25083, 17413092,    25884]))\n"
          ],
          "name": "stdout"
        }
      ]
    },
    {
      "cell_type": "code",
      "metadata": {
        "id": "ny5DJDt_ozxY",
        "colab_type": "code",
        "colab": {}
      },
      "source": [
        "from matplotlib import colors\n",
        "import matplotlib.patches as mpatches\n",
        "fig, ax = plt.subplots()\n",
        "black_patch = mpatches.Patch(color='black', label='Urban Centre')\n",
        "dark_grey_patch=mpatches.Patch(color='grey', label='Urban Cluster')\n",
        "grey_patch = mpatches.Patch(color='lightgray', label='Others')\n",
        "white_patch = mpatches.Patch(color='white', label='Rural')\n",
        "\n",
        "ax.legend(handles=[black_patch,dark_grey_patch,white_patch, grey_patch], loc='lower right')\n",
        "img = ax.imshow(urban_array,cmap=plt.get_cmap('binary'))\n",
        "ax.set_title('GHS-SMOD')"
      ],
      "execution_count": 0,
      "outputs": []
    },
    {
      "cell_type": "code",
      "metadata": {
        "id": "K_CCm2dhMIN1",
        "colab_type": "code",
        "outputId": "d020862e-1fa8-4a1b-8ab3-4199766e7430",
        "colab": {
          "base_uri": "https://localhost:8080/",
          "height": 34
        }
      },
      "source": [
        "create_new_tif('test-pop.tif','ghsl-smod-raster-30m.tif',np.asarray(urban_array,dtype='float32'),1)"
      ],
      "execution_count": 103,
      "outputs": [
        {
          "output_type": "stream",
          "text": [
            "New tif created\n"
          ],
          "name": "stdout"
        }
      ]
    },
    {
      "cell_type": "code",
      "metadata": {
        "id": "H_EZddByTF89",
        "colab_type": "code",
        "outputId": "2fe52f03-5a8f-475c-b3b8-5519df8b36e7",
        "colab": {
          "base_uri": "https://localhost:8080/",
          "height": 689
        }
      },
      "source": [
        "!gdalinfo ghsl-pop-raster-30m.tif"
      ],
      "execution_count": 104,
      "outputs": [
        {
          "output_type": "stream",
          "text": [
            "Driver: GTiff/GeoTIFF\n",
            "Files: ghsl-pop-raster-30m.tif\n",
            "Size is 4182, 4182\n",
            "Coordinate System is:\n",
            "PROJCS[\"WGS 84 / UTM zone 32N\",\n",
            "    GEOGCS[\"WGS 84\",\n",
            "        DATUM[\"WGS_1984\",\n",
            "            SPHEROID[\"WGS 84\",6378137,298.257223563,\n",
            "                AUTHORITY[\"EPSG\",\"7030\"]],\n",
            "            AUTHORITY[\"EPSG\",\"6326\"]],\n",
            "        PRIMEM[\"Greenwich\",0,\n",
            "            AUTHORITY[\"EPSG\",\"8901\"]],\n",
            "        UNIT[\"degree\",0.0174532925199433,\n",
            "            AUTHORITY[\"EPSG\",\"9122\"]],\n",
            "        AUTHORITY[\"EPSG\",\"4326\"]],\n",
            "    PROJECTION[\"Transverse_Mercator\"],\n",
            "    PARAMETER[\"latitude_of_origin\",0],\n",
            "    PARAMETER[\"central_meridian\",9],\n",
            "    PARAMETER[\"scale_factor\",0.9996],\n",
            "    PARAMETER[\"false_easting\",500000],\n",
            "    PARAMETER[\"false_northing\",0],\n",
            "    UNIT[\"metre\",1,\n",
            "        AUTHORITY[\"EPSG\",\"9001\"]],\n",
            "    AXIS[\"Easting\",EAST],\n",
            "    AXIS[\"Northing\",NORTH],\n",
            "    AUTHORITY[\"EPSG\",\"32632\"]]\n",
            "Origin = (-631390.529266884550452,4584393.136723773553967)\n",
            "Pixel Size = (30.090364468643074,-30.090520279698254)\n",
            "Metadata:\n",
            "  AREA_OR_POINT=Area\n",
            "Image Structure Metadata:\n",
            "  INTERLEAVE=BAND\n",
            "Corner Coordinates:\n",
            "Upper Left  ( -631390.529, 4584393.137) (  4d21'36.98\"W, 40d37'46.73\"N)\n",
            "Lower Left  ( -631390.529, 4458554.581) (  4d 8'32.78\"W, 39d31'34.09\"N)\n",
            "Upper Right ( -505552.625, 4584393.137) (  2d54'24.01\"W, 40d47'28.97\"N)\n",
            "Lower Right ( -505552.625, 4458554.581) (  2d42'39.95\"W, 39d40'54.09\"N)\n",
            "Center      ( -568471.577, 4521473.859) (  3d31'48.43\"W, 40d 9'34.32\"N)\n",
            "Band 1 Block=4182x1 Type=Float32, ColorInterp=Gray\n",
            "  NoData Value=-3.40282306073709653e+38\n"
          ],
          "name": "stdout"
        }
      ]
    },
    {
      "cell_type": "code",
      "metadata": {
        "id": "EyF_F09wTMQX",
        "colab_type": "code",
        "outputId": "511e615e-ce1b-470b-d507-4e67057639bb",
        "colab": {
          "base_uri": "https://localhost:8080/",
          "height": 689
        }
      },
      "source": [
        "!gdalinfo ghsl-smod-raster-30m.tif"
      ],
      "execution_count": 105,
      "outputs": [
        {
          "output_type": "stream",
          "text": [
            "Driver: GTiff/GeoTIFF\n",
            "Files: ghsl-smod-raster-30m.tif\n",
            "Size is 4182, 4182\n",
            "Coordinate System is:\n",
            "PROJCS[\"WGS 84 / UTM zone 32N\",\n",
            "    GEOGCS[\"WGS 84\",\n",
            "        DATUM[\"WGS_1984\",\n",
            "            SPHEROID[\"WGS 84\",6378137,298.257223563,\n",
            "                AUTHORITY[\"EPSG\",\"7030\"]],\n",
            "            AUTHORITY[\"EPSG\",\"6326\"]],\n",
            "        PRIMEM[\"Greenwich\",0,\n",
            "            AUTHORITY[\"EPSG\",\"8901\"]],\n",
            "        UNIT[\"degree\",0.0174532925199433,\n",
            "            AUTHORITY[\"EPSG\",\"9122\"]],\n",
            "        AUTHORITY[\"EPSG\",\"4326\"]],\n",
            "    PROJECTION[\"Transverse_Mercator\"],\n",
            "    PARAMETER[\"latitude_of_origin\",0],\n",
            "    PARAMETER[\"central_meridian\",9],\n",
            "    PARAMETER[\"scale_factor\",0.9996],\n",
            "    PARAMETER[\"false_easting\",500000],\n",
            "    PARAMETER[\"false_northing\",0],\n",
            "    UNIT[\"metre\",1,\n",
            "        AUTHORITY[\"EPSG\",\"9001\"]],\n",
            "    AXIS[\"Easting\",EAST],\n",
            "    AXIS[\"Northing\",NORTH],\n",
            "    AUTHORITY[\"EPSG\",\"32632\"]]\n",
            "Origin = (-631390.529266884550452,4584393.136723773553967)\n",
            "Pixel Size = (30.090364468643074,-30.090520279698254)\n",
            "Metadata:\n",
            "  AREA_OR_POINT=Area\n",
            "Image Structure Metadata:\n",
            "  INTERLEAVE=BAND\n",
            "Corner Coordinates:\n",
            "Upper Left  ( -631390.529, 4584393.137) (  4d21'36.98\"W, 40d37'46.73\"N)\n",
            "Lower Left  ( -631390.529, 4458554.581) (  4d 8'32.78\"W, 39d31'34.09\"N)\n",
            "Upper Right ( -505552.625, 4584393.137) (  2d54'24.01\"W, 40d47'28.97\"N)\n",
            "Lower Right ( -505552.625, 4458554.581) (  2d42'39.95\"W, 39d40'54.09\"N)\n",
            "Center      ( -568471.577, 4521473.859) (  3d31'48.43\"W, 40d 9'34.32\"N)\n",
            "Band 1 Block=4182x1 Type=Float32, ColorInterp=Gray\n",
            "  NoData Value=-3.40282306073709653e+38\n"
          ],
          "name": "stdout"
        }
      ]
    },
    {
      "cell_type": "markdown",
      "metadata": {
        "id": "0Uj7CmWs1DfC",
        "colab_type": "text"
      },
      "source": [
        "\n",
        "\n",
        "---\n",
        "\n"
      ]
    }
  ]
}