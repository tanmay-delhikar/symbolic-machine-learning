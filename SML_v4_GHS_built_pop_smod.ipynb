{
  "nbformat": 4,
  "nbformat_minor": 0,
  "metadata": {
    "colab": {
      "name": "SML_v4.ipynb",
      "provenance": [],
      "collapsed_sections": [],
      "machine_shape": "hm"
    },
    "kernelspec": {
      "name": "python3",
      "display_name": "Python 3"
    },
    "widgets": {
      "application/vnd.jupyter.widget-state+json": {
        "1f627b2d91134d08a280f52c5f4e1342": {
          "model_module": "@jupyter-widgets/controls",
          "model_name": "HBoxModel",
          "state": {
            "_view_name": "HBoxView",
            "_dom_classes": [],
            "_model_name": "HBoxModel",
            "_view_module": "@jupyter-widgets/controls",
            "_model_module_version": "1.5.0",
            "_view_count": null,
            "_view_module_version": "1.5.0",
            "box_style": "",
            "layout": "IPY_MODEL_d8045827f2404b0ba2090ceb60f6abe7",
            "_model_module": "@jupyter-widgets/controls",
            "children": [
              "IPY_MODEL_92ecf0f496f249ebad2e0cfaa8c1dec2",
              "IPY_MODEL_5bee379c395d4c8ca97bf9b104fa69be"
            ]
          }
        },
        "d8045827f2404b0ba2090ceb60f6abe7": {
          "model_module": "@jupyter-widgets/base",
          "model_name": "LayoutModel",
          "state": {
            "_view_name": "LayoutView",
            "grid_template_rows": null,
            "right": null,
            "justify_content": null,
            "_view_module": "@jupyter-widgets/base",
            "overflow": null,
            "_model_module_version": "1.2.0",
            "_view_count": null,
            "flex_flow": null,
            "width": null,
            "min_width": null,
            "border": null,
            "align_items": null,
            "bottom": null,
            "_model_module": "@jupyter-widgets/base",
            "top": null,
            "grid_column": null,
            "overflow_y": null,
            "overflow_x": null,
            "grid_auto_flow": null,
            "grid_area": null,
            "grid_template_columns": null,
            "flex": null,
            "_model_name": "LayoutModel",
            "justify_items": null,
            "grid_row": null,
            "max_height": null,
            "align_content": null,
            "visibility": null,
            "align_self": null,
            "height": null,
            "min_height": null,
            "padding": null,
            "grid_auto_rows": null,
            "grid_gap": null,
            "max_width": null,
            "order": null,
            "_view_module_version": "1.2.0",
            "grid_template_areas": null,
            "object_position": null,
            "object_fit": null,
            "grid_auto_columns": null,
            "margin": null,
            "display": null,
            "left": null
          }
        },
        "92ecf0f496f249ebad2e0cfaa8c1dec2": {
          "model_module": "@jupyter-widgets/controls",
          "model_name": "IntProgressModel",
          "state": {
            "_view_name": "ProgressView",
            "style": "IPY_MODEL_202e14ca4ba24338bb8a27e4fe269776",
            "_dom_classes": [],
            "description": "",
            "_model_name": "IntProgressModel",
            "bar_style": "success",
            "max": 6377766,
            "_view_module": "@jupyter-widgets/controls",
            "_model_module_version": "1.5.0",
            "value": 6377766,
            "_view_count": null,
            "_view_module_version": "1.5.0",
            "orientation": "horizontal",
            "min": 0,
            "description_tooltip": null,
            "_model_module": "@jupyter-widgets/controls",
            "layout": "IPY_MODEL_c36f9f9586eb4640a54057fce9794603"
          }
        },
        "5bee379c395d4c8ca97bf9b104fa69be": {
          "model_module": "@jupyter-widgets/controls",
          "model_name": "HTMLModel",
          "state": {
            "_view_name": "HTMLView",
            "style": "IPY_MODEL_8420dc538411429a94133a8b259951e8",
            "_dom_classes": [],
            "description": "",
            "_model_name": "HTMLModel",
            "placeholder": "​",
            "_view_module": "@jupyter-widgets/controls",
            "_model_module_version": "1.5.0",
            "value": "100% 6377766/6377766 [00:07&lt;00:00, 865845.29it/s]",
            "_view_count": null,
            "_view_module_version": "1.5.0",
            "description_tooltip": null,
            "_model_module": "@jupyter-widgets/controls",
            "layout": "IPY_MODEL_94c572a04dc54b0197ef1bd12bfb22de"
          }
        },
        "202e14ca4ba24338bb8a27e4fe269776": {
          "model_module": "@jupyter-widgets/controls",
          "model_name": "ProgressStyleModel",
          "state": {
            "_view_name": "StyleView",
            "_model_name": "ProgressStyleModel",
            "description_width": "",
            "_view_module": "@jupyter-widgets/base",
            "_model_module_version": "1.5.0",
            "_view_count": null,
            "_view_module_version": "1.2.0",
            "bar_color": null,
            "_model_module": "@jupyter-widgets/controls"
          }
        },
        "c36f9f9586eb4640a54057fce9794603": {
          "model_module": "@jupyter-widgets/base",
          "model_name": "LayoutModel",
          "state": {
            "_view_name": "LayoutView",
            "grid_template_rows": null,
            "right": null,
            "justify_content": null,
            "_view_module": "@jupyter-widgets/base",
            "overflow": null,
            "_model_module_version": "1.2.0",
            "_view_count": null,
            "flex_flow": null,
            "width": null,
            "min_width": null,
            "border": null,
            "align_items": null,
            "bottom": null,
            "_model_module": "@jupyter-widgets/base",
            "top": null,
            "grid_column": null,
            "overflow_y": null,
            "overflow_x": null,
            "grid_auto_flow": null,
            "grid_area": null,
            "grid_template_columns": null,
            "flex": null,
            "_model_name": "LayoutModel",
            "justify_items": null,
            "grid_row": null,
            "max_height": null,
            "align_content": null,
            "visibility": null,
            "align_self": null,
            "height": null,
            "min_height": null,
            "padding": null,
            "grid_auto_rows": null,
            "grid_gap": null,
            "max_width": null,
            "order": null,
            "_view_module_version": "1.2.0",
            "grid_template_areas": null,
            "object_position": null,
            "object_fit": null,
            "grid_auto_columns": null,
            "margin": null,
            "display": null,
            "left": null
          }
        },
        "8420dc538411429a94133a8b259951e8": {
          "model_module": "@jupyter-widgets/controls",
          "model_name": "DescriptionStyleModel",
          "state": {
            "_view_name": "StyleView",
            "_model_name": "DescriptionStyleModel",
            "description_width": "",
            "_view_module": "@jupyter-widgets/base",
            "_model_module_version": "1.5.0",
            "_view_count": null,
            "_view_module_version": "1.2.0",
            "_model_module": "@jupyter-widgets/controls"
          }
        },
        "94c572a04dc54b0197ef1bd12bfb22de": {
          "model_module": "@jupyter-widgets/base",
          "model_name": "LayoutModel",
          "state": {
            "_view_name": "LayoutView",
            "grid_template_rows": null,
            "right": null,
            "justify_content": null,
            "_view_module": "@jupyter-widgets/base",
            "overflow": null,
            "_model_module_version": "1.2.0",
            "_view_count": null,
            "flex_flow": null,
            "width": null,
            "min_width": null,
            "border": null,
            "align_items": null,
            "bottom": null,
            "_model_module": "@jupyter-widgets/base",
            "top": null,
            "grid_column": null,
            "overflow_y": null,
            "overflow_x": null,
            "grid_auto_flow": null,
            "grid_area": null,
            "grid_template_columns": null,
            "flex": null,
            "_model_name": "LayoutModel",
            "justify_items": null,
            "grid_row": null,
            "max_height": null,
            "align_content": null,
            "visibility": null,
            "align_self": null,
            "height": null,
            "min_height": null,
            "padding": null,
            "grid_auto_rows": null,
            "grid_gap": null,
            "max_width": null,
            "order": null,
            "_view_module_version": "1.2.0",
            "grid_template_areas": null,
            "object_position": null,
            "object_fit": null,
            "grid_auto_columns": null,
            "margin": null,
            "display": null,
            "left": null
          }
        },
        "6ceeb4b0930e4bd9b3dc636e1d807bef": {
          "model_module": "@jupyter-widgets/controls",
          "model_name": "HBoxModel",
          "state": {
            "_view_name": "HBoxView",
            "_dom_classes": [],
            "_model_name": "HBoxModel",
            "_view_module": "@jupyter-widgets/controls",
            "_model_module_version": "1.5.0",
            "_view_count": null,
            "_view_module_version": "1.5.0",
            "box_style": "",
            "layout": "IPY_MODEL_50171239cdef4a99960595b68e431098",
            "_model_module": "@jupyter-widgets/controls",
            "children": [
              "IPY_MODEL_95f5687cbca94fef99752bfc9723eba4",
              "IPY_MODEL_4a0a6b1ab60f4264a6fc4a3c0da85f11"
            ]
          }
        },
        "50171239cdef4a99960595b68e431098": {
          "model_module": "@jupyter-widgets/base",
          "model_name": "LayoutModel",
          "state": {
            "_view_name": "LayoutView",
            "grid_template_rows": null,
            "right": null,
            "justify_content": null,
            "_view_module": "@jupyter-widgets/base",
            "overflow": null,
            "_model_module_version": "1.2.0",
            "_view_count": null,
            "flex_flow": null,
            "width": null,
            "min_width": null,
            "border": null,
            "align_items": null,
            "bottom": null,
            "_model_module": "@jupyter-widgets/base",
            "top": null,
            "grid_column": null,
            "overflow_y": null,
            "overflow_x": null,
            "grid_auto_flow": null,
            "grid_area": null,
            "grid_template_columns": null,
            "flex": null,
            "_model_name": "LayoutModel",
            "justify_items": null,
            "grid_row": null,
            "max_height": null,
            "align_content": null,
            "visibility": null,
            "align_self": null,
            "height": null,
            "min_height": null,
            "padding": null,
            "grid_auto_rows": null,
            "grid_gap": null,
            "max_width": null,
            "order": null,
            "_view_module_version": "1.2.0",
            "grid_template_areas": null,
            "object_position": null,
            "object_fit": null,
            "grid_auto_columns": null,
            "margin": null,
            "display": null,
            "left": null
          }
        },
        "95f5687cbca94fef99752bfc9723eba4": {
          "model_module": "@jupyter-widgets/controls",
          "model_name": "IntProgressModel",
          "state": {
            "_view_name": "ProgressView",
            "style": "IPY_MODEL_d6714349621a44eb9d78a2e6a98c6436",
            "_dom_classes": [],
            "description": "",
            "_model_name": "IntProgressModel",
            "bar_style": "success",
            "max": 909,
            "_view_module": "@jupyter-widgets/controls",
            "_model_module_version": "1.5.0",
            "value": 909,
            "_view_count": null,
            "_view_module_version": "1.5.0",
            "orientation": "horizontal",
            "min": 0,
            "description_tooltip": null,
            "_model_module": "@jupyter-widgets/controls",
            "layout": "IPY_MODEL_87744452783f4c5e831bedca0a79a1cf"
          }
        },
        "4a0a6b1ab60f4264a6fc4a3c0da85f11": {
          "model_module": "@jupyter-widgets/controls",
          "model_name": "HTMLModel",
          "state": {
            "_view_name": "HTMLView",
            "style": "IPY_MODEL_0918f4e43f504dc28b580ffa15398c81",
            "_dom_classes": [],
            "description": "",
            "_model_name": "HTMLModel",
            "placeholder": "​",
            "_view_module": "@jupyter-widgets/controls",
            "_model_module_version": "1.5.0",
            "value": "100% 909/909 [00:00&lt;00:00, 31245.37it/s]",
            "_view_count": null,
            "_view_module_version": "1.5.0",
            "description_tooltip": null,
            "_model_module": "@jupyter-widgets/controls",
            "layout": "IPY_MODEL_6bad974e2545448680daae39cdeefa8b"
          }
        },
        "d6714349621a44eb9d78a2e6a98c6436": {
          "model_module": "@jupyter-widgets/controls",
          "model_name": "ProgressStyleModel",
          "state": {
            "_view_name": "StyleView",
            "_model_name": "ProgressStyleModel",
            "description_width": "",
            "_view_module": "@jupyter-widgets/base",
            "_model_module_version": "1.5.0",
            "_view_count": null,
            "_view_module_version": "1.2.0",
            "bar_color": null,
            "_model_module": "@jupyter-widgets/controls"
          }
        },
        "87744452783f4c5e831bedca0a79a1cf": {
          "model_module": "@jupyter-widgets/base",
          "model_name": "LayoutModel",
          "state": {
            "_view_name": "LayoutView",
            "grid_template_rows": null,
            "right": null,
            "justify_content": null,
            "_view_module": "@jupyter-widgets/base",
            "overflow": null,
            "_model_module_version": "1.2.0",
            "_view_count": null,
            "flex_flow": null,
            "width": null,
            "min_width": null,
            "border": null,
            "align_items": null,
            "bottom": null,
            "_model_module": "@jupyter-widgets/base",
            "top": null,
            "grid_column": null,
            "overflow_y": null,
            "overflow_x": null,
            "grid_auto_flow": null,
            "grid_area": null,
            "grid_template_columns": null,
            "flex": null,
            "_model_name": "LayoutModel",
            "justify_items": null,
            "grid_row": null,
            "max_height": null,
            "align_content": null,
            "visibility": null,
            "align_self": null,
            "height": null,
            "min_height": null,
            "padding": null,
            "grid_auto_rows": null,
            "grid_gap": null,
            "max_width": null,
            "order": null,
            "_view_module_version": "1.2.0",
            "grid_template_areas": null,
            "object_position": null,
            "object_fit": null,
            "grid_auto_columns": null,
            "margin": null,
            "display": null,
            "left": null
          }
        },
        "0918f4e43f504dc28b580ffa15398c81": {
          "model_module": "@jupyter-widgets/controls",
          "model_name": "DescriptionStyleModel",
          "state": {
            "_view_name": "StyleView",
            "_model_name": "DescriptionStyleModel",
            "description_width": "",
            "_view_module": "@jupyter-widgets/base",
            "_model_module_version": "1.5.0",
            "_view_count": null,
            "_view_module_version": "1.2.0",
            "_model_module": "@jupyter-widgets/controls"
          }
        },
        "6bad974e2545448680daae39cdeefa8b": {
          "model_module": "@jupyter-widgets/base",
          "model_name": "LayoutModel",
          "state": {
            "_view_name": "LayoutView",
            "grid_template_rows": null,
            "right": null,
            "justify_content": null,
            "_view_module": "@jupyter-widgets/base",
            "overflow": null,
            "_model_module_version": "1.2.0",
            "_view_count": null,
            "flex_flow": null,
            "width": null,
            "min_width": null,
            "border": null,
            "align_items": null,
            "bottom": null,
            "_model_module": "@jupyter-widgets/base",
            "top": null,
            "grid_column": null,
            "overflow_y": null,
            "overflow_x": null,
            "grid_auto_flow": null,
            "grid_area": null,
            "grid_template_columns": null,
            "flex": null,
            "_model_name": "LayoutModel",
            "justify_items": null,
            "grid_row": null,
            "max_height": null,
            "align_content": null,
            "visibility": null,
            "align_self": null,
            "height": null,
            "min_height": null,
            "padding": null,
            "grid_auto_rows": null,
            "grid_gap": null,
            "max_width": null,
            "order": null,
            "_view_module_version": "1.2.0",
            "grid_template_areas": null,
            "object_position": null,
            "object_fit": null,
            "grid_auto_columns": null,
            "margin": null,
            "display": null,
            "left": null
          }
        },
        "cb7a68d186c34328a06147d6ad426a4a": {
          "model_module": "@jupyter-widgets/controls",
          "model_name": "HBoxModel",
          "state": {
            "_view_name": "HBoxView",
            "_dom_classes": [],
            "_model_name": "HBoxModel",
            "_view_module": "@jupyter-widgets/controls",
            "_model_module_version": "1.5.0",
            "_view_count": null,
            "_view_module_version": "1.5.0",
            "box_style": "",
            "layout": "IPY_MODEL_7556f263a20f430d856dbe52e5d56b5f",
            "_model_module": "@jupyter-widgets/controls",
            "children": [
              "IPY_MODEL_de62f736573240acbffa09a799b51cd4",
              "IPY_MODEL_8cbdb1508e9547519497ca9a30ff498d"
            ]
          }
        },
        "7556f263a20f430d856dbe52e5d56b5f": {
          "model_module": "@jupyter-widgets/base",
          "model_name": "LayoutModel",
          "state": {
            "_view_name": "LayoutView",
            "grid_template_rows": null,
            "right": null,
            "justify_content": null,
            "_view_module": "@jupyter-widgets/base",
            "overflow": null,
            "_model_module_version": "1.2.0",
            "_view_count": null,
            "flex_flow": null,
            "width": null,
            "min_width": null,
            "border": null,
            "align_items": null,
            "bottom": null,
            "_model_module": "@jupyter-widgets/base",
            "top": null,
            "grid_column": null,
            "overflow_y": null,
            "overflow_x": null,
            "grid_auto_flow": null,
            "grid_area": null,
            "grid_template_columns": null,
            "flex": null,
            "_model_name": "LayoutModel",
            "justify_items": null,
            "grid_row": null,
            "max_height": null,
            "align_content": null,
            "visibility": null,
            "align_self": null,
            "height": null,
            "min_height": null,
            "padding": null,
            "grid_auto_rows": null,
            "grid_gap": null,
            "max_width": null,
            "order": null,
            "_view_module_version": "1.2.0",
            "grid_template_areas": null,
            "object_position": null,
            "object_fit": null,
            "grid_auto_columns": null,
            "margin": null,
            "display": null,
            "left": null
          }
        },
        "de62f736573240acbffa09a799b51cd4": {
          "model_module": "@jupyter-widgets/controls",
          "model_name": "IntProgressModel",
          "state": {
            "_view_name": "ProgressView",
            "style": "IPY_MODEL_b7144714d5ec4e69bf9b2309ceba0074",
            "_dom_classes": [],
            "description": "",
            "_model_name": "IntProgressModel",
            "bar_style": "success",
            "max": 1062961,
            "_view_module": "@jupyter-widgets/controls",
            "_model_module_version": "1.5.0",
            "value": 1062961,
            "_view_count": null,
            "_view_module_version": "1.5.0",
            "orientation": "horizontal",
            "min": 0,
            "description_tooltip": null,
            "_model_module": "@jupyter-widgets/controls",
            "layout": "IPY_MODEL_a655bd6d0d204aa09f2ebc429205e228"
          }
        },
        "8cbdb1508e9547519497ca9a30ff498d": {
          "model_module": "@jupyter-widgets/controls",
          "model_name": "HTMLModel",
          "state": {
            "_view_name": "HTMLView",
            "style": "IPY_MODEL_775bcaddad454549bef6e99e164065fc",
            "_dom_classes": [],
            "description": "",
            "_model_name": "HTMLModel",
            "placeholder": "​",
            "_view_module": "@jupyter-widgets/controls",
            "_model_module_version": "1.5.0",
            "value": "100% 1062961/1062961 [00:00&lt;00:00, 1146884.79it/s]",
            "_view_count": null,
            "_view_module_version": "1.5.0",
            "description_tooltip": null,
            "_model_module": "@jupyter-widgets/controls",
            "layout": "IPY_MODEL_1c0df33c78f04e8eb5394310025feffe"
          }
        },
        "b7144714d5ec4e69bf9b2309ceba0074": {
          "model_module": "@jupyter-widgets/controls",
          "model_name": "ProgressStyleModel",
          "state": {
            "_view_name": "StyleView",
            "_model_name": "ProgressStyleModel",
            "description_width": "",
            "_view_module": "@jupyter-widgets/base",
            "_model_module_version": "1.5.0",
            "_view_count": null,
            "_view_module_version": "1.2.0",
            "bar_color": null,
            "_model_module": "@jupyter-widgets/controls"
          }
        },
        "a655bd6d0d204aa09f2ebc429205e228": {
          "model_module": "@jupyter-widgets/base",
          "model_name": "LayoutModel",
          "state": {
            "_view_name": "LayoutView",
            "grid_template_rows": null,
            "right": null,
            "justify_content": null,
            "_view_module": "@jupyter-widgets/base",
            "overflow": null,
            "_model_module_version": "1.2.0",
            "_view_count": null,
            "flex_flow": null,
            "width": null,
            "min_width": null,
            "border": null,
            "align_items": null,
            "bottom": null,
            "_model_module": "@jupyter-widgets/base",
            "top": null,
            "grid_column": null,
            "overflow_y": null,
            "overflow_x": null,
            "grid_auto_flow": null,
            "grid_area": null,
            "grid_template_columns": null,
            "flex": null,
            "_model_name": "LayoutModel",
            "justify_items": null,
            "grid_row": null,
            "max_height": null,
            "align_content": null,
            "visibility": null,
            "align_self": null,
            "height": null,
            "min_height": null,
            "padding": null,
            "grid_auto_rows": null,
            "grid_gap": null,
            "max_width": null,
            "order": null,
            "_view_module_version": "1.2.0",
            "grid_template_areas": null,
            "object_position": null,
            "object_fit": null,
            "grid_auto_columns": null,
            "margin": null,
            "display": null,
            "left": null
          }
        },
        "775bcaddad454549bef6e99e164065fc": {
          "model_module": "@jupyter-widgets/controls",
          "model_name": "DescriptionStyleModel",
          "state": {
            "_view_name": "StyleView",
            "_model_name": "DescriptionStyleModel",
            "description_width": "",
            "_view_module": "@jupyter-widgets/base",
            "_model_module_version": "1.5.0",
            "_view_count": null,
            "_view_module_version": "1.2.0",
            "_model_module": "@jupyter-widgets/controls"
          }
        },
        "1c0df33c78f04e8eb5394310025feffe": {
          "model_module": "@jupyter-widgets/base",
          "model_name": "LayoutModel",
          "state": {
            "_view_name": "LayoutView",
            "grid_template_rows": null,
            "right": null,
            "justify_content": null,
            "_view_module": "@jupyter-widgets/base",
            "overflow": null,
            "_model_module_version": "1.2.0",
            "_view_count": null,
            "flex_flow": null,
            "width": null,
            "min_width": null,
            "border": null,
            "align_items": null,
            "bottom": null,
            "_model_module": "@jupyter-widgets/base",
            "top": null,
            "grid_column": null,
            "overflow_y": null,
            "overflow_x": null,
            "grid_auto_flow": null,
            "grid_area": null,
            "grid_template_columns": null,
            "flex": null,
            "_model_name": "LayoutModel",
            "justify_items": null,
            "grid_row": null,
            "max_height": null,
            "align_content": null,
            "visibility": null,
            "align_self": null,
            "height": null,
            "min_height": null,
            "padding": null,
            "grid_auto_rows": null,
            "grid_gap": null,
            "max_width": null,
            "order": null,
            "_view_module_version": "1.2.0",
            "grid_template_areas": null,
            "object_position": null,
            "object_fit": null,
            "grid_auto_columns": null,
            "margin": null,
            "display": null,
            "left": null
          }
        },
        "4055a008ab054f4598e27ff158f26b2f": {
          "model_module": "@jupyter-widgets/controls",
          "model_name": "HBoxModel",
          "state": {
            "_view_name": "HBoxView",
            "_dom_classes": [],
            "_model_name": "HBoxModel",
            "_view_module": "@jupyter-widgets/controls",
            "_model_module_version": "1.5.0",
            "_view_count": null,
            "_view_module_version": "1.5.0",
            "box_style": "",
            "layout": "IPY_MODEL_12f2c4971b7946c19d12e632d65211c3",
            "_model_module": "@jupyter-widgets/controls",
            "children": [
              "IPY_MODEL_bd4491e4051f4561887c6092f9ffde8c",
              "IPY_MODEL_5ca2dced08c34e00803cec511230c089"
            ]
          }
        },
        "12f2c4971b7946c19d12e632d65211c3": {
          "model_module": "@jupyter-widgets/base",
          "model_name": "LayoutModel",
          "state": {
            "_view_name": "LayoutView",
            "grid_template_rows": null,
            "right": null,
            "justify_content": null,
            "_view_module": "@jupyter-widgets/base",
            "overflow": null,
            "_model_module_version": "1.2.0",
            "_view_count": null,
            "flex_flow": null,
            "width": null,
            "min_width": null,
            "border": null,
            "align_items": null,
            "bottom": null,
            "_model_module": "@jupyter-widgets/base",
            "top": null,
            "grid_column": null,
            "overflow_y": null,
            "overflow_x": null,
            "grid_auto_flow": null,
            "grid_area": null,
            "grid_template_columns": null,
            "flex": null,
            "_model_name": "LayoutModel",
            "justify_items": null,
            "grid_row": null,
            "max_height": null,
            "align_content": null,
            "visibility": null,
            "align_self": null,
            "height": null,
            "min_height": null,
            "padding": null,
            "grid_auto_rows": null,
            "grid_gap": null,
            "max_width": null,
            "order": null,
            "_view_module_version": "1.2.0",
            "grid_template_areas": null,
            "object_position": null,
            "object_fit": null,
            "grid_auto_columns": null,
            "margin": null,
            "display": null,
            "left": null
          }
        },
        "bd4491e4051f4561887c6092f9ffde8c": {
          "model_module": "@jupyter-widgets/controls",
          "model_name": "IntProgressModel",
          "state": {
            "_view_name": "ProgressView",
            "style": "IPY_MODEL_9f1d7158c2d94d1884cc1e92cc3f1fcf",
            "_dom_classes": [],
            "description": "",
            "_model_name": "IntProgressModel",
            "bar_style": "success",
            "max": 1062961,
            "_view_module": "@jupyter-widgets/controls",
            "_model_module_version": "1.5.0",
            "value": 1062961,
            "_view_count": null,
            "_view_module_version": "1.5.0",
            "orientation": "horizontal",
            "min": 0,
            "description_tooltip": null,
            "_model_module": "@jupyter-widgets/controls",
            "layout": "IPY_MODEL_1b45b8713c434b2ba692cec1d40da0e0"
          }
        },
        "5ca2dced08c34e00803cec511230c089": {
          "model_module": "@jupyter-widgets/controls",
          "model_name": "HTMLModel",
          "state": {
            "_view_name": "HTMLView",
            "style": "IPY_MODEL_57d148453e714cea9d2cb495fd9ccd59",
            "_dom_classes": [],
            "description": "",
            "_model_name": "HTMLModel",
            "placeholder": "​",
            "_view_module": "@jupyter-widgets/controls",
            "_model_module_version": "1.5.0",
            "value": "100% 1062961/1062961 [00:00&lt;00:00, 1549819.07it/s]",
            "_view_count": null,
            "_view_module_version": "1.5.0",
            "description_tooltip": null,
            "_model_module": "@jupyter-widgets/controls",
            "layout": "IPY_MODEL_d664e86ddd024b649fcf006f1085646b"
          }
        },
        "9f1d7158c2d94d1884cc1e92cc3f1fcf": {
          "model_module": "@jupyter-widgets/controls",
          "model_name": "ProgressStyleModel",
          "state": {
            "_view_name": "StyleView",
            "_model_name": "ProgressStyleModel",
            "description_width": "",
            "_view_module": "@jupyter-widgets/base",
            "_model_module_version": "1.5.0",
            "_view_count": null,
            "_view_module_version": "1.2.0",
            "bar_color": null,
            "_model_module": "@jupyter-widgets/controls"
          }
        },
        "1b45b8713c434b2ba692cec1d40da0e0": {
          "model_module": "@jupyter-widgets/base",
          "model_name": "LayoutModel",
          "state": {
            "_view_name": "LayoutView",
            "grid_template_rows": null,
            "right": null,
            "justify_content": null,
            "_view_module": "@jupyter-widgets/base",
            "overflow": null,
            "_model_module_version": "1.2.0",
            "_view_count": null,
            "flex_flow": null,
            "width": null,
            "min_width": null,
            "border": null,
            "align_items": null,
            "bottom": null,
            "_model_module": "@jupyter-widgets/base",
            "top": null,
            "grid_column": null,
            "overflow_y": null,
            "overflow_x": null,
            "grid_auto_flow": null,
            "grid_area": null,
            "grid_template_columns": null,
            "flex": null,
            "_model_name": "LayoutModel",
            "justify_items": null,
            "grid_row": null,
            "max_height": null,
            "align_content": null,
            "visibility": null,
            "align_self": null,
            "height": null,
            "min_height": null,
            "padding": null,
            "grid_auto_rows": null,
            "grid_gap": null,
            "max_width": null,
            "order": null,
            "_view_module_version": "1.2.0",
            "grid_template_areas": null,
            "object_position": null,
            "object_fit": null,
            "grid_auto_columns": null,
            "margin": null,
            "display": null,
            "left": null
          }
        },
        "57d148453e714cea9d2cb495fd9ccd59": {
          "model_module": "@jupyter-widgets/controls",
          "model_name": "DescriptionStyleModel",
          "state": {
            "_view_name": "StyleView",
            "_model_name": "DescriptionStyleModel",
            "description_width": "",
            "_view_module": "@jupyter-widgets/base",
            "_model_module_version": "1.5.0",
            "_view_count": null,
            "_view_module_version": "1.2.0",
            "_model_module": "@jupyter-widgets/controls"
          }
        },
        "d664e86ddd024b649fcf006f1085646b": {
          "model_module": "@jupyter-widgets/base",
          "model_name": "LayoutModel",
          "state": {
            "_view_name": "LayoutView",
            "grid_template_rows": null,
            "right": null,
            "justify_content": null,
            "_view_module": "@jupyter-widgets/base",
            "overflow": null,
            "_model_module_version": "1.2.0",
            "_view_count": null,
            "flex_flow": null,
            "width": null,
            "min_width": null,
            "border": null,
            "align_items": null,
            "bottom": null,
            "_model_module": "@jupyter-widgets/base",
            "top": null,
            "grid_column": null,
            "overflow_y": null,
            "overflow_x": null,
            "grid_auto_flow": null,
            "grid_area": null,
            "grid_template_columns": null,
            "flex": null,
            "_model_name": "LayoutModel",
            "justify_items": null,
            "grid_row": null,
            "max_height": null,
            "align_content": null,
            "visibility": null,
            "align_self": null,
            "height": null,
            "min_height": null,
            "padding": null,
            "grid_auto_rows": null,
            "grid_gap": null,
            "max_width": null,
            "order": null,
            "_view_module_version": "1.2.0",
            "grid_template_areas": null,
            "object_position": null,
            "object_fit": null,
            "grid_auto_columns": null,
            "margin": null,
            "display": null,
            "left": null
          }
        },
        "bb9579dbb6654f5d85a3e3a8893681d4": {
          "model_module": "@jupyter-widgets/controls",
          "model_name": "HBoxModel",
          "state": {
            "_view_name": "HBoxView",
            "_dom_classes": [],
            "_model_name": "HBoxModel",
            "_view_module": "@jupyter-widgets/controls",
            "_model_module_version": "1.5.0",
            "_view_count": null,
            "_view_module_version": "1.5.0",
            "box_style": "",
            "layout": "IPY_MODEL_29647bb75494416dbc5af0682a53bb86",
            "_model_module": "@jupyter-widgets/controls",
            "children": [
              "IPY_MODEL_d21b93d8357c4774bc96341dd28e9a43",
              "IPY_MODEL_ce57b93169c742d7a917804ba8e1df8a"
            ]
          }
        },
        "29647bb75494416dbc5af0682a53bb86": {
          "model_module": "@jupyter-widgets/base",
          "model_name": "LayoutModel",
          "state": {
            "_view_name": "LayoutView",
            "grid_template_rows": null,
            "right": null,
            "justify_content": null,
            "_view_module": "@jupyter-widgets/base",
            "overflow": null,
            "_model_module_version": "1.2.0",
            "_view_count": null,
            "flex_flow": null,
            "width": null,
            "min_width": null,
            "border": null,
            "align_items": null,
            "bottom": null,
            "_model_module": "@jupyter-widgets/base",
            "top": null,
            "grid_column": null,
            "overflow_y": null,
            "overflow_x": null,
            "grid_auto_flow": null,
            "grid_area": null,
            "grid_template_columns": null,
            "flex": null,
            "_model_name": "LayoutModel",
            "justify_items": null,
            "grid_row": null,
            "max_height": null,
            "align_content": null,
            "visibility": null,
            "align_self": null,
            "height": null,
            "min_height": null,
            "padding": null,
            "grid_auto_rows": null,
            "grid_gap": null,
            "max_width": null,
            "order": null,
            "_view_module_version": "1.2.0",
            "grid_template_areas": null,
            "object_position": null,
            "object_fit": null,
            "grid_auto_columns": null,
            "margin": null,
            "display": null,
            "left": null
          }
        },
        "d21b93d8357c4774bc96341dd28e9a43": {
          "model_module": "@jupyter-widgets/controls",
          "model_name": "IntProgressModel",
          "state": {
            "_view_name": "ProgressView",
            "style": "IPY_MODEL_31efd801aca544448855fa2683676fa9",
            "_dom_classes": [],
            "description": "",
            "_model_name": "IntProgressModel",
            "bar_style": "success",
            "max": 1062961,
            "_view_module": "@jupyter-widgets/controls",
            "_model_module_version": "1.5.0",
            "value": 1062961,
            "_view_count": null,
            "_view_module_version": "1.5.0",
            "orientation": "horizontal",
            "min": 0,
            "description_tooltip": null,
            "_model_module": "@jupyter-widgets/controls",
            "layout": "IPY_MODEL_aef377dc560e4e6eae39bd99954a4143"
          }
        },
        "ce57b93169c742d7a917804ba8e1df8a": {
          "model_module": "@jupyter-widgets/controls",
          "model_name": "HTMLModel",
          "state": {
            "_view_name": "HTMLView",
            "style": "IPY_MODEL_056120f0c73f47d994b0e1fbcab11285",
            "_dom_classes": [],
            "description": "",
            "_model_name": "HTMLModel",
            "placeholder": "​",
            "_view_module": "@jupyter-widgets/controls",
            "_model_module_version": "1.5.0",
            "value": "100% 1062961/1062961 [00:00&lt;00:00, 1550876.28it/s]",
            "_view_count": null,
            "_view_module_version": "1.5.0",
            "description_tooltip": null,
            "_model_module": "@jupyter-widgets/controls",
            "layout": "IPY_MODEL_4d8906c461034bbaa4d7574d5b9aeb6d"
          }
        },
        "31efd801aca544448855fa2683676fa9": {
          "model_module": "@jupyter-widgets/controls",
          "model_name": "ProgressStyleModel",
          "state": {
            "_view_name": "StyleView",
            "_model_name": "ProgressStyleModel",
            "description_width": "",
            "_view_module": "@jupyter-widgets/base",
            "_model_module_version": "1.5.0",
            "_view_count": null,
            "_view_module_version": "1.2.0",
            "bar_color": null,
            "_model_module": "@jupyter-widgets/controls"
          }
        },
        "aef377dc560e4e6eae39bd99954a4143": {
          "model_module": "@jupyter-widgets/base",
          "model_name": "LayoutModel",
          "state": {
            "_view_name": "LayoutView",
            "grid_template_rows": null,
            "right": null,
            "justify_content": null,
            "_view_module": "@jupyter-widgets/base",
            "overflow": null,
            "_model_module_version": "1.2.0",
            "_view_count": null,
            "flex_flow": null,
            "width": null,
            "min_width": null,
            "border": null,
            "align_items": null,
            "bottom": null,
            "_model_module": "@jupyter-widgets/base",
            "top": null,
            "grid_column": null,
            "overflow_y": null,
            "overflow_x": null,
            "grid_auto_flow": null,
            "grid_area": null,
            "grid_template_columns": null,
            "flex": null,
            "_model_name": "LayoutModel",
            "justify_items": null,
            "grid_row": null,
            "max_height": null,
            "align_content": null,
            "visibility": null,
            "align_self": null,
            "height": null,
            "min_height": null,
            "padding": null,
            "grid_auto_rows": null,
            "grid_gap": null,
            "max_width": null,
            "order": null,
            "_view_module_version": "1.2.0",
            "grid_template_areas": null,
            "object_position": null,
            "object_fit": null,
            "grid_auto_columns": null,
            "margin": null,
            "display": null,
            "left": null
          }
        },
        "056120f0c73f47d994b0e1fbcab11285": {
          "model_module": "@jupyter-widgets/controls",
          "model_name": "DescriptionStyleModel",
          "state": {
            "_view_name": "StyleView",
            "_model_name": "DescriptionStyleModel",
            "description_width": "",
            "_view_module": "@jupyter-widgets/base",
            "_model_module_version": "1.5.0",
            "_view_count": null,
            "_view_module_version": "1.2.0",
            "_model_module": "@jupyter-widgets/controls"
          }
        },
        "4d8906c461034bbaa4d7574d5b9aeb6d": {
          "model_module": "@jupyter-widgets/base",
          "model_name": "LayoutModel",
          "state": {
            "_view_name": "LayoutView",
            "grid_template_rows": null,
            "right": null,
            "justify_content": null,
            "_view_module": "@jupyter-widgets/base",
            "overflow": null,
            "_model_module_version": "1.2.0",
            "_view_count": null,
            "flex_flow": null,
            "width": null,
            "min_width": null,
            "border": null,
            "align_items": null,
            "bottom": null,
            "_model_module": "@jupyter-widgets/base",
            "top": null,
            "grid_column": null,
            "overflow_y": null,
            "overflow_x": null,
            "grid_auto_flow": null,
            "grid_area": null,
            "grid_template_columns": null,
            "flex": null,
            "_model_name": "LayoutModel",
            "justify_items": null,
            "grid_row": null,
            "max_height": null,
            "align_content": null,
            "visibility": null,
            "align_self": null,
            "height": null,
            "min_height": null,
            "padding": null,
            "grid_auto_rows": null,
            "grid_gap": null,
            "max_width": null,
            "order": null,
            "_view_module_version": "1.2.0",
            "grid_template_areas": null,
            "object_position": null,
            "object_fit": null,
            "grid_auto_columns": null,
            "margin": null,
            "display": null,
            "left": null
          }
        },
        "4fe6ab92ee3c4fc888f725c7cfc90de6": {
          "model_module": "@jupyter-widgets/controls",
          "model_name": "HBoxModel",
          "state": {
            "_view_name": "HBoxView",
            "_dom_classes": [],
            "_model_name": "HBoxModel",
            "_view_module": "@jupyter-widgets/controls",
            "_model_module_version": "1.5.0",
            "_view_count": null,
            "_view_module_version": "1.5.0",
            "box_style": "",
            "layout": "IPY_MODEL_71ce979bdd964af180b6ec0e63df1317",
            "_model_module": "@jupyter-widgets/controls",
            "children": [
              "IPY_MODEL_a5c8b9f01d97419a83f58f4c2c5b5343",
              "IPY_MODEL_e18d214a622849248e65f74b5f132040"
            ]
          }
        },
        "71ce979bdd964af180b6ec0e63df1317": {
          "model_module": "@jupyter-widgets/base",
          "model_name": "LayoutModel",
          "state": {
            "_view_name": "LayoutView",
            "grid_template_rows": null,
            "right": null,
            "justify_content": null,
            "_view_module": "@jupyter-widgets/base",
            "overflow": null,
            "_model_module_version": "1.2.0",
            "_view_count": null,
            "flex_flow": null,
            "width": null,
            "min_width": null,
            "border": null,
            "align_items": null,
            "bottom": null,
            "_model_module": "@jupyter-widgets/base",
            "top": null,
            "grid_column": null,
            "overflow_y": null,
            "overflow_x": null,
            "grid_auto_flow": null,
            "grid_area": null,
            "grid_template_columns": null,
            "flex": null,
            "_model_name": "LayoutModel",
            "justify_items": null,
            "grid_row": null,
            "max_height": null,
            "align_content": null,
            "visibility": null,
            "align_self": null,
            "height": null,
            "min_height": null,
            "padding": null,
            "grid_auto_rows": null,
            "grid_gap": null,
            "max_width": null,
            "order": null,
            "_view_module_version": "1.2.0",
            "grid_template_areas": null,
            "object_position": null,
            "object_fit": null,
            "grid_auto_columns": null,
            "margin": null,
            "display": null,
            "left": null
          }
        },
        "a5c8b9f01d97419a83f58f4c2c5b5343": {
          "model_module": "@jupyter-widgets/controls",
          "model_name": "IntProgressModel",
          "state": {
            "_view_name": "ProgressView",
            "style": "IPY_MODEL_1e81f7c856e746fd99dd1fc2e6015bde",
            "_dom_classes": [],
            "description": "",
            "_model_name": "IntProgressModel",
            "bar_style": "success",
            "max": 1,
            "_view_module": "@jupyter-widgets/controls",
            "_model_module_version": "1.5.0",
            "value": 1,
            "_view_count": null,
            "_view_module_version": "1.5.0",
            "orientation": "horizontal",
            "min": 0,
            "description_tooltip": null,
            "_model_module": "@jupyter-widgets/controls",
            "layout": "IPY_MODEL_24583eb23db04d37840baa3612390e63"
          }
        },
        "e18d214a622849248e65f74b5f132040": {
          "model_module": "@jupyter-widgets/controls",
          "model_name": "HTMLModel",
          "state": {
            "_view_name": "HTMLView",
            "style": "IPY_MODEL_ab8fad30bf65436891e5fcc400a131f3",
            "_dom_classes": [],
            "description": "",
            "_model_name": "HTMLModel",
            "placeholder": "​",
            "_view_module": "@jupyter-widgets/controls",
            "_model_module_version": "1.5.0",
            "value": "1062961it [00:24, 43699.51it/s]",
            "_view_count": null,
            "_view_module_version": "1.5.0",
            "description_tooltip": null,
            "_model_module": "@jupyter-widgets/controls",
            "layout": "IPY_MODEL_1d7f8d19c16c4f85858ab51f9ea9de95"
          }
        },
        "1e81f7c856e746fd99dd1fc2e6015bde": {
          "model_module": "@jupyter-widgets/controls",
          "model_name": "ProgressStyleModel",
          "state": {
            "_view_name": "StyleView",
            "_model_name": "ProgressStyleModel",
            "description_width": "",
            "_view_module": "@jupyter-widgets/base",
            "_model_module_version": "1.5.0",
            "_view_count": null,
            "_view_module_version": "1.2.0",
            "bar_color": null,
            "_model_module": "@jupyter-widgets/controls"
          }
        },
        "24583eb23db04d37840baa3612390e63": {
          "model_module": "@jupyter-widgets/base",
          "model_name": "LayoutModel",
          "state": {
            "_view_name": "LayoutView",
            "grid_template_rows": null,
            "right": null,
            "justify_content": null,
            "_view_module": "@jupyter-widgets/base",
            "overflow": null,
            "_model_module_version": "1.2.0",
            "_view_count": null,
            "flex_flow": null,
            "width": null,
            "min_width": null,
            "border": null,
            "align_items": null,
            "bottom": null,
            "_model_module": "@jupyter-widgets/base",
            "top": null,
            "grid_column": null,
            "overflow_y": null,
            "overflow_x": null,
            "grid_auto_flow": null,
            "grid_area": null,
            "grid_template_columns": null,
            "flex": null,
            "_model_name": "LayoutModel",
            "justify_items": null,
            "grid_row": null,
            "max_height": null,
            "align_content": null,
            "visibility": null,
            "align_self": null,
            "height": null,
            "min_height": null,
            "padding": null,
            "grid_auto_rows": null,
            "grid_gap": null,
            "max_width": null,
            "order": null,
            "_view_module_version": "1.2.0",
            "grid_template_areas": null,
            "object_position": null,
            "object_fit": null,
            "grid_auto_columns": null,
            "margin": null,
            "display": null,
            "left": null
          }
        },
        "ab8fad30bf65436891e5fcc400a131f3": {
          "model_module": "@jupyter-widgets/controls",
          "model_name": "DescriptionStyleModel",
          "state": {
            "_view_name": "StyleView",
            "_model_name": "DescriptionStyleModel",
            "description_width": "",
            "_view_module": "@jupyter-widgets/base",
            "_model_module_version": "1.5.0",
            "_view_count": null,
            "_view_module_version": "1.2.0",
            "_model_module": "@jupyter-widgets/controls"
          }
        },
        "1d7f8d19c16c4f85858ab51f9ea9de95": {
          "model_module": "@jupyter-widgets/base",
          "model_name": "LayoutModel",
          "state": {
            "_view_name": "LayoutView",
            "grid_template_rows": null,
            "right": null,
            "justify_content": null,
            "_view_module": "@jupyter-widgets/base",
            "overflow": null,
            "_model_module_version": "1.2.0",
            "_view_count": null,
            "flex_flow": null,
            "width": null,
            "min_width": null,
            "border": null,
            "align_items": null,
            "bottom": null,
            "_model_module": "@jupyter-widgets/base",
            "top": null,
            "grid_column": null,
            "overflow_y": null,
            "overflow_x": null,
            "grid_auto_flow": null,
            "grid_area": null,
            "grid_template_columns": null,
            "flex": null,
            "_model_name": "LayoutModel",
            "justify_items": null,
            "grid_row": null,
            "max_height": null,
            "align_content": null,
            "visibility": null,
            "align_self": null,
            "height": null,
            "min_height": null,
            "padding": null,
            "grid_auto_rows": null,
            "grid_gap": null,
            "max_width": null,
            "order": null,
            "_view_module_version": "1.2.0",
            "grid_template_areas": null,
            "object_position": null,
            "object_fit": null,
            "grid_auto_columns": null,
            "margin": null,
            "display": null,
            "left": null
          }
        }
      }
    }
  },
  "cells": [
    {
      "cell_type": "code",
      "metadata": {
        "id": "Z1a1YvqQMYwq",
        "colab_type": "code",
        "colab": {}
      },
      "source": [
        "!pip install gdal\n",
        "!pip install rasterio\n",
        "!pip install sentinelsat"
      ],
      "execution_count": 0,
      "outputs": []
    },
    {
      "cell_type": "code",
      "metadata": {
        "id": "RFoYRRBraO35",
        "colab_type": "code",
        "colab": {}
      },
      "source": [
        "from sentinelsat.sentinel import SentinelAPI, read_geojson, geojson_to_wkt\n",
        "import gdal\n",
        "from gdalconst import GA_ReadOnly \n",
        "import matplotlib.pyplot as plt\n",
        "%matplotlib inline \n",
        "import cv2\n",
        "import numpy as np\n",
        "from collections import Counter\n",
        "from tqdm import tqdm_notebook as tqdm\n",
        "IMG_SIZE=1031\n",
        "import rasterio\n",
        "from rasterio.plot import show\n",
        "import subprocess\n",
        "import os\n",
        "import math\n",
        "from sklearn.preprocessing import minmax_scale\n",
        "from google.colab import drive\n",
        "drive.mount('/content/drive')"
      ],
      "execution_count": 0,
      "outputs": []
    },
    {
      "cell_type": "markdown",
      "metadata": {
        "id": "H8AocvjjPhJv",
        "colab_type": "text"
      },
      "source": [
        "# **GHS BUILT-UP**"
      ]
    },
    {
      "cell_type": "markdown",
      "metadata": {
        "id": "mc5cUgbQMsgh",
        "colab_type": "text"
      },
      "source": [
        "**DOWNLOAD CLC REFERENCE DATA**"
      ]
    },
    {
      "cell_type": "code",
      "metadata": {
        "id": "cMkDlUdYMcms",
        "colab_type": "code",
        "outputId": "fde6a02d-2aa7-4978-bdf7-4f15ba3dca92",
        "colab": {
          "base_uri": "https://localhost:8080/",
          "height": 54
        }
      },
      "source": [
        "subprocess.run(['wget', 'https://land.copernicus.eu/land-files/7ac95361f9ac3cecdf37785bc183ff02dd765a16.zip'])\n",
        "subprocess.run(['unzip' ,'7ac95361f9ac3cecdf37785bc183ff02dd765a16.zip'])\n",
        "subprocess.run(['unzip' ,'clc2018_clc2018_v2018_20_raster100m.zip'])\n",
        "subprocess.run(['gdalwarp','-co','COMPRESS=DEFLATE','-t_srs','EPSG:32632','clc2018_clc2018_v2018_20_raster100m/CLC2018_CLC2018_V2018_20.tif','europe.tif'])\n"
      ],
      "execution_count": 3,
      "outputs": [
        {
          "output_type": "execute_result",
          "data": {
            "text/plain": [
              "CompletedProcess(args=['gdalwarp', '-co', 'COMPRESS=DEFLATE', '-t_srs', 'EPSG:32632', 'clc2018_clc2018_v2018_20_raster100m/CLC2018_CLC2018_V2018_20.tif', 'europe.tif'], returncode=0)"
            ]
          },
          "metadata": {
            "tags": []
          },
          "execution_count": 3
        }
      ]
    },
    {
      "cell_type": "markdown",
      "metadata": {
        "id": "3TibEqxG3UVr",
        "colab_type": "text"
      },
      "source": [
        "**STEP 1 : DATA PREPROCESSING**"
      ]
    },
    {
      "cell_type": "code",
      "metadata": {
        "id": "7eprcUOi3EDs",
        "colab_type": "code",
        "colab": {}
      },
      "source": [
        "def download_scene(file_id):\n",
        "  api = SentinelAPI('uname', 'pwd',api_url='https://scihub.copernicus.eu/apihub')\n",
        "  api.download(file_id)\n",
        "\n",
        "def unzip_scene(file_name):\n",
        "  subprocess.call('unzip '+file_name,shell=True)\n",
        "\n",
        "def jp2_to_tif(input_file,output_file):\n",
        "  subprocess.call('gdal_translate ' +input_file+' '+output_file,shell=True)\n",
        "\n",
        "def clip_ref_scene(input_file,output_file):\n",
        "  data=gdal.Open(input_file,GA_ReadOnly) \n",
        "  geoTransform=data.GetGeoTransform() \n",
        "  minx=geoTransform[0] \n",
        "  maxy=geoTransform[3] \n",
        "  maxx = minx + geoTransform[1] * data.RasterXSize \n",
        "  miny = maxy + geoTransform[5] * data.RasterYSize \n",
        "  subprocess.call('gdal_translate -projwin ' + ' '.join([str(x) for x in [minx, maxy, maxx, miny]]) + ' -of GTiff europe.tif ' +output_file, shell=True) \n",
        "\n",
        "def resize_scene(input_file,output_file):\n",
        "  subprocess.call('gdal_translate -co QUALITY=100 -co PROGRESSIVE=ON -outsize '+str(IMG_SIZE)+' '+str(IMG_SIZE)+' -r bilinear '+input_file+' '+output_file,shell=True)\n",
        "\n",
        "\n",
        "\n",
        "def clip_ref_scene_pop(input_file,output_file):\n",
        "  data=gdal.Open(input_file,GA_ReadOnly) \n",
        "  geoTransform=data.GetGeoTransform() \n",
        "  minx=geoTransform[0] \n",
        "  maxy=geoTransform[3] \n",
        "  maxx = minx + geoTransform[1] * data.RasterXSize \n",
        "  miny = maxy + geoTransform[5] * data.RasterYSize \n",
        "  subprocess.call('gdal_translate -projwin ' + ' '.join([str(x) for x in [minx, maxy, maxx, miny]]) + ' -of GTiff world-population.tif ' +output_file, shell=True) "
      ],
      "execution_count": 0,
      "outputs": []
    },
    {
      "cell_type": "code",
      "metadata": {
        "id": "wNm3vAoqGJ3w",
        "colab_type": "code",
        "outputId": "c386e526-35a0-45ce-bc83-6d0c5e62d651",
        "colab": {
          "base_uri": "https://localhost:8080/",
          "height": 151
        }
      },
      "source": [
        "#download_scene('742eb824-df10-4402-866e-0d92e8575aa4')\n",
        "download_scene('cbb628b9-8399-4a24-aaeb-b5d5bdc49be0')\n",
        "unzip_scene('/content/S2A_MSIL1C_20190926T105811_N0208_R094_T30TVK_20190926T130550.zip')\n",
        "jp2_to_tif('/content/S2A_MSIL1C_20190926T105811_N0208_R094_T30TVK_20190926T130550.SAFE/GRANULE/L1C_T30TVK_A022256_20190926T110642/IMG_DATA/T30TVK_20190926T105811_TCI.jp2','test-full-temp.tif')\n",
        "!gdalwarp -co  COMPRESS=DEFLATE -t_srs EPSG:32632 'test-full-temp.tif' 'test-full.tif'\n",
        "clip_ref_scene('test-full.tif','test-y.tif')\n",
        "resize_scene('test-full.tif','test.tif')\n",
        "jp2_to_tif('/content/S2A_MSIL1C_20190926T105811_N0208_R094_T30TVK_20190926T130550.SAFE/GRANULE/L1C_T30TVK_A022256_20190926T110642/IMG_DATA/T30TVK_20190926T105811_B08.jp2','test-b8-full-temp.tif')\n",
        "!gdalwarp -co  COMPRESS=DEFLATE -t_srs EPSG:32632 'test-b8-full-temp.tif' 'test-b8-full.tif'\n",
        "clip_ref_scene('test-b8-full.tif','test-b8-y.tif')\n",
        "resize_scene('test-b8-full.tif','test-b8.tif')\n"
      ],
      "execution_count": 5,
      "outputs": [
        {
          "output_type": "stream",
          "text": [
            "Downloading: 100%|██████████| 900M/900M [00:30<00:00, 29.1MB/s]\n",
            "MD5 checksumming: 100%|██████████| 900M/900M [00:02<00:00, 437MB/s]\n"
          ],
          "name": "stderr"
        },
        {
          "output_type": "stream",
          "text": [
            "Creating output file that is 12371P x 12371L.\n",
            "Processing input file test-full-temp.tif.\n",
            "0...10...20...30...40...50...60...70...80...90...100 - done.\n",
            "Creating output file that is 12371P x 12371L.\n",
            "Processing input file test-b8-full-temp.tif.\n",
            "0...10...20...30...40...50...60...70...80...90...100 - done.\n"
          ],
          "name": "stdout"
        }
      ]
    },
    {
      "cell_type": "code",
      "metadata": {
        "id": "0oyqqoewN1Pq",
        "colab_type": "code",
        "colab": {}
      },
      "source": [
        ""
      ],
      "execution_count": 0,
      "outputs": []
    },
    {
      "cell_type": "markdown",
      "metadata": {
        "colab_type": "text",
        "id": "jPMzARDeN1pE"
      },
      "source": [
        "**DOWNLOAD GPW DATA**"
      ]
    },
    {
      "cell_type": "code",
      "metadata": {
        "colab_type": "code",
        "id": "t_oZDcf9N1pI",
        "colab": {
          "base_uri": "https://localhost:8080/",
          "height": 151
        },
        "outputId": "94a4ab6b-e521-4b05-fb43-dab72c64e29f"
      },
      "source": [
        "!unzip '/content/drive/My Drive/Colab_Notebooks/gpw-v4-population-count-rev11_2015_30_sec_tif.zip'\n",
        "!gdalwarp -co  COMPRESS=DEFLATE -t_srs EPSG:32632 '/content/gpw_v4_population_count_rev11_2015_30_sec.tif' 'world-population.tif'\n",
        "clip_ref_scene_pop('test-full.tif','test-pop-full.tif')\n",
        "resize_scene('test-pop-full.tif','test-pop.tif')\n"
      ],
      "execution_count": 6,
      "outputs": [
        {
          "output_type": "stream",
          "text": [
            "Archive:  /content/drive/My Drive/Colab_Notebooks/gpw-v4-population-count-rev11_2015_30_sec_tif.zip\n",
            "  inflating: gpw_v4_population_count_rev11_2015_30_sec.tif  \n",
            "  inflating: gpw_v4_population_count_rev11_2015_30_sec_tif_readme.txt  \n",
            "Creating output file that is 31049P x 36997L.\n",
            "Processing input file /content/gpw_v4_population_count_rev11_2015_30_sec.tif.\n",
            "Using internal nodata values (e.g. -3.40282e+38) for image /content/gpw_v4_population_count_rev11_2015_30_sec.tif.\n",
            "Copying nodata values from source /content/gpw_v4_population_count_rev11_2015_30_sec.tif to destination world-population.tif.\n",
            "0...10...20...30...40...50...60...70...80...90...100 - done.\n"
          ],
          "name": "stdout"
        }
      ]
    },
    {
      "cell_type": "code",
      "metadata": {
        "id": "ltZFj9WoNM6B",
        "colab_type": "code",
        "outputId": "8e3e2198-04f7-4b1d-beee-2b2dca102e12",
        "colab": {
          "base_uri": "https://localhost:8080/",
          "height": 50
        }
      },
      "source": [
        "download_scene('4f07815d-5709-4b0b-8fdd-7e12c78e6546')\n",
        "unzip_scene('S2A_MSIL1C_20190629T103031_N0207_R108_T32UMV_20190629T124358.zip')\n",
        "jp2_to_tif('/content/S2A_MSIL1C_20190629T103031_N0207_R108_T32UMV_20190629T124358.SAFE/GRANULE/L1C_T32UMV_A020983_20190629T103537/IMG_DATA/T32UMV_20190629T103031_TCI.jp2','s1-full.tif')\n",
        "clip_ref_scene('s1-full.tif','s1-y.tif')\n",
        "resize_scene('s1-full.tif','s1.tif')\n",
        "jp2_to_tif('/content/S2A_MSIL1C_20190629T103031_N0207_R108_T32UMV_20190629T124358.SAFE/GRANULE/L1C_T32UMV_A020983_20190629T103537/IMG_DATA/T32UMV_20190629T103031_B08.jp2','s1-b8-full.tif')\n",
        "clip_ref_scene('s1-b8-full.tif','s1-b8-y.tif')\n",
        "resize_scene('s1-b8-full.tif','s1-b8.tif')"
      ],
      "execution_count": 7,
      "outputs": [
        {
          "output_type": "stream",
          "text": [
            "Downloading: 100%|██████████| 854M/854M [00:28<00:00, 30.3MB/s]\n",
            "MD5 checksumming: 100%|██████████| 854M/854M [00:01<00:00, 431MB/s]\n"
          ],
          "name": "stderr"
        }
      ]
    },
    {
      "cell_type": "code",
      "metadata": {
        "id": "_aXVnyDdPP5_",
        "colab_type": "code",
        "outputId": "40c5dfc7-1cd1-4093-dfdc-89b8a58d0810",
        "colab": {
          "base_uri": "https://localhost:8080/",
          "height": 50
        }
      },
      "source": [
        "download_scene('03cf3314-1b05-46f1-af1b-cee2652edf2b')\n",
        "unzip_scene('S2B_MSIL1C_20190724T103029_N0208_R108_T32UMV_20190724T122822.zip')\n",
        "jp2_to_tif('/content/S2B_MSIL1C_20190724T103029_N0208_R108_T32UMV_20190724T122822.SAFE/GRANULE/L1C_T32UMV_A012432_20190724T103030/IMG_DATA/T32UMV_20190724T103029_TCI.jp2','s2-full.tif')\n",
        "clip_ref_scene('s2-full.tif','s2-y.tif')\n",
        "resize_scene('s2-full.tif','s2.tif')\n",
        "jp2_to_tif('/content/S2B_MSIL1C_20190724T103029_N0208_R108_T32UMV_20190724T122822.SAFE/GRANULE/L1C_T32UMV_A012432_20190724T103030/IMG_DATA/T32UMV_20190724T103029_B08.jp2','s2-b8-full.tif')\n",
        "clip_ref_scene('s2-b8-full.tif','s2-b8-y.tif')\n",
        "resize_scene('s2-b8-full.tif','s2-b8.tif')"
      ],
      "execution_count": 8,
      "outputs": [
        {
          "output_type": "stream",
          "text": [
            "Downloading: 100%|██████████| 840M/840M [00:27<00:00, 30.1MB/s]\n",
            "MD5 checksumming: 100%|██████████| 840M/840M [00:01<00:00, 437MB/s]\n"
          ],
          "name": "stderr"
        }
      ]
    },
    {
      "cell_type": "code",
      "metadata": {
        "id": "theSLX7TCzWm",
        "colab_type": "code",
        "outputId": "8fb73209-d801-4f26-fb45-f590990a5dd4",
        "colab": {
          "base_uri": "https://localhost:8080/",
          "height": 151
        }
      },
      "source": [
        "download_scene('67a87302-2ff4-4c81-9e5e-792367578f6d')\n",
        "unzip_scene('S2B_MSIL1C_20190921T105739_N0208_R094_T30UYC_20190921T131721.zip')\n",
        "jp2_to_tif('/content/S2B_MSIL1C_20190921T105739_N0208_R094_T30UYC_20190921T131721.SAFE/GRANULE/L1C_T30UYC_A013276_20190921T110218/IMG_DATA/T30UYC_20190921T105739_TCI.jp2','s3-full-temp.tif')\n",
        "!gdalwarp -co  COMPRESS=DEFLATE -t_srs EPSG:32632 's3-full-temp.tif' 's3-full.tif'\n",
        "clip_ref_scene('s3-full.tif','s3-y.tif')\n",
        "resize_scene('s3-full.tif','s3.tif')\n",
        "jp2_to_tif('/content/S2B_MSIL1C_20190921T105739_N0208_R094_T30UYC_20190921T131721.SAFE/GRANULE/L1C_T30UYC_A013276_20190921T110218/IMG_DATA/T30UYC_20190921T105739_B08.jp2','s3-b8-full-temp.tif')\n",
        "!gdalwarp -co  COMPRESS=DEFLATE -t_srs EPSG:32632 's3-b8-full-temp.tif' 's3-b8-full.tif'\n",
        "clip_ref_scene('s3-b8-full.tif','s3-b8-y.tif')\n",
        "resize_scene('s3-b8-full.tif','s3-b8.tif')"
      ],
      "execution_count": 9,
      "outputs": [
        {
          "output_type": "stream",
          "text": [
            "Downloading: 100%|██████████| 818M/818M [00:27<00:00, 30.0MB/s]\n",
            "MD5 checksumming: 100%|██████████| 818M/818M [00:01<00:00, 437MB/s]\n"
          ],
          "name": "stderr"
        },
        {
          "output_type": "stream",
          "text": [
            "Creating output file that is 12634P x 12634L.\n",
            "Processing input file s3-full-temp.tif.\n",
            "0...10...20...30...40...50...60...70...80...90...100 - done.\n",
            "Creating output file that is 12634P x 12634L.\n",
            "Processing input file s3-b8-full-temp.tif.\n",
            "0...10...20...30...40...50...60...70...80...90...100 - done.\n"
          ],
          "name": "stdout"
        }
      ]
    },
    {
      "cell_type": "code",
      "metadata": {
        "id": "ZQxGlIB8I14v",
        "colab_type": "code",
        "outputId": "d9d90789-077c-4a8c-a79e-d4f2b2c21359",
        "colab": {
          "base_uri": "https://localhost:8080/",
          "height": 151
        }
      },
      "source": [
        "download_scene('c04d2ba0-4880-4dcf-a733-879231478aa3')\n",
        "unzip_scene('S2B_MSIL1C_20190724T103029_N0208_R108_T31TGN_20190724T122822.zip')\n",
        "jp2_to_tif('/content/S2B_MSIL1C_20190724T103029_N0208_R108_T31TGN_20190724T122822.SAFE/GRANULE/L1C_T31TGN_A012432_20190724T103030/IMG_DATA/T31TGN_20190724T103029_TCI.jp2','s4-full-temp.tif')\n",
        "!gdalwarp -co  COMPRESS=DEFLATE -t_srs EPSG:32632 's4-full-temp.tif' 's4-full.tif'\n",
        "clip_ref_scene('s4-full.tif','s4-y.tif')\n",
        "resize_scene('s4-full.tif','s4.tif')\n",
        "jp2_to_tif('/content/S2B_MSIL1C_20190724T103029_N0208_R108_T31TGN_20190724T122822.SAFE/GRANULE/L1C_T31TGN_A012432_20190724T103030/IMG_DATA/T31TGN_20190724T103029_B08.jp2','s4-b8-full-temp.tif')\n",
        "!gdalwarp -co  COMPRESS=DEFLATE -t_srs EPSG:32632 's4-b8-full-temp.tif' 's4-b8-full.tif'\n",
        "clip_ref_scene('s4-b8-full.tif','s4-b8-y.tif')\n",
        "resize_scene('s4-b8-full.tif','s4-b8.tif')"
      ],
      "execution_count": 10,
      "outputs": [
        {
          "output_type": "stream",
          "text": [
            "Downloading: 100%|██████████| 824M/824M [00:27<00:00, 30.0MB/s]\n",
            "MD5 checksumming: 100%|██████████| 824M/824M [00:01<00:00, 435MB/s]\n"
          ],
          "name": "stderr"
        },
        {
          "output_type": "stream",
          "text": [
            "Creating output file that is 11792P x 11792L.\n",
            "Processing input file s4-full-temp.tif.\n",
            "0...10...20...30...40...50...60...70...80...90...100 - done.\n",
            "Creating output file that is 11792P x 11792L.\n",
            "Processing input file s4-b8-full-temp.tif.\n",
            "0...10...20...30...40...50...60...70...80...90...100 - done.\n"
          ],
          "name": "stdout"
        }
      ]
    },
    {
      "cell_type": "code",
      "metadata": {
        "id": "eIxGrcIFQYar",
        "colab_type": "code",
        "outputId": "58d42b9e-ae97-42e0-e92b-53ecd62df9ac",
        "colab": {
          "base_uri": "https://localhost:8080/",
          "height": 50
        }
      },
      "source": [
        "download_scene('4557d038-7f7e-4356-b410-5c6e7d741e7f')\n",
        "unzip_scene('/content/S2A_MSIL1C_20190904T102021_N0208_R065_T32TNT_20190904T123501.zip')\n",
        "jp2_to_tif('/content/S2A_MSIL1C_20190904T102021_N0208_R065_T32TNT_20190904T123501.SAFE/GRANULE/L1C_T32TNT_A021941_20190904T102045/IMG_DATA/T32TNT_20190904T102021_TCI.jp2','s5-full.tif')\n",
        "clip_ref_scene('s5-full.tif','s5-y.tif')\n",
        "resize_scene('s5-full.tif','s5.tif')\n",
        "jp2_to_tif('/content/S2A_MSIL1C_20190904T102021_N0208_R065_T32TNT_20190904T123501.SAFE/GRANULE/L1C_T32TNT_A021941_20190904T102045/IMG_DATA/T32TNT_20190904T102021_B08.jp2','s5-b8-full.tif')\n",
        "clip_ref_scene('s5-b8-full.tif','s5-b8-y.tif')\n",
        "resize_scene('s5-b8-full.tif','s5-b8.tif')"
      ],
      "execution_count": 11,
      "outputs": [
        {
          "output_type": "stream",
          "text": [
            "Downloading: 100%|██████████| 847M/847M [00:28<00:00, 30.0MB/s]\n",
            "MD5 checksumming: 100%|██████████| 847M/847M [00:01<00:00, 431MB/s]\n"
          ],
          "name": "stderr"
        }
      ]
    },
    {
      "cell_type": "code",
      "metadata": {
        "id": "Nk8gd31NQYeh",
        "colab_type": "code",
        "outputId": "ffa98f51-64cf-45e8-b325-ae7b54f9c3ee",
        "colab": {
          "base_uri": "https://localhost:8080/",
          "height": 151
        }
      },
      "source": [
        "download_scene('336a6ef0-784a-4a90-8333-02ed7ae93b85')\n",
        "unzip_scene('/content/S2B_MSIL1C_20190913T100029_N0208_R122_T33TVJ_20190913T134222.zip')\n",
        "jp2_to_tif('/content/S2B_MSIL1C_20190913T100029_N0208_R122_T33TVJ_20190913T134222.SAFE/GRANULE/L1C_T33TVJ_A013161_20190913T100548/IMG_DATA/T33TVJ_20190913T100029_TCI.jp2','s6-full-temp.tif')\n",
        "!gdalwarp -co  COMPRESS=DEFLATE -t_srs EPSG:32632 's6-full-temp.tif' 's6-full.tif'\n",
        "clip_ref_scene('s6-full.tif','s6-y.tif')\n",
        "resize_scene('s6-full.tif','s6.tif')\n",
        "jp2_to_tif('/content/S2B_MSIL1C_20190913T100029_N0208_R122_T33TVJ_20190913T134222.SAFE/GRANULE/L1C_T33TVJ_A013161_20190913T100548/IMG_DATA/T33TVJ_20190913T100029_B08.jp2','s6-b8-full-temp.tif')\n",
        "!gdalwarp -co  COMPRESS=DEFLATE -t_srs EPSG:32632 's6-b8-full-temp.tif' 's6-b8-full.tif'\n",
        "clip_ref_scene('s6-b8-full.tif','s6-b8-y.tif')\n",
        "resize_scene('s6-b8-full.tif','s6-b8.tif')"
      ],
      "execution_count": 12,
      "outputs": [
        {
          "output_type": "stream",
          "text": [
            "Downloading: 100%|██████████| 555M/555M [00:18<00:00, 29.5MB/s]\n",
            "MD5 checksumming: 100%|██████████| 555M/555M [00:01<00:00, 435MB/s]\n"
          ],
          "name": "stderr"
        },
        {
          "output_type": "stream",
          "text": [
            "Creating output file that is 11747P x 11747L.\n",
            "Processing input file s6-full-temp.tif.\n",
            "0...10...20...30...40...50...60...70...80...90...100 - done.\n",
            "Creating output file that is 11747P x 11747L.\n",
            "Processing input file s6-b8-full-temp.tif.\n",
            "0...10...20...30...40...50...60...70...80...90...100 - done.\n"
          ],
          "name": "stdout"
        }
      ]
    },
    {
      "cell_type": "markdown",
      "metadata": {
        "id": "ixJUkrMgcU8L",
        "colab_type": "text"
      },
      "source": [
        "**VISUALIZE TEST SET - MADRID REGION - SPAIN**"
      ]
    },
    {
      "cell_type": "code",
      "metadata": {
        "id": "yZyfQIfccjHl",
        "colab_type": "code",
        "outputId": "16fa38aa-650d-4b37-904c-25e957d098ac",
        "colab": {
          "base_uri": "https://localhost:8080/",
          "height": 286
        }
      },
      "source": [
        "dataset = rasterio.open('test.tif')\n",
        "show(dataset.read([1,2,3]))"
      ],
      "execution_count": 176,
      "outputs": [
        {
          "output_type": "display_data",
          "data": {
            "image/png": "[encoded data removed]",
            "text/plain": [
              "<Figure size 432x288 with 1 Axes>"
            ]
          },
          "metadata": {
            "tags": []
          }
        },
        {
          "output_type": "execute_result",
          "data": {
            "text/plain": [
              "<matplotlib.axes._subplots.AxesSubplot at 0x7fad3850e710>"
            ]
          },
          "metadata": {
            "tags": []
          },
          "execution_count": 176
        }
      ]
    },
    {
      "cell_type": "code",
      "metadata": {
        "id": "i__Huo409P2W",
        "colab_type": "code",
        "colab": {}
      },
      "source": [
        "tif1=gdal.Open('s1.tif')\n",
        "s1r = tif1.GetRasterBand(1).ReadAsArray()\n",
        "s1g = tif1.GetRasterBand(2).ReadAsArray()\n",
        "s1b = tif1.GetRasterBand(3).ReadAsArray()\n",
        "tif1=gdal.Open('s1-b8.tif')\n",
        "s1b8=tif1.GetRasterBand(1).ReadAsArray()\n",
        "\n",
        "\n",
        "tif1=gdal.Open('s2.tif')\n",
        "s2r = tif1.GetRasterBand(1).ReadAsArray()\n",
        "s2g = tif1.GetRasterBand(2).ReadAsArray()\n",
        "s2b = tif1.GetRasterBand(3).ReadAsArray()\n",
        "tif1=gdal.Open('s2-b8.tif')\n",
        "s2b8=tif1.GetRasterBand(1).ReadAsArray()\n",
        "\n",
        "\n",
        "tif1=gdal.Open('s3.tif')\n",
        "s3r = tif1.GetRasterBand(1).ReadAsArray()\n",
        "s3g = tif1.GetRasterBand(2).ReadAsArray()\n",
        "s3b = tif1.GetRasterBand(3).ReadAsArray()\n",
        "tif1=gdal.Open('s3-b8.tif')\n",
        "s3b8=tif1.GetRasterBand(1).ReadAsArray()\n",
        "\n",
        "\n",
        "tif1=gdal.Open('s4.tif')\n",
        "s4r = tif1.GetRasterBand(1).ReadAsArray()\n",
        "s4g = tif1.GetRasterBand(2).ReadAsArray()\n",
        "s4b = tif1.GetRasterBand(3).ReadAsArray()\n",
        "tif1=gdal.Open('s4-b8.tif')\n",
        "s4b8=tif1.GetRasterBand(1).ReadAsArray()\n",
        "\n",
        "\n",
        "tif1=gdal.Open('s5.tif')\n",
        "s5r = tif1.GetRasterBand(1).ReadAsArray()\n",
        "s5g = tif1.GetRasterBand(2).ReadAsArray()\n",
        "s5b = tif1.GetRasterBand(3).ReadAsArray()\n",
        "tif1=gdal.Open('s5-b8.tif')\n",
        "s5b8=tif1.GetRasterBand(1).ReadAsArray()\n",
        "\n",
        "\n",
        "tif1=gdal.Open('s6.tif')\n",
        "s6r = tif1.GetRasterBand(1).ReadAsArray()\n",
        "s6g = tif1.GetRasterBand(2).ReadAsArray()\n",
        "s6b = tif1.GetRasterBand(3).ReadAsArray()\n",
        "tif1=gdal.Open('s6-b8.tif')\n",
        "s6b8=tif1.GetRasterBand(1).ReadAsArray()\n"
      ],
      "execution_count": 0,
      "outputs": []
    },
    {
      "cell_type": "code",
      "metadata": {
        "id": "UeXgX8gGJ1zr",
        "colab_type": "code",
        "colab": {}
      },
      "source": [
        "tif2=gdal.Open('test-y.tif')\n",
        "Y_raster_test= tif2.GetRasterBand(1).ReadAsArray()\n",
        "Y_raster_test[Y_raster_test < 100] = 999\n",
        "Y_raster_test[(Y_raster_test > 100)&(Y_raster_test <= 150)] = 0\n",
        "Y_raster_test[Y_raster_test > 150] = 255"
      ],
      "execution_count": 0,
      "outputs": []
    },
    {
      "cell_type": "code",
      "metadata": {
        "id": "DhVGgAwsDE1W",
        "colab_type": "code",
        "outputId": "eccb9b7b-8f69-481c-d791-8af22d58cb53",
        "colab": {
          "base_uri": "https://localhost:8080/",
          "height": 34
        }
      },
      "source": [
        "tif2=gdal.Open('s1-y.tif')\n",
        "Y_raster_s1 = tif2.GetRasterBand(1).ReadAsArray()\n",
        "Y_raster_s1[Y_raster_s1 < 100] = 999\n",
        "Y_raster_s1[(Y_raster_s1 > 100)&(Y_raster_s1 <= 150)] = 0\n",
        "Y_raster_s1[Y_raster_s1 > 150] = 255\n",
        "Y_list=Y_raster_s1.flatten().tolist()\n",
        "print(len(Y_list))"
      ],
      "execution_count": 179,
      "outputs": [
        {
          "output_type": "stream",
          "text": [
            "1062961\n"
          ],
          "name": "stdout"
        }
      ]
    },
    {
      "cell_type": "code",
      "metadata": {
        "id": "Cm0pI9wdDbU2",
        "colab_type": "code",
        "outputId": "995b0df5-cb46-4fbe-9f75-277f042498c5",
        "colab": {
          "base_uri": "https://localhost:8080/",
          "height": 50
        }
      },
      "source": [
        "tif2=gdal.Open('s2-y.tif')\n",
        "Y_raster_s2 = tif2.GetRasterBand(1).ReadAsArray()\n",
        "print(np.unique(Y_raster_s2))\n",
        "Y_raster_s2[Y_raster_s2 < 100] = 999\n",
        "Y_raster_s2[(Y_raster_s2 > 100)&(Y_raster_s2 <= 150)] = 0\n",
        "Y_raster_s2[Y_raster_s2 > 150] = 255\n",
        "\n",
        "Y_list=Y_list+(Y_raster_s2.flatten().tolist())"
      ],
      "execution_count": 180,
      "outputs": [
        {
          "output_type": "stream",
          "text": [
            "[111 112 121 122 123 124 131 132 133 141 142 211 221 222 231 242 243 311\n",
            " 312 313 321 322 324 411 412 511 512]\n"
          ],
          "name": "stdout"
        }
      ]
    },
    {
      "cell_type": "code",
      "metadata": {
        "id": "4P6PAl0xDdJn",
        "colab_type": "code",
        "outputId": "be7b374f-7a0e-40d9-c583-884ff533f51b",
        "colab": {
          "base_uri": "https://localhost:8080/",
          "height": 84
        }
      },
      "source": [
        "tif2=gdal.Open('s3-y.tif')\n",
        "Y_raster_s3 = tif2.GetRasterBand(1).ReadAsArray()\n",
        "print(np.unique(Y_raster_s3))\n",
        "Y_raster_s3[Y_raster_s3 < 100] = 999\n",
        "Y_raster_s3[(Y_raster_s3 > 100)&(Y_raster_s3 <= 150)] = 0\n",
        "Y_raster_s3[Y_raster_s3 > 150] = 255\n",
        "\n",
        "Y_list=Y_list+(Y_raster_s3.flatten().tolist())"
      ],
      "execution_count": 181,
      "outputs": [
        {
          "output_type": "stream",
          "text": [
            "[-32768    111    112    121    122    123    124    131    132    133\n",
            "    141    142    211    222    231    242    243    311    312    313\n",
            "    321    322    324    331    411    421    423    511    512    522\n",
            "    523]\n"
          ],
          "name": "stdout"
        }
      ]
    },
    {
      "cell_type": "code",
      "metadata": {
        "id": "fUYhZKvLR6UL",
        "colab_type": "code",
        "outputId": "ac94e7ac-4878-4f5c-9b85-33a7b756a4f4",
        "colab": {
          "base_uri": "https://localhost:8080/",
          "height": 67
        }
      },
      "source": [
        "tif2=gdal.Open('s4-y.tif')\n",
        "Y_raster_s4 = tif2.GetRasterBand(1).ReadAsArray()\n",
        "print(np.unique(Y_raster_s4))\n",
        "Y_raster_s4[Y_raster_s4 < 100] = 999\n",
        "Y_raster_s4[(Y_raster_s4 > 100)&(Y_raster_s4 <= 150)] = 0\n",
        "Y_raster_s4[Y_raster_s4 > 150] = 255\n",
        " \n",
        "Y_list=Y_list+(Y_raster_s4.flatten().tolist())\n",
        "\n",
        "print(len(Y_list))"
      ],
      "execution_count": 182,
      "outputs": [
        {
          "output_type": "stream",
          "text": [
            "[111 112 121 122 124 131 132 133 141 142 211 221 222 231 242 243 311 312\n",
            " 313 321 322 324 411 412 511 512]\n",
            "4769852\n"
          ],
          "name": "stdout"
        }
      ]
    },
    {
      "cell_type": "code",
      "metadata": {
        "id": "zecGHKZnl6lE",
        "colab_type": "code",
        "outputId": "81528d24-c5ac-4802-cbce-8da6948263cc",
        "colab": {
          "base_uri": "https://localhost:8080/",
          "height": 50
        }
      },
      "source": [
        "tif2=gdal.Open('s5-y.tif')\n",
        "Y_raster_s5 = tif2.GetRasterBand(1).ReadAsArray()\n",
        "print(np.unique(Y_raster_s5))\n",
        "Y_raster_s5[Y_raster_s5 < 100] = 999\n",
        "Y_raster_s5[(Y_raster_s5 > 100)&(Y_raster_s5 <= 150)] = 0\n",
        "Y_raster_s5[Y_raster_s5 > 150] = 255\n",
        " \n",
        "Y_list=Y_list+(Y_raster_s5.flatten().tolist())"
      ],
      "execution_count": 183,
      "outputs": [
        {
          "output_type": "stream",
          "text": [
            "[111 112 121 122 124 131 132 133 141 142 211 221 222 231 242 243 311 312\n",
            " 313 321 322 324 331 332 333 335 411 412 511 512]\n"
          ],
          "name": "stdout"
        }
      ]
    },
    {
      "cell_type": "code",
      "metadata": {
        "id": "8gj9Q5FNryY-",
        "colab_type": "code",
        "outputId": "21176462-1a44-4401-e135-700a3004a9ef",
        "colab": {
          "base_uri": "https://localhost:8080/",
          "height": 67
        }
      },
      "source": [
        "tif2=gdal.Open('s6-y.tif')\n",
        "Y_raster_s6 = tif2.GetRasterBand(1).ReadAsArray()\n",
        "print(np.unique(Y_raster_s6))\n",
        "Y_raster_s6[Y_raster_s6 < 100] = 999\n",
        "Y_raster_s6[(Y_raster_s6 > 100)&(Y_raster_s6 <= 150)] = 0\n",
        "Y_raster_s6[Y_raster_s6 > 150] = 255\n",
        " \n",
        "Y_list=Y_list+(Y_raster_s6.flatten().tolist())"
      ],
      "execution_count": 184,
      "outputs": [
        {
          "output_type": "stream",
          "text": [
            "[-32768    112    121    122    123    142    211    221    223    231\n",
            "    242    243    311    312    313    321    323    324    331    333\n",
            "    421    422    512    523]\n"
          ],
          "name": "stdout"
        }
      ]
    },
    {
      "cell_type": "code",
      "metadata": {
        "id": "Fje5-W0HDzrv",
        "colab_type": "code",
        "outputId": "28489d65-eee3-4df9-f49d-ae3cca379257",
        "colab": {
          "base_uri": "https://localhost:8080/",
          "height": 34
        }
      },
      "source": [
        "print(np.unique(Y_list))"
      ],
      "execution_count": 185,
      "outputs": [
        {
          "output_type": "stream",
          "text": [
            "[  0 255]\n"
          ],
          "name": "stdout"
        }
      ]
    },
    {
      "cell_type": "code",
      "metadata": {
        "id": "eQz8Q81IEHjN",
        "colab_type": "code",
        "colab": {}
      },
      "source": [
        "#CONVERT RGB BANDS AS INPUT FEATURE SEQUENCES\n",
        "#QUANTIZATION\n",
        "\n",
        "rband_list=s1r.flatten().tolist()\n",
        "rband_list=rband_list+(s2r.flatten().tolist())\n",
        "rband_list=rband_list+(s3r.flatten().tolist())\n",
        "rband_list=rband_list+(s4r.flatten().tolist())\n",
        "rband_list=rband_list+(s5r.flatten().tolist())\n",
        "rband_list=rband_list+(s6r.flatten().tolist())\n",
        "\n",
        "\n",
        "\n",
        "gband_list=s1g.flatten().tolist()\n",
        "gband_list=gband_list+(s2g.flatten().tolist())\n",
        "gband_list=gband_list+(s3g.flatten().tolist())\n",
        "gband_list=gband_list+(s4g.flatten().tolist())\n",
        "gband_list=gband_list+(s5g.flatten().tolist())\n",
        "gband_list=gband_list+(s6g.flatten().tolist())\n",
        "\n",
        "\n",
        "\n",
        "\n",
        "bband_list=s1b.flatten().tolist()\n",
        "bband_list=bband_list+(s2b.flatten().tolist())\n",
        "bband_list=bband_list+(s3b.flatten().tolist())\n",
        "bband_list=bband_list+(s4b.flatten().tolist())\n",
        "bband_list=bband_list+(s5b.flatten().tolist())\n",
        "bband_list=bband_list+(s6b.flatten().tolist())\n",
        "\n",
        "\n",
        "\n",
        "band8_list=s1b8.flatten().tolist()\n",
        "band8_list=band8_list+(s2b8.flatten().tolist())\n",
        "band8_list=band8_list+(s3b8.flatten().tolist())\n",
        "band8_list=band8_list+(s4b8.flatten().tolist())\n",
        "band8_list=band8_list+(s5b8.flatten().tolist())\n",
        "band8_list=band8_list+(s6b8.flatten().tolist())\n",
        "\n",
        "\n",
        "q1=max(rband_list)/16\n",
        "q2=max(gband_list)/16\n",
        "q3=max(bband_list)/16\n",
        "q4=max(band8_list)/18\n",
        "\n",
        "\n",
        "rband_list = [round(math.floor(x+0.5)/q1) for x in rband_list]\n",
        "gband_list = [round(math.floor(x+0.5)/q2) for x in gband_list]\n",
        "bband_list = [round(math.floor(x+0.5)/q3) for x in bband_list]\n",
        "band8_list = [round(math.floor(x+0.5)/q4) for x in band8_list]\n",
        "\n"
      ],
      "execution_count": 0,
      "outputs": []
    },
    {
      "cell_type": "code",
      "metadata": {
        "id": "iyaKFSYjTXGE",
        "colab_type": "code",
        "outputId": "43e90c23-7130-4440-9060-9ef6c9eaa300",
        "colab": {
          "base_uri": "https://localhost:8080/",
          "height": 34
        }
      },
      "source": [
        "print(len(rband_list))"
      ],
      "execution_count": 187,
      "outputs": [
        {
          "output_type": "stream",
          "text": [
            "6377766\n"
          ],
          "name": "stdout"
        }
      ]
    },
    {
      "cell_type": "markdown",
      "metadata": {
        "id": "G6x9yhlajJ8M",
        "colab_type": "text"
      },
      "source": [
        "***SEQUENCE LIST AND ANTECEDENT-CONSEQUENT LIST(X->Y)***"
      ]
    },
    {
      "cell_type": "code",
      "metadata": {
        "id": "ZsgmJ8Kew52V",
        "colab_type": "code",
        "colab": {}
      },
      "source": [
        "sequences_list=[]\n",
        "ante_consq_list=[]"
      ],
      "execution_count": 0,
      "outputs": []
    },
    {
      "cell_type": "code",
      "metadata": {
        "id": "mgDj_gvvthgO",
        "colab_type": "code",
        "outputId": "25073d3f-1219-488b-d261-2b07cbaf0662",
        "colab": {
          "base_uri": "https://localhost:8080/",
          "height": 82,
          "referenced_widgets": [
            "1f627b2d91134d08a280f52c5f4e1342",
            "d8045827f2404b0ba2090ceb60f6abe7",
            "92ecf0f496f249ebad2e0cfaa8c1dec2",
            "5bee379c395d4c8ca97bf9b104fa69be",
            "202e14ca4ba24338bb8a27e4fe269776",
            "c36f9f9586eb4640a54057fce9794603",
            "8420dc538411429a94133a8b259951e8",
            "94c572a04dc54b0197ef1bd12bfb22de"
          ]
        }
      },
      "source": [
        "for i in tqdm(range(len(rband_list))):\n",
        "  sequences_list.append((rband_list[i],gband_list[i],bband_list[i],band8_list[i]))\n",
        "  ante_consq_list.append((rband_list[i],gband_list[i],bband_list[i],band8_list[i],Y_list[i]))\n",
        "\n",
        "print('BUILDING DATA DONE')\n"
      ],
      "execution_count": 189,
      "outputs": [
        {
          "output_type": "display_data",
          "data": {
            "application/vnd.jupyter.widget-view+json": {
              "model_id": "1f627b2d91134d08a280f52c5f4e1342",
              "version_minor": 0,
              "version_major": 2
            },
            "text/plain": [
              "HBox(children=(IntProgress(value=0, max=6377766), HTML(value='')))"
            ]
          },
          "metadata": {
            "tags": []
          }
        },
        {
          "output_type": "stream",
          "text": [
            "\n",
            "BUILDING DATA DONE\n"
          ],
          "name": "stdout"
        }
      ]
    },
    {
      "cell_type": "markdown",
      "metadata": {
        "id": "iCVRyjESjwwL",
        "colab_type": "text"
      },
      "source": [
        "***RANDOM EXAMPLE - DATA STRUCTURE (R, G, B, B8, CLASS_LABEL)***"
      ]
    },
    {
      "cell_type": "code",
      "metadata": {
        "id": "HrJF9PIIthju",
        "colab_type": "code",
        "outputId": "788ed1ce-f549-489a-ebbc-71ebb361fdd1",
        "colab": {
          "base_uri": "https://localhost:8080/",
          "height": 34
        }
      },
      "source": [
        "print ((ante_consq_list[56]))"
      ],
      "execution_count": 190,
      "outputs": [
        {
          "output_type": "stream",
          "text": [
            "(3, 4, 4, 4, 255)\n"
          ],
          "name": "stdout"
        }
      ]
    },
    {
      "cell_type": "markdown",
      "metadata": {
        "id": "O843PnPQj9p_",
        "colab_type": "text"
      },
      "source": [
        "***FIND UNIQUE SEQUENCES(X-cap) AND COUNT***"
      ]
    },
    {
      "cell_type": "code",
      "metadata": {
        "id": "W32qBvF1thnU",
        "colab_type": "code",
        "outputId": "86853cc7-5a46-4141-dd5b-1609054cc6eb",
        "colab": {
          "base_uri": "https://localhost:8080/",
          "height": 50
        }
      },
      "source": [
        "print('UNIQUE SEQUENCES COUNT: ')\n",
        "print(len(list(set(sequences_list))))\n",
        "unique_X_sequences=list(set(sequences_list))"
      ],
      "execution_count": 191,
      "outputs": [
        {
          "output_type": "stream",
          "text": [
            "UNIQUE SEQUENCES COUNT: \n",
            "909\n"
          ],
          "name": "stdout"
        }
      ]
    },
    {
      "cell_type": "markdown",
      "metadata": {
        "id": "6u71bdBBsWU9",
        "colab_type": "text"
      },
      "source": [
        "\n",
        "\n",
        "---\n",
        "\n"
      ]
    },
    {
      "cell_type": "markdown",
      "metadata": {
        "id": "9tfHuR7ckert",
        "colab_type": "text"
      },
      "source": [
        "***STEP 2:***\n",
        "\n",
        "*   ***ASSOCIATION ANALYSIS***\n",
        "*   ***EVIDENCE BASED NORMALIZED DIFFERENTIAL INDEX(ENDI) MEASURE***\n",
        "\n",
        "\n"
      ]
    },
    {
      "cell_type": "markdown",
      "metadata": {
        "id": "CDwyOG-sluFT",
        "colab_type": "text"
      },
      "source": [
        "***HELPER FUNCTIONS:***"
      ]
    },
    {
      "cell_type": "code",
      "metadata": {
        "id": "PBmN7nsvxTGb",
        "colab_type": "code",
        "colab": {}
      },
      "source": [
        "#ONE VARIATION OF ENDI INTERESTINGNESS MEASURE\n",
        "def calculate_ENDI(positive,negative):\n",
        "  if (positive==0) and (negative==0) : return 0\n",
        "  return (positive-negative)/(positive+negative)"
      ],
      "execution_count": 0,
      "outputs": []
    },
    {
      "cell_type": "code",
      "metadata": {
        "id": "Q5DdKX6Z51Jm",
        "colab_type": "code",
        "colab": {}
      },
      "source": [
        "#POSITIVE EVIDENCES\n",
        "def positive_count(sequence,class_name):\n",
        "  item = list(sequence)\n",
        "  item.append(class_name)\n",
        "  c=counter[tuple(item)]\n",
        "  return c\n",
        "\n",
        "\n",
        "#NEGATIVE EVIDENCES\n",
        "def negative_count(sequence, class_list):\n",
        "  negative_classcount=0\n",
        "  for c in  class_list:\n",
        "    item = list(sequence)\n",
        "    item.append(c)\n",
        "    negative_classcount=negative_classcount+counter[tuple(item)]\n",
        "\n",
        "  return negative_classcount\n",
        "\n"
      ],
      "execution_count": 0,
      "outputs": []
    },
    {
      "cell_type": "code",
      "metadata": {
        "id": "GqVeHx5El9b7",
        "colab_type": "code",
        "colab": {}
      },
      "source": [
        "#COUNT FREQUENCIES OF EACH UNIQUE SEQUENCE\n",
        "counter=Counter(ante_consq_list)"
      ],
      "execution_count": 0,
      "outputs": []
    },
    {
      "cell_type": "markdown",
      "metadata": {
        "id": "N6c40R8gtgYA",
        "colab_type": "text"
      },
      "source": [
        "***CALCULATE ENDI MEASURE FOR ALL THE CLASSES PER SEQUENCE DATA***"
      ]
    },
    {
      "cell_type": "code",
      "metadata": {
        "id": "BHa17NbP4P6R",
        "colab_type": "code",
        "outputId": "6391907c-43e2-490b-f0c3-c8eb0942d799",
        "colab": {
          "base_uri": "https://localhost:8080/",
          "height": 82,
          "referenced_widgets": [
            "6ceeb4b0930e4bd9b3dc636e1d807bef",
            "50171239cdef4a99960595b68e431098",
            "95f5687cbca94fef99752bfc9723eba4",
            "4a0a6b1ab60f4264a6fc4a3c0da85f11",
            "d6714349621a44eb9d78a2e6a98c6436",
            "87744452783f4c5e831bedca0a79a1cf",
            "0918f4e43f504dc28b580ffa15398c81",
            "6bad974e2545448680daae39cdeefa8b"
          ]
        }
      },
      "source": [
        "#GENERATE A DICTIONARY OF THE FORM : {(unique sequence) : [ENDI MEASURE-CLASS 0, ENDI MEASURE-CLASS 1]}\n",
        "ENDI_table_dictionary={}\n",
        "\n",
        "for i in tqdm(range(len(unique_X_sequences))):\n",
        "  seq=unique_X_sequences[i]\n",
        "  ENDI_class_0=calculate_ENDI(positive_count(seq,0),negative_count(seq,[255]))\n",
        "  ENDI_class_1=calculate_ENDI(positive_count(seq,255),negative_count(seq,[0]))\n",
        "  ENDI_table_dictionary[seq]=[ENDI_class_0,ENDI_class_1]\n",
        "\n",
        "print('BUILDING DICTIONARY DONE')\n",
        "\n",
        "#PRINT RANDOM DATA POINT\n",
        "#print(ENDI_table_dictionary[unique_X_sequences[5000]])\n"
      ],
      "execution_count": 195,
      "outputs": [
        {
          "output_type": "display_data",
          "data": {
            "application/vnd.jupyter.widget-view+json": {
              "model_id": "6ceeb4b0930e4bd9b3dc636e1d807bef",
              "version_minor": 0,
              "version_major": 2
            },
            "text/plain": [
              "HBox(children=(IntProgress(value=0, max=909), HTML(value='')))"
            ]
          },
          "metadata": {
            "tags": []
          }
        },
        {
          "output_type": "stream",
          "text": [
            "\n",
            "BUILDING DICTIONARY DONE\n"
          ],
          "name": "stdout"
        }
      ]
    },
    {
      "cell_type": "markdown",
      "metadata": {
        "id": "n84ur78SsZ-z",
        "colab_type": "text"
      },
      "source": [
        "\n",
        "\n",
        "---\n",
        "\n"
      ]
    },
    {
      "cell_type": "markdown",
      "metadata": {
        "id": "goD_JtMTtgo7",
        "colab_type": "text"
      },
      "source": [
        "***STEP 3 : CLASSIFICATION AND VISUALIZATION***"
      ]
    },
    {
      "cell_type": "code",
      "metadata": {
        "id": "8kntNAM6gcPn",
        "colab_type": "code",
        "colab": {}
      },
      "source": [
        "def classification(file_name,band8filename):\n",
        "          new_image=gdal.Open(file_name)\n",
        "          rband_new = new_image.GetRasterBand(1).ReadAsArray()\n",
        "          gband_new = new_image.GetRasterBand(2).ReadAsArray()\n",
        "          bband_new = new_image.GetRasterBand(3).ReadAsArray()\n",
        "          tif1=gdal.Open(band8filename)\n",
        "          band8_new=tif1.GetRasterBand(1).ReadAsArray()\n",
        "\n",
        "          rband_list_new=rband_new.flatten().tolist()\n",
        "          gband_list_new=gband_new.flatten().tolist()\n",
        "          bband_list_new=bband_new.flatten().tolist()\n",
        "          band8_list_new=band8_new.flatten().tolist()\n",
        "\n",
        "          q1=max(rband_list_new)/16\n",
        "          q2=max(gband_list_new)/16\n",
        "          q3=max(bband_list_new)/16\n",
        "          q4=max(band8_list_new)/18\n",
        "\n",
        "          rband_list_new = [round(math.floor(x+0.5)/q1) for x in rband_list_new]\n",
        "          gband_list_new = [round(math.floor(x+0.5)/q2) for x in gband_list_new]\n",
        "          bband_list_new = [round(math.floor(x+0.5)/q3) for x in bband_list_new]\n",
        "          band8_list_new = [round(math.floor(x+0.5)/q4) for x in band8_list_new]\n",
        "\n",
        "\n",
        "          final_pred_list=[]\n",
        "          final_confidence_list=[]\n",
        "\n",
        "          for i in tqdm(range(len(rband_list_new))):\n",
        "\n",
        "            if ((rband_list_new[i],gband_list_new[i],bband_list_new[i],band8_list_new[i])) in ENDI_table_dictionary:\n",
        "                  ENDI_vals=ENDI_table_dictionary[(rband_list_new[i],gband_list_new[i],bband_list_new[i],band8_list_new[i])]\n",
        "                  max_val = max(ENDI_vals)\n",
        "                  index_max = ENDI_vals.index(max_val)\n",
        "                  final_pred_list.append(index_max)\n",
        "                  final_confidence_list.append(ENDI_vals[0])   \n",
        "            else:\n",
        "              final_pred_list.append(1)\n",
        "              final_confidence_list.append(-1)\n",
        "\n",
        "          final_confidence_list_scaled = minmax_scale(final_confidence_list, feature_range=(0,100))\n",
        "          return final_pred_list,final_confidence_list_scaled\n",
        "\n"
      ],
      "execution_count": 0,
      "outputs": []
    },
    {
      "cell_type": "code",
      "metadata": {
        "id": "wq6E1HhJhfi2",
        "colab_type": "code",
        "colab": {}
      },
      "source": [
        "def visualization(any_list,size,title,outputfile,colormap):\n",
        "  numpy_array=np.asarray(any_list)\n",
        "  #numpy_array[numpy_array == 1] = 255\n",
        "  final_image_array=numpy_array.reshape((size,size))\n",
        "  fig, ax = plt.subplots()\n",
        "  ax.set_title(title)\n",
        "  img = ax.imshow(final_image_array,cmap=plt.get_cmap(colormap))\n",
        "  fig.colorbar(img, ax=ax)\n",
        "  fig.savefig(outputfile+'.png')\n",
        "  cv2.imwrite(outputfile+\".tif\", final_image_array)"
      ],
      "execution_count": 0,
      "outputs": []
    },
    {
      "cell_type": "code",
      "metadata": {
        "id": "72cxX4heaE5W",
        "colab_type": "code",
        "colab": {}
      },
      "source": [
        "def metrics(y_actual, y_pred_original):\n",
        "    numpy_array=np.asarray(y_pred_original)\n",
        "    numpy_array[numpy_array == 1] = 255\n",
        "    y_pred=numpy_array.tolist()\n",
        "    class_id = set(y_actual).union(set(y_pred))\n",
        "    TP = []\n",
        "    FP = []\n",
        "    TN = []\n",
        "    FN = []\n",
        "\n",
        "    for index ,_id in enumerate(class_id):\n",
        "        TP.append(0)\n",
        "        FP.append(0)\n",
        "        TN.append(0)\n",
        "        FN.append(0)\n",
        "        for i in tqdm(range(len(y_pred))):\n",
        "            if y_actual[i] == y_pred[i] == _id:\n",
        "                TP[index] += 1\n",
        "            if y_pred[i] == _id and y_actual[i] != y_pred[i]:\n",
        "                FP[index] += 1\n",
        "            if y_actual[i] == y_pred[i] != _id:\n",
        "                TN[index] += 1\n",
        "            if y_pred[i] != _id and y_actual[i] != y_pred[i]:\n",
        "                FN[index] += 1\n",
        "\n",
        "\n",
        "    return class_id,TP, FP, TN, FN"
      ],
      "execution_count": 0,
      "outputs": []
    },
    {
      "cell_type": "markdown",
      "metadata": {
        "id": "RqZ2C_ow04Ij",
        "colab_type": "text"
      },
      "source": [
        "\n",
        "\n",
        "---\n",
        "\n"
      ]
    },
    {
      "cell_type": "markdown",
      "metadata": {
        "id": "JCK5RsYA05Ld",
        "colab_type": "text"
      },
      "source": [
        "**VISUALIZATION OF RESULTS AND METRICS - MADRID AREA(SPAIN)**"
      ]
    },
    {
      "cell_type": "markdown",
      "metadata": {
        "id": "iPhSuhjw1S5y",
        "colab_type": "text"
      },
      "source": [
        "1) MADRID CLASSIFICATION RESULTS"
      ]
    },
    {
      "cell_type": "code",
      "metadata": {
        "id": "3zzrNttfg4p-",
        "colab_type": "code",
        "outputId": "733d5a34-2fe1-4cef-8a15-931954991b82",
        "colab": {
          "base_uri": "https://localhost:8080/",
          "height": 66,
          "referenced_widgets": [
            "cb7a68d186c34328a06147d6ad426a4a",
            "7556f263a20f430d856dbe52e5d56b5f",
            "de62f736573240acbffa09a799b51cd4",
            "8cbdb1508e9547519497ca9a30ff498d",
            "b7144714d5ec4e69bf9b2309ceba0074",
            "a655bd6d0d204aa09f2ebc429205e228",
            "775bcaddad454549bef6e99e164065fc",
            "1c0df33c78f04e8eb5394310025feffe"
          ]
        }
      },
      "source": [
        "prediction_list,confidence_list=classification('test.tif','test-b8.tif')\n"
      ],
      "execution_count": 199,
      "outputs": [
        {
          "output_type": "display_data",
          "data": {
            "application/vnd.jupyter.widget-view+json": {
              "model_id": "cb7a68d186c34328a06147d6ad426a4a",
              "version_minor": 0,
              "version_major": 2
            },
            "text/plain": [
              "HBox(children=(IntProgress(value=0, max=1062961), HTML(value='')))"
            ]
          },
          "metadata": {
            "tags": []
          }
        },
        {
          "output_type": "stream",
          "text": [
            "\n"
          ],
          "name": "stdout"
        }
      ]
    },
    {
      "cell_type": "code",
      "metadata": {
        "id": "JJYgfo6zWVj2",
        "colab_type": "code",
        "outputId": "8767ff6d-ed29-466c-e64e-385fc5c6cfbc",
        "colab": {
          "base_uri": "https://localhost:8080/",
          "height": 281
        }
      },
      "source": [
        "visualization(prediction_list,  IMG_SIZE, 'Classification-Madrid Region, Spain','predictions-madrid',colormap='binary')"
      ],
      "execution_count": 200,
      "outputs": [
        {
          "output_type": "display_data",
          "data": {
            "image/png": "[encoded data removed]",
            "text/plain": [
              "<Figure size 432x288 with 2 Axes>"
            ]
          },
          "metadata": {
            "tags": []
          }
        }
      ]
    },
    {
      "cell_type": "code",
      "metadata": {
        "id": "lJSm-m30qk3a",
        "colab_type": "code",
        "colab": {
          "base_uri": "https://localhost:8080/",
          "height": 281
        },
        "outputId": "a725bf19-a79f-41d3-fc17-e47f9143a175"
      },
      "source": [
        "visualization(confidence_list,  IMG_SIZE,'Confidence-Madrid Region, Spain','confidence-madrid',colormap='Greens')"
      ],
      "execution_count": 201,
      "outputs": [
        {
          "output_type": "display_data",
          "data": {
            "image/png": "[encoded data removed]",
            "text/plain": [
              "<Figure size 432x288 with 2 Axes>"
            ]
          },
          "metadata": {
            "tags": []
          }
        }
      ]
    },
    {
      "cell_type": "code",
      "metadata": {
        "id": "H8YwFJ2lbXdk",
        "colab_type": "code",
        "outputId": "adc623fd-4290-4e99-efee-a2aa44966251",
        "colab": {
          "base_uri": "https://localhost:8080/",
          "height": 114,
          "referenced_widgets": [
            "4055a008ab054f4598e27ff158f26b2f",
            "12f2c4971b7946c19d12e632d65211c3",
            "bd4491e4051f4561887c6092f9ffde8c",
            "5ca2dced08c34e00803cec511230c089",
            "9f1d7158c2d94d1884cc1e92cc3f1fcf",
            "1b45b8713c434b2ba692cec1d40da0e0",
            "57d148453e714cea9d2cb495fd9ccd59",
            "d664e86ddd024b649fcf006f1085646b",
            "bb9579dbb6654f5d85a3e3a8893681d4",
            "29647bb75494416dbc5af0682a53bb86",
            "d21b93d8357c4774bc96341dd28e9a43",
            "ce57b93169c742d7a917804ba8e1df8a",
            "31efd801aca544448855fa2683676fa9",
            "aef377dc560e4e6eae39bd99954a4143",
            "056120f0c73f47d994b0e1fbcab11285",
            "4d8906c461034bbaa4d7574d5b9aeb6d"
          ]
        }
      },
      "source": [
        "m=metrics(Y_raster_test.flatten().tolist(),prediction_list)"
      ],
      "execution_count": 202,
      "outputs": [
        {
          "output_type": "display_data",
          "data": {
            "application/vnd.jupyter.widget-view+json": {
              "model_id": "4055a008ab054f4598e27ff158f26b2f",
              "version_minor": 0,
              "version_major": 2
            },
            "text/plain": [
              "HBox(children=(IntProgress(value=0, max=1062961), HTML(value='')))"
            ]
          },
          "metadata": {
            "tags": []
          }
        },
        {
          "output_type": "stream",
          "text": [
            "\n"
          ],
          "name": "stdout"
        },
        {
          "output_type": "display_data",
          "data": {
            "application/vnd.jupyter.widget-view+json": {
              "model_id": "bb9579dbb6654f5d85a3e3a8893681d4",
              "version_minor": 0,
              "version_major": 2
            },
            "text/plain": [
              "HBox(children=(IntProgress(value=0, max=1062961), HTML(value='')))"
            ]
          },
          "metadata": {
            "tags": []
          }
        },
        {
          "output_type": "stream",
          "text": [
            "\n"
          ],
          "name": "stdout"
        }
      ]
    },
    {
      "cell_type": "code",
      "metadata": {
        "id": "mbjXWoqsjQ_d",
        "colab_type": "code",
        "colab": {}
      },
      "source": [
        "unique, counts = np.unique(Y_raster_test.flatten().tolist(), return_counts=True)"
      ],
      "execution_count": 0,
      "outputs": []
    },
    {
      "cell_type": "code",
      "metadata": {
        "id": "WskaAi3ghsiH",
        "colab_type": "code",
        "outputId": "e398e3c1-3ba1-45a9-99e3-991c51893f66",
        "colab": {
          "base_uri": "https://localhost:8080/",
          "height": 84
        }
      },
      "source": [
        "for i in range(0,2):\n",
        "  TP=m[1][i]\n",
        "  FP=m[2][i]\n",
        "  TN=m[3][i]\n",
        "  FN=m[4][i]\n",
        "  P=counts[i]\n",
        "  N=len(Y_list)-P\n",
        "  TPR=TP/P\n",
        "  TNR=TN/N\n",
        "  bal_measure = (TPR+TNR)/2\n",
        "  inf_accuracy=TPR-TNR\n",
        "  print('BALANCED ACCURACY FOR CLASS '+str(i)+\" is \"+ str(bal_measure))\n",
        "  print('INFORMEDNESS FOR CLASS '+str(i)+\" is \"+str(inf_accuracy))\n"
      ],
      "execution_count": 204,
      "outputs": [
        {
          "output_type": "stream",
          "text": [
            "BALANCED ACCURACY FOR CLASS 0 is 0.08182210162870895\n",
            "INFORMEDNESS FOR CLASS 0 is -0.10021403591198473\n",
            "BALANCED ACCURACY FOR CLASS 1 is 0.3643016883644962\n",
            "INFORMEDNESS FOR CLASS 1 is 0.7271509196183651\n"
          ],
          "name": "stdout"
        }
      ]
    },
    {
      "cell_type": "markdown",
      "metadata": {
        "id": "unQkKXcY1RAe",
        "colab_type": "text"
      },
      "source": [
        "2)ORIGINAL RGB IMAGE"
      ]
    },
    {
      "cell_type": "code",
      "metadata": {
        "id": "wCHf3Rrg0J5J",
        "colab_type": "code",
        "outputId": "1985ad88-32d7-44a9-987f-1d4bf6d1455b",
        "colab": {
          "base_uri": "https://localhost:8080/",
          "height": 286
        }
      },
      "source": [
        "dataset = rasterio.open('test.tif')\n",
        "show(dataset.read([1,2,3]))"
      ],
      "execution_count": 205,
      "outputs": [
        {
          "output_type": "display_data",
          "data": {
            "image/png": "[encoded data removed]",
            "text/plain": [
              "<Figure size 432x288 with 1 Axes>"
            ]
          },
          "metadata": {
            "tags": []
          }
        },
        {
          "output_type": "execute_result",
          "data": {
            "text/plain": [
              "<matplotlib.axes._subplots.AxesSubplot at 0x7fad6816a668>"
            ]
          },
          "metadata": {
            "tags": []
          },
          "execution_count": 205
        }
      ]
    },
    {
      "cell_type": "markdown",
      "metadata": {
        "id": "kahuQs5RQke_",
        "colab_type": "text"
      },
      "source": [
        "\n",
        "\n",
        "---\n",
        "\n"
      ]
    },
    {
      "cell_type": "markdown",
      "metadata": {
        "id": "Wi0eQgxbQc-Z",
        "colab_type": "text"
      },
      "source": [
        "# **GHS-POP**"
      ]
    },
    {
      "cell_type": "code",
      "metadata": {
        "id": "V_x38xXZvfRw",
        "colab_type": "code",
        "colab": {
          "base_uri": "https://localhost:8080/",
          "height": 298
        },
        "outputId": "140766a7-272a-4be2-9ad0-c532b71e33c7"
      },
      "source": [
        "pop1=gdal.Open('test-pop.tif')\n",
        "pop2d = pop1.GetRasterBand(1).ReadAsArray()\n",
        "pop2d[pop2d < 0] = 0\n",
        "fig, ax = plt.subplots()\n",
        "img = ax.imshow((pop2d),cmap=plt.get_cmap('Purples'))\n",
        "fig.colorbar(img, ax=ax)\n",
        "ax.set_title('GHS POP')"
      ],
      "execution_count": 206,
      "outputs": [
        {
          "output_type": "execute_result",
          "data": {
            "text/plain": [
              "Text(0.5, 1.0, 'GHS POP')"
            ]
          },
          "metadata": {
            "tags": []
          },
          "execution_count": 206
        },
        {
          "output_type": "display_data",
          "data": {
            "image/png": "[encoded data removed]",
            "text/plain": [
              "<Figure size 432x288 with 2 Axes>"
            ]
          },
          "metadata": {
            "tags": []
          }
        }
      ]
    },
    {
      "cell_type": "markdown",
      "metadata": {
        "id": "mvZV26J1PRtM",
        "colab_type": "text"
      },
      "source": [
        "\n",
        "\n",
        "---\n",
        "\n"
      ]
    },
    {
      "cell_type": "markdown",
      "metadata": {
        "id": "1ZzqcPLVPSkn",
        "colab_type": "text"
      },
      "source": [
        "# **GHS S-MOD**"
      ]
    },
    {
      "cell_type": "code",
      "metadata": {
        "id": "bboKeNp8hoEC",
        "colab_type": "code",
        "colab": {}
      },
      "source": [
        "def classify_urban_area(i,j,d,arr):\n",
        "  n = arr[i-d:i+d+1, j-d:j+d+1].flatten()\n",
        "  return n"
      ],
      "execution_count": 0,
      "outputs": []
    },
    {
      "cell_type": "code",
      "metadata": {
        "id": "nT2V_oR7kubq",
        "colab_type": "code",
        "colab": {}
      },
      "source": [
        "confidence2d=np.asarray(confidence_list).reshape((IMG_SIZE,IMG_SIZE))"
      ],
      "execution_count": 0,
      "outputs": []
    },
    {
      "cell_type": "markdown",
      "metadata": {
        "id": "zKvjUXZgQEGI",
        "colab_type": "text"
      },
      "source": [
        "CLASSIFY URBAN CENTRE, URBAN CLUSTER, RURAL AREA AND OTHER REGIONS"
      ]
    },
    {
      "cell_type": "code",
      "metadata": {
        "id": "NxHaEnLJjxbf",
        "colab_type": "code",
        "colab": {
          "base_uri": "https://localhost:8080/",
          "height": 66,
          "referenced_widgets": [
            "4fe6ab92ee3c4fc888f725c7cfc90de6",
            "71ce979bdd964af180b6ec0e63df1317",
            "a5c8b9f01d97419a83f58f4c2c5b5343",
            "e18d214a622849248e65f74b5f132040",
            "1e81f7c856e746fd99dd1fc2e6015bde",
            "24583eb23db04d37840baa3612390e63",
            "ab8fad30bf65436891e5fcc400a131f3",
            "1d7f8d19c16c4f85858ab51f9ea9de95"
          ]
        },
        "outputId": "b9f7d004-7184-4dc0-de3b-00b8e7547e2d"
      },
      "source": [
        "urban_array=np.zeros((IMG_SIZE, IMG_SIZE))\n",
        "\n",
        "for ix,iy in tqdm(np.ndindex(pop2d.shape)):\n",
        "    popcellvalue=pop2d[ix,iy]\n",
        "    confidencecellvalue=confidence2d[ix,iy]\n",
        "\n",
        "    if((popcellvalue>1500 or confidencecellvalue>50) and (np.sum(classify_urban_area(ix,iy,2,pop2d))>50000)):\n",
        "      urban_array[ix,iy]=3\n",
        "    elif (popcellvalue>300 and (np.sum(classify_urban_area(ix,iy,8,pop2d))>5000)):\n",
        "      urban_array[ix,iy]=2\n",
        "    elif(popcellvalue>1 and (np.sum(classify_urban_area(ix,iy,3,pop2d))<5000)):\n",
        "      urban_array[ix,iy]=1"
      ],
      "execution_count": 227,
      "outputs": [
        {
          "output_type": "display_data",
          "data": {
            "application/vnd.jupyter.widget-view+json": {
              "model_id": "4fe6ab92ee3c4fc888f725c7cfc90de6",
              "version_minor": 0,
              "version_major": 2
            },
            "text/plain": [
              "HBox(children=(IntProgress(value=1, bar_style='info', max=1), HTML(value='')))"
            ]
          },
          "metadata": {
            "tags": []
          }
        },
        {
          "output_type": "stream",
          "text": [
            "\n"
          ],
          "name": "stdout"
        }
      ]
    },
    {
      "cell_type": "code",
      "metadata": {
        "id": "ny5DJDt_ozxY",
        "colab_type": "code",
        "colab": {
          "base_uri": "https://localhost:8080/",
          "height": 298
        },
        "outputId": "8085a372-0abd-47a1-c38b-e98bffffde04"
      },
      "source": [
        "from matplotlib import colors\n",
        "import matplotlib.patches as mpatches\n",
        "fig, ax = plt.subplots()\n",
        "black_patch = mpatches.Patch(color='black', label='Urban Centre')\n",
        "dark_grey_patch=mpatches.Patch(color='grey', label='Urban Cluster')\n",
        "grey_patch = mpatches.Patch(color='lightgray', label='Others')\n",
        "white_patch = mpatches.Patch(color='white', label='Rural')\n",
        "\n",
        "ax.legend(handles=[black_patch,dark_grey_patch,white_patch, grey_patch], loc='lower right')\n",
        "img = ax.imshow(urban_array,cmap=plt.get_cmap('binary'))\n",
        "ax.set_title('GHS-SMOD')"
      ],
      "execution_count": 228,
      "outputs": [
        {
          "output_type": "execute_result",
          "data": {
            "text/plain": [
              "Text(0.5, 1.0, 'GHS-SMOD')"
            ]
          },
          "metadata": {
            "tags": []
          },
          "execution_count": 228
        },
        {
          "output_type": "display_data",
          "data": {
            "image/png": "[encoded data removed]",
            "text/plain": [
              "<Figure size 432x288 with 1 Axes>"
            ]
          },
          "metadata": {
            "tags": []
          }
        }
      ]
    },
    {
      "cell_type": "markdown",
      "metadata": {
        "id": "0Uj7CmWs1DfC",
        "colab_type": "text"
      },
      "source": [
        "\n",
        "\n",
        "---\n",
        "\n"
      ]
    }
  ]
}