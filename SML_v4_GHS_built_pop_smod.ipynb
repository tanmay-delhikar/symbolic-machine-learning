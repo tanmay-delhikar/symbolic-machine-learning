{
  "nbformat": 4,
  "nbformat_minor": 0,
  "metadata": {
    "colab": {
      "name": "SML_v4.ipynb",
      "provenance": [],
      "collapsed_sections": [],
      "machine_shape": "hm"
    },
    "kernelspec": {
      "name": "python3",
      "display_name": "Python 3"
    },
    "widgets": {
      "application/vnd.jupyter.widget-state+json": {
        "85c983efb0bf46b68b4d89214c89aecd": {
          "model_module": "@jupyter-widgets/controls",
          "model_name": "HBoxModel",
          "state": {
            "_view_name": "HBoxView",
            "_dom_classes": [],
            "_model_name": "HBoxModel",
            "_view_module": "@jupyter-widgets/controls",
            "_model_module_version": "1.5.0",
            "_view_count": null,
            "_view_module_version": "1.5.0",
            "box_style": "",
            "layout": "IPY_MODEL_8021b120cccf4a4a936bc93533384192",
            "_model_module": "@jupyter-widgets/controls",
            "children": [
              "IPY_MODEL_1eb5cd2f026740ceab890a7a93126b7b",
              "IPY_MODEL_cfd96a658a744e55b8bd8cee0833cb7d"
            ]
          }
        },
        "8021b120cccf4a4a936bc93533384192": {
          "model_module": "@jupyter-widgets/base",
          "model_name": "LayoutModel",
          "state": {
            "_view_name": "LayoutView",
            "grid_template_rows": null,
            "right": null,
            "justify_content": null,
            "_view_module": "@jupyter-widgets/base",
            "overflow": null,
            "_model_module_version": "1.2.0",
            "_view_count": null,
            "flex_flow": null,
            "width": null,
            "min_width": null,
            "border": null,
            "align_items": null,
            "bottom": null,
            "_model_module": "@jupyter-widgets/base",
            "top": null,
            "grid_column": null,
            "overflow_y": null,
            "overflow_x": null,
            "grid_auto_flow": null,
            "grid_area": null,
            "grid_template_columns": null,
            "flex": null,
            "_model_name": "LayoutModel",
            "justify_items": null,
            "grid_row": null,
            "max_height": null,
            "align_content": null,
            "visibility": null,
            "align_self": null,
            "height": null,
            "min_height": null,
            "padding": null,
            "grid_auto_rows": null,
            "grid_gap": null,
            "max_width": null,
            "order": null,
            "_view_module_version": "1.2.0",
            "grid_template_areas": null,
            "object_position": null,
            "object_fit": null,
            "grid_auto_columns": null,
            "margin": null,
            "display": null,
            "left": null
          }
        },
        "1eb5cd2f026740ceab890a7a93126b7b": {
          "model_module": "@jupyter-widgets/controls",
          "model_name": "IntProgressModel",
          "state": {
            "_view_name": "ProgressView",
            "style": "IPY_MODEL_557dcbee2f0943b99715e5cef8d40968",
            "_dom_classes": [],
            "description": "",
            "_model_name": "IntProgressModel",
            "bar_style": "success",
            "max": 6377766,
            "_view_module": "@jupyter-widgets/controls",
            "_model_module_version": "1.5.0",
            "value": 6377766,
            "_view_count": null,
            "_view_module_version": "1.5.0",
            "orientation": "horizontal",
            "min": 0,
            "description_tooltip": null,
            "_model_module": "@jupyter-widgets/controls",
            "layout": "IPY_MODEL_0a84f8be691240b583aa3beaa10705c0"
          }
        },
        "cfd96a658a744e55b8bd8cee0833cb7d": {
          "model_module": "@jupyter-widgets/controls",
          "model_name": "HTMLModel",
          "state": {
            "_view_name": "HTMLView",
            "style": "IPY_MODEL_e3f43460efb24207a8db23e91bc269c1",
            "_dom_classes": [],
            "description": "",
            "_model_name": "HTMLModel",
            "placeholder": "​",
            "_view_module": "@jupyter-widgets/controls",
            "_model_module_version": "1.5.0",
            "value": "100% 6377766/6377766 [00:07&lt;00:00, 837401.61it/s]",
            "_view_count": null,
            "_view_module_version": "1.5.0",
            "description_tooltip": null,
            "_model_module": "@jupyter-widgets/controls",
            "layout": "IPY_MODEL_a310d4bea9db4e6ca89b64839f223a59"
          }
        },
        "557dcbee2f0943b99715e5cef8d40968": {
          "model_module": "@jupyter-widgets/controls",
          "model_name": "ProgressStyleModel",
          "state": {
            "_view_name": "StyleView",
            "_model_name": "ProgressStyleModel",
            "description_width": "",
            "_view_module": "@jupyter-widgets/base",
            "_model_module_version": "1.5.0",
            "_view_count": null,
            "_view_module_version": "1.2.0",
            "bar_color": null,
            "_model_module": "@jupyter-widgets/controls"
          }
        },
        "0a84f8be691240b583aa3beaa10705c0": {
          "model_module": "@jupyter-widgets/base",
          "model_name": "LayoutModel",
          "state": {
            "_view_name": "LayoutView",
            "grid_template_rows": null,
            "right": null,
            "justify_content": null,
            "_view_module": "@jupyter-widgets/base",
            "overflow": null,
            "_model_module_version": "1.2.0",
            "_view_count": null,
            "flex_flow": null,
            "width": null,
            "min_width": null,
            "border": null,
            "align_items": null,
            "bottom": null,
            "_model_module": "@jupyter-widgets/base",
            "top": null,
            "grid_column": null,
            "overflow_y": null,
            "overflow_x": null,
            "grid_auto_flow": null,
            "grid_area": null,
            "grid_template_columns": null,
            "flex": null,
            "_model_name": "LayoutModel",
            "justify_items": null,
            "grid_row": null,
            "max_height": null,
            "align_content": null,
            "visibility": null,
            "align_self": null,
            "height": null,
            "min_height": null,
            "padding": null,
            "grid_auto_rows": null,
            "grid_gap": null,
            "max_width": null,
            "order": null,
            "_view_module_version": "1.2.0",
            "grid_template_areas": null,
            "object_position": null,
            "object_fit": null,
            "grid_auto_columns": null,
            "margin": null,
            "display": null,
            "left": null
          }
        },
        "e3f43460efb24207a8db23e91bc269c1": {
          "model_module": "@jupyter-widgets/controls",
          "model_name": "DescriptionStyleModel",
          "state": {
            "_view_name": "StyleView",
            "_model_name": "DescriptionStyleModel",
            "description_width": "",
            "_view_module": "@jupyter-widgets/base",
            "_model_module_version": "1.5.0",
            "_view_count": null,
            "_view_module_version": "1.2.0",
            "_model_module": "@jupyter-widgets/controls"
          }
        },
        "a310d4bea9db4e6ca89b64839f223a59": {
          "model_module": "@jupyter-widgets/base",
          "model_name": "LayoutModel",
          "state": {
            "_view_name": "LayoutView",
            "grid_template_rows": null,
            "right": null,
            "justify_content": null,
            "_view_module": "@jupyter-widgets/base",
            "overflow": null,
            "_model_module_version": "1.2.0",
            "_view_count": null,
            "flex_flow": null,
            "width": null,
            "min_width": null,
            "border": null,
            "align_items": null,
            "bottom": null,
            "_model_module": "@jupyter-widgets/base",
            "top": null,
            "grid_column": null,
            "overflow_y": null,
            "overflow_x": null,
            "grid_auto_flow": null,
            "grid_area": null,
            "grid_template_columns": null,
            "flex": null,
            "_model_name": "LayoutModel",
            "justify_items": null,
            "grid_row": null,
            "max_height": null,
            "align_content": null,
            "visibility": null,
            "align_self": null,
            "height": null,
            "min_height": null,
            "padding": null,
            "grid_auto_rows": null,
            "grid_gap": null,
            "max_width": null,
            "order": null,
            "_view_module_version": "1.2.0",
            "grid_template_areas": null,
            "object_position": null,
            "object_fit": null,
            "grid_auto_columns": null,
            "margin": null,
            "display": null,
            "left": null
          }
        },
        "3018f62458144272bb258fd4ac592852": {
          "model_module": "@jupyter-widgets/controls",
          "model_name": "HBoxModel",
          "state": {
            "_view_name": "HBoxView",
            "_dom_classes": [],
            "_model_name": "HBoxModel",
            "_view_module": "@jupyter-widgets/controls",
            "_model_module_version": "1.5.0",
            "_view_count": null,
            "_view_module_version": "1.5.0",
            "box_style": "",
            "layout": "IPY_MODEL_f050aaeb95e84f51abe69ae2061375ed",
            "_model_module": "@jupyter-widgets/controls",
            "children": [
              "IPY_MODEL_d6cff72e03ff44dd9eeeaafdd7cedc55",
              "IPY_MODEL_21aa0f18373341ce9713241d0ba48f0b"
            ]
          }
        },
        "f050aaeb95e84f51abe69ae2061375ed": {
          "model_module": "@jupyter-widgets/base",
          "model_name": "LayoutModel",
          "state": {
            "_view_name": "LayoutView",
            "grid_template_rows": null,
            "right": null,
            "justify_content": null,
            "_view_module": "@jupyter-widgets/base",
            "overflow": null,
            "_model_module_version": "1.2.0",
            "_view_count": null,
            "flex_flow": null,
            "width": null,
            "min_width": null,
            "border": null,
            "align_items": null,
            "bottom": null,
            "_model_module": "@jupyter-widgets/base",
            "top": null,
            "grid_column": null,
            "overflow_y": null,
            "overflow_x": null,
            "grid_auto_flow": null,
            "grid_area": null,
            "grid_template_columns": null,
            "flex": null,
            "_model_name": "LayoutModel",
            "justify_items": null,
            "grid_row": null,
            "max_height": null,
            "align_content": null,
            "visibility": null,
            "align_self": null,
            "height": null,
            "min_height": null,
            "padding": null,
            "grid_auto_rows": null,
            "grid_gap": null,
            "max_width": null,
            "order": null,
            "_view_module_version": "1.2.0",
            "grid_template_areas": null,
            "object_position": null,
            "object_fit": null,
            "grid_auto_columns": null,
            "margin": null,
            "display": null,
            "left": null
          }
        },
        "d6cff72e03ff44dd9eeeaafdd7cedc55": {
          "model_module": "@jupyter-widgets/controls",
          "model_name": "IntProgressModel",
          "state": {
            "_view_name": "ProgressView",
            "style": "IPY_MODEL_9fac21a23aa44b27a7d2da3262031be4",
            "_dom_classes": [],
            "description": "",
            "_model_name": "IntProgressModel",
            "bar_style": "success",
            "max": 804,
            "_view_module": "@jupyter-widgets/controls",
            "_model_module_version": "1.5.0",
            "value": 804,
            "_view_count": null,
            "_view_module_version": "1.5.0",
            "orientation": "horizontal",
            "min": 0,
            "description_tooltip": null,
            "_model_module": "@jupyter-widgets/controls",
            "layout": "IPY_MODEL_440139aa78d7478a82f812252465fe76"
          }
        },
        "21aa0f18373341ce9713241d0ba48f0b": {
          "model_module": "@jupyter-widgets/controls",
          "model_name": "HTMLModel",
          "state": {
            "_view_name": "HTMLView",
            "style": "IPY_MODEL_703ad8de8081437690a661e0695bf19b",
            "_dom_classes": [],
            "description": "",
            "_model_name": "HTMLModel",
            "placeholder": "​",
            "_view_module": "@jupyter-widgets/controls",
            "_model_module_version": "1.5.0",
            "value": "100% 804/804 [00:00&lt;00:00, 30608.41it/s]",
            "_view_count": null,
            "_view_module_version": "1.5.0",
            "description_tooltip": null,
            "_model_module": "@jupyter-widgets/controls",
            "layout": "IPY_MODEL_3ed7c3dd5a1b4e0ab75c0f77dfdbf9dd"
          }
        },
        "9fac21a23aa44b27a7d2da3262031be4": {
          "model_module": "@jupyter-widgets/controls",
          "model_name": "ProgressStyleModel",
          "state": {
            "_view_name": "StyleView",
            "_model_name": "ProgressStyleModel",
            "description_width": "",
            "_view_module": "@jupyter-widgets/base",
            "_model_module_version": "1.5.0",
            "_view_count": null,
            "_view_module_version": "1.2.0",
            "bar_color": null,
            "_model_module": "@jupyter-widgets/controls"
          }
        },
        "440139aa78d7478a82f812252465fe76": {
          "model_module": "@jupyter-widgets/base",
          "model_name": "LayoutModel",
          "state": {
            "_view_name": "LayoutView",
            "grid_template_rows": null,
            "right": null,
            "justify_content": null,
            "_view_module": "@jupyter-widgets/base",
            "overflow": null,
            "_model_module_version": "1.2.0",
            "_view_count": null,
            "flex_flow": null,
            "width": null,
            "min_width": null,
            "border": null,
            "align_items": null,
            "bottom": null,
            "_model_module": "@jupyter-widgets/base",
            "top": null,
            "grid_column": null,
            "overflow_y": null,
            "overflow_x": null,
            "grid_auto_flow": null,
            "grid_area": null,
            "grid_template_columns": null,
            "flex": null,
            "_model_name": "LayoutModel",
            "justify_items": null,
            "grid_row": null,
            "max_height": null,
            "align_content": null,
            "visibility": null,
            "align_self": null,
            "height": null,
            "min_height": null,
            "padding": null,
            "grid_auto_rows": null,
            "grid_gap": null,
            "max_width": null,
            "order": null,
            "_view_module_version": "1.2.0",
            "grid_template_areas": null,
            "object_position": null,
            "object_fit": null,
            "grid_auto_columns": null,
            "margin": null,
            "display": null,
            "left": null
          }
        },
        "703ad8de8081437690a661e0695bf19b": {
          "model_module": "@jupyter-widgets/controls",
          "model_name": "DescriptionStyleModel",
          "state": {
            "_view_name": "StyleView",
            "_model_name": "DescriptionStyleModel",
            "description_width": "",
            "_view_module": "@jupyter-widgets/base",
            "_model_module_version": "1.5.0",
            "_view_count": null,
            "_view_module_version": "1.2.0",
            "_model_module": "@jupyter-widgets/controls"
          }
        },
        "3ed7c3dd5a1b4e0ab75c0f77dfdbf9dd": {
          "model_module": "@jupyter-widgets/base",
          "model_name": "LayoutModel",
          "state": {
            "_view_name": "LayoutView",
            "grid_template_rows": null,
            "right": null,
            "justify_content": null,
            "_view_module": "@jupyter-widgets/base",
            "overflow": null,
            "_model_module_version": "1.2.0",
            "_view_count": null,
            "flex_flow": null,
            "width": null,
            "min_width": null,
            "border": null,
            "align_items": null,
            "bottom": null,
            "_model_module": "@jupyter-widgets/base",
            "top": null,
            "grid_column": null,
            "overflow_y": null,
            "overflow_x": null,
            "grid_auto_flow": null,
            "grid_area": null,
            "grid_template_columns": null,
            "flex": null,
            "_model_name": "LayoutModel",
            "justify_items": null,
            "grid_row": null,
            "max_height": null,
            "align_content": null,
            "visibility": null,
            "align_self": null,
            "height": null,
            "min_height": null,
            "padding": null,
            "grid_auto_rows": null,
            "grid_gap": null,
            "max_width": null,
            "order": null,
            "_view_module_version": "1.2.0",
            "grid_template_areas": null,
            "object_position": null,
            "object_fit": null,
            "grid_auto_columns": null,
            "margin": null,
            "display": null,
            "left": null
          }
        },
        "f4fad5e71b6d452582680d53bc02887b": {
          "model_module": "@jupyter-widgets/controls",
          "model_name": "HBoxModel",
          "state": {
            "_view_name": "HBoxView",
            "_dom_classes": [],
            "_model_name": "HBoxModel",
            "_view_module": "@jupyter-widgets/controls",
            "_model_module_version": "1.5.0",
            "_view_count": null,
            "_view_module_version": "1.5.0",
            "box_style": "",
            "layout": "IPY_MODEL_b5ba4ee9ada749afa53c87627c9a1598",
            "_model_module": "@jupyter-widgets/controls",
            "children": [
              "IPY_MODEL_468a2c0378484ca18d28e2b88e9c9f1c",
              "IPY_MODEL_a4a88af58f0648fd9e67ef698053aa57"
            ]
          }
        },
        "b5ba4ee9ada749afa53c87627c9a1598": {
          "model_module": "@jupyter-widgets/base",
          "model_name": "LayoutModel",
          "state": {
            "_view_name": "LayoutView",
            "grid_template_rows": null,
            "right": null,
            "justify_content": null,
            "_view_module": "@jupyter-widgets/base",
            "overflow": null,
            "_model_module_version": "1.2.0",
            "_view_count": null,
            "flex_flow": null,
            "width": null,
            "min_width": null,
            "border": null,
            "align_items": null,
            "bottom": null,
            "_model_module": "@jupyter-widgets/base",
            "top": null,
            "grid_column": null,
            "overflow_y": null,
            "overflow_x": null,
            "grid_auto_flow": null,
            "grid_area": null,
            "grid_template_columns": null,
            "flex": null,
            "_model_name": "LayoutModel",
            "justify_items": null,
            "grid_row": null,
            "max_height": null,
            "align_content": null,
            "visibility": null,
            "align_self": null,
            "height": null,
            "min_height": null,
            "padding": null,
            "grid_auto_rows": null,
            "grid_gap": null,
            "max_width": null,
            "order": null,
            "_view_module_version": "1.2.0",
            "grid_template_areas": null,
            "object_position": null,
            "object_fit": null,
            "grid_auto_columns": null,
            "margin": null,
            "display": null,
            "left": null
          }
        },
        "468a2c0378484ca18d28e2b88e9c9f1c": {
          "model_module": "@jupyter-widgets/controls",
          "model_name": "IntProgressModel",
          "state": {
            "_view_name": "ProgressView",
            "style": "IPY_MODEL_3de72e9d7a9f42cbaa48e0441c9a5571",
            "_dom_classes": [],
            "description": "",
            "_model_name": "IntProgressModel",
            "bar_style": "success",
            "max": 1062961,
            "_view_module": "@jupyter-widgets/controls",
            "_model_module_version": "1.5.0",
            "value": 1062961,
            "_view_count": null,
            "_view_module_version": "1.5.0",
            "orientation": "horizontal",
            "min": 0,
            "description_tooltip": null,
            "_model_module": "@jupyter-widgets/controls",
            "layout": "IPY_MODEL_667abf1e50a441c3842a2ac537e30e2e"
          }
        },
        "a4a88af58f0648fd9e67ef698053aa57": {
          "model_module": "@jupyter-widgets/controls",
          "model_name": "HTMLModel",
          "state": {
            "_view_name": "HTMLView",
            "style": "IPY_MODEL_8a71f381cf97499cb6f62e826cb2d0c1",
            "_dom_classes": [],
            "description": "",
            "_model_name": "HTMLModel",
            "placeholder": "​",
            "_view_module": "@jupyter-widgets/controls",
            "_model_module_version": "1.5.0",
            "value": "100% 1062961/1062961 [00:00&lt;00:00, 1357246.25it/s]",
            "_view_count": null,
            "_view_module_version": "1.5.0",
            "description_tooltip": null,
            "_model_module": "@jupyter-widgets/controls",
            "layout": "IPY_MODEL_9f2c8bf156324269ab89f89cd7de760f"
          }
        },
        "3de72e9d7a9f42cbaa48e0441c9a5571": {
          "model_module": "@jupyter-widgets/controls",
          "model_name": "ProgressStyleModel",
          "state": {
            "_view_name": "StyleView",
            "_model_name": "ProgressStyleModel",
            "description_width": "",
            "_view_module": "@jupyter-widgets/base",
            "_model_module_version": "1.5.0",
            "_view_count": null,
            "_view_module_version": "1.2.0",
            "bar_color": null,
            "_model_module": "@jupyter-widgets/controls"
          }
        },
        "667abf1e50a441c3842a2ac537e30e2e": {
          "model_module": "@jupyter-widgets/base",
          "model_name": "LayoutModel",
          "state": {
            "_view_name": "LayoutView",
            "grid_template_rows": null,
            "right": null,
            "justify_content": null,
            "_view_module": "@jupyter-widgets/base",
            "overflow": null,
            "_model_module_version": "1.2.0",
            "_view_count": null,
            "flex_flow": null,
            "width": null,
            "min_width": null,
            "border": null,
            "align_items": null,
            "bottom": null,
            "_model_module": "@jupyter-widgets/base",
            "top": null,
            "grid_column": null,
            "overflow_y": null,
            "overflow_x": null,
            "grid_auto_flow": null,
            "grid_area": null,
            "grid_template_columns": null,
            "flex": null,
            "_model_name": "LayoutModel",
            "justify_items": null,
            "grid_row": null,
            "max_height": null,
            "align_content": null,
            "visibility": null,
            "align_self": null,
            "height": null,
            "min_height": null,
            "padding": null,
            "grid_auto_rows": null,
            "grid_gap": null,
            "max_width": null,
            "order": null,
            "_view_module_version": "1.2.0",
            "grid_template_areas": null,
            "object_position": null,
            "object_fit": null,
            "grid_auto_columns": null,
            "margin": null,
            "display": null,
            "left": null
          }
        },
        "8a71f381cf97499cb6f62e826cb2d0c1": {
          "model_module": "@jupyter-widgets/controls",
          "model_name": "DescriptionStyleModel",
          "state": {
            "_view_name": "StyleView",
            "_model_name": "DescriptionStyleModel",
            "description_width": "",
            "_view_module": "@jupyter-widgets/base",
            "_model_module_version": "1.5.0",
            "_view_count": null,
            "_view_module_version": "1.2.0",
            "_model_module": "@jupyter-widgets/controls"
          }
        },
        "9f2c8bf156324269ab89f89cd7de760f": {
          "model_module": "@jupyter-widgets/base",
          "model_name": "LayoutModel",
          "state": {
            "_view_name": "LayoutView",
            "grid_template_rows": null,
            "right": null,
            "justify_content": null,
            "_view_module": "@jupyter-widgets/base",
            "overflow": null,
            "_model_module_version": "1.2.0",
            "_view_count": null,
            "flex_flow": null,
            "width": null,
            "min_width": null,
            "border": null,
            "align_items": null,
            "bottom": null,
            "_model_module": "@jupyter-widgets/base",
            "top": null,
            "grid_column": null,
            "overflow_y": null,
            "overflow_x": null,
            "grid_auto_flow": null,
            "grid_area": null,
            "grid_template_columns": null,
            "flex": null,
            "_model_name": "LayoutModel",
            "justify_items": null,
            "grid_row": null,
            "max_height": null,
            "align_content": null,
            "visibility": null,
            "align_self": null,
            "height": null,
            "min_height": null,
            "padding": null,
            "grid_auto_rows": null,
            "grid_gap": null,
            "max_width": null,
            "order": null,
            "_view_module_version": "1.2.0",
            "grid_template_areas": null,
            "object_position": null,
            "object_fit": null,
            "grid_auto_columns": null,
            "margin": null,
            "display": null,
            "left": null
          }
        },
        "0e9ea95cf54141a4882ba608b64931ca": {
          "model_module": "@jupyter-widgets/controls",
          "model_name": "HBoxModel",
          "state": {
            "_view_name": "HBoxView",
            "_dom_classes": [],
            "_model_name": "HBoxModel",
            "_view_module": "@jupyter-widgets/controls",
            "_model_module_version": "1.5.0",
            "_view_count": null,
            "_view_module_version": "1.5.0",
            "box_style": "",
            "layout": "IPY_MODEL_3270317919f0400ea6613b858377231b",
            "_model_module": "@jupyter-widgets/controls",
            "children": [
              "IPY_MODEL_3b312416c1ec4207b1a483c4aec184fc",
              "IPY_MODEL_6b09731cbf4e43c28e327cf383f7fcdd"
            ]
          }
        },
        "3270317919f0400ea6613b858377231b": {
          "model_module": "@jupyter-widgets/base",
          "model_name": "LayoutModel",
          "state": {
            "_view_name": "LayoutView",
            "grid_template_rows": null,
            "right": null,
            "justify_content": null,
            "_view_module": "@jupyter-widgets/base",
            "overflow": null,
            "_model_module_version": "1.2.0",
            "_view_count": null,
            "flex_flow": null,
            "width": null,
            "min_width": null,
            "border": null,
            "align_items": null,
            "bottom": null,
            "_model_module": "@jupyter-widgets/base",
            "top": null,
            "grid_column": null,
            "overflow_y": null,
            "overflow_x": null,
            "grid_auto_flow": null,
            "grid_area": null,
            "grid_template_columns": null,
            "flex": null,
            "_model_name": "LayoutModel",
            "justify_items": null,
            "grid_row": null,
            "max_height": null,
            "align_content": null,
            "visibility": null,
            "align_self": null,
            "height": null,
            "min_height": null,
            "padding": null,
            "grid_auto_rows": null,
            "grid_gap": null,
            "max_width": null,
            "order": null,
            "_view_module_version": "1.2.0",
            "grid_template_areas": null,
            "object_position": null,
            "object_fit": null,
            "grid_auto_columns": null,
            "margin": null,
            "display": null,
            "left": null
          }
        },
        "3b312416c1ec4207b1a483c4aec184fc": {
          "model_module": "@jupyter-widgets/controls",
          "model_name": "IntProgressModel",
          "state": {
            "_view_name": "ProgressView",
            "style": "IPY_MODEL_9b2d482ca766438fbb0e905a7f1f34ee",
            "_dom_classes": [],
            "description": "",
            "_model_name": "IntProgressModel",
            "bar_style": "success",
            "max": 1062961,
            "_view_module": "@jupyter-widgets/controls",
            "_model_module_version": "1.5.0",
            "value": 1062961,
            "_view_count": null,
            "_view_module_version": "1.5.0",
            "orientation": "horizontal",
            "min": 0,
            "description_tooltip": null,
            "_model_module": "@jupyter-widgets/controls",
            "layout": "IPY_MODEL_c50550e7a174421ba6de2e2a305bf5c3"
          }
        },
        "6b09731cbf4e43c28e327cf383f7fcdd": {
          "model_module": "@jupyter-widgets/controls",
          "model_name": "HTMLModel",
          "state": {
            "_view_name": "HTMLView",
            "style": "IPY_MODEL_6517b904ccbc4d7c8516a7fec2fd7b81",
            "_dom_classes": [],
            "description": "",
            "_model_name": "HTMLModel",
            "placeholder": "​",
            "_view_module": "@jupyter-widgets/controls",
            "_model_module_version": "1.5.0",
            "value": "100% 1062961/1062961 [00:00&lt;00:00, 1595753.32it/s]",
            "_view_count": null,
            "_view_module_version": "1.5.0",
            "description_tooltip": null,
            "_model_module": "@jupyter-widgets/controls",
            "layout": "IPY_MODEL_441560111e7d41f0bf0b9832854ffcf7"
          }
        },
        "9b2d482ca766438fbb0e905a7f1f34ee": {
          "model_module": "@jupyter-widgets/controls",
          "model_name": "ProgressStyleModel",
          "state": {
            "_view_name": "StyleView",
            "_model_name": "ProgressStyleModel",
            "description_width": "",
            "_view_module": "@jupyter-widgets/base",
            "_model_module_version": "1.5.0",
            "_view_count": null,
            "_view_module_version": "1.2.0",
            "bar_color": null,
            "_model_module": "@jupyter-widgets/controls"
          }
        },
        "c50550e7a174421ba6de2e2a305bf5c3": {
          "model_module": "@jupyter-widgets/base",
          "model_name": "LayoutModel",
          "state": {
            "_view_name": "LayoutView",
            "grid_template_rows": null,
            "right": null,
            "justify_content": null,
            "_view_module": "@jupyter-widgets/base",
            "overflow": null,
            "_model_module_version": "1.2.0",
            "_view_count": null,
            "flex_flow": null,
            "width": null,
            "min_width": null,
            "border": null,
            "align_items": null,
            "bottom": null,
            "_model_module": "@jupyter-widgets/base",
            "top": null,
            "grid_column": null,
            "overflow_y": null,
            "overflow_x": null,
            "grid_auto_flow": null,
            "grid_area": null,
            "grid_template_columns": null,
            "flex": null,
            "_model_name": "LayoutModel",
            "justify_items": null,
            "grid_row": null,
            "max_height": null,
            "align_content": null,
            "visibility": null,
            "align_self": null,
            "height": null,
            "min_height": null,
            "padding": null,
            "grid_auto_rows": null,
            "grid_gap": null,
            "max_width": null,
            "order": null,
            "_view_module_version": "1.2.0",
            "grid_template_areas": null,
            "object_position": null,
            "object_fit": null,
            "grid_auto_columns": null,
            "margin": null,
            "display": null,
            "left": null
          }
        },
        "6517b904ccbc4d7c8516a7fec2fd7b81": {
          "model_module": "@jupyter-widgets/controls",
          "model_name": "DescriptionStyleModel",
          "state": {
            "_view_name": "StyleView",
            "_model_name": "DescriptionStyleModel",
            "description_width": "",
            "_view_module": "@jupyter-widgets/base",
            "_model_module_version": "1.5.0",
            "_view_count": null,
            "_view_module_version": "1.2.0",
            "_model_module": "@jupyter-widgets/controls"
          }
        },
        "441560111e7d41f0bf0b9832854ffcf7": {
          "model_module": "@jupyter-widgets/base",
          "model_name": "LayoutModel",
          "state": {
            "_view_name": "LayoutView",
            "grid_template_rows": null,
            "right": null,
            "justify_content": null,
            "_view_module": "@jupyter-widgets/base",
            "overflow": null,
            "_model_module_version": "1.2.0",
            "_view_count": null,
            "flex_flow": null,
            "width": null,
            "min_width": null,
            "border": null,
            "align_items": null,
            "bottom": null,
            "_model_module": "@jupyter-widgets/base",
            "top": null,
            "grid_column": null,
            "overflow_y": null,
            "overflow_x": null,
            "grid_auto_flow": null,
            "grid_area": null,
            "grid_template_columns": null,
            "flex": null,
            "_model_name": "LayoutModel",
            "justify_items": null,
            "grid_row": null,
            "max_height": null,
            "align_content": null,
            "visibility": null,
            "align_self": null,
            "height": null,
            "min_height": null,
            "padding": null,
            "grid_auto_rows": null,
            "grid_gap": null,
            "max_width": null,
            "order": null,
            "_view_module_version": "1.2.0",
            "grid_template_areas": null,
            "object_position": null,
            "object_fit": null,
            "grid_auto_columns": null,
            "margin": null,
            "display": null,
            "left": null
          }
        },
        "813aaef4bd3c4a9c87215ca61728ea2c": {
          "model_module": "@jupyter-widgets/controls",
          "model_name": "HBoxModel",
          "state": {
            "_view_name": "HBoxView",
            "_dom_classes": [],
            "_model_name": "HBoxModel",
            "_view_module": "@jupyter-widgets/controls",
            "_model_module_version": "1.5.0",
            "_view_count": null,
            "_view_module_version": "1.5.0",
            "box_style": "",
            "layout": "IPY_MODEL_c0eee1558ccc4b2892f72dca4a27033d",
            "_model_module": "@jupyter-widgets/controls",
            "children": [
              "IPY_MODEL_b9c19d15fe304cf487a8f7a708303c5e",
              "IPY_MODEL_063f308427fe4663b5067b0aac38852a"
            ]
          }
        },
        "c0eee1558ccc4b2892f72dca4a27033d": {
          "model_module": "@jupyter-widgets/base",
          "model_name": "LayoutModel",
          "state": {
            "_view_name": "LayoutView",
            "grid_template_rows": null,
            "right": null,
            "justify_content": null,
            "_view_module": "@jupyter-widgets/base",
            "overflow": null,
            "_model_module_version": "1.2.0",
            "_view_count": null,
            "flex_flow": null,
            "width": null,
            "min_width": null,
            "border": null,
            "align_items": null,
            "bottom": null,
            "_model_module": "@jupyter-widgets/base",
            "top": null,
            "grid_column": null,
            "overflow_y": null,
            "overflow_x": null,
            "grid_auto_flow": null,
            "grid_area": null,
            "grid_template_columns": null,
            "flex": null,
            "_model_name": "LayoutModel",
            "justify_items": null,
            "grid_row": null,
            "max_height": null,
            "align_content": null,
            "visibility": null,
            "align_self": null,
            "height": null,
            "min_height": null,
            "padding": null,
            "grid_auto_rows": null,
            "grid_gap": null,
            "max_width": null,
            "order": null,
            "_view_module_version": "1.2.0",
            "grid_template_areas": null,
            "object_position": null,
            "object_fit": null,
            "grid_auto_columns": null,
            "margin": null,
            "display": null,
            "left": null
          }
        },
        "b9c19d15fe304cf487a8f7a708303c5e": {
          "model_module": "@jupyter-widgets/controls",
          "model_name": "IntProgressModel",
          "state": {
            "_view_name": "ProgressView",
            "style": "IPY_MODEL_5d9ea2fba9224b3b9e7074d12d838b77",
            "_dom_classes": [],
            "description": "",
            "_model_name": "IntProgressModel",
            "bar_style": "success",
            "max": 1062961,
            "_view_module": "@jupyter-widgets/controls",
            "_model_module_version": "1.5.0",
            "value": 1062961,
            "_view_count": null,
            "_view_module_version": "1.5.0",
            "orientation": "horizontal",
            "min": 0,
            "description_tooltip": null,
            "_model_module": "@jupyter-widgets/controls",
            "layout": "IPY_MODEL_d1581e0e1c6e437090faeed015394b4c"
          }
        },
        "063f308427fe4663b5067b0aac38852a": {
          "model_module": "@jupyter-widgets/controls",
          "model_name": "HTMLModel",
          "state": {
            "_view_name": "HTMLView",
            "style": "IPY_MODEL_1332290c41be40abaad542dd0b23bec8",
            "_dom_classes": [],
            "description": "",
            "_model_name": "HTMLModel",
            "placeholder": "​",
            "_view_module": "@jupyter-widgets/controls",
            "_model_module_version": "1.5.0",
            "value": "100% 1062961/1062961 [00:00&lt;00:00, 1553284.48it/s]",
            "_view_count": null,
            "_view_module_version": "1.5.0",
            "description_tooltip": null,
            "_model_module": "@jupyter-widgets/controls",
            "layout": "IPY_MODEL_bcbe1c0d49ec4bfd8b4e1fa653ebcddb"
          }
        },
        "5d9ea2fba9224b3b9e7074d12d838b77": {
          "model_module": "@jupyter-widgets/controls",
          "model_name": "ProgressStyleModel",
          "state": {
            "_view_name": "StyleView",
            "_model_name": "ProgressStyleModel",
            "description_width": "",
            "_view_module": "@jupyter-widgets/base",
            "_model_module_version": "1.5.0",
            "_view_count": null,
            "_view_module_version": "1.2.0",
            "bar_color": null,
            "_model_module": "@jupyter-widgets/controls"
          }
        },
        "d1581e0e1c6e437090faeed015394b4c": {
          "model_module": "@jupyter-widgets/base",
          "model_name": "LayoutModel",
          "state": {
            "_view_name": "LayoutView",
            "grid_template_rows": null,
            "right": null,
            "justify_content": null,
            "_view_module": "@jupyter-widgets/base",
            "overflow": null,
            "_model_module_version": "1.2.0",
            "_view_count": null,
            "flex_flow": null,
            "width": null,
            "min_width": null,
            "border": null,
            "align_items": null,
            "bottom": null,
            "_model_module": "@jupyter-widgets/base",
            "top": null,
            "grid_column": null,
            "overflow_y": null,
            "overflow_x": null,
            "grid_auto_flow": null,
            "grid_area": null,
            "grid_template_columns": null,
            "flex": null,
            "_model_name": "LayoutModel",
            "justify_items": null,
            "grid_row": null,
            "max_height": null,
            "align_content": null,
            "visibility": null,
            "align_self": null,
            "height": null,
            "min_height": null,
            "padding": null,
            "grid_auto_rows": null,
            "grid_gap": null,
            "max_width": null,
            "order": null,
            "_view_module_version": "1.2.0",
            "grid_template_areas": null,
            "object_position": null,
            "object_fit": null,
            "grid_auto_columns": null,
            "margin": null,
            "display": null,
            "left": null
          }
        },
        "1332290c41be40abaad542dd0b23bec8": {
          "model_module": "@jupyter-widgets/controls",
          "model_name": "DescriptionStyleModel",
          "state": {
            "_view_name": "StyleView",
            "_model_name": "DescriptionStyleModel",
            "description_width": "",
            "_view_module": "@jupyter-widgets/base",
            "_model_module_version": "1.5.0",
            "_view_count": null,
            "_view_module_version": "1.2.0",
            "_model_module": "@jupyter-widgets/controls"
          }
        },
        "bcbe1c0d49ec4bfd8b4e1fa653ebcddb": {
          "model_module": "@jupyter-widgets/base",
          "model_name": "LayoutModel",
          "state": {
            "_view_name": "LayoutView",
            "grid_template_rows": null,
            "right": null,
            "justify_content": null,
            "_view_module": "@jupyter-widgets/base",
            "overflow": null,
            "_model_module_version": "1.2.0",
            "_view_count": null,
            "flex_flow": null,
            "width": null,
            "min_width": null,
            "border": null,
            "align_items": null,
            "bottom": null,
            "_model_module": "@jupyter-widgets/base",
            "top": null,
            "grid_column": null,
            "overflow_y": null,
            "overflow_x": null,
            "grid_auto_flow": null,
            "grid_area": null,
            "grid_template_columns": null,
            "flex": null,
            "_model_name": "LayoutModel",
            "justify_items": null,
            "grid_row": null,
            "max_height": null,
            "align_content": null,
            "visibility": null,
            "align_self": null,
            "height": null,
            "min_height": null,
            "padding": null,
            "grid_auto_rows": null,
            "grid_gap": null,
            "max_width": null,
            "order": null,
            "_view_module_version": "1.2.0",
            "grid_template_areas": null,
            "object_position": null,
            "object_fit": null,
            "grid_auto_columns": null,
            "margin": null,
            "display": null,
            "left": null
          }
        },
        "3775ffaacdad49f38e99ccb709bdd2ed": {
          "model_module": "@jupyter-widgets/controls",
          "model_name": "HBoxModel",
          "state": {
            "_view_name": "HBoxView",
            "_dom_classes": [],
            "_model_name": "HBoxModel",
            "_view_module": "@jupyter-widgets/controls",
            "_model_module_version": "1.5.0",
            "_view_count": null,
            "_view_module_version": "1.5.0",
            "box_style": "",
            "layout": "IPY_MODEL_2704ab3ac4c749fcbb9d6e767b2d19f5",
            "_model_module": "@jupyter-widgets/controls",
            "children": [
              "IPY_MODEL_ab54963131bc43a5a01d4b0ab5513381",
              "IPY_MODEL_17e181522cca43fe863a0ede6b9bd8ca"
            ]
          }
        },
        "2704ab3ac4c749fcbb9d6e767b2d19f5": {
          "model_module": "@jupyter-widgets/base",
          "model_name": "LayoutModel",
          "state": {
            "_view_name": "LayoutView",
            "grid_template_rows": null,
            "right": null,
            "justify_content": null,
            "_view_module": "@jupyter-widgets/base",
            "overflow": null,
            "_model_module_version": "1.2.0",
            "_view_count": null,
            "flex_flow": null,
            "width": null,
            "min_width": null,
            "border": null,
            "align_items": null,
            "bottom": null,
            "_model_module": "@jupyter-widgets/base",
            "top": null,
            "grid_column": null,
            "overflow_y": null,
            "overflow_x": null,
            "grid_auto_flow": null,
            "grid_area": null,
            "grid_template_columns": null,
            "flex": null,
            "_model_name": "LayoutModel",
            "justify_items": null,
            "grid_row": null,
            "max_height": null,
            "align_content": null,
            "visibility": null,
            "align_self": null,
            "height": null,
            "min_height": null,
            "padding": null,
            "grid_auto_rows": null,
            "grid_gap": null,
            "max_width": null,
            "order": null,
            "_view_module_version": "1.2.0",
            "grid_template_areas": null,
            "object_position": null,
            "object_fit": null,
            "grid_auto_columns": null,
            "margin": null,
            "display": null,
            "left": null
          }
        },
        "ab54963131bc43a5a01d4b0ab5513381": {
          "model_module": "@jupyter-widgets/controls",
          "model_name": "IntProgressModel",
          "state": {
            "_view_name": "ProgressView",
            "style": "IPY_MODEL_3092edad234a4948875e19cc2d24c7ad",
            "_dom_classes": [],
            "description": "",
            "_model_name": "IntProgressModel",
            "bar_style": "success",
            "max": 1,
            "_view_module": "@jupyter-widgets/controls",
            "_model_module_version": "1.5.0",
            "value": 1,
            "_view_count": null,
            "_view_module_version": "1.5.0",
            "orientation": "horizontal",
            "min": 0,
            "description_tooltip": null,
            "_model_module": "@jupyter-widgets/controls",
            "layout": "IPY_MODEL_78a57509114d406f92a7c9426587f2ee"
          }
        },
        "17e181522cca43fe863a0ede6b9bd8ca": {
          "model_module": "@jupyter-widgets/controls",
          "model_name": "HTMLModel",
          "state": {
            "_view_name": "HTMLView",
            "style": "IPY_MODEL_cea1e9f186a1427e9fa7e0af984ebe1f",
            "_dom_classes": [],
            "description": "",
            "_model_name": "HTMLModel",
            "placeholder": "​",
            "_view_module": "@jupyter-widgets/controls",
            "_model_module_version": "1.5.0",
            "value": "1062961it [00:24, 42933.19it/s]",
            "_view_count": null,
            "_view_module_version": "1.5.0",
            "description_tooltip": null,
            "_model_module": "@jupyter-widgets/controls",
            "layout": "IPY_MODEL_9d9f05906a5247eca722b29372f4bdb0"
          }
        },
        "3092edad234a4948875e19cc2d24c7ad": {
          "model_module": "@jupyter-widgets/controls",
          "model_name": "ProgressStyleModel",
          "state": {
            "_view_name": "StyleView",
            "_model_name": "ProgressStyleModel",
            "description_width": "",
            "_view_module": "@jupyter-widgets/base",
            "_model_module_version": "1.5.0",
            "_view_count": null,
            "_view_module_version": "1.2.0",
            "bar_color": null,
            "_model_module": "@jupyter-widgets/controls"
          }
        },
        "78a57509114d406f92a7c9426587f2ee": {
          "model_module": "@jupyter-widgets/base",
          "model_name": "LayoutModel",
          "state": {
            "_view_name": "LayoutView",
            "grid_template_rows": null,
            "right": null,
            "justify_content": null,
            "_view_module": "@jupyter-widgets/base",
            "overflow": null,
            "_model_module_version": "1.2.0",
            "_view_count": null,
            "flex_flow": null,
            "width": null,
            "min_width": null,
            "border": null,
            "align_items": null,
            "bottom": null,
            "_model_module": "@jupyter-widgets/base",
            "top": null,
            "grid_column": null,
            "overflow_y": null,
            "overflow_x": null,
            "grid_auto_flow": null,
            "grid_area": null,
            "grid_template_columns": null,
            "flex": null,
            "_model_name": "LayoutModel",
            "justify_items": null,
            "grid_row": null,
            "max_height": null,
            "align_content": null,
            "visibility": null,
            "align_self": null,
            "height": null,
            "min_height": null,
            "padding": null,
            "grid_auto_rows": null,
            "grid_gap": null,
            "max_width": null,
            "order": null,
            "_view_module_version": "1.2.0",
            "grid_template_areas": null,
            "object_position": null,
            "object_fit": null,
            "grid_auto_columns": null,
            "margin": null,
            "display": null,
            "left": null
          }
        },
        "cea1e9f186a1427e9fa7e0af984ebe1f": {
          "model_module": "@jupyter-widgets/controls",
          "model_name": "DescriptionStyleModel",
          "state": {
            "_view_name": "StyleView",
            "_model_name": "DescriptionStyleModel",
            "description_width": "",
            "_view_module": "@jupyter-widgets/base",
            "_model_module_version": "1.5.0",
            "_view_count": null,
            "_view_module_version": "1.2.0",
            "_model_module": "@jupyter-widgets/controls"
          }
        },
        "9d9f05906a5247eca722b29372f4bdb0": {
          "model_module": "@jupyter-widgets/base",
          "model_name": "LayoutModel",
          "state": {
            "_view_name": "LayoutView",
            "grid_template_rows": null,
            "right": null,
            "justify_content": null,
            "_view_module": "@jupyter-widgets/base",
            "overflow": null,
            "_model_module_version": "1.2.0",
            "_view_count": null,
            "flex_flow": null,
            "width": null,
            "min_width": null,
            "border": null,
            "align_items": null,
            "bottom": null,
            "_model_module": "@jupyter-widgets/base",
            "top": null,
            "grid_column": null,
            "overflow_y": null,
            "overflow_x": null,
            "grid_auto_flow": null,
            "grid_area": null,
            "grid_template_columns": null,
            "flex": null,
            "_model_name": "LayoutModel",
            "justify_items": null,
            "grid_row": null,
            "max_height": null,
            "align_content": null,
            "visibility": null,
            "align_self": null,
            "height": null,
            "min_height": null,
            "padding": null,
            "grid_auto_rows": null,
            "grid_gap": null,
            "max_width": null,
            "order": null,
            "_view_module_version": "1.2.0",
            "grid_template_areas": null,
            "object_position": null,
            "object_fit": null,
            "grid_auto_columns": null,
            "margin": null,
            "display": null,
            "left": null
          }
        }
      }
    }
  },
  "cells": [
    {
      "cell_type": "code",
      "metadata": {
        "id": "Z1a1YvqQMYwq",
        "colab_type": "code",
        "colab": {}
      },
      "source": [
        "!pip install gdal\n",
        "!pip install rasterio\n",
        "!pip install sentinelsat"
      ],
      "execution_count": 0,
      "outputs": []
    },
    {
      "cell_type": "code",
      "metadata": {
        "id": "RFoYRRBraO35",
        "colab_type": "code",
        "colab": {}
      },
      "source": [
        "from sentinelsat.sentinel import SentinelAPI, read_geojson, geojson_to_wkt\n",
        "import gdal\n",
        "from gdalconst import GA_ReadOnly \n",
        "import matplotlib.pyplot as plt\n",
        "%matplotlib inline \n",
        "import cv2\n",
        "import numpy as np\n",
        "from collections import Counter\n",
        "from tqdm import tqdm_notebook as tqdm\n",
        "IMG_SIZE=1031\n",
        "import rasterio\n",
        "from rasterio.plot import show\n",
        "import subprocess\n",
        "import os\n",
        "import math\n",
        "from sklearn.preprocessing import minmax_scale\n",
        "from google.colab import drive\n",
        "\n",
        "drive.mount('/content/drive')\n",
        "\n"
      ],
      "execution_count": 0,
      "outputs": []
    },
    {
      "cell_type": "markdown",
      "metadata": {
        "id": "H8AocvjjPhJv",
        "colab_type": "text"
      },
      "source": [
        "# **GHS BUILT-UP**"
      ]
    },
    {
      "cell_type": "markdown",
      "metadata": {
        "id": "mc5cUgbQMsgh",
        "colab_type": "text"
      },
      "source": [
        "**Download CLC reference data**"
      ]
    },
    {
      "cell_type": "code",
      "metadata": {
        "id": "cMkDlUdYMcms",
        "colab_type": "code",
        "outputId": "e619154f-52c0-4891-ddb6-1f06a4a65f5f",
        "colab": {
          "base_uri": "https://localhost:8080/",
          "height": 54
        }
      },
      "source": [
        "subprocess.run(['wget', 'https://land.copernicus.eu/land-files/7ac95361f9ac3cecdf37785bc183ff02dd765a16.zip'])\n",
        "subprocess.run(['unzip' ,'7ac95361f9ac3cecdf37785bc183ff02dd765a16.zip'])\n",
        "subprocess.run(['unzip' ,'clc2018_clc2018_v2018_20_raster100m.zip'])\n",
        "subprocess.run(['gdalwarp','-co','COMPRESS=DEFLATE','-t_srs','EPSG:32632','clc2018_clc2018_v2018_20_raster100m/CLC2018_CLC2018_V2018_20.tif','europe.tif'])\n"
      ],
      "execution_count": 3,
      "outputs": [
        {
          "output_type": "execute_result",
          "data": {
            "text/plain": [
              "CompletedProcess(args=['gdalwarp', '-co', 'COMPRESS=DEFLATE', '-t_srs', 'EPSG:32632', 'clc2018_clc2018_v2018_20_raster100m/CLC2018_CLC2018_V2018_20.tif', 'europe.tif'], returncode=0)"
            ]
          },
          "metadata": {
            "tags": []
          },
          "execution_count": 3
        }
      ]
    },
    {
      "cell_type": "markdown",
      "metadata": {
        "id": "3TibEqxG3UVr",
        "colab_type": "text"
      },
      "source": [
        "**STEP 1 : DATA PREPROCESSING**"
      ]
    },
    {
      "cell_type": "code",
      "metadata": {
        "id": "7eprcUOi3EDs",
        "colab_type": "code",
        "colab": {}
      },
      "source": [
        "def download_scene(file_id):\n",
        "  api = SentinelAPI('s5pguest', 's5pguest',api_url='https://scihub.copernicus.eu/apihub')\n",
        "  api.download(file_id)\n",
        "\n",
        "def unzip_scene(file_name):\n",
        "  subprocess.call('unzip '+file_name,shell=True)\n",
        "\n",
        "def jp2_to_tif(input_file,output_file):\n",
        "  subprocess.call('gdal_translate ' +input_file+' '+output_file,shell=True)\n",
        "\n",
        "def clip_ref_scene(input_file,output_file):\n",
        "  data=gdal.Open(input_file,GA_ReadOnly) \n",
        "  geoTransform=data.GetGeoTransform() \n",
        "  minx=geoTransform[0] \n",
        "  maxy=geoTransform[3] \n",
        "  maxx = minx + geoTransform[1] * data.RasterXSize \n",
        "  miny = maxy + geoTransform[5] * data.RasterYSize \n",
        "  subprocess.call('gdal_translate -projwin ' + ' '.join([str(x) for x in [minx, maxy, maxx, miny]]) + ' -of GTiff europe.tif ' +output_file, shell=True) \n",
        "\n",
        "def resize_scene(input_file,output_file):\n",
        "  subprocess.call('gdal_translate -co QUALITY=100 -co PROGRESSIVE=ON -outsize '+str(IMG_SIZE)+' '+str(IMG_SIZE)+' -r bilinear '+input_file+' '+output_file,shell=True)\n",
        "\n",
        "\n",
        "\n",
        "def clip_ref_scene_pop(input_file,output_file):\n",
        "  data=gdal.Open(input_file,GA_ReadOnly) \n",
        "  geoTransform=data.GetGeoTransform() \n",
        "  minx=geoTransform[0] \n",
        "  maxy=geoTransform[3] \n",
        "  maxx = minx + geoTransform[1] * data.RasterXSize \n",
        "  miny = maxy + geoTransform[5] * data.RasterYSize \n",
        "  subprocess.call('gdal_translate -projwin ' + ' '.join([str(x) for x in [minx, maxy, maxx, miny]]) + ' -of GTiff world-population.tif ' +output_file, shell=True) "
      ],
      "execution_count": 0,
      "outputs": []
    },
    {
      "cell_type": "code",
      "metadata": {
        "id": "wNm3vAoqGJ3w",
        "colab_type": "code",
        "outputId": "b5188706-ce1d-4ffa-fd07-1ad15bfce74c",
        "colab": {
          "base_uri": "https://localhost:8080/",
          "height": 151
        }
      },
      "source": [
        "#download_scene('742eb824-df10-4402-866e-0d92e8575aa4')\n",
        "download_scene('cbb628b9-8399-4a24-aaeb-b5d5bdc49be0')\n",
        "unzip_scene('/content/S2A_MSIL1C_20190926T105811_N0208_R094_T30TVK_20190926T130550.zip')\n",
        "jp2_to_tif('/content/S2A_MSIL1C_20190926T105811_N0208_R094_T30TVK_20190926T130550.SAFE/GRANULE/L1C_T30TVK_A022256_20190926T110642/IMG_DATA/T30TVK_20190926T105811_TCI.jp2','test-full-temp.tif')\n",
        "!gdalwarp -co  COMPRESS=DEFLATE -t_srs EPSG:32632 'test-full-temp.tif' 'test-full.tif'\n",
        "clip_ref_scene('test-full.tif','test-y.tif')\n",
        "resize_scene('test-full.tif','test.tif')\n",
        "jp2_to_tif('/content/S2A_MSIL1C_20190926T105811_N0208_R094_T30TVK_20190926T130550.SAFE/GRANULE/L1C_T30TVK_A022256_20190926T110642/IMG_DATA/T30TVK_20190926T105811_B08.jp2','test-b8-full-temp.tif')\n",
        "!gdalwarp -co  COMPRESS=DEFLATE -t_srs EPSG:32632 'test-b8-full-temp.tif' 'test-b8-full.tif'\n",
        "clip_ref_scene('test-b8-full.tif','test-b8-y.tif')\n",
        "resize_scene('test-b8-full.tif','test-b8.tif')\n"
      ],
      "execution_count": 5,
      "outputs": [
        {
          "output_type": "stream",
          "text": [
            "Downloading: 100%|██████████| 900M/900M [00:29<00:00, 30.4MB/s]\n",
            "MD5 checksumming: 100%|██████████| 900M/900M [00:02<00:00, 433MB/s]\n"
          ],
          "name": "stderr"
        },
        {
          "output_type": "stream",
          "text": [
            "Creating output file that is 12371P x 12371L.\n",
            "Processing input file test-full-temp.tif.\n",
            "0...10...20...30...40...50...60...70...80...90...100 - done.\n",
            "Creating output file that is 12371P x 12371L.\n",
            "Processing input file test-b8-full-temp.tif.\n",
            "0...10...20...30...40...50...60...70...80...90...100 - done.\n"
          ],
          "name": "stdout"
        }
      ]
    },
    {
      "cell_type": "code",
      "metadata": {
        "id": "0oyqqoewN1Pq",
        "colab_type": "code",
        "colab": {}
      },
      "source": [
        ""
      ],
      "execution_count": 0,
      "outputs": []
    },
    {
      "cell_type": "markdown",
      "metadata": {
        "colab_type": "text",
        "id": "jPMzARDeN1pE"
      },
      "source": [
        "**DOWNLOAD GPW DATA**"
      ]
    },
    {
      "cell_type": "code",
      "metadata": {
        "colab_type": "code",
        "id": "t_oZDcf9N1pI",
        "colab": {
          "base_uri": "https://localhost:8080/",
          "height": 171
        },
        "outputId": "02b14196-3c11-4a49-cd47-2bb95e1a168b"
      },
      "source": [
        "!unzip '/content/drive/My Drive/Colab_Notebooks/gpw-v4-population-count-rev11_2015_30_sec_tif.zip'\n",
        "!gdalwarp -co  COMPRESS=DEFLATE -t_srs EPSG:32632 '/content/gpw_v4_population_count_rev11_2015_30_sec.tif' 'world-population.tif'\n",
        "clip_ref_scene_pop('test-full.tif','test-pop-full.tif')\n",
        "resize_scene('test-pop-full.tif','test-pop.tif')\n"
      ],
      "execution_count": 6,
      "outputs": [
        {
          "output_type": "stream",
          "text": [
            "Archive:  /content/drive/My Drive/Colab_Notebooks/gpw-v4-population-count-rev11_2015_30_sec_tif.zip\n",
            "  inflating: gpw_v4_population_count_rev11_2015_30_sec.tif  \n",
            "  inflating: gpw_v4_population_count_rev11_2015_30_sec_tif_readme.txt  \n",
            "Creating output file that is 31049P x 36997L.\n",
            "Processing input file /content/gpw_v4_population_count_rev11_2015_30_sec.tif.\n",
            "Using internal nodata values (e.g. -3.40282e+38) for image /content/gpw_v4_population_count_rev11_2015_30_sec.tif.\n",
            "Copying nodata values from source /content/gpw_v4_population_count_rev11_2015_30_sec.tif to destination world-population.tif.\n",
            "0...10...20...30...40...50...60...70...80...90...100 - done.\n"
          ],
          "name": "stdout"
        }
      ]
    },
    {
      "cell_type": "code",
      "metadata": {
        "id": "ltZFj9WoNM6B",
        "colab_type": "code",
        "outputId": "68637f0c-6ea9-409e-c881-f4980f0b7dcb",
        "colab": {
          "base_uri": "https://localhost:8080/",
          "height": 50
        }
      },
      "source": [
        "download_scene('4f07815d-5709-4b0b-8fdd-7e12c78e6546')\n",
        "unzip_scene('S2A_MSIL1C_20190629T103031_N0207_R108_T32UMV_20190629T124358.zip')\n",
        "jp2_to_tif('/content/S2A_MSIL1C_20190629T103031_N0207_R108_T32UMV_20190629T124358.SAFE/GRANULE/L1C_T32UMV_A020983_20190629T103537/IMG_DATA/T32UMV_20190629T103031_TCI.jp2','s1-full.tif')\n",
        "clip_ref_scene('s1-full.tif','s1-y.tif')\n",
        "resize_scene('s1-full.tif','s1.tif')\n",
        "jp2_to_tif('/content/S2A_MSIL1C_20190629T103031_N0207_R108_T32UMV_20190629T124358.SAFE/GRANULE/L1C_T32UMV_A020983_20190629T103537/IMG_DATA/T32UMV_20190629T103031_B08.jp2','s1-b8-full.tif')\n",
        "clip_ref_scene('s1-b8-full.tif','s1-b8-y.tif')\n",
        "resize_scene('s1-b8-full.tif','s1-b8.tif')"
      ],
      "execution_count": 7,
      "outputs": [
        {
          "output_type": "stream",
          "text": [
            "Downloading: 100%|██████████| 854M/854M [00:47<00:00, 21.0MB/s]\n",
            "MD5 checksumming: 100%|██████████| 854M/854M [00:01<00:00, 441MB/s]\n"
          ],
          "name": "stderr"
        }
      ]
    },
    {
      "cell_type": "code",
      "metadata": {
        "id": "_aXVnyDdPP5_",
        "colab_type": "code",
        "outputId": "67bb12d2-4aa8-4b4c-de30-a40268fcd22c",
        "colab": {
          "base_uri": "https://localhost:8080/",
          "height": 50
        }
      },
      "source": [
        "download_scene('03cf3314-1b05-46f1-af1b-cee2652edf2b')\n",
        "unzip_scene('S2B_MSIL1C_20190724T103029_N0208_R108_T32UMV_20190724T122822.zip')\n",
        "jp2_to_tif('/content/S2B_MSIL1C_20190724T103029_N0208_R108_T32UMV_20190724T122822.SAFE/GRANULE/L1C_T32UMV_A012432_20190724T103030/IMG_DATA/T32UMV_20190724T103029_TCI.jp2','s2-full.tif')\n",
        "clip_ref_scene('s2-full.tif','s2-y.tif')\n",
        "resize_scene('s2-full.tif','s2.tif')\n",
        "jp2_to_tif('/content/S2B_MSIL1C_20190724T103029_N0208_R108_T32UMV_20190724T122822.SAFE/GRANULE/L1C_T32UMV_A012432_20190724T103030/IMG_DATA/T32UMV_20190724T103029_B08.jp2','s2-b8-full.tif')\n",
        "clip_ref_scene('s2-b8-full.tif','s2-b8-y.tif')\n",
        "resize_scene('s2-b8-full.tif','s2-b8.tif')"
      ],
      "execution_count": 8,
      "outputs": [
        {
          "output_type": "stream",
          "text": [
            "Downloading: 100%|██████████| 840M/840M [00:27<00:00, 30.2MB/s]\n",
            "MD5 checksumming: 100%|██████████| 840M/840M [00:01<00:00, 431MB/s]\n"
          ],
          "name": "stderr"
        }
      ]
    },
    {
      "cell_type": "code",
      "metadata": {
        "id": "theSLX7TCzWm",
        "colab_type": "code",
        "outputId": "b6597c5f-f680-4ca3-a934-c04ccee1b7cb",
        "colab": {
          "base_uri": "https://localhost:8080/",
          "height": 50
        }
      },
      "source": [
        "download_scene('67a87302-2ff4-4c81-9e5e-792367578f6d')\n",
        "unzip_scene('S2B_MSIL1C_20190921T105739_N0208_R094_T30UYC_20190921T131721.zip')\n",
        "jp2_to_tif('/content/S2B_MSIL1C_20190921T105739_N0208_R094_T30UYC_20190921T131721.SAFE/GRANULE/L1C_T30UYC_A013276_20190921T110218/IMG_DATA/T30UYC_20190921T105739_TCI.jp2','s3-full.tif')\n",
        "clip_ref_scene('s3-full.tif','s3-y.tif')\n",
        "resize_scene('s3-full.tif','s3.tif')\n",
        "jp2_to_tif('/content/S2B_MSIL1C_20190921T105739_N0208_R094_T30UYC_20190921T131721.SAFE/GRANULE/L1C_T30UYC_A013276_20190921T110218/IMG_DATA/T30UYC_20190921T105739_B08.jp2','s3-b8-full.tif')\n",
        "clip_ref_scene('s3-b8-full.tif','s3-b8-y.tif')\n",
        "resize_scene('s3-b8-full.tif','s3-b8.tif')"
      ],
      "execution_count": 9,
      "outputs": [
        {
          "output_type": "stream",
          "text": [
            "Downloading: 100%|██████████| 818M/818M [00:27<00:00, 30.1MB/s]\n",
            "MD5 checksumming: 100%|██████████| 818M/818M [00:01<00:00, 434MB/s]\n"
          ],
          "name": "stderr"
        }
      ]
    },
    {
      "cell_type": "code",
      "metadata": {
        "id": "ZQxGlIB8I14v",
        "colab_type": "code",
        "outputId": "a3136702-1e47-474e-bf0e-d62aa8e4c332",
        "colab": {
          "base_uri": "https://localhost:8080/",
          "height": 50
        }
      },
      "source": [
        "download_scene('c04d2ba0-4880-4dcf-a733-879231478aa3')\n",
        "unzip_scene('S2B_MSIL1C_20190724T103029_N0208_R108_T31TGN_20190724T122822.zip')\n",
        "jp2_to_tif('/content/S2B_MSIL1C_20190724T103029_N0208_R108_T31TGN_20190724T122822.SAFE/GRANULE/L1C_T31TGN_A012432_20190724T103030/IMG_DATA/T31TGN_20190724T103029_TCI.jp2','s4-full.tif')\n",
        "clip_ref_scene('s4-full.tif','s4-y.tif')\n",
        "resize_scene('s4-full.tif','s4.tif')\n",
        "jp2_to_tif('/content/S2B_MSIL1C_20190724T103029_N0208_R108_T31TGN_20190724T122822.SAFE/GRANULE/L1C_T31TGN_A012432_20190724T103030/IMG_DATA/T31TGN_20190724T103029_B08.jp2','s4-b8-full.tif')\n",
        "clip_ref_scene('s4-b8-full.tif','s4-b8-y.tif')\n",
        "resize_scene('s4-b8-full.tif','s4-b8.tif')"
      ],
      "execution_count": 10,
      "outputs": [
        {
          "output_type": "stream",
          "text": [
            "Downloading: 100%|██████████| 824M/824M [00:27<00:00, 30.0MB/s]\n",
            "MD5 checksumming: 100%|██████████| 824M/824M [00:01<00:00, 433MB/s]\n"
          ],
          "name": "stderr"
        }
      ]
    },
    {
      "cell_type": "code",
      "metadata": {
        "id": "eIxGrcIFQYar",
        "colab_type": "code",
        "outputId": "37e9d9a1-ed98-44cb-cca8-079cb4be7ba6",
        "colab": {
          "base_uri": "https://localhost:8080/",
          "height": 50
        }
      },
      "source": [
        "download_scene('4557d038-7f7e-4356-b410-5c6e7d741e7f')\n",
        "unzip_scene('/content/S2A_MSIL1C_20190904T102021_N0208_R065_T32TNT_20190904T123501.zip')\n",
        "jp2_to_tif('/content/S2A_MSIL1C_20190904T102021_N0208_R065_T32TNT_20190904T123501.SAFE/GRANULE/L1C_T32TNT_A021941_20190904T102045/IMG_DATA/T32TNT_20190904T102021_TCI.jp2','s5-full.tif')\n",
        "clip_ref_scene('s5-full.tif','s5-y.tif')\n",
        "resize_scene('s5-full.tif','s5.tif')\n",
        "jp2_to_tif('/content/S2A_MSIL1C_20190904T102021_N0208_R065_T32TNT_20190904T123501.SAFE/GRANULE/L1C_T32TNT_A021941_20190904T102045/IMG_DATA/T32TNT_20190904T102021_B08.jp2','s5-b8-full.tif')\n",
        "clip_ref_scene('s5-b8-full.tif','s5-b8-y.tif')\n",
        "resize_scene('s5-b8-full.tif','s5-b8.tif')"
      ],
      "execution_count": 11,
      "outputs": [
        {
          "output_type": "stream",
          "text": [
            "Downloading: 100%|██████████| 847M/847M [00:28<00:00, 30.1MB/s]\n",
            "MD5 checksumming: 100%|██████████| 847M/847M [00:01<00:00, 432MB/s]\n"
          ],
          "name": "stderr"
        }
      ]
    },
    {
      "cell_type": "code",
      "metadata": {
        "id": "Nk8gd31NQYeh",
        "colab_type": "code",
        "outputId": "3e23c38c-3c8f-4c58-d088-256eadf479bd",
        "colab": {
          "base_uri": "https://localhost:8080/",
          "height": 50
        }
      },
      "source": [
        "download_scene('336a6ef0-784a-4a90-8333-02ed7ae93b85')\n",
        "unzip_scene('/content/S2B_MSIL1C_20190913T100029_N0208_R122_T33TVJ_20190913T134222.zip')\n",
        "jp2_to_tif('/content/S2B_MSIL1C_20190913T100029_N0208_R122_T33TVJ_20190913T134222.SAFE/GRANULE/L1C_T33TVJ_A013161_20190913T100548/IMG_DATA/T33TVJ_20190913T100029_TCI.jp2','s6-full.tif')\n",
        "clip_ref_scene('s6-full.tif','s6-y.tif')\n",
        "resize_scene('s6-full.tif','s6.tif')\n",
        "jp2_to_tif('/content/S2B_MSIL1C_20190913T100029_N0208_R122_T33TVJ_20190913T134222.SAFE/GRANULE/L1C_T33TVJ_A013161_20190913T100548/IMG_DATA/T33TVJ_20190913T100029_B08.jp2','s6-b8-full.tif')\n",
        "clip_ref_scene('s6-b8-full.tif','s6-b8-y.tif')\n",
        "resize_scene('s6-b8-full.tif','s6-b8.tif')"
      ],
      "execution_count": 12,
      "outputs": [
        {
          "output_type": "stream",
          "text": [
            "Downloading: 100%|██████████| 555M/555M [00:21<00:00, 25.5MB/s]\n",
            "MD5 checksumming: 100%|██████████| 555M/555M [00:01<00:00, 433MB/s]\n"
          ],
          "name": "stderr"
        }
      ]
    },
    {
      "cell_type": "markdown",
      "metadata": {
        "id": "ixJUkrMgcU8L",
        "colab_type": "text"
      },
      "source": [
        "**VISUALIZE TEST SET - MADRID REGION - SPAIN**"
      ]
    },
    {
      "cell_type": "code",
      "metadata": {
        "id": "yZyfQIfccjHl",
        "colab_type": "code",
        "outputId": "d9ba511e-a823-42a0-8131-45780de5f0b9",
        "colab": {
          "base_uri": "https://localhost:8080/",
          "height": 286
        }
      },
      "source": [
        "dataset = rasterio.open('test.tif')\n",
        "show(dataset.read([1,2,3]))"
      ],
      "execution_count": 13,
      "outputs": [
        {
          "output_type": "display_data",
          "data": {
            "image/png": "[encoded data removed]",
            "text/plain": [
              "<Figure size 432x288 with 1 Axes>"
            ]
          },
          "metadata": {
            "tags": []
          }
        },
        {
          "output_type": "execute_result",
          "data": {
            "text/plain": [
              "<matplotlib.axes._subplots.AxesSubplot at 0x7fc36e3cc400>"
            ]
          },
          "metadata": {
            "tags": []
          },
          "execution_count": 13
        }
      ]
    },
    {
      "cell_type": "code",
      "metadata": {
        "id": "i__Huo409P2W",
        "colab_type": "code",
        "colab": {}
      },
      "source": [
        "tif1=gdal.Open('s1.tif')\n",
        "s1r = tif1.GetRasterBand(1).ReadAsArray()\n",
        "s1g = tif1.GetRasterBand(2).ReadAsArray()\n",
        "s1b = tif1.GetRasterBand(3).ReadAsArray()\n",
        "tif1=gdal.Open('s1-b8.tif')\n",
        "s1b8=tif1.GetRasterBand(1).ReadAsArray()\n",
        "\n",
        "\n",
        "tif1=gdal.Open('s2.tif')\n",
        "s2r = tif1.GetRasterBand(1).ReadAsArray()\n",
        "s2g = tif1.GetRasterBand(2).ReadAsArray()\n",
        "s2b = tif1.GetRasterBand(3).ReadAsArray()\n",
        "tif1=gdal.Open('s2-b8.tif')\n",
        "s2b8=tif1.GetRasterBand(1).ReadAsArray()\n",
        "\n",
        "\n",
        "tif1=gdal.Open('s3.tif')\n",
        "s3r = tif1.GetRasterBand(1).ReadAsArray()\n",
        "s3g = tif1.GetRasterBand(2).ReadAsArray()\n",
        "s3b = tif1.GetRasterBand(3).ReadAsArray()\n",
        "tif1=gdal.Open('s3-b8.tif')\n",
        "s3b8=tif1.GetRasterBand(1).ReadAsArray()\n",
        "\n",
        "\n",
        "tif1=gdal.Open('s4.tif')\n",
        "s4r = tif1.GetRasterBand(1).ReadAsArray()\n",
        "s4g = tif1.GetRasterBand(2).ReadAsArray()\n",
        "s4b = tif1.GetRasterBand(3).ReadAsArray()\n",
        "tif1=gdal.Open('s4-b8.tif')\n",
        "s4b8=tif1.GetRasterBand(1).ReadAsArray()\n",
        "\n",
        "\n",
        "tif1=gdal.Open('s5.tif')\n",
        "s5r = tif1.GetRasterBand(1).ReadAsArray()\n",
        "s5g = tif1.GetRasterBand(2).ReadAsArray()\n",
        "s5b = tif1.GetRasterBand(3).ReadAsArray()\n",
        "tif1=gdal.Open('s5-b8.tif')\n",
        "s5b8=tif1.GetRasterBand(1).ReadAsArray()\n",
        "\n",
        "\n",
        "tif1=gdal.Open('s6.tif')\n",
        "s6r = tif1.GetRasterBand(1).ReadAsArray()\n",
        "s6g = tif1.GetRasterBand(2).ReadAsArray()\n",
        "s6b = tif1.GetRasterBand(3).ReadAsArray()\n",
        "tif1=gdal.Open('s6-b8.tif')\n",
        "s6b8=tif1.GetRasterBand(1).ReadAsArray()\n"
      ],
      "execution_count": 0,
      "outputs": []
    },
    {
      "cell_type": "code",
      "metadata": {
        "id": "UeXgX8gGJ1zr",
        "colab_type": "code",
        "colab": {}
      },
      "source": [
        "tif2=gdal.Open('test-y.tif')\n",
        "Y_raster_test= tif2.GetRasterBand(1).ReadAsArray()\n",
        "Y_raster_test[Y_raster_test < 100] = 999\n",
        "Y_raster_test[(Y_raster_test > 100)&(Y_raster_test <= 150)] = 0\n",
        "Y_raster_test[Y_raster_test > 150] = 255"
      ],
      "execution_count": 0,
      "outputs": []
    },
    {
      "cell_type": "code",
      "metadata": {
        "id": "DhVGgAwsDE1W",
        "colab_type": "code",
        "outputId": "92d311b9-2c2c-4c23-ed33-b1ada8384902",
        "colab": {
          "base_uri": "https://localhost:8080/",
          "height": 34
        }
      },
      "source": [
        "tif2=gdal.Open('s1-y.tif')\n",
        "Y_raster_s1 = tif2.GetRasterBand(1).ReadAsArray()\n",
        "Y_raster_s1[Y_raster_s1 < 100] = 999\n",
        "Y_raster_s1[(Y_raster_s1 > 100)&(Y_raster_s1 <= 150)] = 0\n",
        "Y_raster_s1[Y_raster_s1 > 150] = 255\n",
        "Y_list=Y_raster_s1.flatten().tolist()\n",
        "print(len(Y_list))"
      ],
      "execution_count": 16,
      "outputs": [
        {
          "output_type": "stream",
          "text": [
            "1062961\n"
          ],
          "name": "stdout"
        }
      ]
    },
    {
      "cell_type": "code",
      "metadata": {
        "id": "Cm0pI9wdDbU2",
        "colab_type": "code",
        "outputId": "c51cbea1-c299-43a3-96fe-6ca98efcf46f",
        "colab": {
          "base_uri": "https://localhost:8080/",
          "height": 50
        }
      },
      "source": [
        "tif2=gdal.Open('s2-y.tif')\n",
        "Y_raster_s2 = tif2.GetRasterBand(1).ReadAsArray()\n",
        "print(np.unique(Y_raster_s2))\n",
        "Y_raster_s2[Y_raster_s2 < 100] = 999\n",
        "Y_raster_s2[(Y_raster_s2 > 100)&(Y_raster_s2 <= 150)] = 0\n",
        "Y_raster_s2[Y_raster_s2 > 150] = 255\n",
        "\n",
        "Y_list=Y_list+(Y_raster_s2.flatten().tolist())"
      ],
      "execution_count": 17,
      "outputs": [
        {
          "output_type": "stream",
          "text": [
            "[111 112 121 122 123 124 131 132 133 141 142 211 221 222 231 242 243 311\n",
            " 312 313 321 322 324 411 412 511 512]\n"
          ],
          "name": "stdout"
        }
      ]
    },
    {
      "cell_type": "code",
      "metadata": {
        "id": "4P6PAl0xDdJn",
        "colab_type": "code",
        "outputId": "0355f095-739e-4d83-bd25-c25c941c7834",
        "colab": {
          "base_uri": "https://localhost:8080/",
          "height": 50
        }
      },
      "source": [
        "tif2=gdal.Open('s3-y.tif')\n",
        "Y_raster_s3 = tif2.GetRasterBand(1).ReadAsArray()\n",
        "print(np.unique(Y_raster_s3))\n",
        "Y_raster_s3[Y_raster_s3 < 100] = 999\n",
        "Y_raster_s3[(Y_raster_s3 > 100)&(Y_raster_s3 <= 150)] = 0\n",
        "Y_raster_s3[Y_raster_s3 > 150] = 255\n",
        "\n",
        "Y_list=Y_list+(Y_raster_s3.flatten().tolist())"
      ],
      "execution_count": 18,
      "outputs": [
        {
          "output_type": "stream",
          "text": [
            "[111 112 121 122 123 124 131 132 133 141 142 211 222 231 242 243 311 312\n",
            " 313 321 322 324 333 411 412 511 512]\n"
          ],
          "name": "stdout"
        }
      ]
    },
    {
      "cell_type": "code",
      "metadata": {
        "id": "fUYhZKvLR6UL",
        "colab_type": "code",
        "outputId": "41956ecc-4ddf-4ebe-bbd7-d5a7f82fb59e",
        "colab": {
          "base_uri": "https://localhost:8080/",
          "height": 67
        }
      },
      "source": [
        "tif2=gdal.Open('s4-y.tif')\n",
        "Y_raster_s4 = tif2.GetRasterBand(1).ReadAsArray()\n",
        "print(np.unique(Y_raster_s4))\n",
        "Y_raster_s4[Y_raster_s4 < 100] = 999\n",
        "Y_raster_s4[(Y_raster_s4 > 100)&(Y_raster_s4 <= 150)] = 0\n",
        "Y_raster_s4[Y_raster_s4 > 150] = 255\n",
        " \n",
        "Y_list=Y_list+(Y_raster_s4.flatten().tolist())\n",
        "\n",
        "print(len(Y_list))"
      ],
      "execution_count": 19,
      "outputs": [
        {
          "output_type": "stream",
          "text": [
            "[111 112 121 122 124 131 141 142 211 231 242 243 311 312 313 321 322 324\n",
            " 331 332 333 335 411 412 511 512]\n",
            "4251844\n"
          ],
          "name": "stdout"
        }
      ]
    },
    {
      "cell_type": "code",
      "metadata": {
        "id": "zecGHKZnl6lE",
        "colab_type": "code",
        "outputId": "5f5f44d0-8561-4c2c-a222-5af743ad3dc1",
        "colab": {
          "base_uri": "https://localhost:8080/",
          "height": 50
        }
      },
      "source": [
        "tif2=gdal.Open('s5-y.tif')\n",
        "Y_raster_s5 = tif2.GetRasterBand(1).ReadAsArray()\n",
        "print(np.unique(Y_raster_s5))\n",
        "Y_raster_s5[Y_raster_s5 < 100] = 999\n",
        "Y_raster_s5[(Y_raster_s5 > 100)&(Y_raster_s5 <= 150)] = 0\n",
        "Y_raster_s5[Y_raster_s5 > 150] = 255\n",
        " \n",
        "Y_list=Y_list+(Y_raster_s5.flatten().tolist())"
      ],
      "execution_count": 20,
      "outputs": [
        {
          "output_type": "stream",
          "text": [
            "[111 112 121 122 124 131 132 133 141 142 211 221 222 231 242 243 311 312\n",
            " 313 321 322 324 331 332 333 335 411 412 511 512]\n"
          ],
          "name": "stdout"
        }
      ]
    },
    {
      "cell_type": "code",
      "metadata": {
        "id": "8gj9Q5FNryY-",
        "colab_type": "code",
        "outputId": "87787b1d-85bf-44ea-a761-93f258140b8a",
        "colab": {
          "base_uri": "https://localhost:8080/",
          "height": 67
        }
      },
      "source": [
        "tif2=gdal.Open('s6-y.tif')\n",
        "Y_raster_s6 = tif2.GetRasterBand(1).ReadAsArray()\n",
        "print(np.unique(Y_raster_s6))\n",
        "Y_raster_s6[Y_raster_s6 < 100] = 999\n",
        "Y_raster_s6[(Y_raster_s6 > 100)&(Y_raster_s6 <= 150)] = 0\n",
        "Y_raster_s6[Y_raster_s6 > 150] = 255\n",
        " \n",
        "Y_list=Y_list+(Y_raster_s6.flatten().tolist())"
      ],
      "execution_count": 21,
      "outputs": [
        {
          "output_type": "stream",
          "text": [
            "[-32768    111    112    121    123    124    131    142    211    212\n",
            "    223    231    242    243    311    312    313    321    322    323\n",
            "    324    331    332    333    523]\n"
          ],
          "name": "stdout"
        }
      ]
    },
    {
      "cell_type": "code",
      "metadata": {
        "id": "Fje5-W0HDzrv",
        "colab_type": "code",
        "outputId": "da4976f0-aeb4-4599-e6a0-0321337c895e",
        "colab": {
          "base_uri": "https://localhost:8080/",
          "height": 34
        }
      },
      "source": [
        "print(np.unique(Y_list))"
      ],
      "execution_count": 22,
      "outputs": [
        {
          "output_type": "stream",
          "text": [
            "[  0 255]\n"
          ],
          "name": "stdout"
        }
      ]
    },
    {
      "cell_type": "code",
      "metadata": {
        "id": "eQz8Q81IEHjN",
        "colab_type": "code",
        "colab": {}
      },
      "source": [
        "#CONVERT RGB BANDS AS INPUT FEATURE SEQUENCES\n",
        "#QUANTIZATION\n",
        "\n",
        "rband_list=s1r.flatten().tolist()\n",
        "rband_list=rband_list+(s2r.flatten().tolist())\n",
        "rband_list=rband_list+(s3r.flatten().tolist())\n",
        "rband_list=rband_list+(s4r.flatten().tolist())\n",
        "rband_list=rband_list+(s5r.flatten().tolist())\n",
        "rband_list=rband_list+(s6r.flatten().tolist())\n",
        "\n",
        "\n",
        "\n",
        "gband_list=s1g.flatten().tolist()\n",
        "gband_list=gband_list+(s2g.flatten().tolist())\n",
        "gband_list=gband_list+(s3g.flatten().tolist())\n",
        "gband_list=gband_list+(s4g.flatten().tolist())\n",
        "gband_list=gband_list+(s5g.flatten().tolist())\n",
        "gband_list=gband_list+(s6g.flatten().tolist())\n",
        "\n",
        "\n",
        "\n",
        "\n",
        "bband_list=s1b.flatten().tolist()\n",
        "bband_list=bband_list+(s2b.flatten().tolist())\n",
        "bband_list=bband_list+(s3b.flatten().tolist())\n",
        "bband_list=bband_list+(s4b.flatten().tolist())\n",
        "bband_list=bband_list+(s5b.flatten().tolist())\n",
        "bband_list=bband_list+(s6b.flatten().tolist())\n",
        "\n",
        "\n",
        "\n",
        "band8_list=s1b8.flatten().tolist()\n",
        "band8_list=band8_list+(s2b8.flatten().tolist())\n",
        "band8_list=band8_list+(s3b8.flatten().tolist())\n",
        "band8_list=band8_list+(s4b8.flatten().tolist())\n",
        "band8_list=band8_list+(s5b8.flatten().tolist())\n",
        "band8_list=band8_list+(s6b8.flatten().tolist())\n",
        "\n",
        "\n",
        "q1=max(rband_list)/16\n",
        "q2=max(gband_list)/16\n",
        "q3=max(bband_list)/16\n",
        "q4=max(band8_list)/16\n",
        "\n",
        "\n",
        "rband_list = [round(math.floor(x+0.5)/q1) for x in rband_list]\n",
        "gband_list = [round(math.floor(x+0.5)/q2) for x in gband_list]\n",
        "bband_list = [round(math.floor(x+0.5)/q3) for x in bband_list]\n",
        "band8_list = [round(math.floor(x+0.5)/q4) for x in band8_list]\n",
        "\n"
      ],
      "execution_count": 0,
      "outputs": []
    },
    {
      "cell_type": "code",
      "metadata": {
        "id": "iyaKFSYjTXGE",
        "colab_type": "code",
        "outputId": "8446c354-21cd-4f08-8903-c73e7be7ddeb",
        "colab": {
          "base_uri": "https://localhost:8080/",
          "height": 34
        }
      },
      "source": [
        "print(len(rband_list))"
      ],
      "execution_count": 24,
      "outputs": [
        {
          "output_type": "stream",
          "text": [
            "6377766\n"
          ],
          "name": "stdout"
        }
      ]
    },
    {
      "cell_type": "markdown",
      "metadata": {
        "id": "G6x9yhlajJ8M",
        "colab_type": "text"
      },
      "source": [
        "***SEQUENCE LIST AND ANTECEDENT-CONSEQUENT LIST(X->Y)***"
      ]
    },
    {
      "cell_type": "code",
      "metadata": {
        "id": "ZsgmJ8Kew52V",
        "colab_type": "code",
        "colab": {}
      },
      "source": [
        "sequences_list=[]\n",
        "ante_consq_list=[]"
      ],
      "execution_count": 0,
      "outputs": []
    },
    {
      "cell_type": "code",
      "metadata": {
        "id": "mgDj_gvvthgO",
        "colab_type": "code",
        "outputId": "1978946a-d240-46cd-94d4-a1fa8432f7bc",
        "colab": {
          "base_uri": "https://localhost:8080/",
          "height": 82,
          "referenced_widgets": [
            "85c983efb0bf46b68b4d89214c89aecd",
            "8021b120cccf4a4a936bc93533384192",
            "1eb5cd2f026740ceab890a7a93126b7b",
            "cfd96a658a744e55b8bd8cee0833cb7d",
            "557dcbee2f0943b99715e5cef8d40968",
            "0a84f8be691240b583aa3beaa10705c0",
            "e3f43460efb24207a8db23e91bc269c1",
            "a310d4bea9db4e6ca89b64839f223a59"
          ]
        }
      },
      "source": [
        "for i in tqdm(range(len(rband_list))):\n",
        "  sequences_list.append((rband_list[i],gband_list[i],bband_list[i],band8_list[i]))\n",
        "  ante_consq_list.append((rband_list[i],gband_list[i],bband_list[i],band8_list[i],Y_list[i]))\n",
        "\n",
        "print('BUILDING DATA DONE')\n"
      ],
      "execution_count": 26,
      "outputs": [
        {
          "output_type": "display_data",
          "data": {
            "application/vnd.jupyter.widget-view+json": {
              "model_id": "85c983efb0bf46b68b4d89214c89aecd",
              "version_minor": 0,
              "version_major": 2
            },
            "text/plain": [
              "HBox(children=(IntProgress(value=0, max=6377766), HTML(value='')))"
            ]
          },
          "metadata": {
            "tags": []
          }
        },
        {
          "output_type": "stream",
          "text": [
            "\n",
            "BUILDING DATA DONE\n"
          ],
          "name": "stdout"
        }
      ]
    },
    {
      "cell_type": "markdown",
      "metadata": {
        "id": "iCVRyjESjwwL",
        "colab_type": "text"
      },
      "source": [
        "***RANDOM EXAMPLE - DATA STRUCTURE (R, G, B, B8, CLASS_LABEL)***"
      ]
    },
    {
      "cell_type": "code",
      "metadata": {
        "id": "HrJF9PIIthju",
        "colab_type": "code",
        "outputId": "0ef50f25-c697-4566-b48a-2a1982463ab9",
        "colab": {
          "base_uri": "https://localhost:8080/",
          "height": 34
        }
      },
      "source": [
        "print ((ante_consq_list[56]))"
      ],
      "execution_count": 27,
      "outputs": [
        {
          "output_type": "stream",
          "text": [
            "(3, 4, 4, 4, 255)\n"
          ],
          "name": "stdout"
        }
      ]
    },
    {
      "cell_type": "markdown",
      "metadata": {
        "id": "O843PnPQj9p_",
        "colab_type": "text"
      },
      "source": [
        "***FIND UNIQUE SEQUENCES(X-cap) AND COUNT***"
      ]
    },
    {
      "cell_type": "code",
      "metadata": {
        "id": "W32qBvF1thnU",
        "colab_type": "code",
        "outputId": "6527a54f-8ada-4248-d407-c34ca2a5dd7d",
        "colab": {
          "base_uri": "https://localhost:8080/",
          "height": 50
        }
      },
      "source": [
        "print('UNIQUE SEQUENCES COUNT: ')\n",
        "print(len(list(set(sequences_list))))\n",
        "unique_X_sequences=list(set(sequences_list))"
      ],
      "execution_count": 28,
      "outputs": [
        {
          "output_type": "stream",
          "text": [
            "UNIQUE SEQUENCES COUNT: \n",
            "804\n"
          ],
          "name": "stdout"
        }
      ]
    },
    {
      "cell_type": "markdown",
      "metadata": {
        "id": "6u71bdBBsWU9",
        "colab_type": "text"
      },
      "source": [
        "\n",
        "\n",
        "---\n",
        "\n"
      ]
    },
    {
      "cell_type": "markdown",
      "metadata": {
        "id": "9tfHuR7ckert",
        "colab_type": "text"
      },
      "source": [
        "***STEP 2:***\n",
        "\n",
        "*   ***ASSOCIATION ANALYSIS***\n",
        "*   ***EVIDENCE BASED NORMALIZED DIFFERENTIAL INDEX(ENDI) MEASURE***\n",
        "\n",
        "\n"
      ]
    },
    {
      "cell_type": "markdown",
      "metadata": {
        "id": "CDwyOG-sluFT",
        "colab_type": "text"
      },
      "source": [
        "***HELPER FUNCTIONS:***"
      ]
    },
    {
      "cell_type": "code",
      "metadata": {
        "id": "PBmN7nsvxTGb",
        "colab_type": "code",
        "colab": {}
      },
      "source": [
        "#ONE VARIATION OF ENDI INTERESTINGNESS MEASURE\n",
        "def calculate_ENDI(positive,negative):\n",
        "  if (positive==0) and (negative==0) : return 0\n",
        "  return (positive-negative)/(positive+negative)"
      ],
      "execution_count": 0,
      "outputs": []
    },
    {
      "cell_type": "code",
      "metadata": {
        "id": "Q5DdKX6Z51Jm",
        "colab_type": "code",
        "colab": {}
      },
      "source": [
        "#POSITIVE EVIDENCES\n",
        "def positive_count(sequence,class_name):\n",
        "  item = list(sequence)\n",
        "  item.append(class_name)\n",
        "  c=counter[tuple(item)]\n",
        "  return c\n",
        "\n",
        "\n",
        "#NEGATIVE EVIDENCES\n",
        "def negative_count(sequence, class_list):\n",
        "  negative_classcount=0\n",
        "  for c in  class_list:\n",
        "    item = list(sequence)\n",
        "    item.append(c)\n",
        "    negative_classcount=negative_classcount+counter[tuple(item)]\n",
        "\n",
        "  return negative_classcount\n",
        "\n"
      ],
      "execution_count": 0,
      "outputs": []
    },
    {
      "cell_type": "code",
      "metadata": {
        "id": "GqVeHx5El9b7",
        "colab_type": "code",
        "colab": {}
      },
      "source": [
        "#COUNT FREQUENCIES OF EACH UNIQUE SEQUENCE\n",
        "counter=Counter(ante_consq_list)"
      ],
      "execution_count": 0,
      "outputs": []
    },
    {
      "cell_type": "markdown",
      "metadata": {
        "id": "N6c40R8gtgYA",
        "colab_type": "text"
      },
      "source": [
        "***CALCULATE ENDI MEASURE FOR ALL THE CLASSES PER SEQUENCE DATA***"
      ]
    },
    {
      "cell_type": "code",
      "metadata": {
        "id": "BHa17NbP4P6R",
        "colab_type": "code",
        "outputId": "e44b5d55-39a6-4185-cf6b-0bae10af390b",
        "colab": {
          "base_uri": "https://localhost:8080/",
          "height": 82,
          "referenced_widgets": [
            "3018f62458144272bb258fd4ac592852",
            "f050aaeb95e84f51abe69ae2061375ed",
            "d6cff72e03ff44dd9eeeaafdd7cedc55",
            "21aa0f18373341ce9713241d0ba48f0b",
            "9fac21a23aa44b27a7d2da3262031be4",
            "440139aa78d7478a82f812252465fe76",
            "703ad8de8081437690a661e0695bf19b",
            "3ed7c3dd5a1b4e0ab75c0f77dfdbf9dd"
          ]
        }
      },
      "source": [
        "#GENERATE A DICTIONARY OF THE FORM : {(unique sequence) : [ENDI MEASURE-CLASS 0, ENDI MEASURE-CLASS 1, ENDI MEASURE-CLASS 2 ]}\n",
        "ENDI_table_dictionary={}\n",
        "\n",
        "for i in tqdm(range(len(unique_X_sequences))):\n",
        "  seq=unique_X_sequences[i]\n",
        "  ENDI_class_0=calculate_ENDI(positive_count(seq,0),negative_count(seq,[255]))\n",
        "  ENDI_class_1=calculate_ENDI(positive_count(seq,255),negative_count(seq,[0]))\n",
        "  ENDI_table_dictionary[seq]=[ENDI_class_0,ENDI_class_1]\n",
        "\n",
        "print('BUILDING DICTIONARY DONE')\n",
        "\n",
        "#PRINT RANDOM DATA POINT\n",
        "#print(ENDI_table_dictionary[unique_X_sequences[5000]])\n"
      ],
      "execution_count": 32,
      "outputs": [
        {
          "output_type": "display_data",
          "data": {
            "application/vnd.jupyter.widget-view+json": {
              "model_id": "3018f62458144272bb258fd4ac592852",
              "version_minor": 0,
              "version_major": 2
            },
            "text/plain": [
              "HBox(children=(IntProgress(value=0, max=804), HTML(value='')))"
            ]
          },
          "metadata": {
            "tags": []
          }
        },
        {
          "output_type": "stream",
          "text": [
            "\n",
            "BUILDING DICTIONARY DONE\n"
          ],
          "name": "stdout"
        }
      ]
    },
    {
      "cell_type": "markdown",
      "metadata": {
        "id": "n84ur78SsZ-z",
        "colab_type": "text"
      },
      "source": [
        "\n",
        "\n",
        "---\n",
        "\n"
      ]
    },
    {
      "cell_type": "markdown",
      "metadata": {
        "id": "goD_JtMTtgo7",
        "colab_type": "text"
      },
      "source": [
        "***STEP 3 : CLASSIFICATION AND VISUALIZATION***"
      ]
    },
    {
      "cell_type": "code",
      "metadata": {
        "id": "8kntNAM6gcPn",
        "colab_type": "code",
        "colab": {}
      },
      "source": [
        "def classification(file_name,band8filename):\n",
        "          new_image=gdal.Open(file_name)\n",
        "          rband_new = new_image.GetRasterBand(1).ReadAsArray()\n",
        "          gband_new = new_image.GetRasterBand(2).ReadAsArray()\n",
        "          bband_new = new_image.GetRasterBand(3).ReadAsArray()\n",
        "          tif1=gdal.Open(band8filename)\n",
        "          band8_new=tif1.GetRasterBand(1).ReadAsArray()\n",
        "\n",
        "          rband_list_new=rband_new.flatten().tolist()\n",
        "          gband_list_new=gband_new.flatten().tolist()\n",
        "          bband_list_new=bband_new.flatten().tolist()\n",
        "          band8_list_new=band8_new.flatten().tolist()\n",
        "\n",
        "          q1=max(rband_list_new)/16\n",
        "          q2=max(gband_list_new)/16\n",
        "          q3=max(bband_list_new)/16\n",
        "          q4=max(band8_list_new)/16\n",
        "\n",
        "          rband_list_new = [round(math.floor(x+0.5)/q1) for x in rband_list_new]\n",
        "          gband_list_new = [round(math.floor(x+0.5)/q2) for x in gband_list_new]\n",
        "          bband_list_new = [round(math.floor(x+0.5)/q3) for x in bband_list_new]\n",
        "          band8_list_new = [round(math.floor(x+0.5)/q4) for x in band8_list_new]\n",
        "\n",
        "\n",
        "          final_pred_list=[]\n",
        "          final_confidence_list=[]\n",
        "\n",
        "          for i in tqdm(range(len(rband_list_new))):\n",
        "\n",
        "            if ((rband_list_new[i],gband_list_new[i],bband_list_new[i],band8_list_new[i])) in ENDI_table_dictionary:\n",
        "                  ENDI_vals=ENDI_table_dictionary[(rband_list_new[i],gband_list_new[i],bband_list_new[i],band8_list_new[i])]\n",
        "                  max_val = max(ENDI_vals)\n",
        "                  index_max = ENDI_vals.index(max_val)\n",
        "                  final_pred_list.append(index_max)\n",
        "                  final_confidence_list.append(ENDI_vals[0])   \n",
        "            else:\n",
        "              final_pred_list.append(1)\n",
        "              final_confidence_list.append(-1)\n",
        "\n",
        "          final_confidence_list_scaled = minmax_scale(final_confidence_list, feature_range=(0,100))\n",
        "          return final_pred_list,final_confidence_list_scaled\n",
        "\n"
      ],
      "execution_count": 0,
      "outputs": []
    },
    {
      "cell_type": "code",
      "metadata": {
        "id": "wq6E1HhJhfi2",
        "colab_type": "code",
        "colab": {}
      },
      "source": [
        "def visualization(any_list,size,title,outputfile,colormap):\n",
        "  numpy_array=np.asarray(any_list)\n",
        "  #numpy_array[numpy_array == 1] = 255\n",
        "  final_image_array=numpy_array.reshape((size,size))\n",
        "  fig, ax = plt.subplots()\n",
        "  ax.set_title(title)\n",
        "  img = ax.imshow(final_image_array,cmap=plt.get_cmap(colormap))\n",
        "  fig.colorbar(img, ax=ax)\n",
        "  fig.savefig(outputfile+'.png')\n",
        "  cv2.imwrite(outputfile+\".tif\", final_image_array)"
      ],
      "execution_count": 0,
      "outputs": []
    },
    {
      "cell_type": "code",
      "metadata": {
        "id": "72cxX4heaE5W",
        "colab_type": "code",
        "colab": {}
      },
      "source": [
        "def metrics(y_actual, y_pred_original):\n",
        "    numpy_array=np.asarray(y_pred_original)\n",
        "    numpy_array[numpy_array == 1] = 255\n",
        "    y_pred=numpy_array.tolist()\n",
        "    class_id = set(y_actual).union(set(y_pred))\n",
        "    TP = []\n",
        "    FP = []\n",
        "    TN = []\n",
        "    FN = []\n",
        "\n",
        "    for index ,_id in enumerate(class_id):\n",
        "        TP.append(0)\n",
        "        FP.append(0)\n",
        "        TN.append(0)\n",
        "        FN.append(0)\n",
        "        for i in tqdm(range(len(y_pred))):\n",
        "            if y_actual[i] == y_pred[i] == _id:\n",
        "                TP[index] += 1\n",
        "            if y_pred[i] == _id and y_actual[i] != y_pred[i]:\n",
        "                FP[index] += 1\n",
        "            if y_actual[i] == y_pred[i] != _id:\n",
        "                TN[index] += 1\n",
        "            if y_pred[i] != _id and y_actual[i] != y_pred[i]:\n",
        "                FN[index] += 1\n",
        "\n",
        "\n",
        "    return class_id,TP, FP, TN, FN"
      ],
      "execution_count": 0,
      "outputs": []
    },
    {
      "cell_type": "markdown",
      "metadata": {
        "id": "RqZ2C_ow04Ij",
        "colab_type": "text"
      },
      "source": [
        "\n",
        "\n",
        "---\n",
        "\n"
      ]
    },
    {
      "cell_type": "markdown",
      "metadata": {
        "id": "JCK5RsYA05Ld",
        "colab_type": "text"
      },
      "source": [
        "**VISUALIZATION OF RESULTS AND METRICS - MADRID AREA(SPAIN)**"
      ]
    },
    {
      "cell_type": "markdown",
      "metadata": {
        "id": "iPhSuhjw1S5y",
        "colab_type": "text"
      },
      "source": [
        "1) MADRID CLASSIFICATION RESULTS"
      ]
    },
    {
      "cell_type": "code",
      "metadata": {
        "id": "3zzrNttfg4p-",
        "colab_type": "code",
        "outputId": "663fc894-bd31-4da5-b7f1-8f54b868025f",
        "colab": {
          "base_uri": "https://localhost:8080/",
          "height": 66,
          "referenced_widgets": [
            "f4fad5e71b6d452582680d53bc02887b",
            "b5ba4ee9ada749afa53c87627c9a1598",
            "468a2c0378484ca18d28e2b88e9c9f1c",
            "a4a88af58f0648fd9e67ef698053aa57",
            "3de72e9d7a9f42cbaa48e0441c9a5571",
            "667abf1e50a441c3842a2ac537e30e2e",
            "8a71f381cf97499cb6f62e826cb2d0c1",
            "9f2c8bf156324269ab89f89cd7de760f"
          ]
        }
      },
      "source": [
        "prediction_list,confidence_list=classification('test.tif','test-b8.tif')\n"
      ],
      "execution_count": 36,
      "outputs": [
        {
          "output_type": "display_data",
          "data": {
            "application/vnd.jupyter.widget-view+json": {
              "model_id": "f4fad5e71b6d452582680d53bc02887b",
              "version_minor": 0,
              "version_major": 2
            },
            "text/plain": [
              "HBox(children=(IntProgress(value=0, max=1062961), HTML(value='')))"
            ]
          },
          "metadata": {
            "tags": []
          }
        },
        {
          "output_type": "stream",
          "text": [
            "\n"
          ],
          "name": "stdout"
        }
      ]
    },
    {
      "cell_type": "code",
      "metadata": {
        "id": "JJYgfo6zWVj2",
        "colab_type": "code",
        "outputId": "19c0b55a-c3c2-459f-d46a-7eee6081d4e0",
        "colab": {
          "base_uri": "https://localhost:8080/",
          "height": 281
        }
      },
      "source": [
        "visualization(prediction_list,  IMG_SIZE, 'Classification-Madrid Region, Spain','predictions-madrid',colormap='binary')"
      ],
      "execution_count": 69,
      "outputs": [
        {
          "output_type": "display_data",
          "data": {
            "image/png": "[encoded data removed]",
            "text/plain": [
              "<Figure size 432x288 with 2 Axes>"
            ]
          },
          "metadata": {
            "tags": []
          }
        }
      ]
    },
    {
      "cell_type": "code",
      "metadata": {
        "id": "lJSm-m30qk3a",
        "colab_type": "code",
        "colab": {
          "base_uri": "https://localhost:8080/",
          "height": 281
        },
        "outputId": "b2241e36-6b37-4448-f8cd-758dd6d4c2de"
      },
      "source": [
        "visualization(confidence_list,  IMG_SIZE,'Confidence-Madrid Region, Spain','confidence-madrid',colormap='Greens')"
      ],
      "execution_count": 71,
      "outputs": [
        {
          "output_type": "display_data",
          "data": {
            "image/png": "[encoded data removed]",
            "text/plain": [
              "<Figure size 432x288 with 2 Axes>"
            ]
          },
          "metadata": {
            "tags": []
          }
        }
      ]
    },
    {
      "cell_type": "code",
      "metadata": {
        "id": "H8YwFJ2lbXdk",
        "colab_type": "code",
        "outputId": "fda9b0c7-5b64-45d6-c807-fc9b4552b7f0",
        "colab": {
          "base_uri": "https://localhost:8080/",
          "height": 114,
          "referenced_widgets": [
            "0e9ea95cf54141a4882ba608b64931ca",
            "3270317919f0400ea6613b858377231b",
            "3b312416c1ec4207b1a483c4aec184fc",
            "6b09731cbf4e43c28e327cf383f7fcdd",
            "9b2d482ca766438fbb0e905a7f1f34ee",
            "c50550e7a174421ba6de2e2a305bf5c3",
            "6517b904ccbc4d7c8516a7fec2fd7b81",
            "441560111e7d41f0bf0b9832854ffcf7",
            "813aaef4bd3c4a9c87215ca61728ea2c",
            "c0eee1558ccc4b2892f72dca4a27033d",
            "b9c19d15fe304cf487a8f7a708303c5e",
            "063f308427fe4663b5067b0aac38852a",
            "5d9ea2fba9224b3b9e7074d12d838b77",
            "d1581e0e1c6e437090faeed015394b4c",
            "1332290c41be40abaad542dd0b23bec8",
            "bcbe1c0d49ec4bfd8b4e1fa653ebcddb"
          ]
        }
      },
      "source": [
        "m=metrics(Y_raster_test.flatten().tolist(),prediction_list)"
      ],
      "execution_count": 39,
      "outputs": [
        {
          "output_type": "display_data",
          "data": {
            "application/vnd.jupyter.widget-view+json": {
              "model_id": "0e9ea95cf54141a4882ba608b64931ca",
              "version_minor": 0,
              "version_major": 2
            },
            "text/plain": [
              "HBox(children=(IntProgress(value=0, max=1062961), HTML(value='')))"
            ]
          },
          "metadata": {
            "tags": []
          }
        },
        {
          "output_type": "stream",
          "text": [
            "\n"
          ],
          "name": "stdout"
        },
        {
          "output_type": "display_data",
          "data": {
            "application/vnd.jupyter.widget-view+json": {
              "model_id": "813aaef4bd3c4a9c87215ca61728ea2c",
              "version_minor": 0,
              "version_major": 2
            },
            "text/plain": [
              "HBox(children=(IntProgress(value=0, max=1062961), HTML(value='')))"
            ]
          },
          "metadata": {
            "tags": []
          }
        },
        {
          "output_type": "stream",
          "text": [
            "\n"
          ],
          "name": "stdout"
        }
      ]
    },
    {
      "cell_type": "code",
      "metadata": {
        "id": "mbjXWoqsjQ_d",
        "colab_type": "code",
        "colab": {}
      },
      "source": [
        "unique, counts = np.unique(Y_raster_test.flatten().tolist(), return_counts=True)"
      ],
      "execution_count": 0,
      "outputs": []
    },
    {
      "cell_type": "code",
      "metadata": {
        "id": "WskaAi3ghsiH",
        "colab_type": "code",
        "outputId": "6cdc94b0-1017-49d7-e680-499f9e54799d",
        "colab": {
          "base_uri": "https://localhost:8080/",
          "height": 84
        }
      },
      "source": [
        "for i in range(0,2):\n",
        "  TP=m[1][i]\n",
        "  FP=m[2][i]\n",
        "  TN=m[3][i]\n",
        "  FN=m[4][i]\n",
        "  P=counts[i]\n",
        "  N=len(Y_list)-P\n",
        "  TPR=TP/P\n",
        "  TNR=TN/N\n",
        "  bal_measure = (TPR+TNR)/2\n",
        "  inf_accuracy=TPR-TNR\n",
        "  print('BALANCED ACCURACY FOR CLASS '+str(i)+\" is \"+ str(bal_measure))\n",
        "  print('INFORMEDNESS FOR CLASS '+str(i)+\" is \"+str(inf_accuracy))\n"
      ],
      "execution_count": 41,
      "outputs": [
        {
          "output_type": "stream",
          "text": [
            "BALANCED ACCURACY FOR CLASS 0 is 0.08592990411631457\n",
            "INFORMEDNESS FOR CLASS 0 is -0.12238638551791432\n",
            "BALANCED ACCURACY FOR CLASS 1 is 0.3664109497188597\n",
            "INFORMEDNESS FOR CLASS 1 is 0.7315390375704369\n"
          ],
          "name": "stdout"
        }
      ]
    },
    {
      "cell_type": "markdown",
      "metadata": {
        "id": "unQkKXcY1RAe",
        "colab_type": "text"
      },
      "source": [
        "2)ORIGINAL RGB IMAGE"
      ]
    },
    {
      "cell_type": "code",
      "metadata": {
        "id": "wCHf3Rrg0J5J",
        "colab_type": "code",
        "outputId": "397e6cc7-eee7-48b2-ffd4-fb042e6be366",
        "colab": {
          "base_uri": "https://localhost:8080/",
          "height": 286
        }
      },
      "source": [
        "dataset = rasterio.open('test.tif')\n",
        "show(dataset.read([1,2,3]))"
      ],
      "execution_count": 42,
      "outputs": [
        {
          "output_type": "display_data",
          "data": {
            "image/png": "[encoded data removed]",
            "text/plain": [
              "<Figure size 432x288 with 1 Axes>"
            ]
          },
          "metadata": {
            "tags": []
          }
        },
        {
          "output_type": "execute_result",
          "data": {
            "text/plain": [
              "<matplotlib.axes._subplots.AxesSubplot at 0x7fc2eebd3240>"
            ]
          },
          "metadata": {
            "tags": []
          },
          "execution_count": 42
        }
      ]
    },
    {
      "cell_type": "markdown",
      "metadata": {
        "id": "kahuQs5RQke_",
        "colab_type": "text"
      },
      "source": [
        "\n",
        "\n",
        "---\n",
        "\n"
      ]
    },
    {
      "cell_type": "markdown",
      "metadata": {
        "id": "Wi0eQgxbQc-Z",
        "colab_type": "text"
      },
      "source": [
        "# **GHS-POP**"
      ]
    },
    {
      "cell_type": "code",
      "metadata": {
        "id": "V_x38xXZvfRw",
        "colab_type": "code",
        "colab": {
          "base_uri": "https://localhost:8080/",
          "height": 298
        },
        "outputId": "8e346495-f6c8-41a5-e206-cc7ba1f11b03"
      },
      "source": [
        "pop1=gdal.Open('test-pop.tif')\n",
        "pop2d = pop1.GetRasterBand(1).ReadAsArray()\n",
        "pop2d[pop2d < 0] = 0\n",
        "fig, ax = plt.subplots()\n",
        "img = ax.imshow((pop2d),cmap=plt.get_cmap('Purples'))\n",
        "fig.colorbar(img, ax=ax)\n",
        "ax.set_title('GHS POP DENSITY')"
      ],
      "execution_count": 73,
      "outputs": [
        {
          "output_type": "execute_result",
          "data": {
            "text/plain": [
              "Text(0.5, 1.0, 'GHS POP DENSITY')"
            ]
          },
          "metadata": {
            "tags": []
          },
          "execution_count": 73
        },
        {
          "output_type": "display_data",
          "data": {
            "image/png": "[encoded data removed]",
            "text/plain": [
              "<Figure size 432x288 with 2 Axes>"
            ]
          },
          "metadata": {
            "tags": []
          }
        }
      ]
    },
    {
      "cell_type": "markdown",
      "metadata": {
        "id": "mvZV26J1PRtM",
        "colab_type": "text"
      },
      "source": [
        "\n",
        "\n",
        "---\n",
        "\n"
      ]
    },
    {
      "cell_type": "markdown",
      "metadata": {
        "id": "1ZzqcPLVPSkn",
        "colab_type": "text"
      },
      "source": [
        "# **GHS S-MOD**"
      ]
    },
    {
      "cell_type": "code",
      "metadata": {
        "id": "bboKeNp8hoEC",
        "colab_type": "code",
        "colab": {}
      },
      "source": [
        "def classify_urban_area(i,j,d,arr):\n",
        "  n = arr[i-d:i+d+1, j-d:j+d+1].flatten()\n",
        "  return n"
      ],
      "execution_count": 0,
      "outputs": []
    },
    {
      "cell_type": "code",
      "metadata": {
        "id": "nT2V_oR7kubq",
        "colab_type": "code",
        "colab": {}
      },
      "source": [
        "confidence2d=np.asarray(confidence_list).reshape((IMG_SIZE,IMG_SIZE))"
      ],
      "execution_count": 0,
      "outputs": []
    },
    {
      "cell_type": "markdown",
      "metadata": {
        "id": "zKvjUXZgQEGI",
        "colab_type": "text"
      },
      "source": [
        "CLASSIFY URBAN CENTRE, URBAN CLUSTER, RURAL AREA AND OTHER REGIONS"
      ]
    },
    {
      "cell_type": "code",
      "metadata": {
        "id": "NxHaEnLJjxbf",
        "colab_type": "code",
        "colab": {
          "base_uri": "https://localhost:8080/",
          "height": 66,
          "referenced_widgets": [
            "3775ffaacdad49f38e99ccb709bdd2ed",
            "2704ab3ac4c749fcbb9d6e767b2d19f5",
            "ab54963131bc43a5a01d4b0ab5513381",
            "17e181522cca43fe863a0ede6b9bd8ca",
            "3092edad234a4948875e19cc2d24c7ad",
            "78a57509114d406f92a7c9426587f2ee",
            "cea1e9f186a1427e9fa7e0af984ebe1f",
            "9d9f05906a5247eca722b29372f4bdb0"
          ]
        },
        "outputId": "3edacf89-10b5-4bcf-e934-a0f2d8dbb5b8"
      },
      "source": [
        "urban_array=np.zeros((IMG_SIZE, IMG_SIZE))\n",
        "\n",
        "for ix,iy in tqdm(np.ndindex(pop2d.shape)):\n",
        "    popcellvalue=pop2d[ix,iy]\n",
        "    confidencecellvalue=confidence2d[ix,iy]\n",
        "\n",
        "    if((popcellvalue>1500 or confidencecellvalue>50) and (np.sum(classify_urban_area(ix,iy,2,pop2d))>50000)):\n",
        "      urban_array[ix,iy]=3\n",
        "    elif (popcellvalue>300 and (np.sum(classify_urban_area(ix,iy,8,pop2d))>5000)):\n",
        "      urban_array[ix,iy]=2\n",
        "    elif(popcellvalue>1 and (np.sum(classify_urban_area(ix,iy,3,pop2d))<5000)):\n",
        "      urban_array[ix,iy]=1"
      ],
      "execution_count": 65,
      "outputs": [
        {
          "output_type": "display_data",
          "data": {
            "application/vnd.jupyter.widget-view+json": {
              "model_id": "3775ffaacdad49f38e99ccb709bdd2ed",
              "version_minor": 0,
              "version_major": 2
            },
            "text/plain": [
              "HBox(children=(IntProgress(value=1, bar_style='info', max=1), HTML(value='')))"
            ]
          },
          "metadata": {
            "tags": []
          }
        },
        {
          "output_type": "stream",
          "text": [
            "\n"
          ],
          "name": "stdout"
        }
      ]
    },
    {
      "cell_type": "code",
      "metadata": {
        "id": "ny5DJDt_ozxY",
        "colab_type": "code",
        "colab": {
          "base_uri": "https://localhost:8080/",
          "height": 298
        },
        "outputId": "ec41f2ee-335e-456d-84d8-2559f8350e29"
      },
      "source": [
        "from matplotlib import colors\n",
        "fig, ax = plt.subplots()\n",
        "img = ax.imshow(urban_array,cmap=plt.get_cmap('binary'))\n",
        "ax.set_title('GHS-SMOD')\n",
        "fig.colorbar(img, ax=ax)"
      ],
      "execution_count": 74,
      "outputs": [
        {
          "output_type": "execute_result",
          "data": {
            "text/plain": [
              "<matplotlib.colorbar.Colorbar at 0x7fc2ee1b1860>"
            ]
          },
          "metadata": {
            "tags": []
          },
          "execution_count": 74
        },
        {
          "output_type": "display_data",
          "data": {
            "image/png": "[encoded data removed]",
            "text/plain": [
              "<Figure size 432x288 with 2 Axes>"
            ]
          },
          "metadata": {
            "tags": []
          }
        }
      ]
    },
    {
      "cell_type": "markdown",
      "metadata": {
        "id": "0Uj7CmWs1DfC",
        "colab_type": "text"
      },
      "source": [
        "\n",
        "\n",
        "---\n",
        "\n"
      ]
    }
  ]
}