{
  
  "nbformat": 4,
  "nbformat_minor": 0,
  "metadata": {
    "colab": {
      "name": "sml-big.ipynb",
      "provenance": [],
      "toc_visible": true,
      "machine_shape": "hm"
    },
    "kernelspec": {
      "name": "python3",
      "display_name": "Python 3"
    },
    "accelerator": "TPU",
    "widgets": {
      "application/vnd.jupyter.widget-state+json": {
        "bb0dc70c63b9452b8f268a924eb6d89e": {
          "model_module": "@jupyter-widgets/controls",
          "model_name": "HBoxModel",
          "state": {
            "_view_name": "HBoxView",
            "_dom_classes": [],
            "_model_name": "HBoxModel",
            "_view_module": "@jupyter-widgets/controls",
            "_model_module_version": "1.5.0",
            "_view_count": null,
            "_view_module_version": "1.5.0",
            "box_style": "",
            "layout": "IPY_MODEL_88c54a88bbe043ef930d1294b8651789",
            "_model_module": "@jupyter-widgets/controls",
            "children": [
              "IPY_MODEL_1134f58f49d44672827a75ae2777338f",
              "IPY_MODEL_8b40b9288fc043f5a20082bf6affacb7"
            ]
          }
        },
        "88c54a88bbe043ef930d1294b8651789": {
          "model_module": "@jupyter-widgets/base",
          "model_name": "LayoutModel",
          "state": {
            "_view_name": "LayoutView",
            "grid_template_rows": null,
            "right": null,
            "justify_content": null,
            "_view_module": "@jupyter-widgets/base",
            "overflow": null,
            "_model_module_version": "1.2.0",
            "_view_count": null,
            "flex_flow": null,
            "width": null,
            "min_width": null,
            "border": null,
            "align_items": null,
            "bottom": null,
            "_model_module": "@jupyter-widgets/base",
            "top": null,
            "grid_column": null,
            "overflow_y": null,
            "overflow_x": null,
            "grid_auto_flow": null,
            "grid_area": null,
            "grid_template_columns": null,
            "flex": null,
            "_model_name": "LayoutModel",
            "justify_items": null,
            "grid_row": null,
            "max_height": null,
            "align_content": null,
            "visibility": null,
            "align_self": null,
            "height": null,
            "min_height": null,
            "padding": null,
            "grid_auto_rows": null,
            "grid_gap": null,
            "max_width": null,
            "order": null,
            "_view_module_version": "1.2.0",
            "grid_template_areas": null,
            "object_position": null,
            "object_fit": null,
            "grid_auto_columns": null,
            "margin": null,
            "display": null,
            "left": null
          }
        },
        "1134f58f49d44672827a75ae2777338f": {
          "model_module": "@jupyter-widgets/controls",
          "model_name": "IntProgressModel",
          "state": {
            "_view_name": "ProgressView",
            "style": "IPY_MODEL_fbf865b053bf4d0398d980061c4f8059",
            "_dom_classes": [],
            "description": "",
            "_model_name": "IntProgressModel",
            "bar_style": "success",
            "max": 120560400,
            "_view_module": "@jupyter-widgets/controls",
            "_model_module_version": "1.5.0",
            "value": 120560400,
            "_view_count": null,
            "_view_module_version": "1.5.0",
            "orientation": "horizontal",
            "min": 0,
            "description_tooltip": null,
            "_model_module": "@jupyter-widgets/controls",
            "layout": "IPY_MODEL_9e90ec41202440f8a558b730d8deeed2"
          }
        },
        "8b40b9288fc043f5a20082bf6affacb7": {
          "model_module": "@jupyter-widgets/controls",
          "model_name": "HTMLModel",
          "state": {
            "_view_name": "HTMLView",
            "style": "IPY_MODEL_1722875454db4693a90ef90e0acb52b7",
            "_dom_classes": [],
            "description": "",
            "_model_name": "HTMLModel",
            "placeholder": "​",
            "_view_module": "@jupyter-widgets/controls",
            "_model_module_version": "1.5.0",
            "value": "100% 120560400/120560400 [02:19&lt;00:00, 861169.76it/s]",
            "_view_count": null,
            "_view_module_version": "1.5.0",
            "description_tooltip": null,
            "_model_module": "@jupyter-widgets/controls",
            "layout": "IPY_MODEL_c25b989df6fa4506bc4994fd25b85b99"
          }
        },
        "fbf865b053bf4d0398d980061c4f8059": {
          "model_module": "@jupyter-widgets/controls",
          "model_name": "ProgressStyleModel",
          "state": {
            "_view_name": "StyleView",
            "_model_name": "ProgressStyleModel",
            "description_width": "",
            "_view_module": "@jupyter-widgets/base",
            "_model_module_version": "1.5.0",
            "_view_count": null,
            "_view_module_version": "1.2.0",
            "bar_color": null,
            "_model_module": "@jupyter-widgets/controls"
          }
        },
        "9e90ec41202440f8a558b730d8deeed2": {
          "model_module": "@jupyter-widgets/base",
          "model_name": "LayoutModel",
          "state": {
            "_view_name": "LayoutView",
            "grid_template_rows": null,
            "right": null,
            "justify_content": null,
            "_view_module": "@jupyter-widgets/base",
            "overflow": null,
            "_model_module_version": "1.2.0",
            "_view_count": null,
            "flex_flow": null,
            "width": null,
            "min_width": null,
            "border": null,
            "align_items": null,
            "bottom": null,
            "_model_module": "@jupyter-widgets/base",
            "top": null,
            "grid_column": null,
            "overflow_y": null,
            "overflow_x": null,
            "grid_auto_flow": null,
            "grid_area": null,
            "grid_template_columns": null,
            "flex": null,
            "_model_name": "LayoutModel",
            "justify_items": null,
            "grid_row": null,
            "max_height": null,
            "align_content": null,
            "visibility": null,
            "align_self": null,
            "height": null,
            "min_height": null,
            "padding": null,
            "grid_auto_rows": null,
            "grid_gap": null,
            "max_width": null,
            "order": null,
            "_view_module_version": "1.2.0",
            "grid_template_areas": null,
            "object_position": null,
            "object_fit": null,
            "grid_auto_columns": null,
            "margin": null,
            "display": null,
            "left": null
          }
        },
        "1722875454db4693a90ef90e0acb52b7": {
          "model_module": "@jupyter-widgets/controls",
          "model_name": "DescriptionStyleModel",
          "state": {
            "_view_name": "StyleView",
            "_model_name": "DescriptionStyleModel",
            "description_width": "",
            "_view_module": "@jupyter-widgets/base",
            "_model_module_version": "1.5.0",
            "_view_count": null,
            "_view_module_version": "1.2.0",
            "_model_module": "@jupyter-widgets/controls"
          }
        },
        "c25b989df6fa4506bc4994fd25b85b99": {
          "model_module": "@jupyter-widgets/base",
          "model_name": "LayoutModel",
          "state": {
            "_view_name": "LayoutView",
            "grid_template_rows": null,
            "right": null,
            "justify_content": null,
            "_view_module": "@jupyter-widgets/base",
            "overflow": null,
            "_model_module_version": "1.2.0",
            "_view_count": null,
            "flex_flow": null,
            "width": null,
            "min_width": null,
            "border": null,
            "align_items": null,
            "bottom": null,
            "_model_module": "@jupyter-widgets/base",
            "top": null,
            "grid_column": null,
            "overflow_y": null,
            "overflow_x": null,
            "grid_auto_flow": null,
            "grid_area": null,
            "grid_template_columns": null,
            "flex": null,
            "_model_name": "LayoutModel",
            "justify_items": null,
            "grid_row": null,
            "max_height": null,
            "align_content": null,
            "visibility": null,
            "align_self": null,
            "height": null,
            "min_height": null,
            "padding": null,
            "grid_auto_rows": null,
            "grid_gap": null,
            "max_width": null,
            "order": null,
            "_view_module_version": "1.2.0",
            "grid_template_areas": null,
            "object_position": null,
            "object_fit": null,
            "grid_auto_columns": null,
            "margin": null,
            "display": null,
            "left": null
          }
        },
        "1b65c9e40b834fe984124450547e5676": {
          "model_module": "@jupyter-widgets/controls",
          "model_name": "HBoxModel",
          "state": {
            "_view_name": "HBoxView",
            "_dom_classes": [],
            "_model_name": "HBoxModel",
            "_view_module": "@jupyter-widgets/controls",
            "_model_module_version": "1.5.0",
            "_view_count": null,
            "_view_module_version": "1.5.0",
            "box_style": "",
            "layout": "IPY_MODEL_aba52d9748dc44128433f7d36e28d5a1",
            "_model_module": "@jupyter-widgets/controls",
            "children": [
              "IPY_MODEL_433090963b93462390736150786ff91f",
              "IPY_MODEL_25c75363810b42d096aaf61d64473f2d"
            ]
          }
        },
        "aba52d9748dc44128433f7d36e28d5a1": {
          "model_module": "@jupyter-widgets/base",
          "model_name": "LayoutModel",
          "state": {
            "_view_name": "LayoutView",
            "grid_template_rows": null,
            "right": null,
            "justify_content": null,
            "_view_module": "@jupyter-widgets/base",
            "overflow": null,
            "_model_module_version": "1.2.0",
            "_view_count": null,
            "flex_flow": null,
            "width": null,
            "min_width": null,
            "border": null,
            "align_items": null,
            "bottom": null,
            "_model_module": "@jupyter-widgets/base",
            "top": null,
            "grid_column": null,
            "overflow_y": null,
            "overflow_x": null,
            "grid_auto_flow": null,
            "grid_area": null,
            "grid_template_columns": null,
            "flex": null,
            "_model_name": "LayoutModel",
            "justify_items": null,
            "grid_row": null,
            "max_height": null,
            "align_content": null,
            "visibility": null,
            "align_self": null,
            "height": null,
            "min_height": null,
            "padding": null,
            "grid_auto_rows": null,
            "grid_gap": null,
            "max_width": null,
            "order": null,
            "_view_module_version": "1.2.0",
            "grid_template_areas": null,
            "object_position": null,
            "object_fit": null,
            "grid_auto_columns": null,
            "margin": null,
            "display": null,
            "left": null
          }
        },
        "433090963b93462390736150786ff91f": {
          "model_module": "@jupyter-widgets/controls",
          "model_name": "IntProgressModel",
          "state": {
            "_view_name": "ProgressView",
            "style": "IPY_MODEL_7665fa6e5116412bb653b65764088dd4",
            "_dom_classes": [],
            "description": "",
            "_model_name": "IntProgressModel",
            "bar_style": "success",
            "max": 398184,
            "_view_module": "@jupyter-widgets/controls",
            "_model_module_version": "1.5.0",
            "value": 398184,
            "_view_count": null,
            "_view_module_version": "1.5.0",
            "orientation": "horizontal",
            "min": 0,
            "description_tooltip": null,
            "_model_module": "@jupyter-widgets/controls",
            "layout": "IPY_MODEL_6f7416653da6486d84966276ddfde98c"
          }
        },
        "25c75363810b42d096aaf61d64473f2d": {
          "model_module": "@jupyter-widgets/controls",
          "model_name": "HTMLModel",
          "state": {
            "_view_name": "HTMLView",
            "style": "IPY_MODEL_d7e61bcce12a4a3e841851bd754f3426",
            "_dom_classes": [],
            "description": "",
            "_model_name": "HTMLModel",
            "placeholder": "​",
            "_view_module": "@jupyter-widgets/controls",
            "_model_module_version": "1.5.0",
            "value": "100% 398184/398184 [00:40&lt;00:00, 9901.06it/s]",
            "_view_count": null,
            "_view_module_version": "1.5.0",
            "description_tooltip": null,
            "_model_module": "@jupyter-widgets/controls",
            "layout": "IPY_MODEL_5f149f086f1944689bfe14d2db48f118"
          }
        },
        "7665fa6e5116412bb653b65764088dd4": {
          "model_module": "@jupyter-widgets/controls",
          "model_name": "ProgressStyleModel",
          "state": {
            "_view_name": "StyleView",
            "_model_name": "ProgressStyleModel",
            "description_width": "",
            "_view_module": "@jupyter-widgets/base",
            "_model_module_version": "1.5.0",
            "_view_count": null,
            "_view_module_version": "1.2.0",
            "bar_color": null,
            "_model_module": "@jupyter-widgets/controls"
          }
        },
        "6f7416653da6486d84966276ddfde98c": {
          "model_module": "@jupyter-widgets/base",
          "model_name": "LayoutModel",
          "state": {
            "_view_name": "LayoutView",
            "grid_template_rows": null,
            "right": null,
            "justify_content": null,
            "_view_module": "@jupyter-widgets/base",
            "overflow": null,
            "_model_module_version": "1.2.0",
            "_view_count": null,
            "flex_flow": null,
            "width": null,
            "min_width": null,
            "border": null,
            "align_items": null,
            "bottom": null,
            "_model_module": "@jupyter-widgets/base",
            "top": null,
            "grid_column": null,
            "overflow_y": null,
            "overflow_x": null,
            "grid_auto_flow": null,
            "grid_area": null,
            "grid_template_columns": null,
            "flex": null,
            "_model_name": "LayoutModel",
            "justify_items": null,
            "grid_row": null,
            "max_height": null,
            "align_content": null,
            "visibility": null,
            "align_self": null,
            "height": null,
            "min_height": null,
            "padding": null,
            "grid_auto_rows": null,
            "grid_gap": null,
            "max_width": null,
            "order": null,
            "_view_module_version": "1.2.0",
            "grid_template_areas": null,
            "object_position": null,
            "object_fit": null,
            "grid_auto_columns": null,
            "margin": null,
            "display": null,
            "left": null
          }
        },
        "d7e61bcce12a4a3e841851bd754f3426": {
          "model_module": "@jupyter-widgets/controls",
          "model_name": "DescriptionStyleModel",
          "state": {
            "_view_name": "StyleView",
            "_model_name": "DescriptionStyleModel",
            "description_width": "",
            "_view_module": "@jupyter-widgets/base",
            "_model_module_version": "1.5.0",
            "_view_count": null,
            "_view_module_version": "1.2.0",
            "_model_module": "@jupyter-widgets/controls"
          }
        },
        "5f149f086f1944689bfe14d2db48f118": {
          "model_module": "@jupyter-widgets/base",
          "model_name": "LayoutModel",
          "state": {
            "_view_name": "LayoutView",
            "grid_template_rows": null,
            "right": null,
            "justify_content": null,
            "_view_module": "@jupyter-widgets/base",
            "overflow": null,
            "_model_module_version": "1.2.0",
            "_view_count": null,
            "flex_flow": null,
            "width": null,
            "min_width": null,
            "border": null,
            "align_items": null,
            "bottom": null,
            "_model_module": "@jupyter-widgets/base",
            "top": null,
            "grid_column": null,
            "overflow_y": null,
            "overflow_x": null,
            "grid_auto_flow": null,
            "grid_area": null,
            "grid_template_columns": null,
            "flex": null,
            "_model_name": "LayoutModel",
            "justify_items": null,
            "grid_row": null,
            "max_height": null,
            "align_content": null,
            "visibility": null,
            "align_self": null,
            "height": null,
            "min_height": null,
            "padding": null,
            "grid_auto_rows": null,
            "grid_gap": null,
            "max_width": null,
            "order": null,
            "_view_module_version": "1.2.0",
            "grid_template_areas": null,
            "object_position": null,
            "object_fit": null,
            "grid_auto_columns": null,
            "margin": null,
            "display": null,
            "left": null
          }
        },
        "283fbbee895f437ebc157d463be698f5": {
          "model_module": "@jupyter-widgets/controls",
          "model_name": "HBoxModel",
          "state": {
            "_view_name": "HBoxView",
            "_dom_classes": [],
            "_model_name": "HBoxModel",
            "_view_module": "@jupyter-widgets/controls",
            "_model_module_version": "1.5.0",
            "_view_count": null,
            "_view_module_version": "1.5.0",
            "box_style": "",
            "layout": "IPY_MODEL_a6e292188bf14465b3f89e3d582d7d8b",
            "_model_module": "@jupyter-widgets/controls",
            "children": [
              "IPY_MODEL_202e0cf67cbe452e8e7f92d90d2acf26",
              "IPY_MODEL_fbe6596e60044f4a81879990aa1447c1"
            ]
          }
        },
        "a6e292188bf14465b3f89e3d582d7d8b": {
          "model_module": "@jupyter-widgets/base",
          "model_name": "LayoutModel",
          "state": {
            "_view_name": "LayoutView",
            "grid_template_rows": null,
            "right": null,
            "justify_content": null,
            "_view_module": "@jupyter-widgets/base",
            "overflow": null,
            "_model_module_version": "1.2.0",
            "_view_count": null,
            "flex_flow": null,
            "width": null,
            "min_width": null,
            "border": null,
            "align_items": null,
            "bottom": null,
            "_model_module": "@jupyter-widgets/base",
            "top": null,
            "grid_column": null,
            "overflow_y": null,
            "overflow_x": null,
            "grid_auto_flow": null,
            "grid_area": null,
            "grid_template_columns": null,
            "flex": null,
            "_model_name": "LayoutModel",
            "justify_items": null,
            "grid_row": null,
            "max_height": null,
            "align_content": null,
            "visibility": null,
            "align_self": null,
            "height": null,
            "min_height": null,
            "padding": null,
            "grid_auto_rows": null,
            "grid_gap": null,
            "max_width": null,
            "order": null,
            "_view_module_version": "1.2.0",
            "grid_template_areas": null,
            "object_position": null,
            "object_fit": null,
            "grid_auto_columns": null,
            "margin": null,
            "display": null,
            "left": null
          }
        },
        "202e0cf67cbe452e8e7f92d90d2acf26": {
          "model_module": "@jupyter-widgets/controls",
          "model_name": "IntProgressModel",
          "state": {
            "_view_name": "ProgressView",
            "style": "IPY_MODEL_d9e577f060794ce7a44f0a5c0ff13ac0",
            "_dom_classes": [],
            "description": "",
            "_model_name": "IntProgressModel",
            "bar_style": "success",
            "max": 120560400,
            "_view_module": "@jupyter-widgets/controls",
            "_model_module_version": "1.5.0",
            "value": 120560400,
            "_view_count": null,
            "_view_module_version": "1.5.0",
            "orientation": "horizontal",
            "min": 0,
            "description_tooltip": null,
            "_model_module": "@jupyter-widgets/controls",
            "layout": "IPY_MODEL_d4f9669fa2e84e6f82dac8c728545824"
          }
        },
        "fbe6596e60044f4a81879990aa1447c1": {
          "model_module": "@jupyter-widgets/controls",
          "model_name": "HTMLModel",
          "state": {
            "_view_name": "HTMLView",
            "style": "IPY_MODEL_0e5eed415ed1485ba571447eaa637489",
            "_dom_classes": [],
            "description": "",
            "_model_name": "HTMLModel",
            "placeholder": "​",
            "_view_module": "@jupyter-widgets/controls",
            "_model_module_version": "1.5.0",
            "value": "100% 120560400/120560400 [03:21&lt;00:00, 599551.57it/s]",
            "_view_count": null,
            "_view_module_version": "1.5.0",
            "description_tooltip": null,
            "_model_module": "@jupyter-widgets/controls",
            "layout": "IPY_MODEL_9747a387d6ca4229aae8d932de849b52"
          }
        },
        "d9e577f060794ce7a44f0a5c0ff13ac0": {
          "model_module": "@jupyter-widgets/controls",
          "model_name": "ProgressStyleModel",
          "state": {
            "_view_name": "StyleView",
            "_model_name": "ProgressStyleModel",
            "description_width": "",
            "_view_module": "@jupyter-widgets/base",
            "_model_module_version": "1.5.0",
            "_view_count": null,
            "_view_module_version": "1.2.0",
            "bar_color": null,
            "_model_module": "@jupyter-widgets/controls"
          }
        },
        "d4f9669fa2e84e6f82dac8c728545824": {
          "model_module": "@jupyter-widgets/base",
          "model_name": "LayoutModel",
          "state": {
            "_view_name": "LayoutView",
            "grid_template_rows": null,
            "right": null,
            "justify_content": null,
            "_view_module": "@jupyter-widgets/base",
            "overflow": null,
            "_model_module_version": "1.2.0",
            "_view_count": null,
            "flex_flow": null,
            "width": null,
            "min_width": null,
            "border": null,
            "align_items": null,
            "bottom": null,
            "_model_module": "@jupyter-widgets/base",
            "top": null,
            "grid_column": null,
            "overflow_y": null,
            "overflow_x": null,
            "grid_auto_flow": null,
            "grid_area": null,
            "grid_template_columns": null,
            "flex": null,
            "_model_name": "LayoutModel",
            "justify_items": null,
            "grid_row": null,
            "max_height": null,
            "align_content": null,
            "visibility": null,
            "align_self": null,
            "height": null,
            "min_height": null,
            "padding": null,
            "grid_auto_rows": null,
            "grid_gap": null,
            "max_width": null,
            "order": null,
            "_view_module_version": "1.2.0",
            "grid_template_areas": null,
            "object_position": null,
            "object_fit": null,
            "grid_auto_columns": null,
            "margin": null,
            "display": null,
            "left": null
          }
        },
        "0e5eed415ed1485ba571447eaa637489": {
          "model_module": "@jupyter-widgets/controls",
          "model_name": "DescriptionStyleModel",
          "state": {
            "_view_name": "StyleView",
            "_model_name": "DescriptionStyleModel",
            "description_width": "",
            "_view_module": "@jupyter-widgets/base",
            "_model_module_version": "1.5.0",
            "_view_count": null,
            "_view_module_version": "1.2.0",
            "_model_module": "@jupyter-widgets/controls"
          }
        },
        "9747a387d6ca4229aae8d932de849b52": {
          "model_module": "@jupyter-widgets/base",
          "model_name": "LayoutModel",
          "state": {
            "_view_name": "LayoutView",
            "grid_template_rows": null,
            "right": null,
            "justify_content": null,
            "_view_module": "@jupyter-widgets/base",
            "overflow": null,
            "_model_module_version": "1.2.0",
            "_view_count": null,
            "flex_flow": null,
            "width": null,
            "min_width": null,
            "border": null,
            "align_items": null,
            "bottom": null,
            "_model_module": "@jupyter-widgets/base",
            "top": null,
            "grid_column": null,
            "overflow_y": null,
            "overflow_x": null,
            "grid_auto_flow": null,
            "grid_area": null,
            "grid_template_columns": null,
            "flex": null,
            "_model_name": "LayoutModel",
            "justify_items": null,
            "grid_row": null,
            "max_height": null,
            "align_content": null,
            "visibility": null,
            "align_self": null,
            "height": null,
            "min_height": null,
            "padding": null,
            "grid_auto_rows": null,
            "grid_gap": null,
            "max_width": null,
            "order": null,
            "_view_module_version": "1.2.0",
            "grid_template_areas": null,
            "object_position": null,
            "object_fit": null,
            "grid_auto_columns": null,
            "margin": null,
            "display": null,
            "left": null
          }
        },
        "8c0eb2ca4a89437fb138fd2ece87485e": {
          "model_module": "@jupyter-widgets/controls",
          "model_name": "HBoxModel",
          "state": {
            "_view_name": "HBoxView",
            "_dom_classes": [],
            "_model_name": "HBoxModel",
            "_view_module": "@jupyter-widgets/controls",
            "_model_module_version": "1.5.0",
            "_view_count": null,
            "_view_module_version": "1.5.0",
            "box_style": "",
            "layout": "IPY_MODEL_c34ece497d2840af8ba87c4e5dd7908c",
            "_model_module": "@jupyter-widgets/controls",
            "children": [
              "IPY_MODEL_dd849669176640a7a6bef81bd19176f8",
              "IPY_MODEL_054a5517de5a4fd2acfcb2d518196fea"
            ]
          }
        },
        "c34ece497d2840af8ba87c4e5dd7908c": {
          "model_module": "@jupyter-widgets/base",
          "model_name": "LayoutModel",
          "state": {
            "_view_name": "LayoutView",
            "grid_template_rows": null,
            "right": null,
            "justify_content": null,
            "_view_module": "@jupyter-widgets/base",
            "overflow": null,
            "_model_module_version": "1.2.0",
            "_view_count": null,
            "flex_flow": null,
            "width": null,
            "min_width": null,
            "border": null,
            "align_items": null,
            "bottom": null,
            "_model_module": "@jupyter-widgets/base",
            "top": null,
            "grid_column": null,
            "overflow_y": null,
            "overflow_x": null,
            "grid_auto_flow": null,
            "grid_area": null,
            "grid_template_columns": null,
            "flex": null,
            "_model_name": "LayoutModel",
            "justify_items": null,
            "grid_row": null,
            "max_height": null,
            "align_content": null,
            "visibility": null,
            "align_self": null,
            "height": null,
            "min_height": null,
            "padding": null,
            "grid_auto_rows": null,
            "grid_gap": null,
            "max_width": null,
            "order": null,
            "_view_module_version": "1.2.0",
            "grid_template_areas": null,
            "object_position": null,
            "object_fit": null,
            "grid_auto_columns": null,
            "margin": null,
            "display": null,
            "left": null
          }
        },
        "dd849669176640a7a6bef81bd19176f8": {
          "model_module": "@jupyter-widgets/controls",
          "model_name": "IntProgressModel",
          "state": {
            "_view_name": "ProgressView",
            "style": "IPY_MODEL_5cc4fb2a95604728b630e953a88ebf43",
            "_dom_classes": [],
            "description": "",
            "_model_name": "IntProgressModel",
            "bar_style": "success",
            "max": 120560400,
            "_view_module": "@jupyter-widgets/controls",
            "_model_module_version": "1.5.0",
            "value": 120560400,
            "_view_count": null,
            "_view_module_version": "1.5.0",
            "orientation": "horizontal",
            "min": 0,
            "description_tooltip": null,
            "_model_module": "@jupyter-widgets/controls",
            "layout": "IPY_MODEL_c8986be9b80a4618af398899df848016"
          }
        },
        "054a5517de5a4fd2acfcb2d518196fea": {
          "model_module": "@jupyter-widgets/controls",
          "model_name": "HTMLModel",
          "state": {
            "_view_name": "HTMLView",
            "style": "IPY_MODEL_cee689802e6346c0a7035ea43536292b",
            "_dom_classes": [],
            "description": "",
            "_model_name": "HTMLModel",
            "placeholder": "​",
            "_view_module": "@jupyter-widgets/controls",
            "_model_module_version": "1.5.0",
            "value": "100% 120560400/120560400 [01:03&lt;00:00, 1903411.23it/s]",
            "_view_count": null,
            "_view_module_version": "1.5.0",
            "description_tooltip": null,
            "_model_module": "@jupyter-widgets/controls",
            "layout": "IPY_MODEL_4f7868394edc4930a76277a7fcc56d25"
          }
        },
        "5cc4fb2a95604728b630e953a88ebf43": {
          "model_module": "@jupyter-widgets/controls",
          "model_name": "ProgressStyleModel",
          "state": {
            "_view_name": "StyleView",
            "_model_name": "ProgressStyleModel",
            "description_width": "",
            "_view_module": "@jupyter-widgets/base",
            "_model_module_version": "1.5.0",
            "_view_count": null,
            "_view_module_version": "1.2.0",
            "bar_color": null,
            "_model_module": "@jupyter-widgets/controls"
          }
        },
        "c8986be9b80a4618af398899df848016": {
          "model_module": "@jupyter-widgets/base",
          "model_name": "LayoutModel",
          "state": {
            "_view_name": "LayoutView",
            "grid_template_rows": null,
            "right": null,
            "justify_content": null,
            "_view_module": "@jupyter-widgets/base",
            "overflow": null,
            "_model_module_version": "1.2.0",
            "_view_count": null,
            "flex_flow": null,
            "width": null,
            "min_width": null,
            "border": null,
            "align_items": null,
            "bottom": null,
            "_model_module": "@jupyter-widgets/base",
            "top": null,
            "grid_column": null,
            "overflow_y": null,
            "overflow_x": null,
            "grid_auto_flow": null,
            "grid_area": null,
            "grid_template_columns": null,
            "flex": null,
            "_model_name": "LayoutModel",
            "justify_items": null,
            "grid_row": null,
            "max_height": null,
            "align_content": null,
            "visibility": null,
            "align_self": null,
            "height": null,
            "min_height": null,
            "padding": null,
            "grid_auto_rows": null,
            "grid_gap": null,
            "max_width": null,
            "order": null,
            "_view_module_version": "1.2.0",
            "grid_template_areas": null,
            "object_position": null,
            "object_fit": null,
            "grid_auto_columns": null,
            "margin": null,
            "display": null,
            "left": null
          }
        },
        "cee689802e6346c0a7035ea43536292b": {
          "model_module": "@jupyter-widgets/controls",
          "model_name": "DescriptionStyleModel",
          "state": {
            "_view_name": "StyleView",
            "_model_name": "DescriptionStyleModel",
            "description_width": "",
            "_view_module": "@jupyter-widgets/base",
            "_model_module_version": "1.5.0",
            "_view_count": null,
            "_view_module_version": "1.2.0",
            "_model_module": "@jupyter-widgets/controls"
          }
        },
        "4f7868394edc4930a76277a7fcc56d25": {
          "model_module": "@jupyter-widgets/base",
          "model_name": "LayoutModel",
          "state": {
            "_view_name": "LayoutView",
            "grid_template_rows": null,
            "right": null,
            "justify_content": null,
            "_view_module": "@jupyter-widgets/base",
            "overflow": null,
            "_model_module_version": "1.2.0",
            "_view_count": null,
            "flex_flow": null,
            "width": null,
            "min_width": null,
            "border": null,
            "align_items": null,
            "bottom": null,
            "_model_module": "@jupyter-widgets/base",
            "top": null,
            "grid_column": null,
            "overflow_y": null,
            "overflow_x": null,
            "grid_auto_flow": null,
            "grid_area": null,
            "grid_template_columns": null,
            "flex": null,
            "_model_name": "LayoutModel",
            "justify_items": null,
            "grid_row": null,
            "max_height": null,
            "align_content": null,
            "visibility": null,
            "align_self": null,
            "height": null,
            "min_height": null,
            "padding": null,
            "grid_auto_rows": null,
            "grid_gap": null,
            "max_width": null,
            "order": null,
            "_view_module_version": "1.2.0",
            "grid_template_areas": null,
            "object_position": null,
            "object_fit": null,
            "grid_auto_columns": null,
            "margin": null,
            "display": null,
            "left": null
          }
        },
        "ba3f3819aaa74f3dbd2d742d164b1e75": {
          "model_module": "@jupyter-widgets/controls",
          "model_name": "HBoxModel",
          "state": {
            "_view_name": "HBoxView",
            "_dom_classes": [],
            "_model_name": "HBoxModel",
            "_view_module": "@jupyter-widgets/controls",
            "_model_module_version": "1.5.0",
            "_view_count": null,
            "_view_module_version": "1.5.0",
            "box_style": "",
            "layout": "IPY_MODEL_1c7a98a99fb04f5c91adf1de2274f979",
            "_model_module": "@jupyter-widgets/controls",
            "children": [
              "IPY_MODEL_fb1e5f25c6744104a7628e7742e43b9e",
              "IPY_MODEL_060de8203ab74899bd42dc9f932ba4b3"
            ]
          }
        },
        "1c7a98a99fb04f5c91adf1de2274f979": {
          "model_module": "@jupyter-widgets/base",
          "model_name": "LayoutModel",
          "state": {
            "_view_name": "LayoutView",
            "grid_template_rows": null,
            "right": null,
            "justify_content": null,
            "_view_module": "@jupyter-widgets/base",
            "overflow": null,
            "_model_module_version": "1.2.0",
            "_view_count": null,
            "flex_flow": null,
            "width": null,
            "min_width": null,
            "border": null,
            "align_items": null,
            "bottom": null,
            "_model_module": "@jupyter-widgets/base",
            "top": null,
            "grid_column": null,
            "overflow_y": null,
            "overflow_x": null,
            "grid_auto_flow": null,
            "grid_area": null,
            "grid_template_columns": null,
            "flex": null,
            "_model_name": "LayoutModel",
            "justify_items": null,
            "grid_row": null,
            "max_height": null,
            "align_content": null,
            "visibility": null,
            "align_self": null,
            "height": null,
            "min_height": null,
            "padding": null,
            "grid_auto_rows": null,
            "grid_gap": null,
            "max_width": null,
            "order": null,
            "_view_module_version": "1.2.0",
            "grid_template_areas": null,
            "object_position": null,
            "object_fit": null,
            "grid_auto_columns": null,
            "margin": null,
            "display": null,
            "left": null
          }
        },
        "fb1e5f25c6744104a7628e7742e43b9e": {
          "model_module": "@jupyter-widgets/controls",
          "model_name": "IntProgressModel",
          "state": {
            "_view_name": "ProgressView",
            "style": "IPY_MODEL_cc84ecf1c5b345f59ff61e2f387bc713",
            "_dom_classes": [],
            "description": "",
            "_model_name": "IntProgressModel",
            "bar_style": "success",
            "max": 120560400,
            "_view_module": "@jupyter-widgets/controls",
            "_model_module_version": "1.5.0",
            "value": 120560400,
            "_view_count": null,
            "_view_module_version": "1.5.0",
            "orientation": "horizontal",
            "min": 0,
            "description_tooltip": null,
            "_model_module": "@jupyter-widgets/controls",
            "layout": "IPY_MODEL_e9bd7054326d44b5a7083eeceaab2d92"
          }
        },
        "060de8203ab74899bd42dc9f932ba4b3": {
          "model_module": "@jupyter-widgets/controls",
          "model_name": "HTMLModel",
          "state": {
            "_view_name": "HTMLView",
            "style": "IPY_MODEL_5f92cb64274c4080bcaaf33c1261bb06",
            "_dom_classes": [],
            "description": "",
            "_model_name": "HTMLModel",
            "placeholder": "​",
            "_view_module": "@jupyter-widgets/controls",
            "_model_module_version": "1.5.0",
            "value": "100% 120560400/120560400 [01:03&lt;00:00, 1891772.06it/s]",
            "_view_count": null,
            "_view_module_version": "1.5.0",
            "description_tooltip": null,
            "_model_module": "@jupyter-widgets/controls",
            "layout": "IPY_MODEL_7ea031229d764e809d6f3e49f465b4fe"
          }
        },
        "cc84ecf1c5b345f59ff61e2f387bc713": {
          "model_module": "@jupyter-widgets/controls",
          "model_name": "ProgressStyleModel",
          "state": {
            "_view_name": "StyleView",
            "_model_name": "ProgressStyleModel",
            "description_width": "",
            "_view_module": "@jupyter-widgets/base",
            "_model_module_version": "1.5.0",
            "_view_count": null,
            "_view_module_version": "1.2.0",
            "bar_color": null,
            "_model_module": "@jupyter-widgets/controls"
          }
        },
        "e9bd7054326d44b5a7083eeceaab2d92": {
          "model_module": "@jupyter-widgets/base",
          "model_name": "LayoutModel",
          "state": {
            "_view_name": "LayoutView",
            "grid_template_rows": null,
            "right": null,
            "justify_content": null,
            "_view_module": "@jupyter-widgets/base",
            "overflow": null,
            "_model_module_version": "1.2.0",
            "_view_count": null,
            "flex_flow": null,
            "width": null,
            "min_width": null,
            "border": null,
            "align_items": null,
            "bottom": null,
            "_model_module": "@jupyter-widgets/base",
            "top": null,
            "grid_column": null,
            "overflow_y": null,
            "overflow_x": null,
            "grid_auto_flow": null,
            "grid_area": null,
            "grid_template_columns": null,
            "flex": null,
            "_model_name": "LayoutModel",
            "justify_items": null,
            "grid_row": null,
            "max_height": null,
            "align_content": null,
            "visibility": null,
            "align_self": null,
            "height": null,
            "min_height": null,
            "padding": null,
            "grid_auto_rows": null,
            "grid_gap": null,
            "max_width": null,
            "order": null,
            "_view_module_version": "1.2.0",
            "grid_template_areas": null,
            "object_position": null,
            "object_fit": null,
            "grid_auto_columns": null,
            "margin": null,
            "display": null,
            "left": null
          }
        },
        "5f92cb64274c4080bcaaf33c1261bb06": {
          "model_module": "@jupyter-widgets/controls",
          "model_name": "DescriptionStyleModel",
          "state": {
            "_view_name": "StyleView",
            "_model_name": "DescriptionStyleModel",
            "description_width": "",
            "_view_module": "@jupyter-widgets/base",
            "_model_module_version": "1.5.0",
            "_view_count": null,
            "_view_module_version": "1.2.0",
            "_model_module": "@jupyter-widgets/controls"
          }
        },
        "7ea031229d764e809d6f3e49f465b4fe": {
          "model_module": "@jupyter-widgets/base",
          "model_name": "LayoutModel",
          "state": {
            "_view_name": "LayoutView",
            "grid_template_rows": null,
            "right": null,
            "justify_content": null,
            "_view_module": "@jupyter-widgets/base",
            "overflow": null,
            "_model_module_version": "1.2.0",
            "_view_count": null,
            "flex_flow": null,
            "width": null,
            "min_width": null,
            "border": null,
            "align_items": null,
            "bottom": null,
            "_model_module": "@jupyter-widgets/base",
            "top": null,
            "grid_column": null,
            "overflow_y": null,
            "overflow_x": null,
            "grid_auto_flow": null,
            "grid_area": null,
            "grid_template_columns": null,
            "flex": null,
            "_model_name": "LayoutModel",
            "justify_items": null,
            "grid_row": null,
            "max_height": null,
            "align_content": null,
            "visibility": null,
            "align_self": null,
            "height": null,
            "min_height": null,
            "padding": null,
            "grid_auto_rows": null,
            "grid_gap": null,
            "max_width": null,
            "order": null,
            "_view_module_version": "1.2.0",
            "grid_template_areas": null,
            "object_position": null,
            "object_fit": null,
            "grid_auto_columns": null,
            "margin": null,
            "display": null,
            "left": null
          }
        },
        "f1789e70b61f42aca928162fa9810bbb": {
          "model_module": "@jupyter-widgets/controls",
          "model_name": "HBoxModel",
          "state": {
            "_view_name": "HBoxView",
            "_dom_classes": [],
            "_model_name": "HBoxModel",
            "_view_module": "@jupyter-widgets/controls",
            "_model_module_version": "1.5.0",
            "_view_count": null,
            "_view_module_version": "1.5.0",
            "box_style": "",
            "layout": "IPY_MODEL_b7365183fba9490f85aa208b4d9a99a5",
            "_model_module": "@jupyter-widgets/controls",
            "children": [
              "IPY_MODEL_14c65cb26c4f48bdb5c816be0cdbd1c2",
              "IPY_MODEL_0f78664889be4e58addaeb6cd639ab3a"
            ]
          }
        },
        "b7365183fba9490f85aa208b4d9a99a5": {
          "model_module": "@jupyter-widgets/base",
          "model_name": "LayoutModel",
          "state": {
            "_view_name": "LayoutView",
            "grid_template_rows": null,
            "right": null,
            "justify_content": null,
            "_view_module": "@jupyter-widgets/base",
            "overflow": null,
            "_model_module_version": "1.2.0",
            "_view_count": null,
            "flex_flow": null,
            "width": null,
            "min_width": null,
            "border": null,
            "align_items": null,
            "bottom": null,
            "_model_module": "@jupyter-widgets/base",
            "top": null,
            "grid_column": null,
            "overflow_y": null,
            "overflow_x": null,
            "grid_auto_flow": null,
            "grid_area": null,
            "grid_template_columns": null,
            "flex": null,
            "_model_name": "LayoutModel",
            "justify_items": null,
            "grid_row": null,
            "max_height": null,
            "align_content": null,
            "visibility": null,
            "align_self": null,
            "height": null,
            "min_height": null,
            "padding": null,
            "grid_auto_rows": null,
            "grid_gap": null,
            "max_width": null,
            "order": null,
            "_view_module_version": "1.2.0",
            "grid_template_areas": null,
            "object_position": null,
            "object_fit": null,
            "grid_auto_columns": null,
            "margin": null,
            "display": null,
            "left": null
          }
        },
        "14c65cb26c4f48bdb5c816be0cdbd1c2": {
          "model_module": "@jupyter-widgets/controls",
          "model_name": "IntProgressModel",
          "state": {
            "_view_name": "ProgressView",
            "style": "IPY_MODEL_ef3c36821ac6477bbba33393e5cbf9b6",
            "_dom_classes": [],
            "description": "",
            "_model_name": "IntProgressModel",
            "bar_style": "success",
            "max": 120560400,
            "_view_module": "@jupyter-widgets/controls",
            "_model_module_version": "1.5.0",
            "value": 120560400,
            "_view_count": null,
            "_view_module_version": "1.5.0",
            "orientation": "horizontal",
            "min": 0,
            "description_tooltip": null,
            "_model_module": "@jupyter-widgets/controls",
            "layout": "IPY_MODEL_f3f743eaea0c401a8be7f194b82a9fb6"
          }
        },
        "0f78664889be4e58addaeb6cd639ab3a": {
          "model_module": "@jupyter-widgets/controls",
          "model_name": "HTMLModel",
          "state": {
            "_view_name": "HTMLView",
            "style": "IPY_MODEL_3a59123ff7644e8bb78c0bd9ced941bf",
            "_dom_classes": [],
            "description": "",
            "_model_name": "HTMLModel",
            "placeholder": "​",
            "_view_module": "@jupyter-widgets/controls",
            "_model_module_version": "1.5.0",
            "value": "100% 120560400/120560400 [01:04&lt;00:00, 1875903.83it/s]",
            "_view_count": null,
            "_view_module_version": "1.5.0",
            "description_tooltip": null,
            "_model_module": "@jupyter-widgets/controls",
            "layout": "IPY_MODEL_220e50ec438a48a0ad364c14c33ab32d"
          }
        },
        "ef3c36821ac6477bbba33393e5cbf9b6": {
          "model_module": "@jupyter-widgets/controls",
          "model_name": "ProgressStyleModel",
          "state": {
            "_view_name": "StyleView",
            "_model_name": "ProgressStyleModel",
            "description_width": "",
            "_view_module": "@jupyter-widgets/base",
            "_model_module_version": "1.5.0",
            "_view_count": null,
            "_view_module_version": "1.2.0",
            "bar_color": null,
            "_model_module": "@jupyter-widgets/controls"
          }
        },
        "f3f743eaea0c401a8be7f194b82a9fb6": {
          "model_module": "@jupyter-widgets/base",
          "model_name": "LayoutModel",
          "state": {
            "_view_name": "LayoutView",
            "grid_template_rows": null,
            "right": null,
            "justify_content": null,
            "_view_module": "@jupyter-widgets/base",
            "overflow": null,
            "_model_module_version": "1.2.0",
            "_view_count": null,
            "flex_flow": null,
            "width": null,
            "min_width": null,
            "border": null,
            "align_items": null,
            "bottom": null,
            "_model_module": "@jupyter-widgets/base",
            "top": null,
            "grid_column": null,
            "overflow_y": null,
            "overflow_x": null,
            "grid_auto_flow": null,
            "grid_area": null,
            "grid_template_columns": null,
            "flex": null,
            "_model_name": "LayoutModel",
            "justify_items": null,
            "grid_row": null,
            "max_height": null,
            "align_content": null,
            "visibility": null,
            "align_self": null,
            "height": null,
            "min_height": null,
            "padding": null,
            "grid_auto_rows": null,
            "grid_gap": null,
            "max_width": null,
            "order": null,
            "_view_module_version": "1.2.0",
            "grid_template_areas": null,
            "object_position": null,
            "object_fit": null,
            "grid_auto_columns": null,
            "margin": null,
            "display": null,
            "left": null
          }
        },
        "3a59123ff7644e8bb78c0bd9ced941bf": {
          "model_module": "@jupyter-widgets/controls",
          "model_name": "DescriptionStyleModel",
          "state": {
            "_view_name": "StyleView",
            "_model_name": "DescriptionStyleModel",
            "description_width": "",
            "_view_module": "@jupyter-widgets/base",
            "_model_module_version": "1.5.0",
            "_view_count": null,
            "_view_module_version": "1.2.0",
            "_model_module": "@jupyter-widgets/controls"
          }
        },
        "220e50ec438a48a0ad364c14c33ab32d": {
          "model_module": "@jupyter-widgets/base",
          "model_name": "LayoutModel",
          "state": {
            "_view_name": "LayoutView",
            "grid_template_rows": null,
            "right": null,
            "justify_content": null,
            "_view_module": "@jupyter-widgets/base",
            "overflow": null,
            "_model_module_version": "1.2.0",
            "_view_count": null,
            "flex_flow": null,
            "width": null,
            "min_width": null,
            "border": null,
            "align_items": null,
            "bottom": null,
            "_model_module": "@jupyter-widgets/base",
            "top": null,
            "grid_column": null,
            "overflow_y": null,
            "overflow_x": null,
            "grid_auto_flow": null,
            "grid_area": null,
            "grid_template_columns": null,
            "flex": null,
            "_model_name": "LayoutModel",
            "justify_items": null,
            "grid_row": null,
            "max_height": null,
            "align_content": null,
            "visibility": null,
            "align_self": null,
            "height": null,
            "min_height": null,
            "padding": null,
            "grid_auto_rows": null,
            "grid_gap": null,
            "max_width": null,
            "order": null,
            "_view_module_version": "1.2.0",
            "grid_template_areas": null,
            "object_position": null,
            "object_fit": null,
            "grid_auto_columns": null,
            "margin": null,
            "display": null,
            "left": null
          }
        }
      }
    }
  },
  "cells": [
    {
      "cell_type": "markdown",
      "metadata": {
        "id": "nc1pH2Uhr4RC",
        "colab_type": "text"
      },
      "source": [
        "# **SYMBOLIC MACHINE LEARNING - FULL RESOLUTION DATA**"
      ]
    },
    {
      "cell_type": "markdown",
      "metadata": {
        "id": "Lt3YngD6sBLX",
        "colab_type": "text"
      },
      "source": [
        "\n",
        "\n",
        "---\n",
        "\n"
      ]
    },
    {
      "cell_type": "markdown",
      "metadata": {
        "id": "mnOLYLbtegMD",
        "colab_type": "text"
      },
      "source": [
        "***INSTALL GDAL :***"
      ]
    },
    {
      "cell_type": "code",
      "metadata": {
        "id": "KfKaI2gva3KI",
        "colab_type": "code",
        "outputId": "4b32c659-b499-4d9a-8b0c-58598b5c198f",
        "colab": {
          "base_uri": "https://localhost:8080/",
          "height": 490
        }
      },
      "source": [
        "!pip install gdal\n",
        "!pip install rasterio\n",
        "!pip install wget"
      ],
      "execution_count": 1,
      "outputs": [
        {
          "output_type": "stream",
          "text": [
            "Requirement already satisfied: gdal in /usr/lib/python3/dist-packages (2.2.2)\n",
            "Collecting rasterio\n",
            "\u001b[?25l  Downloading https://files.pythonhosted.org/packages/94/da/a06e29e22dd464e618ae0fe580f444b0782ccf75fe3a784249cb59534f32/rasterio-1.1.1-cp36-cp36m-manylinux1_x86_64.whl (15.2MB)\n",
            "\u001b[K     |████████████████████████████████| 15.2MB 164kB/s \n",
            "\u001b[?25hRequirement already satisfied: numpy in /usr/local/lib/python3.6/dist-packages (from rasterio) (1.17.4)\n",
            "Collecting affine\n",
            "  Downloading https://files.pythonhosted.org/packages/ac/a6/1a39a1ede71210e3ddaf623982b06ecfc5c5c03741ae659073159184cd3e/affine-2.3.0-py2.py3-none-any.whl\n",
            "Collecting cligj>=0.5\n",
            "  Downloading https://files.pythonhosted.org/packages/e4/be/30a58b4b0733850280d01f8bd132591b4668ed5c7046761098d665ac2174/cligj-0.5.0-py3-none-any.whl\n",
            "Collecting click-plugins\n",
            "  Downloading https://files.pythonhosted.org/packages/e9/da/824b92d9942f4e472702488857914bdd50f73021efea15b4cad9aca8ecef/click_plugins-1.1.1-py2.py3-none-any.whl\n",
            "Requirement already satisfied: click<8,>=4.0 in /usr/local/lib/python3.6/dist-packages (from rasterio) (7.0)\n",
            "Requirement already satisfied: attrs in /usr/local/lib/python3.6/dist-packages (from rasterio) (19.3.0)\n",
            "Collecting snuggs>=1.4.1\n",
            "  Downloading https://files.pythonhosted.org/packages/cc/0e/d27d6e806d6c0d1a2cfdc5d1f088e42339a0a54a09c3343f7f81ec8947ea/snuggs-1.4.7-py3-none-any.whl\n",
            "Requirement already satisfied: pyparsing>=2.1.6 in /usr/local/lib/python3.6/dist-packages (from snuggs>=1.4.1->rasterio) (2.4.5)\n",
            "Installing collected packages: affine, cligj, click-plugins, snuggs, rasterio\n",
            "Successfully installed affine-2.3.0 click-plugins-1.1.1 cligj-0.5.0 rasterio-1.1.1 snuggs-1.4.7\n",
            "Collecting wget\n",
            "  Downloading https://files.pythonhosted.org/packages/47/6a/62e288da7bcda82b935ff0c6cfe542970f04e29c756b0e147251b2fb251f/wget-3.2.zip\n",
            "Building wheels for collected packages: wget\n",
            "  Building wheel for wget (setup.py) ... \u001b[?25l\u001b[?25hdone\n",
            "  Created wheel for wget: filename=wget-3.2-cp36-none-any.whl size=9681 sha256=54b805fa5d6e789c62ce3e9b36229a990da16843b365ea905d6ee008da539683\n",
            "  Stored in directory: /root/.cache/pip/wheels/40/15/30/7d8f7cea2902b4db79e3fea550d7d7b85ecb27ef992b618f3f\n",
            "Successfully built wget\n",
            "Installing collected packages: wget\n",
            "Successfully installed wget-3.2\n"
          ],
          "name": "stdout"
        }
      ]
    },
    {
      "cell_type": "markdown",
      "metadata": {
        "id": "jL-3iqzHeod1",
        "colab_type": "text"
      },
      "source": [
        "***MOUNT DRIVE ON GOOGLE COLLABORATORY :***\n"
      ]
    },
    {
      "cell_type": "code",
      "metadata": {
        "id": "mtT7NxFrbazm",
        "colab_type": "code",
        "colab": {}
      },
      "source": [
        "#from google.colab import drive\n",
        "#drive.mount('/content/drive')"
      ],
      "execution_count": 0,
      "outputs": []
    },
    {
      "cell_type": "code",
      "metadata": {
        "id": "hKlrGgtBlSQ7",
        "colab_type": "code",
        "outputId": "080b9fbd-517e-46af-d849-94adde08af01",
        "colab": {
          "base_uri": "https://localhost:8080/",
          "height": 1000
        }
      },
      "source": [
        "#DOWNLOAD CORINE LAND COVER DATASET\n",
        "!wget https://land.copernicus.eu/land-files/7ac95361f9ac3cecdf37785bc183ff02dd765a16.zip\n",
        "!unzip /content/7ac95361f9ac3cecdf37785bc183ff02dd765a16.zip\n",
        "!unzip /content/clc2018_clc2018_v2018_20_raster100m.zip\n",
        "\n"
      ],
      "execution_count": 3,
      "outputs": [
        {
          "output_type": "stream",
          "text": [
            "--2019-12-05 02:00:07--  https://land.copernicus.eu/land-files/7ac95361f9ac3cecdf37785bc183ff02dd765a16.zip\n",
            "Resolving land.copernicus.eu (land.copernicus.eu)... 34.247.152.136\n",
            "Connecting to land.copernicus.eu (land.copernicus.eu)|34.247.152.136|:443... connected.\n",
            "HTTP request sent, awaiting response... 200 OK\n",
            "Length: 221703454 (211M) [application/zip]\n",
            "Saving to: ‘7ac95361f9ac3cecdf37785bc183ff02dd765a16.zip’\n",
            "\n",
            "7ac95361f9ac3cecdf3 100%[===================>] 211.43M  27.6MB/s    in 8.3s    \n",
            "\n",
            "2019-12-05 02:00:16 (25.4 MB/s) - ‘7ac95361f9ac3cecdf37785bc183ff02dd765a16.zip’ saved [221703454/221703454]\n",
            "\n",
            "Archive:  /content/7ac95361f9ac3cecdf37785bc183ff02dd765a16.zip\n",
            " extracting: clc2018_clc2018_v2018_20_raster100m.zip  \n",
            "Archive:  /content/clc2018_clc2018_v2018_20_raster100m.zip\n",
            "  inflating: clc2018_clc2018_v2018_20_raster100m/CLC2018_CLC2018_V2018_20.txt  \n",
            "  inflating: clc2018_clc2018_v2018_20_raster100m/CLC2018_CLC2018_V2018_20.tif  \n",
            "  inflating: clc2018_clc2018_v2018_20_raster100m/CLC2018_CLC2018_V2018_20.tif.aux.xml  \n",
            "  inflating: clc2018_clc2018_v2018_20_raster100m/CLC2018_CLC2018_V2018_20.tif.clr  \n",
            "  inflating: clc2018_clc2018_v2018_20_raster100m/CLC2018_CLC2018_V2018_20.tif.ovr  \n",
            "  inflating: clc2018_clc2018_v2018_20_raster100m/CLC2018_CLC2018_V2018_20.tif.vat.cpg  \n",
            "  inflating: clc2018_clc2018_v2018_20_raster100m/CLC2018_CLC2018_V2018_20.tif.vat.dbf  \n",
            "  inflating: clc2018_clc2018_v2018_20_raster100m/CLC2018_CLC2018_V2018_20.tif.vat.dbf.xml  \n",
            "  inflating: clc2018_clc2018_v2018_20_raster100m/French_DOMs/CLC2018_CLC2018_V2018_20_FR_REU.tif.xml  \n",
            "  inflating: clc2018_clc2018_v2018_20_raster100m/French_DOMs/CLC2018_CLC2018_V2018_20_FR_GLP.tfw  \n",
            "  inflating: clc2018_clc2018_v2018_20_raster100m/French_DOMs/CLC2018_CLC2018_V2018_20_FR_GLP.tif  \n",
            "  inflating: clc2018_clc2018_v2018_20_raster100m/French_DOMs/CLC2018_CLC2018_V2018_20_FR_GLP.tif.aux.xml  \n",
            "  inflating: clc2018_clc2018_v2018_20_raster100m/French_DOMs/CLC2018_CLC2018_V2018_20_FR_GLP.tif.clr  \n",
            "  inflating: clc2018_clc2018_v2018_20_raster100m/French_DOMs/CLC2018_CLC2018_V2018_20_FR_GLP.tif.ovr  \n",
            "  inflating: clc2018_clc2018_v2018_20_raster100m/French_DOMs/CLC2018_CLC2018_V2018_20_FR_GLP.tif.vat.cpg  \n",
            "  inflating: clc2018_clc2018_v2018_20_raster100m/French_DOMs/CLC2018_CLC2018_V2018_20_FR_GLP.tif.vat.dbf  \n",
            "  inflating: clc2018_clc2018_v2018_20_raster100m/French_DOMs/CLC2018_CLC2018_V2018_20_FR_GLP.tif.xml  \n",
            "  inflating: clc2018_clc2018_v2018_20_raster100m/French_DOMs/CLC2018_CLC2018_V2018_20_FR_GUF.tfw  \n",
            "  inflating: clc2018_clc2018_v2018_20_raster100m/French_DOMs/CLC2018_CLC2018_V2018_20_FR_GUF.tif  \n",
            "  inflating: clc2018_clc2018_v2018_20_raster100m/French_DOMs/CLC2018_CLC2018_V2018_20_FR_GUF.tif.aux.xml  \n",
            "  inflating: clc2018_clc2018_v2018_20_raster100m/French_DOMs/CLC2018_CLC2018_V2018_20_FR_GUF.tif.clr  \n",
            "  inflating: clc2018_clc2018_v2018_20_raster100m/French_DOMs/CLC2018_CLC2018_V2018_20_FR_GUF.tif.ovr  \n",
            "  inflating: clc2018_clc2018_v2018_20_raster100m/French_DOMs/CLC2018_CLC2018_V2018_20_FR_GUF.tif.vat.cpg  \n",
            "  inflating: clc2018_clc2018_v2018_20_raster100m/French_DOMs/CLC2018_CLC2018_V2018_20_FR_GUF.tif.vat.dbf  \n",
            "  inflating: clc2018_clc2018_v2018_20_raster100m/French_DOMs/CLC2018_CLC2018_V2018_20_FR_GUF.tif.xml  \n",
            "  inflating: clc2018_clc2018_v2018_20_raster100m/French_DOMs/CLC2018_CLC2018_V2018_20_FR_MTQ.tfw  \n",
            "  inflating: clc2018_clc2018_v2018_20_raster100m/French_DOMs/CLC2018_CLC2018_V2018_20_FR_MTQ.tif  \n",
            "  inflating: clc2018_clc2018_v2018_20_raster100m/French_DOMs/CLC2018_CLC2018_V2018_20_FR_MTQ.tif.aux.xml  \n",
            "  inflating: clc2018_clc2018_v2018_20_raster100m/French_DOMs/CLC2018_CLC2018_V2018_20_FR_MTQ.tif.clr  \n",
            "  inflating: clc2018_clc2018_v2018_20_raster100m/French_DOMs/CLC2018_CLC2018_V2018_20_FR_MTQ.tif.ovr  \n",
            "  inflating: clc2018_clc2018_v2018_20_raster100m/French_DOMs/CLC2018_CLC2018_V2018_20_FR_MTQ.tif.vat.cpg  \n",
            "  inflating: clc2018_clc2018_v2018_20_raster100m/French_DOMs/CLC2018_CLC2018_V2018_20_FR_MTQ.tif.vat.dbf  \n",
            "  inflating: clc2018_clc2018_v2018_20_raster100m/French_DOMs/CLC2018_CLC2018_V2018_20_FR_MTQ.tif.xml  \n",
            "  inflating: clc2018_clc2018_v2018_20_raster100m/French_DOMs/CLC2018_CLC2018_V2018_20_FR_MYT.tfw  \n",
            "  inflating: clc2018_clc2018_v2018_20_raster100m/French_DOMs/CLC2018_CLC2018_V2018_20_FR_MYT.tif  \n",
            "  inflating: clc2018_clc2018_v2018_20_raster100m/French_DOMs/CLC2018_CLC2018_V2018_20_FR_MYT.tif.aux.xml  \n",
            "  inflating: clc2018_clc2018_v2018_20_raster100m/French_DOMs/CLC2018_CLC2018_V2018_20_FR_MYT.tif.clr  \n",
            "  inflating: clc2018_clc2018_v2018_20_raster100m/French_DOMs/CLC2018_CLC2018_V2018_20_FR_MYT.tif.ovr  \n",
            "  inflating: clc2018_clc2018_v2018_20_raster100m/French_DOMs/CLC2018_CLC2018_V2018_20_FR_MYT.tif.vat.cpg  \n",
            "  inflating: clc2018_clc2018_v2018_20_raster100m/French_DOMs/CLC2018_CLC2018_V2018_20_FR_MYT.tif.vat.dbf  \n",
            "  inflating: clc2018_clc2018_v2018_20_raster100m/French_DOMs/CLC2018_CLC2018_V2018_20_FR_MYT.tif.xml  \n",
            "  inflating: clc2018_clc2018_v2018_20_raster100m/French_DOMs/CLC2018_CLC2018_V2018_20_FR_REU.tfw  \n",
            "  inflating: clc2018_clc2018_v2018_20_raster100m/French_DOMs/CLC2018_CLC2018_V2018_20_FR_REU.tif  \n",
            "  inflating: clc2018_clc2018_v2018_20_raster100m/French_DOMs/CLC2018_CLC2018_V2018_20_FR_REU.tif.aux.xml  \n",
            "  inflating: clc2018_clc2018_v2018_20_raster100m/French_DOMs/CLC2018_CLC2018_V2018_20_FR_REU.tif.clr  \n",
            "  inflating: clc2018_clc2018_v2018_20_raster100m/French_DOMs/CLC2018_CLC2018_V2018_20_FR_REU.tif.ovr  \n",
            "  inflating: clc2018_clc2018_v2018_20_raster100m/French_DOMs/CLC2018_CLC2018_V2018_20_FR_REU.tif.vat.cpg  \n",
            "  inflating: clc2018_clc2018_v2018_20_raster100m/French_DOMs/CLC2018_CLC2018_V2018_20_FR_REU.tif.vat.dbf  \n",
            "  inflating: clc2018_clc2018_v2018_20_raster100m/readme_CLC2018_CLC2018_V2018_20.txt  \n",
            "  inflating: clc2018_clc2018_v2018_20_raster100m/readme_V20_raster_100m.txt  \n",
            "  inflating: clc2018_clc2018_v2018_20_raster100m/CLC_country_coverage_v20.pdf  \n",
            "  inflating: clc2018_clc2018_v2018_20_raster100m/Naming_convention_description.txt  \n",
            "  inflating: clc2018_clc2018_v2018_20_raster100m/CLC_country_coverage_v20.xls  \n",
            "  inflating: clc2018_clc2018_v2018_20_raster100m/Metadata/CLC2018_CLC2018_V2018_20_FR_REU.xml  \n",
            "  inflating: clc2018_clc2018_v2018_20_raster100m/Metadata/CLC2018_CLC2018_V2018_20.xml  \n",
            "  inflating: clc2018_clc2018_v2018_20_raster100m/Metadata/CLC2018_CLC2018_V2018_20_FR_GLP.xml  \n",
            "  inflating: clc2018_clc2018_v2018_20_raster100m/Metadata/CLC2018_CLC2018_V2018_20_FR_GUF.xml  \n",
            "  inflating: clc2018_clc2018_v2018_20_raster100m/Metadata/CLC2018_CLC2018_V2018_20_FR_MTQ.xml  \n",
            "  inflating: clc2018_clc2018_v2018_20_raster100m/Metadata/CLC2018_CLC2018_V2018_20_FR_MYT.xml  \n",
            "  inflating: clc2018_clc2018_v2018_20_raster100m/Legend/CLC2018_CLC2018_V2018_20.tif.lyr  \n",
            "  inflating: clc2018_clc2018_v2018_20_raster100m/Legend/CLC2018_CLC2018_V2018_20_QGIS.txt  \n",
            "  inflating: clc2018_clc2018_v2018_20_raster100m/French_DOMs/Legend/CLC2018_CLC2018_V2018_20_FR_GLP.tif.lyr  \n",
            "  inflating: clc2018_clc2018_v2018_20_raster100m/French_DOMs/Legend/CLC2018_CLC2018_V2018_20_FR_GUF.tif.lyr  \n",
            "  inflating: clc2018_clc2018_v2018_20_raster100m/French_DOMs/Legend/CLC2018_CLC2018_V2018_20_FR_MTQ.tif.lyr  \n",
            "  inflating: clc2018_clc2018_v2018_20_raster100m/French_DOMs/Legend/CLC2018_CLC2018_V2018_20_FR_MYT.tif.lyr  \n",
            "  inflating: clc2018_clc2018_v2018_20_raster100m/French_DOMs/Legend/CLC2018_CLC2018_V2018_20_FR_REU.tif.lyr  \n",
            "  inflating: clc2018_clc2018_v2018_20_raster100m/French_DOMs/Legend/CLC2018_CLC2018_V2018_20_QGIS.txt  \n"
          ],
          "name": "stdout"
        }
      ]
    },
    {
      "cell_type": "code",
      "metadata": {
        "id": "R6tS2gdzCo7m",
        "colab_type": "code",
        "colab": {
          "base_uri": "https://localhost:8080/",
          "height": 490
        },
        "outputId": "d4e92a59-b50e-4f28-e74c-d9511f556ee9"
      },
      "source": [
        "!pip install sentinelsat\n",
        "from sentinelsat.sentinel import SentinelAPI, read_geojson, geojson_to_wkt\n",
        "from datetime import date\n",
        "\n",
        "\n",
        "api = SentinelAPI('username', 'password',api_url='https://scihub.copernicus.eu/apihub')\n",
        "api.download('e277e5c7-2bae-4fd6-a922-a6c68c60b1cf')\n",
        "\n",
        "\n",
        "!unzip -q \"./S2A_MSIL1C_20190613T101031_N0207_R022_T32TQQ_20190613T121346.zip\"\n",
        "\n",
        "!gdal_translate  '/content/S2A_MSIL1C_20190613T101031_N0207_R022_T32TQQ_20190613T121346.SAFE/GRANULE/L1C_T32TQQ_A020754_20190613T101027/IMG_DATA/T32TQQ_20190613T101031_TCI.jp2' tci.tif\n",
        "\n",
        "!gdal_translate -of JPEG -co QUALITY=90 -co PROGRESSIVE=ON -outsize 1000 1000 -r bilinear tci.tif X-display.jpg\n",
        "\n",
        "!gdalwarp -t_srs \"EPSG:3035\" 'tci.tif' 'X.tif'\n"
      ],
      "execution_count": 4,
      "outputs": [
        {
          "output_type": "stream",
          "text": [
            "Collecting sentinelsat\n",
            "  Downloading https://files.pythonhosted.org/packages/5c/79/c2ac7b71dd13db95a9b83865bbbc7f1e4359c2b141bedad21b0e181fa06e/sentinelsat-0.13-py2.py3-none-any.whl\n",
            "Collecting geojson>=2\n",
            "  Downloading https://files.pythonhosted.org/packages/e4/8d/9e28e9af95739e6d2d2f8d4bef0b3432da40b7c3588fbad4298c1be09e48/geojson-2.5.0-py2.py3-none-any.whl\n",
            "Collecting geomet\n",
            "  Downloading https://files.pythonhosted.org/packages/d8/c4/da43311a7b610466fa6ab491fe63bad0535889df8108f2dc53ebe3198494/geomet-0.2.1-py3-none-any.whl\n",
            "Requirement already satisfied: tqdm in /usr/local/lib/python3.6/dist-packages (from sentinelsat) (4.28.1)\n",
            "Collecting html2text\n",
            "  Downloading https://files.pythonhosted.org/packages/49/21/eb38d335ab15fc13564a5e971c1403707fb3a037292f246fa82e17208794/html2text-2019.9.26-py3-none-any.whl\n",
            "Requirement already satisfied: six in /usr/local/lib/python3.6/dist-packages (from sentinelsat) (1.12.0)\n",
            "Requirement already satisfied: requests in /usr/local/lib/python3.6/dist-packages (from sentinelsat) (2.21.0)\n",
            "Requirement already satisfied: click in /usr/local/lib/python3.6/dist-packages (from sentinelsat) (7.0)\n",
            "Requirement already satisfied: chardet<3.1.0,>=3.0.2 in /usr/local/lib/python3.6/dist-packages (from requests->sentinelsat) (3.0.4)\n",
            "Requirement already satisfied: certifi>=2017.4.17 in /usr/local/lib/python3.6/dist-packages (from requests->sentinelsat) (2019.9.11)\n",
            "Requirement already satisfied: idna<2.9,>=2.5 in /usr/local/lib/python3.6/dist-packages (from requests->sentinelsat) (2.8)\n",
            "Requirement already satisfied: urllib3<1.25,>=1.21.1 in /usr/local/lib/python3.6/dist-packages (from requests->sentinelsat) (1.24.3)\n",
            "Installing collected packages: geojson, geomet, html2text, sentinelsat\n",
            "Successfully installed geojson-2.5.0 geomet-0.2.1 html2text-2019.9.26 sentinelsat-0.13\n"
          ],
          "name": "stdout"
        },
        {
          "output_type": "stream",
          "text": [
            "Downloading: 100%|██████████| 844M/844M [00:29<00:00, 28.2MB/s]\n",
            "MD5 checksumming: 100%|██████████| 844M/844M [00:01<00:00, 436MB/s]\n"
          ],
          "name": "stderr"
        },
        {
          "output_type": "stream",
          "text": [
            "Input file size is 10980, 10980\n",
            "0...10...20...30...40...50...60...70...80...90...100 - done.\n",
            "Input file size is 10980, 10980\n",
            "0...10...20...30...40...50...60...70...80...90...100 - done.\n",
            "Creating output file that is 11135P x 11075L.\n",
            "Processing input file tci.tif.\n",
            "0...10...20...30...40...50...60...70...80...90...100 - done.\n"
          ],
          "name": "stdout"
        }
      ]
    },
    {
      "cell_type": "code",
      "metadata": {
        "id": "ZqrZrmYKm-bR",
        "colab_type": "code",
        "colab": {}
      },
      "source": [
        "!gdal_translate -co QUALITY=100 -co PROGRESSIVE=ON -outsize 10980 10980 -r bilinear X.tif X-big.tif"
      ],
      "execution_count": 0,
      "outputs": []
    },
    {
      "cell_type": "code",
      "metadata": {
        "id": "VbHvPt3exbad",
        "colab_type": "code",
        "colab": {
          "base_uri": "https://localhost:8080/",
          "height": 101
        },
        "outputId": "0698ffbc-e25e-4434-94c8-a02ac1ac1ddc"
      },
      "source": [
        "!gdalwarp -te 4441273.811229076 2336609.946413303 4552478.26761615 2447215.1870497502 '/content/clc2018_clc2018_v2018_20_raster100m/CLC2018_CLC2018_V2018_20.tif' 'Y.tif'"
      ],
      "execution_count": 6,
      "outputs": [
        {
          "output_type": "stream",
          "text": [
            "Creating output file that is 1112P x 1106L.\n",
            "Processing input file /content/clc2018_clc2018_v2018_20_raster100m/CLC2018_CLC2018_V2018_20.tif.\n",
            "Using internal nodata values (e.g. -32768) for image /content/clc2018_clc2018_v2018_20_raster100m/CLC2018_CLC2018_V2018_20.tif.\n",
            "Copying nodata values from source /content/clc2018_clc2018_v2018_20_raster100m/CLC2018_CLC2018_V2018_20.tif to destination Y.tif.\n",
            "0...10...20...30...40...50...60...70...80...90...100 - done.\n"
          ],
          "name": "stdout"
        }
      ]
    },
    {
      "cell_type": "code",
      "metadata": {
        "id": "AkdnWj6vnX_y",
        "colab_type": "code",
        "colab": {}
      },
      "source": [
        "!gdal_translate -co QUALITY=100 -co PROGRESSIVE=ON -outsize 10980 10980 -r bilinear 'Y.tif' 'Y-big.tif'"
      ],
      "execution_count": 0,
      "outputs": []
    },
    {
      "cell_type": "code",
      "metadata": {
        "id": "gxIhLWfZoDIj",
        "colab_type": "code",
        "colab": {}
      },
      "source": [
        "!gdal_translate -of JPEG -co QUALITY=90 -co PROGRESSIVE=ON -outsize 1000 1000 -r bilinear Y-big.tif Y-display.jpg"
      ],
      "execution_count": 0,
      "outputs": []
    },
    {
      "cell_type": "markdown",
      "metadata": {
        "id": "BGuH6UHysIUa",
        "colab_type": "text"
      },
      "source": [
        "\n",
        "\n",
        "---\n",
        "\n"
      ]
    },
    {
      "cell_type": "markdown",
      "metadata": {
        "id": "j-MB54mhe5k4",
        "colab_type": "text"
      },
      "source": [
        "***IMPORT PACKAGES :***"
      ]
    },
    {
      "cell_type": "code",
      "metadata": {
        "id": "QmgrK2E3e8MS",
        "colab_type": "code",
        "colab": {}
      },
      "source": [
        "import gdal\n",
        "from gdalconst import GA_ReadOnly \n",
        "import matplotlib.pyplot as plt\n",
        "%matplotlib inline \n",
        "import cv2\n",
        "import numpy as np\n",
        "from collections import Counter\n",
        "from tqdm import tqdm_notebook as tqdm\n",
        "IMG_SIZE=10980\n",
        "import rasterio\n",
        "from rasterio.plot import show"
      ],
      "execution_count": 0,
      "outputs": []
    },
    {
      "cell_type": "markdown",
      "metadata": {
        "id": "RhW_lVhQsJxR",
        "colab_type": "text"
      },
      "source": [
        "\n",
        "\n",
        "---\n",
        "\n"
      ]
    },
    {
      "cell_type": "markdown",
      "metadata": {
        "id": "S9swp-cWrrfw",
        "colab_type": "text"
      },
      "source": [
        "**PORTO VIRO REGION (ITALY)**"
      ]
    },
    {
      "cell_type": "code",
      "metadata": {
        "id": "wy-4-yCfykVY",
        "colab_type": "code",
        "colab": {
          "base_uri": "https://localhost:8080/",
          "height": 286
        },
        "outputId": "66bf5f64-3393-4c61-a9e2-e4b592ebd159"
      },
      "source": [
        "dataset = rasterio.open('X-big.tif')\n",
        "show(dataset.read([1,2,3]))"
      ],
      "execution_count": 3,
      "outputs": [
        {
          "output_type": "display_data",
          "data": {
            "image/png": "[encoded data removed]",
            "text/plain": [
              "<Figure size 432x288 with 1 Axes>"
            ]
          },
          "metadata": {
            "tags": []
          }
        },
        {
          "output_type": "execute_result",
          "data": {
            "text/plain": [
              "<matplotlib.axes._subplots.AxesSubplot at 0x7fe5b05f6ef0>"
            ]
          },
          "metadata": {
            "tags": []
          },
          "execution_count": 3
        }
      ]
    },
    {
      "cell_type": "markdown",
      "metadata": {
        "id": "qfVtJaONfyrR",
        "colab_type": "text"
      },
      "source": [
        " ***3 CLASSES :\n",
        " BLACK = BUILT UP AREA , \n",
        " WHITE = RIVER/WATER BODIES , \n",
        " OTHER COLORS = OTHER OBJECTS***\n"
      ]
    },
    {
      "cell_type": "code",
      "metadata": {
        "id": "LXRWgciObl9f",
        "colab_type": "code",
        "colab": {}
      },
      "source": [
        "#IMPORT SENTNEL IMAGE OF MANNHEIM AREA - INPUT DATA\n",
        "tif1=gdal.Open('X-big.tif')\n",
        "rband = tif1.GetRasterBand(1).ReadAsArray()\n",
        "gband = tif1.GetRasterBand(2).ReadAsArray()\n",
        "bband = tif1.GetRasterBand(3).ReadAsArray()\n"
      ],
      "execution_count": 0,
      "outputs": []
    },
    {
      "cell_type": "code",
      "metadata": {
        "colab_type": "code",
        "id": "fxFzI1Lb6P6p",
        "colab": {
          "base_uri": "https://localhost:8080/",
          "height": 298
        },
        "outputId": "73d585d3-2a06-4c6e-b315-459c05a75a96"
      },
      "source": [
        "#IMPORT SENTNEL IMAGE OF MANNHEIM AREA-CORINE LAND COVER - REFERENCE DATA\n",
        "tif2=gdal.Open('Y-big.tif')\n",
        "Y_raster = tif2.GetRasterBand(1).ReadAsArray()\n",
        "\n",
        "Y_raster[(Y_raster > 0)&(Y_raster <= 150)] = 0\n",
        "Y_raster[(Y_raster > 150) & (Y_raster < 450)] = 125\n",
        "Y_raster[(Y_raster >= 450) & (Y_raster < 530)] = 255\n",
        "Y_raster[Y_raster > 530] = 125\n",
        "Y_raster[Y_raster < 0] = 255\n",
        "\n",
        "\n",
        "print(\"UNIQUE CLASSES: \", np.unique(Y_raster))\n",
        "plt.gray()\n",
        "plt.title('PORTO VIRO REGION - CLC REFERENCE DATA')\n",
        "plt.imshow(Y_raster)\n",
        "Y_list=Y_raster.flatten().tolist()\n"
      ],
      "execution_count": 6,
      "outputs": [
        {
          "output_type": "stream",
          "text": [
            "UNIQUE CLASSES:  [  0 125 255]\n"
          ],
          "name": "stdout"
        },
        {
          "output_type": "display_data",
          "data": {
            "image/png": "[encoded data removed]",
            "text/plain": [
              "<Figure size 432x288 with 1 Axes>"
            ]
          },
          "metadata": {
            "tags": []
          }
        }
      ]
    },
    {
      "cell_type": "markdown",
      "metadata": {
        "id": "pS-dntl9sSJV",
        "colab_type": "text"
      },
      "source": [
        "\n",
        "\n",
        "---\n",
        "\n"
      ]
    },
    {
      "cell_type": "markdown",
      "metadata": {
        "id": "EF_Su_fHhlVH",
        "colab_type": "text"
      },
      "source": [
        "***STEP 1 : DATA QUANTIZATION-SEQUENCING***"
      ]
    },
    {
      "cell_type": "code",
      "metadata": {
        "id": "rEKZqnXCsUTr",
        "colab_type": "code",
        "colab": {}
      },
      "source": [
        "#CONVERT RGB BANDS AS INPUT FEATURE SEQUENCES\n",
        "#QUANTIZATION\n",
        "\n",
        "rband_list=rband.flatten().tolist()\n",
        "#rband_list = [round(x/8) for x in rband_list]\n",
        "\n",
        "gband_list=gband.flatten().tolist()\n",
        "#gband_list = [round(x/8) for x in gband_list]\n",
        "\n",
        "bband_list=bband.flatten().tolist()\n",
        "#bband_list = [round(x/8) for x in bband_list]\n"
      ],
      "execution_count": 0,
      "outputs": []
    },
    {
      "cell_type": "markdown",
      "metadata": {
        "id": "G6x9yhlajJ8M",
        "colab_type": "text"
      },
      "source": [
        "***SEQUENCE LIST AND ANTECEDENT-CONSEQUENT LIST(X->Y)***"
      ]
    },
    {
      "cell_type": "code",
      "metadata": {
        "id": "ZsgmJ8Kew52V",
        "colab_type": "code",
        "colab": {}
      },
      "source": [
        "sequences_list=[]\n",
        "ante_consq_list=[]"
      ],
      "execution_count": 0,
      "outputs": []
    },
    {
      "cell_type": "code",
      "metadata": {
        "id": "mgDj_gvvthgO",
        "colab_type": "code",
        "colab": {
          "base_uri": "https://localhost:8080/",
          "height": 82,
          "referenced_widgets": [
            "bb0dc70c63b9452b8f268a924eb6d89e",
            "88c54a88bbe043ef930d1294b8651789",
            "1134f58f49d44672827a75ae2777338f",
            "8b40b9288fc043f5a20082bf6affacb7",
            "fbf865b053bf4d0398d980061c4f8059",
            "9e90ec41202440f8a558b730d8deeed2",
            "1722875454db4693a90ef90e0acb52b7",
            "c25b989df6fa4506bc4994fd25b85b99"
          ]
        },
        "outputId": "03d294a1-415f-40e9-cf59-c9591b2d13c9"
      },
      "source": [
        "for i in tqdm(range(len(rband_list))):\n",
        "  sequences_list.append((rband_list[i],gband_list[i],bband_list[i]))\n",
        "  ante_consq_list.append((rband_list[i],gband_list[i],bband_list[i],Y_list[i]))\n",
        "\n",
        "print('BUILDING DATA DONE')\n"
      ],
      "execution_count": 9,
      "outputs": [
        {
          "output_type": "display_data",
          "data": {
            "application/vnd.jupyter.widget-view+json": {
              "model_id": "bb0dc70c63b9452b8f268a924eb6d89e",
              "version_minor": 0,
              "version_major": 2
            },
            "text/plain": [
              "HBox(children=(IntProgress(value=0, max=120560400), HTML(value='')))"
            ]
          },
          "metadata": {
            "tags": []
          }
        },
        {
          "output_type": "stream",
          "text": [
            "\n",
            "BUILDING DATA DONE\n"
          ],
          "name": "stdout"
        }
      ]
    },
    {
      "cell_type": "markdown",
      "metadata": {
        "id": "iCVRyjESjwwL",
        "colab_type": "text"
      },
      "source": [
        "***RANDOM EXAMPLE - DATA STRUCTURE (R, G, B, CLASS_LABEL)***"
      ]
    },
    {
      "cell_type": "code",
      "metadata": {
        "id": "HrJF9PIIthju",
        "colab_type": "code",
        "colab": {
          "base_uri": "https://localhost:8080/",
          "height": 34
        },
        "outputId": "7e5aa18f-b17c-48ea-a9cb-e51921fc1220"
      },
      "source": [
        "print ((ante_consq_list[22222]))"
      ],
      "execution_count": 10,
      "outputs": [
        {
          "output_type": "stream",
          "text": [
            "(120, 113, 108, 125)\n"
          ],
          "name": "stdout"
        }
      ]
    },
    {
      "cell_type": "markdown",
      "metadata": {
        "id": "O843PnPQj9p_",
        "colab_type": "text"
      },
      "source": [
        "***FIND UNIQUE SEQUENCES(X-cap) AND COUNT***"
      ]
    },
    {
      "cell_type": "code",
      "metadata": {
        "id": "W32qBvF1thnU",
        "colab_type": "code",
        "colab": {
          "base_uri": "https://localhost:8080/",
          "height": 50
        },
        "outputId": "73cde692-88f3-45ce-d970-c4a00ccb2595"
      },
      "source": [
        "print('UNIQUE SEQUENCES COUNT: ')\n",
        "print(len(list(set(sequences_list))))\n",
        "unique_X_sequences=list(set(sequences_list))"
      ],
      "execution_count": 11,
      "outputs": [
        {
          "output_type": "stream",
          "text": [
            "UNIQUE SEQUENCES COUNT: \n",
            "398184\n"
          ],
          "name": "stdout"
        }
      ]
    },
    {
      "cell_type": "markdown",
      "metadata": {
        "id": "6u71bdBBsWU9",
        "colab_type": "text"
      },
      "source": [
        "\n",
        "\n",
        "---\n",
        "\n"
      ]
    },
    {
      "cell_type": "markdown",
      "metadata": {
        "id": "9tfHuR7ckert",
        "colab_type": "text"
      },
      "source": [
        "***STEP 2:***\n",
        "\n",
        "*   ***ASSOCIATION ANALYSIS***\n",
        "*   ***EVIDENCE BASED NORMALIZED DIFFERENTIAL INDEX(ENDI) MEASURE***\n",
        "\n",
        "\n"
      ]
    },
    {
      "cell_type": "markdown",
      "metadata": {
        "id": "CDwyOG-sluFT",
        "colab_type": "text"
      },
      "source": [
        "***HELPER FUNCTIONS:***"
      ]
    },
    {
      "cell_type": "code",
      "metadata": {
        "id": "PBmN7nsvxTGb",
        "colab_type": "code",
        "colab": {}
      },
      "source": [
        "#ONE VARIATION OF ENDI INTERESTINGNESS MEASURE\n",
        "def calculate_ENDI(positive,negative):\n",
        "  if (positive==0) and (negative==0) : return 0\n",
        "  return (positive-negative)/(positive+negative)"
      ],
      "execution_count": 0,
      "outputs": []
    },
    {
      "cell_type": "code",
      "metadata": {
        "id": "Q5DdKX6Z51Jm",
        "colab_type": "code",
        "colab": {}
      },
      "source": [
        "#POSITIVE EVIDENCES\n",
        "def positive_count(sequence,class_name):\n",
        "  item = list(sequence)\n",
        "  item.append(class_name)\n",
        "  c=counter[tuple(item)]\n",
        "  return c\n",
        "\n",
        "\n",
        "#NEGATIVE EVIDENCES\n",
        "def negative_count(sequence, class_list):\n",
        "  negative_classcount=0\n",
        "  for c in  class_list:\n",
        "    item = list(sequence)\n",
        "    item.append(c)\n",
        "    negative_classcount=negative_classcount+counter[tuple(item)]\n",
        "\n",
        "  return negative_classcount\n",
        "\n"
      ],
      "execution_count": 0,
      "outputs": []
    },
    {
      "cell_type": "code",
      "metadata": {
        "id": "GqVeHx5El9b7",
        "colab_type": "code",
        "colab": {}
      },
      "source": [
        "#COUNT FREQUENCIES OF EACH UNIQUE SEQUENCE\n",
        "counter=Counter(ante_consq_list)"
      ],
      "execution_count": 0,
      "outputs": []
    },
    {
      "cell_type": "markdown",
      "metadata": {
        "id": "N6c40R8gtgYA",
        "colab_type": "text"
      },
      "source": [
        "***CALCULATE ENDI MEASURE FOR ALL THE CLASSES PER SEQUENCE DATA***"
      ]
    },
    {
      "cell_type": "code",
      "metadata": {
        "id": "BHa17NbP4P6R",
        "colab_type": "code",
        "colab": {
          "base_uri": "https://localhost:8080/",
          "height": 82,
          "referenced_widgets": [
            "1b65c9e40b834fe984124450547e5676",
            "aba52d9748dc44128433f7d36e28d5a1",
            "433090963b93462390736150786ff91f",
            "25c75363810b42d096aaf61d64473f2d",
            "7665fa6e5116412bb653b65764088dd4",
            "6f7416653da6486d84966276ddfde98c",
            "d7e61bcce12a4a3e841851bd754f3426",
            "5f149f086f1944689bfe14d2db48f118"
          ]
        },
        "outputId": "aba53b5d-a162-45df-cd71-d15277aed8c6"
      },
      "source": [
        "#GENERATE A DICTIONARY OF THE FORM : {(unique sequence) : [ENDI MEASURE-CLASS 0, ENDI MEASURE-CLASS 1, ENDI MEASURE-CLASS 2 ]}\n",
        "ENDI_table_dictionary={}\n",
        "\n",
        "for i in tqdm(range(len(unique_X_sequences))):\n",
        "  seq=unique_X_sequences[i]\n",
        "  ENDI_class_0=calculate_ENDI(positive_count(seq,0),negative_count(seq,[125,255]))\n",
        "  ENDI_class_1=calculate_ENDI(positive_count(seq,125),negative_count(seq,[0,255]))\n",
        "  ENDI_class_2=calculate_ENDI(positive_count(seq,255),negative_count(seq,[0,125]))\n",
        "  ENDI_table_dictionary[seq]=[ENDI_class_0,ENDI_class_1,ENDI_class_2]\n",
        "\n",
        "print('BUILDING DICTIONARY DONE')\n",
        "\n",
        "#PRINT RANDOM DATA POINT\n",
        "#print(ENDI_table_dictionary[unique_X_sequences[5000]])\n"
      ],
      "execution_count": 15,
      "outputs": [
        {
          "output_type": "display_data",
          "data": {
            "application/vnd.jupyter.widget-view+json": {
              "model_id": "1b65c9e40b834fe984124450547e5676",
              "version_minor": 0,
              "version_major": 2
            },
            "text/plain": [
              "HBox(children=(IntProgress(value=0, max=398184), HTML(value='')))"
            ]
          },
          "metadata": {
            "tags": []
          }
        },
        {
          "output_type": "stream",
          "text": [
            "\n",
            "BUILDING DICTIONARY DONE\n"
          ],
          "name": "stdout"
        }
      ]
    },
    {
      "cell_type": "markdown",
      "metadata": {
        "id": "n84ur78SsZ-z",
        "colab_type": "text"
      },
      "source": [
        "\n",
        "\n",
        "---\n",
        "\n"
      ]
    },
    {
      "cell_type": "markdown",
      "metadata": {
        "id": "goD_JtMTtgo7",
        "colab_type": "text"
      },
      "source": [
        "***STEP 3 : CLASSIFICATION AND VISUALIZATION***"
      ]
    },
    {
      "cell_type": "code",
      "metadata": {
        "id": "8kntNAM6gcPn",
        "colab_type": "code",
        "colab": {}
      },
      "source": [
        "def classification(file_name):\n",
        "          new_image=gdal.Open(file_name)\n",
        "          rband_new = new_image.GetRasterBand(1).ReadAsArray()\n",
        "          gband_new = new_image.GetRasterBand(2).ReadAsArray()\n",
        "          bband_new = new_image.GetRasterBand(3).ReadAsArray()\n",
        "\n",
        "          rband_list_new=rband_new.flatten().tolist()\n",
        "          gband_list_new=gband_new.flatten().tolist()\n",
        "          bband_list_new=bband_new.flatten().tolist()\n",
        "\n",
        "          #rband_list_new = [round(x/8) for x in rband_list_new]\n",
        "          #gband_list_new = [round(x/8) for x in gband_list_new]\n",
        "          #bband_list_new = [round(x/8) for x in bband_list_new]\n",
        "\n",
        "\n",
        "          final_pred_list=[]\n",
        "\n",
        "          for i in tqdm(range(len(rband_list_new))):\n",
        "\n",
        "            if ((rband_list_new[i],gband_list_new[i],bband_list_new[i])) in ENDI_table_dictionary:\n",
        "                  ENDI_vals=ENDI_table_dictionary[(rband_list_new[i],gband_list_new[i],bband_list_new[i])]\n",
        "                  max_val = max(ENDI_vals)\n",
        "                  index_max = ENDI_vals.index(max_val)\n",
        "                  final_pred_list.append(index_max)   \n",
        "            else:\n",
        "              final_pred_list.append(1)\n",
        "          return final_pred_list\n",
        "\n"
      ],
      "execution_count": 0,
      "outputs": []
    },
    {
      "cell_type": "code",
      "metadata": {
        "id": "wq6E1HhJhfi2",
        "colab_type": "code",
        "colab": {}
      },
      "source": [
        "def visualization(prediction_list):\n",
        "  numpy_array=np.asarray(prediction_list)\n",
        "  numpy_array[numpy_array == 1] = 125\n",
        "  numpy_array[numpy_array == 2] = 255\n",
        "  final_image_array=numpy_array.reshape((IMG_SIZE,IMG_SIZE))\n",
        "  print(np.unique(final_image_array))\n",
        "  plt.gray()\n",
        "  plt.title('PORTO VIRO REGION - CLASSIFICATION RESULTS')\n",
        "  plt.imshow(final_image_array)\n",
        "  plt.savefig('classification-result.png')\n",
        "  cv2.imwrite(\"classication-result.tif\", final_image_array)\n",
        "\n"
      ],
      "execution_count": 0,
      "outputs": []
    },
    {
      "cell_type": "code",
      "metadata": {
        "id": "72cxX4heaE5W",
        "colab_type": "code",
        "colab": {}
      },
      "source": [
        "def metrics(y_actual, y_pred_original):\n",
        "    numpy_array=np.asarray(y_pred_original)\n",
        "    numpy_array[numpy_array == 1] = 125\n",
        "    numpy_array[numpy_array == 2] = 255\n",
        "    y_pred=numpy_array.tolist()\n",
        "    class_id = set(y_actual).union(set(y_pred))\n",
        "    TP = []\n",
        "    FP = []\n",
        "    TN = []\n",
        "    FN = []\n",
        "\n",
        "    for index ,_id in enumerate(class_id):\n",
        "        TP.append(0)\n",
        "        FP.append(0)\n",
        "        TN.append(0)\n",
        "        FN.append(0)\n",
        "        for i in tqdm(range(len(y_pred))):\n",
        "            if y_actual[i] == y_pred[i] == _id:\n",
        "                TP[index] += 1\n",
        "            if y_pred[i] == _id and y_actual[i] != y_pred[i]:\n",
        "                FP[index] += 1\n",
        "            if y_actual[i] == y_pred[i] != _id:\n",
        "                TN[index] += 1\n",
        "            if y_pred[i] != _id and y_actual[i] != y_pred[i]:\n",
        "                FN[index] += 1\n",
        "\n",
        "\n",
        "    return class_id,TP, FP, TN, FN"
      ],
      "execution_count": 0,
      "outputs": []
    },
    {
      "cell_type": "markdown",
      "metadata": {
        "id": "RqZ2C_ow04Ij",
        "colab_type": "text"
      },
      "source": [
        "\n",
        "\n",
        "---\n",
        "\n"
      ]
    },
    {
      "cell_type": "markdown",
      "metadata": {
        "id": "JCK5RsYA05Ld",
        "colab_type": "text"
      },
      "source": [
        "**VISUALIZATION OF RESULTS AND METRICS - PORTO VIRO AREA(ITALY)**"
      ]
    },
    {
      "cell_type": "markdown",
      "metadata": {
        "id": "iPhSuhjw1S5y",
        "colab_type": "text"
      },
      "source": [
        "1) PORTO VIRO CLASSIFICATION RESULTS"
      ]
    },
    {
      "cell_type": "code",
      "metadata": {
        "id": "3zzrNttfg4p-",
        "colab_type": "code",
        "colab": {
          "base_uri": "https://localhost:8080/",
          "height": 346,
          "referenced_widgets": [
            "283fbbee895f437ebc157d463be698f5",
            "a6e292188bf14465b3f89e3d582d7d8b",
            "202e0cf67cbe452e8e7f92d90d2acf26",
            "fbe6596e60044f4a81879990aa1447c1",
            "d9e577f060794ce7a44f0a5c0ff13ac0",
            "d4f9669fa2e84e6f82dac8c728545824",
            "0e5eed415ed1485ba571447eaa637489",
            "9747a387d6ca4229aae8d932de849b52"
          ]
        },
        "outputId": "d7d159fc-7491-499a-ea39-d46aeed3ce00"
      },
      "source": [
        "prediction_list=classification('X-big.tif')\n",
        "visualization(prediction_list)"
      ],
      "execution_count": 19,
      "outputs": [
        {
          "output_type": "display_data",
          "data": {
            "application/vnd.jupyter.widget-view+json": {
              "model_id": "283fbbee895f437ebc157d463be698f5",
              "version_minor": 0,
              "version_major": 2
            },
            "text/plain": [
              "HBox(children=(IntProgress(value=0, max=120560400), HTML(value='')))"
            ]
          },
          "metadata": {
            "tags": []
          }
        },
        {
          "output_type": "stream",
          "text": [
            "\n",
            "[  0 125 255]\n"
          ],
          "name": "stdout"
        },
        {
          "output_type": "display_data",
          "data": {
            "image/png": "[encoded data removed]",
            "text/plain": [
              "<Figure size 432x288 with 1 Axes>"
            ]
          },
          "metadata": {
            "tags": []
          }
        }
      ]
    },
    {
      "cell_type": "code",
      "metadata": {
        "id": "H8YwFJ2lbXdk",
        "colab_type": "code",
        "colab": {
          "base_uri": "https://localhost:8080/",
          "height": 163,
          "referenced_widgets": [
            "8c0eb2ca4a89437fb138fd2ece87485e",
            "c34ece497d2840af8ba87c4e5dd7908c",
            "dd849669176640a7a6bef81bd19176f8",
            "054a5517de5a4fd2acfcb2d518196fea",
            "5cc4fb2a95604728b630e953a88ebf43",
            "c8986be9b80a4618af398899df848016",
            "cee689802e6346c0a7035ea43536292b",
            "4f7868394edc4930a76277a7fcc56d25",
            "ba3f3819aaa74f3dbd2d742d164b1e75",
            "1c7a98a99fb04f5c91adf1de2274f979",
            "fb1e5f25c6744104a7628e7742e43b9e",
            "060de8203ab74899bd42dc9f932ba4b3",
            "cc84ecf1c5b345f59ff61e2f387bc713",
            "e9bd7054326d44b5a7083eeceaab2d92",
            "5f92cb64274c4080bcaaf33c1261bb06",
            "7ea031229d764e809d6f3e49f465b4fe",
            "f1789e70b61f42aca928162fa9810bbb",
            "b7365183fba9490f85aa208b4d9a99a5",
            "14c65cb26c4f48bdb5c816be0cdbd1c2",
            "0f78664889be4e58addaeb6cd639ab3a",
            "ef3c36821ac6477bbba33393e5cbf9b6",
            "f3f743eaea0c401a8be7f194b82a9fb6",
            "3a59123ff7644e8bb78c0bd9ced941bf",
            "220e50ec438a48a0ad364c14c33ab32d"
          ]
        },
        "outputId": "c7f4f195-b598-4b1c-c216-bc4be1865a96"
      },
      "source": [
        "m=metrics(Y_list,prediction_list)"
      ],
      "execution_count": 20,
      "outputs": [
        {
          "output_type": "display_data",
          "data": {
            "application/vnd.jupyter.widget-view+json": {
              "model_id": "8c0eb2ca4a89437fb138fd2ece87485e",
              "version_minor": 0,
              "version_major": 2
            },
            "text/plain": [
              "HBox(children=(IntProgress(value=0, max=120560400), HTML(value='')))"
            ]
          },
          "metadata": {
            "tags": []
          }
        },
        {
          "output_type": "stream",
          "text": [
            "\n"
          ],
          "name": "stdout"
        },
        {
          "output_type": "display_data",
          "data": {
            "application/vnd.jupyter.widget-view+json": {
              "model_id": "ba3f3819aaa74f3dbd2d742d164b1e75",
              "version_minor": 0,
              "version_major": 2
            },
            "text/plain": [
              "HBox(children=(IntProgress(value=0, max=120560400), HTML(value='')))"
            ]
          },
          "metadata": {
            "tags": []
          }
        },
        {
          "output_type": "stream",
          "text": [
            "\n"
          ],
          "name": "stdout"
        },
        {
          "output_type": "display_data",
          "data": {
            "application/vnd.jupyter.widget-view+json": {
              "model_id": "f1789e70b61f42aca928162fa9810bbb",
              "version_minor": 0,
              "version_major": 2
            },
            "text/plain": [
              "HBox(children=(IntProgress(value=0, max=120560400), HTML(value='')))"
            ]
          },
          "metadata": {
            "tags": []
          }
        },
        {
          "output_type": "stream",
          "text": [
            "\n"
          ],
          "name": "stdout"
        }
      ]
    },
    {
      "cell_type": "code",
      "metadata": {
        "id": "mbjXWoqsjQ_d",
        "colab_type": "code",
        "colab": {}
      },
      "source": [
        "unique, counts = np.unique(Y_list, return_counts=True)"
      ],
      "execution_count": 0,
      "outputs": []
    },
    {
      "cell_type": "code",
      "metadata": {
        "id": "WskaAi3ghsiH",
        "colab_type": "code",
        "colab": {
          "base_uri": "https://localhost:8080/",
          "height": 118
        },
        "outputId": "98099281-40cc-4997-cb49-17992a6f8805"
      },
      "source": [
        "for i in range(0,3):\n",
        "  TP=m[1][i]\n",
        "  FP=m[2][i]\n",
        "  TN=m[3][i]\n",
        "  FN=m[4][i]\n",
        "  P=counts[i]\n",
        "  N=len(Y_list)-P\n",
        "  TPR=TP/P\n",
        "  TNR=TN/N\n",
        "  bal_measure = (TPR+TNR)/2\n",
        "  inf_accuracy=TPR-TNR\n",
        "  print('BALANCED ACCURACY FOR CLASS '+str(i)+\" is \"+ str(bal_measure))\n",
        "  print('INFORMEDNESS FOR CLASS '+str(i)+\" is \"+str(inf_accuracy))\n",
        "\n",
        "\n"
      ],
      "execution_count": 22,
      "outputs": [
        {
          "output_type": "stream",
          "text": [
            "BALANCED ACCURACY FOR CLASS 0 is 0.5829923728200419\n",
            "INFORMEDNESS FOR CLASS 0 is -0.7616011825821705\n",
            "BALANCED ACCURACY FOR CLASS 1 is 0.9351098837429114\n",
            "INFORMEDNESS FOR CLASS 1 is 0.0825503964809311\n",
            "BALANCED ACCURACY FOR CLASS 2 is 0.9404312444065627\n",
            "INFORMEDNESS FOR CLASS 2 is 0.013444690449306185\n"
          ],
          "name": "stdout"
        }
      ]
    },
    {
      "cell_type": "markdown",
      "metadata": {
        "id": "unQkKXcY1RAe",
        "colab_type": "text"
      },
      "source": [
        "2) PORTO VIRO RGB IMAGE"
      ]
    },
    {
      "cell_type": "code",
      "metadata": {
        "id": "wCHf3Rrg0J5J",
        "colab_type": "code",
        "colab": {
          "base_uri": "https://localhost:8080/",
          "height": 286
        },
        "outputId": "e48c2f85-8535-4633-839b-99179d67ecc7"
      },
      "source": [
        "dataset = rasterio.open('X-big.tif')\n",
        "show(dataset.read([1,2,3]))"
      ],
      "execution_count": 23,
      "outputs": [
        {
          "output_type": "display_data",
          "data": {
            "image/png": "[encoded data removed]",
            "text/plain": [
              "<Figure size 432x288 with 1 Axes>"
            ]
          },
          "metadata": {
            "tags": []
          }
        },
        {
          "output_type": "execute_result",
          "data": {
            "text/plain": [
              "<matplotlib.axes._subplots.AxesSubplot at 0x7fe0a10f3908>"
            ]
          },
          "metadata": {
            "tags": []
          },
          "execution_count": 23
        }
      ]
    },
    {
      "cell_type": "markdown",
      "metadata": {
        "id": "0Uj7CmWs1DfC",
        "colab_type": "text"
      },
      "source": [
        "\n",
        "\n",
        "---\n",
        "\n"
      ]
    }
  ]
}
